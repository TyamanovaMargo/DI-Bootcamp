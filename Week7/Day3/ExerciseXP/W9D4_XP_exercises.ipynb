{
  "cells": [
    {
      "cell_type": "markdown",
      "metadata": {
        "id": "DeHt0ZK0kkpI"
      },
      "source": [
        "The AB test is a randomized experiment that is used by most large companies to evaluate the launch of new functionality. Various difficulties may arise in the analysis and conduct of the experiment. Several typical problematic cases from real life are given in this dataset and analysis."
      ]
    },
    {
      "cell_type": "markdown",
      "metadata": {
        "id": "Zm0ogtm1kkpI"
      },
      "source": [
        "### Content\n",
        "1. [Loading and processing data](#Loading)\n",
        "2. [Statistical Analysis](#Statistical)\n",
        "3. [Conclusions](#Conclusions)"
      ]
    },
    {
      "cell_type": "markdown",
      "metadata": {
        "id": "bn40N7ilkkpJ"
      },
      "source": [
        "### Loading and processing data <a name=\"Loading\"/>"
      ]
    },
    {
      "cell_type": "markdown",
      "metadata": {
        "id": "fh03NWZxkkpJ"
      },
      "source": [
        "Let's import the necessary libraries and load the data"
      ]
    },
    {
      "cell_type": "code",
      "execution_count": 2,
      "metadata": {
        "execution": {
          "iopub.execute_input": "2022-09-16T18:23:22.571662Z",
          "iopub.status.busy": "2022-09-16T18:23:22.571234Z",
          "iopub.status.idle": "2022-09-16T18:23:22.579386Z",
          "shell.execute_reply": "2022-09-16T18:23:22.577863Z",
          "shell.execute_reply.started": "2022-09-16T18:23:22.571624Z"
        },
        "id": "jKi9SDP2kkpJ",
        "trusted": true
      },
      "outputs": [],
      "source": [
        "import numpy as np\n",
        "import pandas as pd\n",
        "from scipy.stats import mannwhitneyu\n",
        "from scipy.stats import ttest_ind\n",
        "from scipy.stats import norm\n",
        "import matplotlib.pyplot as plt\n",
        "import seaborn as sns\n",
        "from tqdm.auto import tqdm\n",
        "import seaborn as sns\n",
        "from scipy.stats import pearsonr\n",
        "from scipy.stats import shapiro"
      ]
    },
    {
      "cell_type": "code",
      "execution_count": null,
      "metadata": {
        "execution": {
          "iopub.execute_input": "2022-09-16T18:23:22.584216Z",
          "iopub.status.busy": "2022-09-16T18:23:22.582829Z",
          "iopub.status.idle": "2022-09-16T18:23:22.604701Z",
          "shell.execute_reply": "2022-09-16T18:23:22.603788Z",
          "shell.execute_reply.started": "2022-09-16T18:23:22.584166Z"
        },
        "id": "5CAgSuFlkkpJ",
        "trusted": true
      },
      "outputs": [
        {
          "name": "stdout",
          "output_type": "stream",
          "text": [
            "   USER_ID VARIANT_NAME  REVENUE\n",
            "0      737      variant      0.0\n",
            "1     2423      control      0.0\n",
            "2     9411      control      0.0\n",
            "3     7311      control      0.0\n",
            "4     6174      variant      0.0\n"
          ]
        }
      ],
      "source": [
        "# TODO : import the dataset\n",
        "\n",
        "# Import the dataset\n",
        "df = pd.read_csv('/Users/margotiamanova/Desktop/DI-Bootcamp/Week7/Day3/ExerciseXP/AB_Test_Results.csv')  \n"
      ]
    },
    {
      "cell_type": "code",
      "execution_count": 6,
      "metadata": {
        "execution": {
          "iopub.execute_input": "2022-09-16T18:23:22.607393Z",
          "iopub.status.busy": "2022-09-16T18:23:22.606556Z",
          "iopub.status.idle": "2022-09-16T18:23:22.621022Z",
          "shell.execute_reply": "2022-09-16T18:23:22.619749Z",
          "shell.execute_reply.started": "2022-09-16T18:23:22.607349Z"
        },
        "id": "1nvLy1dIkkpK",
        "trusted": true
      },
      "outputs": [
        {
          "name": "stdout",
          "output_type": "stream",
          "text": [
            "   USER_ID VARIANT_NAME  REVENUE\n",
            "0      737      variant      0.0\n",
            "1     2423      control      0.0\n",
            "2     9411      control      0.0\n",
            "3     7311      control      0.0\n",
            "4     6174      variant      0.0\n",
            "<class 'pandas.core.frame.DataFrame'>\n",
            "RangeIndex: 10000 entries, 0 to 9999\n",
            "Data columns (total 3 columns):\n",
            " #   Column        Non-Null Count  Dtype  \n",
            "---  ------        --------------  -----  \n",
            " 0   USER_ID       10000 non-null  int64  \n",
            " 1   VARIANT_NAME  10000 non-null  object \n",
            " 2   REVENUE       10000 non-null  float64\n",
            "dtypes: float64(1), int64(1), object(1)\n",
            "memory usage: 234.5+ KB\n"
          ]
        },
        {
          "data": {
            "text/html": [
              "<div>\n",
              "<style scoped>\n",
              "    .dataframe tbody tr th:only-of-type {\n",
              "        vertical-align: middle;\n",
              "    }\n",
              "\n",
              "    .dataframe tbody tr th {\n",
              "        vertical-align: top;\n",
              "    }\n",
              "\n",
              "    .dataframe thead th {\n",
              "        text-align: right;\n",
              "    }\n",
              "</style>\n",
              "<table border=\"1\" class=\"dataframe\">\n",
              "  <thead>\n",
              "    <tr style=\"text-align: right;\">\n",
              "      <th></th>\n",
              "      <th>USER_ID</th>\n",
              "      <th>REVENUE</th>\n",
              "    </tr>\n",
              "  </thead>\n",
              "  <tbody>\n",
              "    <tr>\n",
              "      <th>count</th>\n",
              "      <td>10000.000000</td>\n",
              "      <td>10000.000000</td>\n",
              "    </tr>\n",
              "    <tr>\n",
              "      <th>mean</th>\n",
              "      <td>4981.080200</td>\n",
              "      <td>0.099447</td>\n",
              "    </tr>\n",
              "    <tr>\n",
              "      <th>std</th>\n",
              "      <td>2890.590115</td>\n",
              "      <td>2.318529</td>\n",
              "    </tr>\n",
              "    <tr>\n",
              "      <th>min</th>\n",
              "      <td>2.000000</td>\n",
              "      <td>0.000000</td>\n",
              "    </tr>\n",
              "    <tr>\n",
              "      <th>25%</th>\n",
              "      <td>2468.750000</td>\n",
              "      <td>0.000000</td>\n",
              "    </tr>\n",
              "    <tr>\n",
              "      <th>50%</th>\n",
              "      <td>4962.000000</td>\n",
              "      <td>0.000000</td>\n",
              "    </tr>\n",
              "    <tr>\n",
              "      <th>75%</th>\n",
              "      <td>7511.500000</td>\n",
              "      <td>0.000000</td>\n",
              "    </tr>\n",
              "    <tr>\n",
              "      <th>max</th>\n",
              "      <td>10000.000000</td>\n",
              "      <td>196.010000</td>\n",
              "    </tr>\n",
              "  </tbody>\n",
              "</table>\n",
              "</div>"
            ],
            "text/plain": [
              "            USER_ID       REVENUE\n",
              "count  10000.000000  10000.000000\n",
              "mean    4981.080200      0.099447\n",
              "std     2890.590115      2.318529\n",
              "min        2.000000      0.000000\n",
              "25%     2468.750000      0.000000\n",
              "50%     4962.000000      0.000000\n",
              "75%     7511.500000      0.000000\n",
              "max    10000.000000    196.010000"
            ]
          },
          "execution_count": 6,
          "metadata": {},
          "output_type": "execute_result"
        }
      ],
      "source": [
        "# TODO : take a quick look at the data\n",
        "print(df.head())  # Display the first 5 rows of the dataset\n",
        "df.shape\n",
        "df.info()\n",
        "df.describe()"
      ]
    },
    {
      "cell_type": "code",
      "execution_count": 8,
      "metadata": {},
      "outputs": [
        {
          "data": {
            "text/plain": [
              "USER_ID         0\n",
              "VARIANT_NAME    0\n",
              "REVENUE         0\n",
              "dtype: int64"
            ]
          },
          "execution_count": 8,
          "metadata": {},
          "output_type": "execute_result"
        }
      ],
      "source": [
        "df.isnull().sum() # Check for missing values"
      ]
    },
    {
      "cell_type": "markdown",
      "metadata": {
        "id": "gvcmP9L5kkpL"
      },
      "source": [
        "Let's see if there are users who have two A/B test groups"
      ]
    },
    {
      "cell_type": "code",
      "execution_count": 11,
      "metadata": {
        "execution": {
          "iopub.execute_input": "2022-09-16T18:23:22.660468Z",
          "iopub.status.busy": "2022-09-16T18:23:22.659897Z",
          "iopub.status.idle": "2022-09-16T18:23:22.673751Z",
          "shell.execute_reply": "2022-09-16T18:23:22.672845Z",
          "shell.execute_reply.started": "2022-09-16T18:23:22.660438Z"
        },
        "id": "sQfYwAcWkkpL",
        "trusted": true
      },
      "outputs": [
        {
          "name": "stdout",
          "output_type": "stream",
          "text": [
            "VARIANT_NAME\n",
            "1    4783\n",
            "2    1541\n",
            "Name: count, dtype: int64\n"
          ]
        }
      ],
      "source": [
        "# TODO : Look at the distribution of the number of unique groups for each user\n",
        "\n",
        "# Group by USER_ID and count the number of unique VARIANT_NAME values for each user\n",
        "unique_groups_per_user = df.groupby('USER_ID')['VARIANT_NAME'].nunique()\n",
        "\n",
        "# Display the distribution\n",
        "print(unique_groups_per_user.value_counts())  # Count how many users belong to each unique group count\n"
      ]
    },
    {
      "cell_type": "code",
      "execution_count": 13,
      "metadata": {
        "execution": {
          "iopub.execute_input": "2022-09-16T18:23:22.675698Z",
          "iopub.status.busy": "2022-09-16T18:23:22.675099Z",
          "iopub.status.idle": "2022-09-16T18:23:22.683077Z",
          "shell.execute_reply": "2022-09-16T18:23:22.682019Z",
          "shell.execute_reply.started": "2022-09-16T18:23:22.675666Z"
        },
        "id": "X7D5HpjdkkpM",
        "trusted": true
      },
      "outputs": [
        {
          "name": "stdout",
          "output_type": "stream",
          "text": [
            "VARIANT_NAME\n",
            "1    75.632511\n",
            "2    24.367489\n",
            "Name: proportion, dtype: float64\n"
          ]
        }
      ],
      "source": [
        "# TODO : Look at the distribution of the number of unique groups for each user in relative terms\n",
        "\n",
        "unique_groups_per_user = df.groupby('USER_ID')['VARIANT_NAME'].nunique()\n",
        "\n",
        "# Calculate the relative distribution\n",
        "relative_distribution = unique_groups_per_user.value_counts(normalize=True) * 100  # Convert to percentages\n",
        "\n",
        "# Display the relative distribution\n",
        "print(relative_distribution)"
      ]
    },
    {
      "cell_type": "markdown",
      "metadata": {},
      "source": [
        "75.63% of users belong to 1 unique group\n",
        "24.37% of users belong to 2 unique groups"
      ]
    },
    {
      "cell_type": "markdown",
      "metadata": {
        "id": "gyhapbJkkkpM"
      },
      "source": [
        "What can you observe ? Should we exclude these users ? Why ?\n",
        "Yes, users who interacted with both groups should generally be excluded from the analysis.Users exposed to both groups may have biased behavior, as their experience is influenced by both the control and variant conditions. This can distort the results of the A/B test."
      ]
    },
    {
      "cell_type": "code",
      "execution_count": 16,
      "metadata": {
        "execution": {
          "iopub.execute_input": "2022-09-16T18:23:22.68523Z",
          "iopub.status.busy": "2022-09-16T18:23:22.684621Z",
          "iopub.status.idle": "2022-09-16T18:23:22.704635Z",
          "shell.execute_reply": "2022-09-16T18:23:22.70344Z",
          "shell.execute_reply.started": "2022-09-16T18:23:22.685198Z"
        },
        "id": "MNRylCuikkpM",
        "trusted": true
      },
      "outputs": [
        {
          "name": "stdout",
          "output_type": "stream",
          "text": [
            "Number of users with 1 A/B test group: 4783\n",
            "Total rows in filtered dataset: 6070\n"
          ]
        }
      ],
      "source": [
        "# TODO : users have 1 A/B test group ?\n",
        "\n",
        "# TODO : Take only these users\n",
        "\n",
        "\n",
        "# Identify users who belong to only 1 A/B test group\n",
        "users_with_1_variant = unique_groups_per_user[unique_groups_per_user == 1].index\n",
        "\n",
        "# Filter the dataset to include only these users\n",
        "df_filtered = df[df['USER_ID'].isin(users_with_1_variant)]\n",
        "\n",
        "# Verify the result\n",
        "print(f\"Number of users with 1 A/B test group: {df_filtered['USER_ID'].nunique()}\")\n",
        "print(f\"Total rows in filtered dataset: {len(df_filtered)}\")\n"
      ]
    },
    {
      "cell_type": "code",
      "execution_count": 20,
      "metadata": {
        "execution": {
          "iopub.execute_input": "2022-09-16T18:23:22.707214Z",
          "iopub.status.busy": "2022-09-16T18:23:22.706067Z",
          "iopub.status.idle": "2022-09-16T18:23:22.721546Z",
          "shell.execute_reply": "2022-09-16T18:23:22.720237Z",
          "shell.execute_reply.started": "2022-09-16T18:23:22.70718Z"
        },
        "id": "4XvAx6ZtkkpM",
        "trusted": true
      },
      "outputs": [
        {
          "name": "stdout",
          "output_type": "stream",
          "text": [
            " Filtering is correct\n"
          ]
        }
      ],
      "source": [
        "# TODO : Leave only records with users with the 1st ab test group\n",
        "\n",
        "# TODO : Check that the number of users matches what it was before the exception\n",
        "\n",
        "expected_users_count = len(users_with_1_variant)  # Number of users with 1 A/B test group\n",
        "actual_users_count = df_filtered['USER_ID'].nunique()\n",
        "\n",
        "if expected_users_count == actual_users_count:\n",
        "    print(\" Filtering is correct\")\n",
        "else:\n",
        "    print(f\"Mismatch in user count! Expected: {expected_users_count}, Actual: {actual_users_count}\")"
      ]
    },
    {
      "cell_type": "markdown",
      "metadata": {
        "id": "Vpvcse3pkkpM"
      },
      "source": [
        "Let's see how the data is distributed"
      ]
    },
    {
      "cell_type": "code",
      "execution_count": 21,
      "metadata": {
        "execution": {
          "iopub.execute_input": "2022-09-16T18:23:22.723766Z",
          "iopub.status.busy": "2022-09-16T18:23:22.722862Z",
          "iopub.status.idle": "2022-09-16T18:23:22.98119Z",
          "shell.execute_reply": "2022-09-16T18:23:22.980008Z",
          "shell.execute_reply.started": "2022-09-16T18:23:22.723732Z"
        },
        "id": "EW1ZGmsukkpN",
        "trusted": true
      },
      "outputs": [
        {
          "name": "stderr",
          "output_type": "stream",
          "text": [
            "/var/folders/hz/4wr_d_nj47d_tw5jgy2y69lc0000gn/T/ipykernel_15782/1049511242.py:4: FutureWarning: \n",
            "\n",
            "Passing `palette` without assigning `hue` is deprecated and will be removed in v0.14.0. Assign the `x` variable to `hue` and set `legend=False` for the same effect.\n",
            "\n",
            "  sns.boxplot(data=df_filtered, x='VARIANT_NAME', y='REVENUE', palette='coolwarm')\n"
          ]
        },
        {
          "data": {
            "image/png": "[encoded data removed]",
            "text/plain": [
              "<Figure size 800x600 with 1 Axes>"
            ]
          },
          "metadata": {},
          "output_type": "display_data"
        }
      ],
      "source": [
        "# TODO : Check how the data is distributed using a box plot\n",
        "\n",
        "plt.figure(figsize=(8, 6))\n",
        "sns.boxplot(data=df_filtered, x='VARIANT_NAME', y='REVENUE', palette='coolwarm')\n",
        "\n",
        "# Add titles and labels\n",
        "plt.title('Distribution of Revenue by Variant')\n",
        "plt.xlabel('Variant Name')\n",
        "plt.ylabel('Revenue')\n",
        "\n",
        "# Display the plot\n",
        "plt.show()"
      ]
    },
    {
      "cell_type": "markdown",
      "metadata": {
        "id": "Hlp3psWykkpN"
      },
      "source": [
        "It can be seen that there is a strong outlier in the data - we will find it by sorting these revenue values in descending order"
      ]
    },
    {
      "cell_type": "code",
      "execution_count": 22,
      "metadata": {
        "execution": {
          "iopub.execute_input": "2022-09-16T18:23:22.987116Z",
          "iopub.status.busy": "2022-09-16T18:23:22.986753Z",
          "iopub.status.idle": "2022-09-16T18:23:23.005356Z",
          "shell.execute_reply": "2022-09-16T18:23:23.004381Z",
          "shell.execute_reply.started": "2022-09-16T18:23:22.987087Z"
        },
        "id": "9O6xaJmOkkpN",
        "trusted": true
      },
      "outputs": [
        {
          "name": "stdout",
          "output_type": "stream",
          "text": [
            "      USER_ID VARIANT_NAME  REVENUE\n",
            "1437     3342      control   196.01\n",
            "8168     2166      control    29.32\n",
            "2482     7356      variant    23.04\n",
            "6412     1053      control    20.07\n",
            "5217     3684      variant    19.47\n"
          ]
        }
      ],
      "source": [
        "# TODO : Sort these revenue values in descending order\n",
        "\n",
        "sorted_revenue = df_filtered.sort_values(by='REVENUE', ascending=False)\n",
        "\n",
        "# Display the sorted DataFrame\n",
        "print(sorted_revenue.head())  # Show the top 5 rows"
      ]
    },
    {
      "cell_type": "code",
      "execution_count": 23,
      "metadata": {},
      "outputs": [],
      "source": [
        "sorted_revenue.to_csv('sorted_revenue.csv', index=False)"
      ]
    },
    {
      "cell_type": "code",
      "execution_count": 24,
      "metadata": {
        "execution": {
          "iopub.execute_input": "2022-09-16T18:23:23.009563Z",
          "iopub.status.busy": "2022-09-16T18:23:23.009204Z",
          "iopub.status.idle": "2022-09-16T18:23:23.022364Z",
          "shell.execute_reply": "2022-09-16T18:23:23.020814Z",
          "shell.execute_reply.started": "2022-09-16T18:23:23.009514Z"
        },
        "id": "zzX8JJiIkkpN",
        "trusted": true
      },
      "outputs": [
        {
          "name": "stdout",
          "output_type": "stream",
          "text": [
            "      USER_ID VARIANT_NAME  REVENUE\n",
            "1437     3342      control   196.01\n",
            "Outliers for user 3342:\n",
            "      USER_ID VARIANT_NAME  REVENUE\n",
            "1437     3342      control   196.01\n"
          ]
        }
      ],
      "source": [
        "# TODO : See if user 3342 had other events with a strong outlier\n",
        "# Filter the dataset for user 3342\n",
        "user_3342_data = df_filtered[df_filtered['USER_ID'] == 3342]\n",
        "\n",
        "# Display the user's data\n",
        "print(user_3342_data)\n",
        "\n",
        "# Check if the user's revenue contains outliers using IQR\n",
        "Q1 = df_filtered['REVENUE'].quantile(0.25)  # First quartile (25th percentile)\n",
        "Q3 = df_filtered['REVENUE'].quantile(0.75)  # Third quartile (75th percentile)\n",
        "IQR = Q3 - Q1  # Interquartile range\n",
        "\n",
        "# Define outlier boundaries\n",
        "lower_bound = Q1 - 1.5 * IQR\n",
        "upper_bound = Q3 + 1.5 * IQR\n",
        "\n",
        "# Check if the user's revenue values are outliers\n",
        "user_3342_outliers = user_3342_data[(user_3342_data['REVENUE'] < lower_bound) | (user_3342_data['REVENUE'] > upper_bound)]\n",
        "\n",
        "# Display the outliers\n",
        "print(\"Outliers for user 3342:\")\n",
        "print(user_3342_outliers)"
      ]
    },
    {
      "cell_type": "markdown",
      "metadata": {},
      "source": [
        "The REVENUE value of 196.01 for user 3342 is considered an outlier because it exceeds the upper boundary calculated using the Interquartile Range (IQR)."
      ]
    },
    {
      "cell_type": "markdown",
      "metadata": {
        "id": "rvfqeZW6kkpN"
      },
      "source": [
        "We see that there is only one outlier - in conditions of limited information, we will remove this entry and look at the distribution of data again"
      ]
    },
    {
      "cell_type": "code",
      "execution_count": 25,
      "metadata": {},
      "outputs": [],
      "source": [
        "# Remove the outlier for user 3342\n",
        "df_filtered = df_filtered[df_filtered['REVENUE'] != 196.01]"
      ]
    },
    {
      "cell_type": "code",
      "execution_count": 59,
      "metadata": {
        "execution": {
          "iopub.execute_input": "2022-09-16T18:23:23.024763Z",
          "iopub.status.busy": "2022-09-16T18:23:23.024282Z",
          "iopub.status.idle": "2022-09-16T18:23:23.031917Z",
          "shell.execute_reply": "2022-09-16T18:23:23.030566Z",
          "shell.execute_reply.started": "2022-09-16T18:23:23.024711Z"
        },
        "id": "9VHXOhaVkkpO",
        "trusted": true
      },
      "outputs": [
        {
          "name": "stderr",
          "output_type": "stream",
          "text": [
            "/var/folders/hz/4wr_d_nj47d_tw5jgy2y69lc0000gn/T/ipykernel_15782/2126653207.py:5: FutureWarning: \n",
            "\n",
            "Passing `palette` without assigning `hue` is deprecated and will be removed in v0.14.0. Assign the `x` variable to `hue` and set `legend=False` for the same effect.\n",
            "\n",
            "  sns.boxplot(data=df_filtered, x='VARIANT_NAME', y='REVENUE', palette='coolwarm')\n"
          ]
        },
        {
          "data": {
            "image/png": "[encoded data removed]",
            "text/plain": [
              "<Figure size 800x600 with 1 Axes>"
            ]
          },
          "metadata": {},
          "output_type": "display_data"
        }
      ],
      "source": [
        "# TODO : We see that there is only one outlier - in conditions of limited information, remove this entry and visualize the distribution of data again.\n",
        "\n",
        "\n",
        "plt.figure(figsize=(8, 6))\n",
        "sns.boxplot(data=df_filtered, x='VARIANT_NAME', y='REVENUE', palette='coolwarm')\n",
        "plt.title('Updated Distribution of Revenue by Variant')\n",
        "plt.xlabel('Variant Name')\n",
        "plt.ylabel('Revenue')\n",
        "plt.show()"
      ]
    },
    {
      "cell_type": "markdown",
      "metadata": {
        "id": "r8pN_6oekkpO"
      },
      "source": [
        "\n",
        "What can you say about the users and their purchases ?"
      ]
    },
    {
      "cell_type": "code",
      "execution_count": 60,
      "metadata": {
        "execution": {
          "iopub.execute_input": "2022-09-16T18:23:23.397266Z",
          "iopub.status.busy": "2022-09-16T18:23:23.396475Z",
          "iopub.status.idle": "2022-09-16T18:23:23.4091Z",
          "shell.execute_reply": "2022-09-16T18:23:23.407843Z",
          "shell.execute_reply.started": "2022-09-16T18:23:23.397231Z"
        },
        "id": "VZ3v8TeekkpO",
        "trusted": true
      },
      "outputs": [
        {
          "name": "stdout",
          "output_type": "stream",
          "text": [
            "Number of users with both zero and positive revenue: 37\n",
            "Users with both zero and positive revenue:\n",
            "Index([ 124,  169,  282,  443,  487,  708,  868, 1035, 1053, 1339, 1883, 1939,\n",
            "       2166, 2181, 3326, 3331, 3699, 3797, 4113, 4858, 4918, 5134, 5597, 5900,\n",
            "       6207, 6271, 6429, 7613, 7930, 8020, 8536, 8583, 8886, 8920, 8927, 9766,\n",
            "       9928],\n",
            "      dtype='int64', name='USER_ID')\n"
          ]
        }
      ],
      "source": [
        "# TODO : Check if there are users who have records with zero and positive revenue\n",
        "\n",
        "\n",
        "users_with_zero_and_positive_revenue = df_filtered.groupby('USER_ID')['REVENUE'].apply(\n",
        "    lambda x: (x == 0).any() and (x > 0).any()\n",
        ")\n",
        "\n",
        "# Filter users who meet the condition\n",
        "users_with_both = users_with_zero_and_positive_revenue[users_with_zero_and_positive_revenue].index\n",
        "\n",
        "# Display the result\n",
        "print(f\"Number of users with both zero and positive revenue: {len(users_with_both)}\")\n",
        "print(\"Users with both zero and positive revenue:\")\n",
        "print(users_with_both)\n"
      ]
    },
    {
      "cell_type": "markdown",
      "metadata": {
        "id": "u_G7PRphkkpO"
      },
      "source": [
        "Can a user have records with both zero and positive revenue ?\n",
        "Yes, this could happen if the records represent user visits to the service, and not all visits result in revenue.\n",
        "\n",
        "Let's make the assumption that the records are user visits to the service, and the experimental unit is users.\n",
        "\n"
      ]
    },
    {
      "cell_type": "code",
      "execution_count": 64,
      "metadata": {
        "execution": {
          "iopub.execute_input": "2022-09-16T18:23:23.411317Z",
          "iopub.status.busy": "2022-09-16T18:23:23.410519Z",
          "iopub.status.idle": "2022-09-16T18:23:23.425157Z",
          "shell.execute_reply": "2022-09-16T18:23:23.423982Z",
          "shell.execute_reply.started": "2022-09-16T18:23:23.411275Z"
        },
        "id": "R5GdAtTXkkpP",
        "trusted": true
      },
      "outputs": [],
      "source": [
        "# TODO : Group the data for each user and sum the revenue for each to get one record per user\n",
        "\n",
        "df_filtered = df_filtered.groupby(by=['USER_ID', 'VARIANT_NAME']).sum().reset_index()"
      ]
    },
    {
      "cell_type": "code",
      "execution_count": 65,
      "metadata": {
        "execution": {
          "iopub.execute_input": "2022-09-16T18:23:23.428999Z",
          "iopub.status.busy": "2022-09-16T18:23:23.428689Z",
          "iopub.status.idle": "2022-09-16T18:23:23.783807Z",
          "shell.execute_reply": "2022-09-16T18:23:23.782679Z",
          "shell.execute_reply.started": "2022-09-16T18:23:23.428972Z"
        },
        "id": "Q7H93ZwNkkpP",
        "trusted": true
      },
      "outputs": [
        {
          "data": {
            "text/plain": [
              "([<matplotlib.axis.XTick at 0x123295730>,\n",
              "  <matplotlib.axis.XTick at 0x123224cb0>],\n",
              " [Text(0, 0, 'control'), Text(1, 0, 'variant')])"
            ]
          },
          "execution_count": 65,
          "metadata": {},
          "output_type": "execute_result"
        },
        {
          "data": {
            "image/png": "[encoded data removed]",
            "text/plain": [
              "<Figure size 500x1200 with 2 Axes>"
            ]
          },
          "metadata": {},
          "output_type": "display_data"
        }
      ],
      "source": [
        "# TODO : Visualize the resulting distribution of the data again.\n",
        "\n",
        "f, axes = plt.subplots(2, sharex=True, figsize=(5,12))\n",
        "sns.boxplot(ax = axes[0], x = 'VARIANT_NAME', y = 'REVENUE', data = df_filtered)\n",
        "sns.boxplot(ax = axes[1], x = 'VARIANT_NAME', y = 'REVENUE', data = df_filtered[df_filtered['REVENUE'] > 0])\n",
        "plt.xticks(np.arange(2), ('control', 'variant'))"
      ]
    },
    {
      "cell_type": "markdown",
      "metadata": {
        "id": "_NTyRweHkkpP"
      },
      "source": [
        "It should be noted that during the transformation, the quantiles in the test group increased\n",
        "\n",
        "It can be seen that in the test group, almost all quantile statistics, except for the minimum, are at a slightly lower level.\n",
        "\n",
        "Let's look at various statistics in the context of AB test groups for all users"
      ]
    },
    {
      "cell_type": "code",
      "execution_count": 66,
      "metadata": {
        "execution": {
          "iopub.execute_input": "2022-09-16T18:23:23.78594Z",
          "iopub.status.busy": "2022-09-16T18:23:23.785212Z",
          "iopub.status.idle": "2022-09-16T18:23:23.813162Z",
          "shell.execute_reply": "2022-09-16T18:23:23.812388Z",
          "shell.execute_reply.started": "2022-09-16T18:23:23.785905Z"
        },
        "id": "9QF5FZTAkkpP",
        "trusted": true
      },
      "outputs": [],
      "source": [
        "# TODO : get metrics by groups\n",
        "metric_stat = df_filtered.groupby(by='VARIANT_NAME').agg({\n",
        "    'USER_ID': 'nunique',\n",
        "    'REVENUE': ['sum', 'mean', 'median', 'count']\n",
        "})\n",
        "\n",
        "# TODO : create two additional metrics to see relative changes\n",
        "orders_per_user = metric_stat[('REVENUE', 'count')] / metric_stat[('USER_ID', 'nunique')]\n",
        "revenue_per_user = metric_stat[('REVENUE', 'sum')] / metric_stat[('USER_ID', 'nunique')]\n",
        "# TODO : add them to the rest of the metrics in a separate group\n",
        "metric_stat[('per_user', 'orders')] = orders_per_user\n",
        "metric_stat[('per_user', 'revenue')] = revenue_per_user\n"
      ]
    },
    {
      "cell_type": "code",
      "execution_count": 67,
      "metadata": {},
      "outputs": [
        {
          "name": "stdout",
          "output_type": "stream",
          "text": [
            "             USER_ID REVENUE                        per_user          \n",
            "             nunique     sum      mean median count   orders   revenue\n",
            "VARIANT_NAME                                                          \n",
            "control         2389  274.55  0.114923    0.0  2389      1.0  0.114923\n",
            "variant         2393  179.32  0.074935    0.0  2393      1.0  0.074935\n"
          ]
        }
      ],
      "source": [
        "# Display results\n",
        "print(metric_stat)"
      ]
    },
    {
      "cell_type": "markdown",
      "metadata": {
        "id": "-FEgWEXckkpP"
      },
      "source": [
        "What can you see in the test group about the total amount of revenue, the average check per user, and the number of orders per user slightly increased ?\n",
        "\n",
        "Let's also see how paying users behave :"
      ]
    },
    {
      "cell_type": "code",
      "execution_count": 71,
      "metadata": {
        "execution": {
          "iopub.execute_input": "2022-09-16T18:23:23.814781Z",
          "iopub.status.busy": "2022-09-16T18:23:23.814201Z",
          "iopub.status.idle": "2022-09-16T18:23:23.842362Z",
          "shell.execute_reply": "2022-09-16T18:23:23.841593Z",
          "shell.execute_reply.started": "2022-09-16T18:23:23.814749Z"
        },
        "id": "ZM1LQ1VrkkpQ",
        "trusted": true
      },
      "outputs": [
        {
          "name": "stdout",
          "output_type": "stream",
          "text": [
            "              unique_users  total_revenue  avg_revenue  median_revenue  \\\n",
            "VARIANT_NAME                                                             \n",
            "control                 53         274.55     5.180189            2.99   \n",
            "variant                 42         179.32     4.269524            2.97   \n",
            "\n",
            "              total_orders  orders_per_user  revenue_per_user  \n",
            "VARIANT_NAME                                                   \n",
            "control                 53              1.0          5.180189  \n",
            "variant                 42              1.0          4.269524  \n"
          ]
        }
      ],
      "source": [
        "# TODO : get metrics by groups\n",
        "paid_users = df_filtered[df_filtered.REVENUE != 0]\n",
        "\n",
        "# Group by VARIANT_NAME and calculate statistics\n",
        "paid_stat = paid_users.groupby('VARIANT_NAME').agg(\n",
        "    unique_users=('USER_ID', 'nunique'),\n",
        "    total_revenue=('REVENUE', 'sum'),\n",
        "    avg_revenue=('REVENUE', 'mean'),\n",
        "    median_revenue=('REVENUE', 'median'),\n",
        "    total_orders=('REVENUE', 'count')\n",
        ")\n",
        "\n",
        "# TODO : create two additional metrics to see relative changes\n",
        "paid_stat['orders_per_user'] = paid_stat['total_orders'] / paid_stat['unique_users']\n",
        "paid_stat['revenue_per_user'] = paid_stat['total_revenue'] / paid_stat['unique_users']\n",
        "\n",
        "# TODO : add them to the rest of the metrics in a separate group\n",
        "# Display results\n",
        "print(paid_stat)"
      ]
    },
    {
      "cell_type": "markdown",
      "metadata": {
        "id": "RozYt1eZkkpQ"
      },
      "source": [
        "Let's look at the distributions of all and only paying users"
      ]
    },
    {
      "cell_type": "code",
      "execution_count": 72,
      "metadata": {
        "execution": {
          "iopub.execute_input": "2022-09-16T18:23:23.844477Z",
          "iopub.status.busy": "2022-09-16T18:23:23.843826Z",
          "iopub.status.idle": "2022-09-16T18:23:24.587221Z",
          "shell.execute_reply": "2022-09-16T18:23:24.585887Z",
          "shell.execute_reply.started": "2022-09-16T18:23:23.844435Z"
        },
        "id": "Xmm-HM-ZkkpQ",
        "trusted": true
      },
      "outputs": [
        {
          "name": "stderr",
          "output_type": "stream",
          "text": [
            "/var/folders/hz/4wr_d_nj47d_tw5jgy2y69lc0000gn/T/ipykernel_15782/4101851425.py:3: UserWarning: \n",
            "\n",
            "`distplot` is a deprecated function and will be removed in seaborn v0.14.0.\n",
            "\n",
            "Please adapt your code to use either `displot` (a figure-level function with\n",
            "similar flexibility) or `histplot` (an axes-level function for histograms).\n",
            "\n",
            "For a guide to updating your code to use the new functions, please see\n",
            "https://gist.github.com/mwaskom/de44147ed2974457ad6372750bbe5751\n",
            "\n",
            "  sns.distplot(df.loc[df['VARIANT_NAME'] == 'control', 'REVENUE'], ax = axes[0], label='control')\n",
            "/var/folders/hz/4wr_d_nj47d_tw5jgy2y69lc0000gn/T/ipykernel_15782/4101851425.py:4: UserWarning: \n",
            "\n",
            "`distplot` is a deprecated function and will be removed in seaborn v0.14.0.\n",
            "\n",
            "Please adapt your code to use either `displot` (a figure-level function with\n",
            "similar flexibility) or `histplot` (an axes-level function for histograms).\n",
            "\n",
            "For a guide to updating your code to use the new functions, please see\n",
            "https://gist.github.com/mwaskom/de44147ed2974457ad6372750bbe5751\n",
            "\n",
            "  sns.distplot(df.loc[df['VARIANT_NAME'] == 'variant', 'REVENUE'], ax = axes[0], label='variant')\n",
            "/var/folders/hz/4wr_d_nj47d_tw5jgy2y69lc0000gn/T/ipykernel_15782/4101851425.py:8: UserWarning: \n",
            "\n",
            "`distplot` is a deprecated function and will be removed in seaborn v0.14.0.\n",
            "\n",
            "Please adapt your code to use either `displot` (a figure-level function with\n",
            "similar flexibility) or `histplot` (an axes-level function for histograms).\n",
            "\n",
            "For a guide to updating your code to use the new functions, please see\n",
            "https://gist.github.com/mwaskom/de44147ed2974457ad6372750bbe5751\n",
            "\n",
            "  sns.distplot(df.loc[(df['VARIANT_NAME'] == 'control') & (df['REVENUE'] > 0), 'REVENUE'], ax = axes[1], label='control' )\n",
            "/var/folders/hz/4wr_d_nj47d_tw5jgy2y69lc0000gn/T/ipykernel_15782/4101851425.py:9: UserWarning: \n",
            "\n",
            "`distplot` is a deprecated function and will be removed in seaborn v0.14.0.\n",
            "\n",
            "Please adapt your code to use either `displot` (a figure-level function with\n",
            "similar flexibility) or `histplot` (an axes-level function for histograms).\n",
            "\n",
            "For a guide to updating your code to use the new functions, please see\n",
            "https://gist.github.com/mwaskom/de44147ed2974457ad6372750bbe5751\n",
            "\n",
            "  sns.distplot(df.loc[(df['VARIANT_NAME'] == 'variant') & (df['REVENUE'] > 0), 'REVENUE'], ax = axes[1], label='variant' )\n"
          ]
        },
        {
          "data": {
            "image/png": "[encoded data removed]",
            "text/plain": [
              "<Figure size 1000x800 with 2 Axes>"
            ]
          },
          "metadata": {},
          "output_type": "display_data"
        }
      ],
      "source": [
        "f, axes = plt.subplots(2, figsize=(10,8))\n",
        "# build graphs of distributions of all users\n",
        "sns.distplot(df.loc[df['VARIANT_NAME'] == 'control', 'REVENUE'], ax = axes[0], label='control')\n",
        "sns.distplot(df.loc[df['VARIANT_NAME'] == 'variant', 'REVENUE'], ax = axes[0], label='variant')\n",
        "axes[0].set_title('Distribution of revenue of all users')\n",
        "\n",
        "# build graphs of distributions of paying users\n",
        "sns.distplot(df.loc[(df['VARIANT_NAME'] == 'control') & (df['REVENUE'] > 0), 'REVENUE'], ax = axes[1], label='control' )\n",
        "sns.distplot(df.loc[(df['VARIANT_NAME'] == 'variant') & (df['REVENUE'] > 0), 'REVENUE'], ax = axes[1], label='variant' )\n",
        "axes[1].set_title('Paying user revenue distribution')\n",
        "plt.legend()\n",
        "plt.subplots_adjust(hspace = 0.3)"
      ]
    },
    {
      "cell_type": "markdown",
      "metadata": {
        "id": "5vwsQSeVkkpQ"
      },
      "source": [
        "### Statistical Analysis <a name=\"Statistical\"/>"
      ]
    },
    {
      "cell_type": "markdown",
      "metadata": {
        "id": "lJP78Hc_kkpQ"
      },
      "source": [
        "#### Checking if the distribution is normal"
      ]
    },
    {
      "cell_type": "markdown",
      "metadata": {
        "id": "BVRKdz3WkkpQ"
      },
      "source": [
        "Based on their previous graph, we see that the data is not normally distributed."
      ]
    },
    {
      "cell_type": "code",
      "execution_count": 75,
      "metadata": {
        "execution": {
          "iopub.execute_input": "2022-09-16T18:23:24.589024Z",
          "iopub.status.busy": "2022-09-16T18:23:24.588685Z",
          "iopub.status.idle": "2022-09-16T18:23:24.597871Z",
          "shell.execute_reply": "2022-09-16T18:23:24.596794Z",
          "shell.execute_reply.started": "2022-09-16T18:23:24.588995Z"
        },
        "id": "je2NXscMkkpQ",
        "trusted": true
      },
      "outputs": [
        {
          "name": "stdout",
          "output_type": "stream",
          "text": [
            "Shapiro-Wilk Test for Variant Group:\n",
            "Test Statistic = 0.06145986897942335, P-value = 9.962810723092505e-76\n",
            "The revenue data for the variant group is NOT normally distributed (reject H0).\n"
          ]
        }
      ],
      "source": [
        "# TODO : Use the Shapiro-Wilk criterion to confirm it\n",
        "\n",
        "\n",
        "# Perform the Shapiro-Wilk test for the 'variant' group\n",
        "stat, p_value = shapiro(df_filtered.loc[df_filtered.VARIANT_NAME == 'variant', 'REVENUE'])\n",
        "\n",
        "# Display the results\n",
        "print(f\"Shapiro-Wilk Test for Variant Group:\")\n",
        "print(f\"Test Statistic = {stat}, P-value = {p_value}\")\n",
        "\n",
        "# Interpret the results\n",
        "if p_value < 0.05:\n",
        "    print(\"The revenue data for the variant group is NOT normally distributed (reject H0).\")\n",
        "else:\n",
        "    print(\"The revenue data for the variant group is normally distributed (fail to reject H0).\")"
      ]
    },
    {
      "cell_type": "markdown",
      "metadata": {
        "id": "Pq-RbAERkkpR"
      },
      "source": [
        "Is the null hypothesis about the normal distribution of the data rejected ?"
      ]
    },
    {
      "cell_type": "markdown",
      "metadata": {
        "id": "nYxHXTxpkkpR"
      },
      "source": [
        "#### Mann-Whitney test"
      ]
    },
    {
      "cell_type": "markdown",
      "metadata": {
        "id": "eGKBrlFnkkpR"
      },
      "source": [
        "Let's check the value of the statistics of the Mann-Whitney test. Some sources have a limitation of applicability in case of duplicate data. There are a lot of repetitions in our sample, and especially a lot of zero values, so in this case we need to be careful about this criterion."
      ]
    },
    {
      "cell_type": "code",
      "execution_count": 76,
      "metadata": {
        "execution": {
          "iopub.execute_input": "2022-09-16T18:23:24.600052Z",
          "iopub.status.busy": "2022-09-16T18:23:24.599408Z",
          "iopub.status.idle": "2022-09-16T18:23:24.609697Z",
          "shell.execute_reply": "2022-09-16T18:23:24.608442Z",
          "shell.execute_reply.started": "2022-09-16T18:23:24.600019Z"
        },
        "id": "ftj_LlaZkkpR",
        "trusted": true
      },
      "outputs": [
        {
          "data": {
            "text/plain": [
              "REVENUE\n",
              "True     9848\n",
              "False     152\n",
              "Name: count, dtype: int64"
            ]
          },
          "execution_count": 76,
          "metadata": {},
          "output_type": "execute_result"
        }
      ],
      "source": [
        "(df['REVENUE'] == 0).value_counts()"
      ]
    },
    {
      "cell_type": "code",
      "execution_count": 78,
      "metadata": {
        "execution": {
          "iopub.execute_input": "2022-09-16T18:23:24.611478Z",
          "iopub.status.busy": "2022-09-16T18:23:24.611079Z",
          "iopub.status.idle": "2022-09-16T18:23:24.627499Z",
          "shell.execute_reply": "2022-09-16T18:23:24.626266Z",
          "shell.execute_reply.started": "2022-09-16T18:23:24.611448Z"
        },
        "id": "liLsCl00kkpR",
        "trusted": true
      },
      "outputs": [
        {
          "name": "stdout",
          "output_type": "stream",
          "text": [
            "Mann-Whitney U Test Statistic: 2845109.0\n",
            "P-value: 0.24799555106821947\n",
            "There is no significant difference between the variant and control groups (fail to reject H0).\n"
          ]
        }
      ],
      "source": [
        "# TODO : Check on the data of all users the value of the statistics of the Mann-Whitney test\n",
        "\n",
        "\n",
        "# Perform the Mann-Whitney U test\n",
        "u_stat, p_value = mannwhitneyu(\n",
        "    df_filtered.loc[df_filtered.VARIANT_NAME == 'variant', 'REVENUE'],\n",
        "    df_filtered.loc[df_filtered.VARIANT_NAME == 'control', 'REVENUE']\n",
        ")\n",
        "\n",
        "# Display the results\n",
        "print(f\"Mann-Whitney U Test Statistic: {u_stat}\")\n",
        "print(f\"P-value: {p_value}\")\n",
        "\n",
        "# Interpret the results\n",
        "alpha = 0.05  # Significance level\n",
        "if p_value < alpha:\n",
        "    print(\"There is a significant difference between the variant and control groups (reject H0).\")\n",
        "else:\n",
        "    print(\"There is no significant difference between the variant and control groups (fail to reject H0).\")"
      ]
    },
    {
      "cell_type": "code",
      "execution_count": 79,
      "metadata": {
        "execution": {
          "iopub.execute_input": "2022-09-16T18:23:24.632496Z",
          "iopub.status.busy": "2022-09-16T18:23:24.632144Z",
          "iopub.status.idle": "2022-09-16T18:23:24.644752Z",
          "shell.execute_reply": "2022-09-16T18:23:24.643569Z",
          "shell.execute_reply.started": "2022-09-16T18:23:24.632466Z"
        },
        "id": "tCCcVEM4kkpS",
        "trusted": true
      },
      "outputs": [
        {
          "name": "stdout",
          "output_type": "stream",
          "text": [
            "Mann-Whitney U Test Statistic: 1029.0\n",
            "P-value: 0.5314192217084708\n",
            "There is no significant difference between the paying users in the variant and control groups (fail to reject H0).\n"
          ]
        }
      ],
      "source": [
        "# TODO : Check on the data of only the users that pay, the value of the statistics of the Mann-Whitney test\n",
        "\n",
        "# Filter the dataset to include only paying users (REVENUE > 0)\n",
        "paying_users_variant = df_filtered.loc[(df_filtered.VARIANT_NAME == 'variant') & (df_filtered.REVENUE > 0), 'REVENUE']\n",
        "paying_users_control = df_filtered.loc[(df_filtered.VARIANT_NAME == 'control') & (df_filtered.REVENUE > 0), 'REVENUE']\n",
        "\n",
        "# Perform the Mann-Whitney U test\n",
        "u_stat, p_value = mannwhitneyu(paying_users_variant, paying_users_control)\n",
        "\n",
        "# Display the results\n",
        "print(f\"Mann-Whitney U Test Statistic: {u_stat}\")\n",
        "print(f\"P-value: {p_value}\")\n",
        "\n",
        "# Interpret the results\n",
        "alpha = 0.05  # Significance level\n",
        "if p_value < alpha:\n",
        "    print(\"There is a significant difference between the paying users in the variant and control groups (reject H0).\")\n",
        "else:\n",
        "    print(\"There is no significant difference between the paying users in the variant and control groups (fail to reject H0).\")"
      ]
    },
    {
      "cell_type": "markdown",
      "metadata": {
        "execution": {
          "iopub.execute_input": "2022-09-16T17:49:10.365079Z",
          "iopub.status.busy": "2022-09-16T17:49:10.3638Z",
          "iopub.status.idle": "2022-09-16T17:49:10.369587Z",
          "shell.execute_reply": "2022-09-16T17:49:10.368719Z",
          "shell.execute_reply.started": "2022-09-16T17:49:10.365037Z"
        },
        "id": "XBp259a8kkpS"
      },
      "source": [
        "#### Bootstrap"
      ]
    },
    {
      "cell_type": "markdown",
      "metadata": {
        "id": "0xpO-CmekkpS"
      },
      "source": [
        "In order to get more complete information about the differences between the average values of the ab test groups, we will use bootstap.\n",
        "\n",
        "Let's create a function to get back samples and get a confidence interval, and then look at the sample statistics"
      ]
    },
    {
      "cell_type": "code",
      "execution_count": 80,
      "metadata": {
        "execution": {
          "iopub.execute_input": "2022-09-16T18:23:24.646134Z",
          "iopub.status.busy": "2022-09-16T18:23:24.645844Z",
          "iopub.status.idle": "2022-09-16T18:23:24.653955Z",
          "shell.execute_reply": "2022-09-16T18:23:24.652612Z",
          "shell.execute_reply.started": "2022-09-16T18:23:24.646108Z"
        },
        "id": "3yLh1toVkkpS",
        "trusted": true
      },
      "outputs": [],
      "source": [
        "def get_bootstrap_samples(data, n_samples=1000):\n",
        "    indices = np.random.randint(0, len(data), (n_samples, len(data)))\n",
        "    samples = data[indices]\n",
        "    return samples\n",
        "\n",
        "def stat_intervals(stat, alpha=0.05):\n",
        "    boundaries = np.percentile(stat, [100 * alpha / 2., 100 * (1 - alpha / 2.)])\n",
        "    return boundaries"
      ]
    },
    {
      "cell_type": "code",
      "execution_count": 82,
      "metadata": {
        "execution": {
          "iopub.execute_input": "2022-09-16T18:23:24.656775Z",
          "iopub.status.busy": "2022-09-16T18:23:24.656318Z",
          "iopub.status.idle": "2022-09-16T18:23:25.935543Z",
          "shell.execute_reply": "2022-09-16T18:23:25.934505Z",
          "shell.execute_reply.started": "2022-09-16T18:23:24.656733Z"
        },
        "id": "vAgJqb7lkkpS",
        "trusted": true
      },
      "outputs": [],
      "source": [
        "# TODO : Generate samples for all users\n",
        "control = get_bootstrap_samples(df_filtered.loc[df_filtered.VARIANT_NAME == 'control', 'REVENUE'].values, 10000)\n",
        "variant = get_bootstrap_samples(df_filtered.loc[df_filtered.VARIANT_NAME == 'variant', 'REVENUE'].values, 10000)\n"
      ]
    },
    {
      "cell_type": "code",
      "execution_count": 83,
      "metadata": {
        "execution": {
          "iopub.execute_input": "2022-09-16T18:23:25.937087Z",
          "iopub.status.busy": "2022-09-16T18:23:25.936759Z",
          "iopub.status.idle": "2022-09-16T18:23:25.964331Z",
          "shell.execute_reply": "2022-09-16T18:23:25.96321Z",
          "shell.execute_reply.started": "2022-09-16T18:23:25.937057Z"
        },
        "id": "pwXNe9H4kkpS",
        "trusted": true
      },
      "outputs": [],
      "source": [
        "# TODO : Generate samples for only paying users\n",
        "conyt_only_paid = get_bootstrap_samples(df_filtered.loc[(df.VARIANT_NAME == 'control') & (df_filtered.REVENUE > 0), 'REVENUE'].values, 10000)\n",
        "variant_only_paid = get_bootstrap_samples(df_filtered.loc[(df.VARIANT_NAME == 'variant') & (df_filtered.REVENUE > 0), 'REVENUE'].values, 10000)\n"
      ]
    },
    {
      "cell_type": "markdown",
      "metadata": {
        "id": "7OsUPGxnkkpT"
      },
      "source": [
        "Let's look at the distribution of means in the ab test groups"
      ]
    },
    {
      "cell_type": "code",
      "execution_count": 84,
      "metadata": {
        "execution": {
          "iopub.execute_input": "2022-09-16T18:23:25.96576Z",
          "iopub.status.busy": "2022-09-16T18:23:25.965453Z",
          "iopub.status.idle": "2022-09-16T18:23:26.299852Z",
          "shell.execute_reply": "2022-09-16T18:23:26.298725Z",
          "shell.execute_reply.started": "2022-09-16T18:23:25.965732Z"
        },
        "id": "CvNnX2ALkkpT",
        "trusted": true
      },
      "outputs": [
        {
          "name": "stderr",
          "output_type": "stream",
          "text": [
            "/var/folders/hz/4wr_d_nj47d_tw5jgy2y69lc0000gn/T/ipykernel_15782/2240544031.py:3: FutureWarning: \n",
            "\n",
            "`shade` is now deprecated in favor of `fill`; setting `fill=True`.\n",
            "This will become an error in seaborn v0.14.0; please update your code.\n",
            "\n",
            "  sns.kdeplot(np.mean(control, axis=1), shade=True, label='control')\n",
            "/var/folders/hz/4wr_d_nj47d_tw5jgy2y69lc0000gn/T/ipykernel_15782/2240544031.py:4: FutureWarning: \n",
            "\n",
            "`shade` is now deprecated in favor of `fill`; setting `fill=True`.\n",
            "This will become an error in seaborn v0.14.0; please update your code.\n",
            "\n",
            "  sns.kdeplot(np.mean(variant, axis=1), shade=True, label='variant')\n"
          ]
        },
        {
          "data": {
            "text/plain": [
              "Text(0.5, 1.0, 'Sample mean distribution for all users')"
            ]
          },
          "execution_count": 84,
          "metadata": {},
          "output_type": "execute_result"
        },
        {
          "data": {
            "image/png": "[encoded data removed]",
            "text/plain": [
              "<Figure size 640x480 with 1 Axes>"
            ]
          },
          "metadata": {},
          "output_type": "display_data"
        }
      ],
      "source": [
        "f, ax = plt.subplots()\n",
        "# plt.figure(figsize=(20,5))\n",
        "sns.kdeplot(np.mean(control, axis=1), shade=True, label='control')\n",
        "sns.kdeplot(np.mean(variant, axis=1), shade=True, label='variant')\n",
        "plt.title('Sample mean distribution for all users')"
      ]
    },
    {
      "cell_type": "code",
      "execution_count": 85,
      "metadata": {
        "execution": {
          "iopub.execute_input": "2022-09-16T18:23:26.301641Z",
          "iopub.status.busy": "2022-09-16T18:23:26.301272Z",
          "iopub.status.idle": "2022-09-16T18:23:26.62483Z",
          "shell.execute_reply": "2022-09-16T18:23:26.623431Z",
          "shell.execute_reply.started": "2022-09-16T18:23:26.301609Z"
        },
        "id": "v4_qUms4kkpT",
        "trusted": true
      },
      "outputs": [
        {
          "name": "stderr",
          "output_type": "stream",
          "text": [
            "/var/folders/hz/4wr_d_nj47d_tw5jgy2y69lc0000gn/T/ipykernel_15782/739164507.py:3: FutureWarning: \n",
            "\n",
            "`shade` is now deprecated in favor of `fill`; setting `fill=True`.\n",
            "This will become an error in seaborn v0.14.0; please update your code.\n",
            "\n",
            "  sns.kdeplot(np.mean(conyt_only_paid, axis=1), shade=True, label='control')\n",
            "/var/folders/hz/4wr_d_nj47d_tw5jgy2y69lc0000gn/T/ipykernel_15782/739164507.py:4: FutureWarning: \n",
            "\n",
            "`shade` is now deprecated in favor of `fill`; setting `fill=True`.\n",
            "This will become an error in seaborn v0.14.0; please update your code.\n",
            "\n",
            "  sns.kdeplot(np.mean(variant_only_paid, axis=1), shade=True, label='variant')\n"
          ]
        },
        {
          "data": {
            "text/plain": [
              "Text(0.5, 1.0, 'Sample mean distribution for paying users')"
            ]
          },
          "execution_count": 85,
          "metadata": {},
          "output_type": "execute_result"
        },
        {
          "data": {
            "image/png": "[encoded data removed]",
            "text/plain": [
              "<Figure size 640x480 with 1 Axes>"
            ]
          },
          "metadata": {},
          "output_type": "display_data"
        }
      ],
      "source": [
        "f, ax = plt.subplots()\n",
        "# plt.figure(figsize=(20,5))\n",
        "sns.kdeplot(np.mean(conyt_only_paid, axis=1), shade=True, label='control')\n",
        "sns.kdeplot(np.mean(variant_only_paid, axis=1), shade=True, label='variant')\n",
        "plt.title('Sample mean distribution for paying users')"
      ]
    },
    {
      "cell_type": "markdown",
      "metadata": {
        "id": "8MXUz0CEkkpT"
      },
      "source": [
        "Do you see any difference ? What about the confidence intervals ? Conclude.\n",
        "\n",
        "Let's evaluate the difference between the groups: look at the distribution of the mean difference and build confidence intervals for it. To do this, we will create a function for visualization"
      ]
    },
    {
      "cell_type": "code",
      "execution_count": 89,
      "metadata": {
        "execution": {
          "iopub.execute_input": "2022-09-16T18:23:26.628052Z",
          "iopub.status.busy": "2022-09-16T18:23:26.62643Z",
          "iopub.status.idle": "2022-09-16T18:23:26.639469Z",
          "shell.execute_reply": "2022-09-16T18:23:26.638694Z",
          "shell.execute_reply.started": "2022-09-16T18:23:26.628017Z"
        },
        "id": "bBIz3jkCkkpT",
        "trusted": true
      },
      "outputs": [],
      "source": [
        "def plot_distribution_and_stat_intervals(variant, control, title, alpha=0.05):\n",
        "    \"\"\" Plot the distribution of the mean difference and return the confidence intervals \"\"\"\n",
        "    f, ax = plt.subplots()\n",
        "    # get data for coloring confidence intervals\n",
        "    points = sns.kdeplot(variant - control, shade=True).get_lines()[0].get_data()\n",
        "    x = points[0]\n",
        "    y = points[1]\n",
        "    ymin, ymax = plt.ylim()\n",
        "    # highlight the zero value and the bounds of the confidence interval\n",
        "    plt.vlines(0, 0, ymax, label='0', color='gray')\n",
        "    plt.vlines(stat_intervals(variant - control, alpha)[0], 0, ymax, linestyles=\"dashed\")\n",
        "    plt.vlines(stat_intervals(variant - control, alpha)[1], 0, ymax, linestyles=\"dashed\")\n",
        "    # color the confidence interval and zones outside it\n",
        "    plt.fill_between(x,y,\n",
        "                     where = (x >= stat_intervals(variant - control, alpha)[1]),\n",
        "                     color='gainsboro')\n",
        "    plt.fill_between(x,y,\n",
        "                     where = (x <= stat_intervals(variant - control, alpha)[0]),\n",
        "                     color='gainsboro')\n",
        "    plt.fill_between(x,y,\n",
        "                     where = ((x >= stat_intervals(variant - control, alpha)[0])\n",
        "                              & (x <= stat_intervals(variant - control, alpha)[1])),\n",
        "                     color='red',\n",
        "                     label = '95% confidence interval')\n",
        "    plt.title(f'Distribution of difference between means (variant - control) {title}; {100*(1-alpha)}% Confidence interval for difference of means: {stat_intervals(variant - control, alpha)}')\n",
        "    plt.legend(prop={'size':13})\n",
        "    # return confidence interval data\n",
        "    return stat_intervals(variant - control)"
      ]
    },
    {
      "cell_type": "markdown",
      "metadata": {
        "id": "ZIUmqXtHkkpT"
      },
      "source": [
        "Let's build a graph of the distribution of the difference in the means and get a confidence interval\n",
        "\n",
        "For all users"
      ]
    },
    {
      "cell_type": "code",
      "execution_count": 90,
      "metadata": {
        "execution": {
          "iopub.execute_input": "2022-09-16T18:23:26.641004Z",
          "iopub.status.busy": "2022-09-16T18:23:26.640692Z",
          "iopub.status.idle": "2022-09-16T18:23:26.655336Z",
          "shell.execute_reply": "2022-09-16T18:23:26.654163Z",
          "shell.execute_reply.started": "2022-09-16T18:23:26.640977Z"
        },
        "id": "eQq8UewNkkpT",
        "trusted": true
      },
      "outputs": [
        {
          "name": "stderr",
          "output_type": "stream",
          "text": [
            "/var/folders/hz/4wr_d_nj47d_tw5jgy2y69lc0000gn/T/ipykernel_15782/4111737823.py:5: FutureWarning: \n",
            "\n",
            "`shade` is now deprecated in favor of `fill`; setting `fill=True`.\n",
            "This will become an error in seaborn v0.14.0; please update your code.\n",
            "\n",
            "  points = sns.kdeplot(variant - control, shade=True).get_lines()[0].get_data()\n"
          ]
        },
        {
          "ename": "IndexError",
          "evalue": "list index out of range",
          "output_type": "error",
          "traceback": [
            "\u001b[31m---------------------------------------------------------------------------\u001b[39m",
            "\u001b[31mIndexError\u001b[39m                                Traceback (most recent call last)",
            "\u001b[36mCell\u001b[39m\u001b[36m \u001b[39m\u001b[32mIn[90]\u001b[39m\u001b[32m, line 1\u001b[39m\n\u001b[32m----> \u001b[39m\u001b[32m1\u001b[39m \u001b[43mplot_distribution_and_stat_intervals\u001b[49m\u001b[43m(\u001b[49m\u001b[43mnp\u001b[49m\u001b[43m.\u001b[49m\u001b[43mmean\u001b[49m\u001b[43m(\u001b[49m\u001b[43mvariant\u001b[49m\u001b[43m,\u001b[49m\u001b[43m \u001b[49m\u001b[43maxis\u001b[49m\u001b[43m=\u001b[49m\u001b[32;43m1\u001b[39;49m\u001b[43m)\u001b[49m\u001b[43m,\u001b[49m\n\u001b[32m      2\u001b[39m \u001b[43m                                     \u001b[49m\u001b[43mnp\u001b[49m\u001b[43m.\u001b[49m\u001b[43mmean\u001b[49m\u001b[43m(\u001b[49m\u001b[43mcontrol\u001b[49m\u001b[43m,\u001b[49m\u001b[43m \u001b[49m\u001b[43maxis\u001b[49m\u001b[43m=\u001b[49m\u001b[32;43m1\u001b[39;49m\u001b[43m)\u001b[49m\u001b[43m,\u001b[49m\n\u001b[32m      3\u001b[39m \u001b[43m                                     \u001b[49m\u001b[43mtitle\u001b[49m\u001b[43m=\u001b[49m\u001b[33;43m'\u001b[39;49m\u001b[33;43mall users\u001b[39;49m\u001b[33;43m'\u001b[39;49m\u001b[43m)\u001b[49m\n",
            "\u001b[36mCell\u001b[39m\u001b[36m \u001b[39m\u001b[32mIn[89]\u001b[39m\u001b[32m, line 5\u001b[39m, in \u001b[36mplot_distribution_and_stat_intervals\u001b[39m\u001b[34m(variant, control, title, alpha)\u001b[39m\n\u001b[32m      3\u001b[39m f, ax = plt.subplots()\n\u001b[32m      4\u001b[39m \u001b[38;5;66;03m# get data for coloring confidence intervals\u001b[39;00m\n\u001b[32m----> \u001b[39m\u001b[32m5\u001b[39m points = \u001b[43msns\u001b[49m\u001b[43m.\u001b[49m\u001b[43mkdeplot\u001b[49m\u001b[43m(\u001b[49m\u001b[43mvariant\u001b[49m\u001b[43m \u001b[49m\u001b[43m-\u001b[49m\u001b[43m \u001b[49m\u001b[43mcontrol\u001b[49m\u001b[43m,\u001b[49m\u001b[43m \u001b[49m\u001b[43mshade\u001b[49m\u001b[43m=\u001b[49m\u001b[38;5;28;43;01mTrue\u001b[39;49;00m\u001b[43m)\u001b[49m\u001b[43m.\u001b[49m\u001b[43mget_lines\u001b[49m\u001b[43m(\u001b[49m\u001b[43m)\u001b[49m\u001b[43m[\u001b[49m\u001b[32;43m0\u001b[39;49m\u001b[43m]\u001b[49m.get_data()\n\u001b[32m      6\u001b[39m x = points[\u001b[32m0\u001b[39m]\n\u001b[32m      7\u001b[39m y = points[\u001b[32m1\u001b[39m]\n",
            "\u001b[31mIndexError\u001b[39m: list index out of range"
          ]
        },
        {
          "data": {
            "image/png": "[encoded data removed]",
            "text/plain": [
              "<Figure size 640x480 with 1 Axes>"
            ]
          },
          "metadata": {},
          "output_type": "display_data"
        }
      ],
      "source": [
        "plot_distribution_and_stat_intervals(np.mean(variant, axis=1),\n",
        "                                     np.mean(control, axis=1),\n",
        "                                     title='all users')"
      ]
    },
    {
      "cell_type": "code",
      "execution_count": 91,
      "metadata": {
        "execution": {
          "iopub.execute_input": "2022-09-16T18:23:26.657231Z",
          "iopub.status.busy": "2022-09-16T18:23:26.656914Z",
          "iopub.status.idle": "2022-09-16T18:23:26.666176Z",
          "shell.execute_reply": "2022-09-16T18:23:26.664922Z",
          "shell.execute_reply.started": "2022-09-16T18:23:26.65719Z"
        },
        "id": "mOb8VkPAkkpT",
        "trusted": true
      },
      "outputs": [
        {
          "name": "stderr",
          "output_type": "stream",
          "text": [
            "/var/folders/hz/4wr_d_nj47d_tw5jgy2y69lc0000gn/T/ipykernel_15782/4111737823.py:5: FutureWarning: \n",
            "\n",
            "`shade` is now deprecated in favor of `fill`; setting `fill=True`.\n",
            "This will become an error in seaborn v0.14.0; please update your code.\n",
            "\n",
            "  points = sns.kdeplot(variant - control, shade=True).get_lines()[0].get_data()\n"
          ]
        },
        {
          "ename": "IndexError",
          "evalue": "list index out of range",
          "output_type": "error",
          "traceback": [
            "\u001b[31m---------------------------------------------------------------------------\u001b[39m",
            "\u001b[31mIndexError\u001b[39m                                Traceback (most recent call last)",
            "\u001b[36mCell\u001b[39m\u001b[36m \u001b[39m\u001b[32mIn[91]\u001b[39m\u001b[32m, line 1\u001b[39m\n\u001b[32m----> \u001b[39m\u001b[32m1\u001b[39m \u001b[43mplot_distribution_and_stat_intervals\u001b[49m\u001b[43m(\u001b[49m\u001b[43mnp\u001b[49m\u001b[43m.\u001b[49m\u001b[43mmean\u001b[49m\u001b[43m(\u001b[49m\u001b[43mvariant_only_paid\u001b[49m\u001b[43m,\u001b[49m\u001b[43m \u001b[49m\u001b[43maxis\u001b[49m\u001b[43m=\u001b[49m\u001b[32;43m1\u001b[39;49m\u001b[43m)\u001b[49m\u001b[43m,\u001b[49m\n\u001b[32m      2\u001b[39m \u001b[43m                                     \u001b[49m\u001b[43mnp\u001b[49m\u001b[43m.\u001b[49m\u001b[43mmean\u001b[49m\u001b[43m(\u001b[49m\u001b[43mconyt_only_paid\u001b[49m\u001b[43m,\u001b[49m\u001b[43m \u001b[49m\u001b[43maxis\u001b[49m\u001b[43m=\u001b[49m\u001b[32;43m1\u001b[39;49m\u001b[43m)\u001b[49m\u001b[43m,\u001b[49m\n\u001b[32m      3\u001b[39m \u001b[43m                                     \u001b[49m\u001b[43mtitle\u001b[49m\u001b[43m=\u001b[49m\u001b[33;43m'\u001b[39;49m\u001b[33;43mpaying users\u001b[39;49m\u001b[33;43m'\u001b[39;49m\u001b[43m)\u001b[49m\n",
            "\u001b[36mCell\u001b[39m\u001b[36m \u001b[39m\u001b[32mIn[89]\u001b[39m\u001b[32m, line 5\u001b[39m, in \u001b[36mplot_distribution_and_stat_intervals\u001b[39m\u001b[34m(variant, control, title, alpha)\u001b[39m\n\u001b[32m      3\u001b[39m f, ax = plt.subplots()\n\u001b[32m      4\u001b[39m \u001b[38;5;66;03m# get data for coloring confidence intervals\u001b[39;00m\n\u001b[32m----> \u001b[39m\u001b[32m5\u001b[39m points = \u001b[43msns\u001b[49m\u001b[43m.\u001b[49m\u001b[43mkdeplot\u001b[49m\u001b[43m(\u001b[49m\u001b[43mvariant\u001b[49m\u001b[43m \u001b[49m\u001b[43m-\u001b[49m\u001b[43m \u001b[49m\u001b[43mcontrol\u001b[49m\u001b[43m,\u001b[49m\u001b[43m \u001b[49m\u001b[43mshade\u001b[49m\u001b[43m=\u001b[49m\u001b[38;5;28;43;01mTrue\u001b[39;49;00m\u001b[43m)\u001b[49m\u001b[43m.\u001b[49m\u001b[43mget_lines\u001b[49m\u001b[43m(\u001b[49m\u001b[43m)\u001b[49m\u001b[43m[\u001b[49m\u001b[32;43m0\u001b[39;49m\u001b[43m]\u001b[49m.get_data()\n\u001b[32m      6\u001b[39m x = points[\u001b[32m0\u001b[39m]\n\u001b[32m      7\u001b[39m y = points[\u001b[32m1\u001b[39m]\n",
            "\u001b[31mIndexError\u001b[39m: list index out of range"
          ]
        },
        {
          "data": {
            "image/png": "[encoded data removed]",
            "text/plain": [
              "<Figure size 640x480 with 1 Axes>"
            ]
          },
          "metadata": {},
          "output_type": "display_data"
        }
      ],
      "source": [
        "plot_distribution_and_stat_intervals(np.mean(variant_only_paid, axis=1),\n",
        "                                     np.mean(conyt_only_paid, axis=1),\n",
        "                                     title='paying users')"
      ]
    },
    {
      "cell_type": "markdown",
      "metadata": {
        "id": "5KFSGNjOkkpU"
      },
      "source": [
        "What can you observe ? Conclude about the statistical change in average revenue between A/B test groups.\n"
      ]
    }
  ],
  "metadata": {
    "colab": {
      "provenance": []
    },
    "kaggle": {
      "accelerator": "none",
      "dataSources": [
        {
          "datasetId": 2479030,
          "sourceId": 4213024,
          "sourceType": "datasetVersion"
        }
      ],
      "dockerImageVersionId": 30235,
      "isGpuEnabled": false,
      "isInternetEnabled": false,
      "language": "python",
      "sourceType": "notebook"
    },
    "kernelspec": {
      "display_name": ".venv",
      "language": "python",
      "name": "python3"
    },
    "language_info": {
      "codemirror_mode": {
        "name": "ipython",
        "version": 3
      },
      "file_extension": ".py",
      "mimetype": "text/x-python",
      "name": "python",
      "nbconvert_exporter": "python",
      "pygments_lexer": "ipython3",
      "version": "3.12.2"
    }
  },
  "nbformat": 4,
  "nbformat_minor": 0
}
