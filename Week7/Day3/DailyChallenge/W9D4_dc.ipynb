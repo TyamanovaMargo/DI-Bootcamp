{
  "cells": [
    {
      "cell_type": "code",
      "execution_count": 2,
      "metadata": {
        "_cell_guid": "b1076dfc-b9ad-4769-8c92-a6c4dae69d19",
        "_uuid": "8f2839f25d086af736a60e9eeb907d3b93b6e0e5",
        "execution": {
          "iopub.execute_input": "2023-11-06T18:15:49.894197Z",
          "iopub.status.busy": "2023-11-06T18:15:49.893535Z",
          "iopub.status.idle": "2023-11-06T18:15:49.925697Z",
          "shell.execute_reply": "2023-11-06T18:15:49.924613Z",
          "shell.execute_reply.started": "2023-11-06T18:15:49.894137Z"
        },
        "id": "NxVVGK3Ervuh",
        "trusted": true
      },
      "outputs": [],
      "source": [
        "import numpy as np\n",
        "import pandas as pd\n",
        "import matplotlib.pyplot as plt\n",
        "import seaborn as sns\n",
        "import itertools\n",
        "import statsmodels.stats.api as sms\n",
        "from scipy.stats import (ttest_1samp, shapiro, levene, ttest_ind, mannwhitneyu,\n",
        "                         pearsonr, spearmanr, kendalltau, f_oneway, kruskal)\n",
        "from statsmodels.stats.proportion import proportions_ztest\n",
        "from statsmodels.stats.multicomp import MultiComparison\n"
      ]
    },
    {
      "cell_type": "code",
      "execution_count": 5,
      "metadata": {
        "id": "3tOTF5-JoVbY"
      },
      "outputs": [
        {
          "data": {
            "text/html": [
              "<div>\n",
              "<style scoped>\n",
              "    .dataframe tbody tr th:only-of-type {\n",
              "        vertical-align: middle;\n",
              "    }\n",
              "\n",
              "    .dataframe tbody tr th {\n",
              "        vertical-align: top;\n",
              "    }\n",
              "\n",
              "    .dataframe thead th {\n",
              "        text-align: right;\n",
              "    }\n",
              "</style>\n",
              "<table border=\"1\" class=\"dataframe\">\n",
              "  <thead>\n",
              "    <tr style=\"text-align: right;\">\n",
              "      <th></th>\n",
              "      <th>USER_ID</th>\n",
              "      <th>VARIANT_NAME</th>\n",
              "      <th>REVENUE</th>\n",
              "    </tr>\n",
              "  </thead>\n",
              "  <tbody>\n",
              "    <tr>\n",
              "      <th>0</th>\n",
              "      <td>737</td>\n",
              "      <td>variant</td>\n",
              "      <td>0.0</td>\n",
              "    </tr>\n",
              "    <tr>\n",
              "      <th>1</th>\n",
              "      <td>2423</td>\n",
              "      <td>control</td>\n",
              "      <td>0.0</td>\n",
              "    </tr>\n",
              "    <tr>\n",
              "      <th>2</th>\n",
              "      <td>9411</td>\n",
              "      <td>control</td>\n",
              "      <td>0.0</td>\n",
              "    </tr>\n",
              "    <tr>\n",
              "      <th>3</th>\n",
              "      <td>7311</td>\n",
              "      <td>control</td>\n",
              "      <td>0.0</td>\n",
              "    </tr>\n",
              "    <tr>\n",
              "      <th>4</th>\n",
              "      <td>6174</td>\n",
              "      <td>variant</td>\n",
              "      <td>0.0</td>\n",
              "    </tr>\n",
              "  </tbody>\n",
              "</table>\n",
              "</div>"
            ],
            "text/plain": [
              "   USER_ID VARIANT_NAME  REVENUE\n",
              "0      737      variant      0.0\n",
              "1     2423      control      0.0\n",
              "2     9411      control      0.0\n",
              "3     7311      control      0.0\n",
              "4     6174      variant      0.0"
            ]
          },
          "execution_count": 5,
          "metadata": {},
          "output_type": "execute_result"
        }
      ],
      "source": [
        "# TODO : Import the Data from the kaggle API\n",
        "df = pd.read_csv('AB_Test_Results.csv', sep=',')\n",
        "df.head(5)\n"
      ]
    },
    {
      "cell_type": "markdown",
      "metadata": {
        "id": "x4TkAvmHrvuk"
      },
      "source": [
        "# Data Understanding"
      ]
    },
    {
      "cell_type": "code",
      "execution_count": null,
      "metadata": {
        "execution": {
          "iopub.execute_input": "2023-11-06T18:17:34.663604Z",
          "iopub.status.busy": "2023-11-06T18:17:34.663181Z",
          "iopub.status.idle": "2023-11-06T18:17:34.698452Z",
          "shell.execute_reply": "2023-11-06T18:17:34.697253Z",
          "shell.execute_reply.started": "2023-11-06T18:17:34.66357Z"
        },
        "id": "4hquSCDYrvun",
        "trusted": true
      },
      "outputs": [],
      "source": [
        "#TODO : compute the following : DataFrame Information, Columns in DataFrame, Counting Missing Values, Descriptive Statistics, Value Counts for VARIANT_NAME, Counting Unique Users in USER_ID"
      ]
    },
    {
      "cell_type": "code",
      "execution_count": 7,
      "metadata": {},
      "outputs": [
        {
          "name": "stdout",
          "output_type": "stream",
          "text": [
            "<class 'pandas.core.frame.DataFrame'>\n",
            "RangeIndex: 10000 entries, 0 to 9999\n",
            "Data columns (total 3 columns):\n",
            " #   Column        Non-Null Count  Dtype  \n",
            "---  ------        --------------  -----  \n",
            " 0   USER_ID       10000 non-null  int64  \n",
            " 1   VARIANT_NAME  10000 non-null  object \n",
            " 2   REVENUE       10000 non-null  float64\n",
            "dtypes: float64(1), int64(1), object(1)\n",
            "memory usage: 234.5+ KB\n",
            "Index(['USER_ID', 'VARIANT_NAME', 'REVENUE'], dtype='object')\n",
            "USER_ID         0\n",
            "VARIANT_NAME    0\n",
            "REVENUE         0\n",
            "dtype: int64\n"
          ]
        }
      ],
      "source": [
        "df.info()\n",
        "\n",
        "\n",
        "print(df.columns)\n",
        "\n",
        "print(df.isnull().sum())"
      ]
    },
    {
      "cell_type": "code",
      "execution_count": 8,
      "metadata": {},
      "outputs": [
        {
          "name": "stdout",
          "output_type": "stream",
          "text": [
            "            USER_ID       REVENUE\n",
            "count  10000.000000  10000.000000\n",
            "mean    4981.080200      0.099447\n",
            "std     2890.590115      2.318529\n",
            "min        2.000000      0.000000\n",
            "25%     2468.750000      0.000000\n",
            "50%     4962.000000      0.000000\n",
            "75%     7511.500000      0.000000\n",
            "max    10000.000000    196.010000\n"
          ]
        }
      ],
      "source": [
        "print(df.describe())\n",
        "\n"
      ]
    },
    {
      "cell_type": "code",
      "execution_count": 9,
      "metadata": {},
      "outputs": [
        {
          "name": "stdout",
          "output_type": "stream",
          "text": [
            "VARIANT_NAME\n",
            "variant    5016\n",
            "control    4984\n",
            "Name: count, dtype: int64\n",
            "6324\n"
          ]
        },
        {
          "data": {
            "image/png": "[encoded data removed]",
            "text/plain": [
              "<Figure size 1000x500 with 1 Axes>"
            ]
          },
          "metadata": {},
          "output_type": "display_data"
        }
      ],
      "source": [
        "print(df['VARIANT_NAME'].value_counts())\n",
        "print(df['USER_ID'].nunique())\n",
        "#TODO : Plotting the Distribution of the VARIANT_NAME column\n",
        "plt.figure(figsize=(10, 5))\n",
        "sns.countplot(data=df, x='VARIANT_NAME')\n",
        "plt.title('Distribution of VARIANT_NAME')\n",
        "plt.xlabel('Variant Name')\n",
        "plt.ylabel('Count')\n",
        "plt.xticks(rotation=45)     \n",
        "plt.show()"
      ]
    },
    {
      "cell_type": "markdown",
      "metadata": {
        "id": "1UJ0wnvyrvup"
      },
      "source": [
        "# Average Revenue by VARIANT_NAME"
      ]
    },
    {
      "cell_type": "code",
      "execution_count": 12,
      "metadata": {
        "execution": {
          "iopub.execute_input": "2023-11-06T18:18:57.602256Z",
          "iopub.status.busy": "2023-11-06T18:18:57.601805Z",
          "iopub.status.idle": "2023-11-06T18:18:57.619241Z",
          "shell.execute_reply": "2023-11-06T18:18:57.618008Z",
          "shell.execute_reply.started": "2023-11-06T18:18:57.602219Z"
        },
        "id": "FEl4TOdKrvuq",
        "trusted": true
      },
      "outputs": [
        {
          "name": "stdout",
          "output_type": "stream",
          "text": [
            "VARIANT_NAME\n",
            "control    0.129013\n",
            "variant    0.070070\n",
            "Name: REVENUE, dtype: float64\n"
          ]
        }
      ],
      "source": [
        "#TODO\n",
        "# Group the data by 'VARIANT_NAME' and calculate the average revenue\n",
        "average_revenue = df.groupby('VARIANT_NAME')['REVENUE'].mean()\n",
        "\n",
        "# Display the result\n",
        "print(average_revenue)"
      ]
    },
    {
      "cell_type": "markdown",
      "metadata": {
        "id": "VI4aeoclrvur"
      },
      "source": [
        "What if H0: M1 = M2 ?\n",
        "What about H1: M1 1= M2 ?"
      ]
    },
    {
      "cell_type": "markdown",
      "metadata": {},
      "source": [
        "H0: M1 = M2\n",
        "Null Hypothesis (H0): The mean revenue of the two groups (control and variant) is the same.\n",
        "This assumes that any difference in the average revenue between the two groups is due to random chance and not because of a real effect.\n",
        "H1: M1 ≠ M2\n",
        "Alternative Hypothesis (H1): The mean revenue of the two groups is not the same.\n",
        "This assumes that there is a significant difference in the average revenue between the two groups, meaning the variant might have a real effect (positive or negative) compared to the control.\n"
      ]
    },
    {
      "cell_type": "code",
      "execution_count": 13,
      "metadata": {},
      "outputs": [
        {
          "name": "stdout",
          "output_type": "stream",
          "text": [
            "T-statistic: 1.2711634519010084\n",
            "P-value: 0.20370007853373562\n",
            "Fail to reject the null hypothesis (H0). There is no significant difference between the two groups.\n"
          ]
        }
      ],
      "source": [
        "from scipy.stats import ttest_ind\n",
        "\n",
        "# Separate the revenue data for control and variant groups\n",
        "control_revenue = df[df['VARIANT_NAME'] == 'control']['REVENUE']\n",
        "variant_revenue = df[df['VARIANT_NAME'] == 'variant']['REVENUE']\n",
        "\n",
        "# Perform a two-sample t-test\n",
        "t_stat, p_value = ttest_ind(control_revenue, variant_revenue)\n",
        "\n",
        "# Display the results\n",
        "print(f\"T-statistic: {t_stat}\")\n",
        "print(f\"P-value: {p_value}\")\n",
        "\n",
        "# Interpret the results\n",
        "alpha = 0.05  # Significance level\n",
        "if p_value < alpha:\n",
        "    print(\"Reject the null hypothesis (H0). There is a significant difference between the two groups.\")\n",
        "else:\n",
        "    print(\"Fail to reject the null hypothesis (H0). There is no significant difference between the two groups.\")"
      ]
    },
    {
      "cell_type": "markdown",
      "metadata": {
        "id": "9nwdJ5OPrvus"
      },
      "source": [
        "# Assumptions Control:\n",
        "*# 1- Normality Assumptions*\n",
        "*# 2- Homogeneity of Variances Assumption*"
      ]
    },
    {
      "cell_type": "code",
      "execution_count": 11,
      "metadata": {},
      "outputs": [
        {
          "name": "stdout",
          "output_type": "stream",
          "text": [
            "Index(['USER_ID', 'VARIANT_NAME', 'REVENUE'], dtype='object')\n"
          ]
        }
      ],
      "source": [
        "print(df.columns)"
      ]
    },
    {
      "cell_type": "code",
      "execution_count": 14,
      "metadata": {
        "execution": {
          "iopub.execute_input": "2023-11-06T18:33:49.419188Z",
          "iopub.status.busy": "2023-11-06T18:33:49.418255Z",
          "iopub.status.idle": "2023-11-06T18:33:49.439409Z",
          "shell.execute_reply": "2023-11-06T18:33:49.438008Z",
          "shell.execute_reply.started": "2023-11-06T18:33:49.41913Z"
        },
        "id": "TT2sJwFprvut",
        "trusted": true
      },
      "outputs": [
        {
          "name": "stdout",
          "output_type": "stream",
          "text": [
            "Control Group:\n",
            "Shapiro-Wilk Test Statistic: 0.01833147442513461, P-value: 2.4983285100057203e-95\n",
            "\n",
            "Variant Group:\n",
            "Shapiro-Wilk Test Statistic: 0.027033073451830147, P-value: 2.7310104028899288e-95\n",
            "\n",
            "Control group: The data does not follow a normal distribution (reject H0).\n",
            "Variant group: The data does not follow a normal distribution (reject H0).\n"
          ]
        },
        {
          "name": "stderr",
          "output_type": "stream",
          "text": [
            "/Users/margotiamanova/Desktop/DI-Bootcamp/.venv/lib/python3.12/site-packages/scipy/stats/_axis_nan_policy.py:586: UserWarning: scipy.stats.shapiro: For N > 5000, computed p-value may not be accurate. Current N is 5016.\n",
            "  res = hypotest_fun_out(*samples, **kwds)\n"
          ]
        }
      ],
      "source": [
        "# TODO : test the normality of revenue data in two groups (variant and control) within your DataFrame df using the Shapiro-Wilk test, what can you conclude ?\n",
        "from scipy.stats import shapiro\n",
        "\n",
        "# Separate the revenue data for control and variant groups\n",
        "control_revenue = df[df['VARIANT_NAME'] == 'control']['REVENUE']\n",
        "variant_revenue = df[df['VARIANT_NAME'] == 'variant']['REVENUE']\n",
        "\n",
        "# Perform the Shapiro-Wilk test for normality\n",
        "control_stat, control_p = shapiro(control_revenue)\n",
        "variant_stat, variant_p = shapiro(variant_revenue)\n",
        "\n",
        "# Display the results\n",
        "print(\"Control Group:\")\n",
        "print(f\"Shapiro-Wilk Test Statistic: {control_stat}, P-value: {control_p}\")\n",
        "\n",
        "print(\"\\nVariant Group:\")\n",
        "print(f\"Shapiro-Wilk Test Statistic: {variant_stat}, P-value: {variant_p}\")\n",
        "\n",
        "# Interpret the results\n",
        "alpha = 0.05  # Significance level\n",
        "if control_p < alpha:\n",
        "    print(\"\\nControl group: The data does not follow a normal distribution (reject H0).\")\n",
        "else:\n",
        "    print(\"\\nControl group: The data follows a normal distribution (fail to reject H0).\")\n",
        "\n",
        "if variant_p < alpha:\n",
        "    print(\"Variant group: The data does not follow a normal distribution (reject H0).\")\n",
        "else:\n",
        "    print(\"Variant group: The data follows a normal distribution (fail to reject H0).\")"
      ]
    },
    {
      "cell_type": "markdown",
      "metadata": {},
      "source": [
        "P-value significantly lower than 0.05 for both groups, so both groups do not follow a normal distribution in terms of income."
      ]
    },
    {
      "cell_type": "code",
      "execution_count": 16,
      "metadata": {
        "execution": {
          "iopub.execute_input": "2023-11-06T18:36:19.231134Z",
          "iopub.status.busy": "2023-11-06T18:36:19.230691Z",
          "iopub.status.idle": "2023-11-06T18:36:19.251023Z",
          "shell.execute_reply": "2023-11-06T18:36:19.249467Z",
          "shell.execute_reply.started": "2023-11-06T18:36:19.231103Z"
        },
        "id": "n_X3_fU2rvuv",
        "trusted": true
      },
      "outputs": [
        {
          "name": "stdout",
          "output_type": "stream",
          "text": [
            "Levene's Test: Statistic=1.6158565214488871, p-value=0.20370007853398742\n"
          ]
        }
      ],
      "source": [
        "# TODO : test for the homogeneity of variances between two groups (variant and control) within your DataFrame df using the Levene's test,  what can you conclude ?\n",
        "from scipy.stats import levene\n",
        "#  Levene Test\n",
        "stat, p_value = levene(variant_revenue, control_revenue)\n",
        "\n",
        "print(f\"Levene's Test: Statistic={stat}, p-value={p_value}\")"
      ]
    },
    {
      "cell_type": "markdown",
      "metadata": {},
      "source": [
        "Since the p-value is greater than 0.05, we fail to reject the null hypothesis. This indicates that the variances between the two groups (variant and control) are homogeneous, meaning they are not significantly different.\n",
        "\n"
      ]
    },
    {
      "cell_type": "markdown",
      "metadata": {
        "id": "thz0Mml0rvuw"
      },
      "source": [
        "# Non-Parametric Test (mannwhitneyu Test)"
      ]
    },
    {
      "cell_type": "code",
      "execution_count": 17,
      "metadata": {
        "execution": {
          "iopub.execute_input": "2023-11-06T18:38:28.695244Z",
          "iopub.status.busy": "2023-11-06T18:38:28.694822Z",
          "iopub.status.idle": "2023-11-06T18:38:28.727682Z",
          "shell.execute_reply": "2023-11-06T18:38:28.726189Z",
          "shell.execute_reply.started": "2023-11-06T18:38:28.695212Z"
        },
        "id": "HGcWTyuUrvuw",
        "trusted": true
      },
      "outputs": [
        {
          "name": "stdout",
          "output_type": "stream",
          "text": [
            "Mann-Whitney U Test Statistic: 12521564.0, P-value: 0.47825247965294926\n",
            "There is no significant difference in revenue between the control and variant groups.\n"
          ]
        }
      ],
      "source": [
        "# TODO : perform the Mann-Whitney U test for comparing the average revenue between the variant and control groups in your DataFrame, what can you conclude ?\n",
        "from scipy.stats import mannwhitneyu\n",
        "\n",
        "# Perform the Mann-Whitney U test\n",
        "u_stat, p_value = mannwhitneyu(control_revenue, variant_revenue)\n",
        "\n",
        "# Display the results\n",
        "print(f\"Mann-Whitney U Test Statistic: {u_stat}, P-value: {p_value}\")\n",
        "\n",
        "# Interpret the results\n",
        "alpha = 0.05  # Significance level\n",
        "if p_value < alpha:\n",
        "    print(\"There is a significant difference in revenue between the control and variant groups.\")\n",
        "else:\n",
        "    print(\"There is no significant difference in revenue between the control and variant groups.\")"
      ]
    },
    {
      "cell_type": "code",
      "execution_count": 18,
      "metadata": {
        "execution": {
          "iopub.execute_input": "2023-11-06T18:45:29.18208Z",
          "iopub.status.busy": "2023-11-06T18:45:29.181657Z",
          "iopub.status.idle": "2023-11-06T18:45:29.640026Z",
          "shell.execute_reply": "2023-11-06T18:45:29.638846Z",
          "shell.execute_reply.started": "2023-11-06T18:45:29.182049Z"
        },
        "id": "jtjQGGsDrvux",
        "trusted": true
      },
      "outputs": [
        {
          "name": "stderr",
          "output_type": "stream",
          "text": [
            "/var/folders/hz/4wr_d_nj47d_tw5jgy2y69lc0000gn/T/ipykernel_14032/41289453.py:10: FutureWarning: \n",
            "\n",
            "Passing `palette` without assigning `hue` is deprecated and will be removed in v0.14.0. Assign the `x` variable to `hue` and set `legend=False` for the same effect.\n",
            "\n",
            "  sns.barplot(data=average_revenue, x='VARIANT_NAME', y='REVENUE', palette='coolwarm')\n"
          ]
        },
        {
          "data": {
            "image/png": "[encoded data removed]",
            "text/plain": [
              "<Figure size 800x600 with 1 Axes>"
            ]
          },
          "metadata": {},
          "output_type": "display_data"
        }
      ],
      "source": [
        "# TODO : create a bar plot showing the average revenues by variant names using the seaborn library\n",
        "import seaborn as sns\n",
        "import matplotlib.pyplot as plt\n",
        "\n",
        "# Calculate the average revenue by variant name\n",
        "average_revenue = df.groupby('VARIANT_NAME')['REVENUE'].mean().reset_index()\n",
        "\n",
        "# Create the bar plot\n",
        "plt.figure(figsize=(8, 6))\n",
        "sns.barplot(data=average_revenue, x='VARIANT_NAME', y='REVENUE', palette='coolwarm')\n",
        "\n",
        "# Add titles and labels\n",
        "plt.title('Average Revenue by Variant Name')\n",
        "plt.xlabel('Variant Name')\n",
        "plt.ylabel('Average Revenue')\n",
        "\n",
        "# Display the plot\n",
        "plt.tight_layout()\n",
        "plt.show()"
      ]
    }
  ],
  "metadata": {
    "colab": {
      "provenance": []
    },
    "kaggle": {
      "accelerator": "none",
      "dataSources": [
        {
          "datasetId": 2479030,
          "sourceId": 4213024,
          "sourceType": "datasetVersion"
        }
      ],
      "dockerImageVersionId": 30558,
      "isGpuEnabled": false,
      "isInternetEnabled": false,
      "language": "python",
      "sourceType": "notebook"
    },
    "kernelspec": {
      "display_name": ".venv",
      "language": "python",
      "name": "python3"
    },
    "language_info": {
      "codemirror_mode": {
        "name": "ipython",
        "version": 3
      },
      "file_extension": ".py",
      "mimetype": "text/x-python",
      "name": "python",
      "nbconvert_exporter": "python",
      "pygments_lexer": "ipython3",
      "version": "3.12.2"
    }
  },
  "nbformat": 4,
  "nbformat_minor": 0
}
