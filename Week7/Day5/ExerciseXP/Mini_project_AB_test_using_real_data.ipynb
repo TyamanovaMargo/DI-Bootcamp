{
  "cells": [
    {
      "cell_type": "markdown",
      "metadata": {
        "id": "nbo-72ZODKz2"
      },
      "source": [
        "# Data Science Analyze and Present A/B Test Results\n",
        "\n",
        "X company recently introduced a new bidding type, “average bidding”, as an alternative to its exisiting bidding\n",
        "type, called “maximum bidding”. One of our clients, X.com, has decided to test this new feature\n",
        "and wants to conduct an A/B test to understand if average bidding brings more conversions than maximum\n",
        "bidding.\n",
        "\n",
        "In this A/B test, X.com randomly splits its audience into two equally sized groups, e.g. the test\n",
        "and the control group. A X company ad campaign with “maximum bidding” is served to “control group” and\n",
        "another campaign with “average bidding” is served to the “test group”.\n",
        "\n",
        "The A/B test has run for 1 month and X.com now expects you to analyze and present the results\n",
        "of this A/B test.\n",
        "\n",
        "\n",
        "\n",
        "##### You should answer the following questions in this notebook\n",
        "\n",
        "1. How would you define the hypothesis of this A/B test?\n",
        "2. Can we conclude statistically significant results?\n",
        "3. Which statistical test did you use, and why?\n",
        "4. Based on your answer to Question 2, what would be your recommendation to client?\n",
        "\n",
        "\n",
        "##### Hints:\n",
        "\n",
        "1. The customer journey for this campaign is:\n",
        "    1. User sees an ad (Impression)\n",
        "    2. User clicks on the website link on the ad (Website Click)\n",
        "    3. User makes a search on the website (Search)\n",
        "    4. User views details of a product (View Content)\n",
        "    5. User adds the product to the cart (Add to Cart)\n",
        "    6. User purchases the product (Purchase)\n",
        "2. Use visualizations to compare test and control group metrics, such as Website Click Through Rate, Cost per Action, and Conversion Rates in addition to Purchase numbers.\n",
        "3. If you see trends, anomalies or other patterns, discuss these in your notebool.\n",
        "4. You can make assumptions if needed.\n"
      ]
    },
    {
      "cell_type": "markdown",
      "metadata": {
        "id": "1nq1PmtlDKz5"
      },
      "source": [
        "## 1. Import libraries"
      ]
    },
    {
      "cell_type": "code",
      "execution_count": 44,
      "metadata": {
        "id": "ZsKzhELSDKz5",
        "trusted": true
      },
      "outputs": [],
      "source": [
        "import pandas as pd\n",
        "import numpy as np\n",
        "import seaborn as sns\n",
        "import matplotlib.pyplot as plt\n",
        "from scipy import stats\n",
        "from scipy.stats import skewtest\n",
        "from scipy.stats import median_test\n",
        "from scipy.stats import shapiro\n",
        "import pylab\n",
        "from sklearn.neighbors import LocalOutlierFactor\n",
        "from scipy.stats import levene\n",
        "from statsmodels.stats.proportion import proportions_ztest\n",
        "from sklearn.impute import KNNImputer\n",
        "\n",
        "pd.set_option(\"display.max_columns\",None);\n",
        "pd.set_option(\"display.max_rows\",None);"
      ]
    },
    {
      "cell_type": "markdown",
      "metadata": {
        "id": "AMaVKs7CDKz6"
      },
      "source": [
        "## 2. Functions"
      ]
    },
    {
      "cell_type": "code",
      "execution_count": 45,
      "metadata": {
        "id": "bwPNKkN3DKz7",
        "trusted": true
      },
      "outputs": [],
      "source": [
        "def read_data() :\n",
        "    \"\"\"\n",
        "      Reads and loads control and test group data from an Excel file.\n",
        "    - **Control group** (Maximum Bidding): Existing campaign data.\n",
        "    - **Test group** (Average Bidding): Data from the new bidding strategy.\n",
        "    The function removes rows with NaN values that originated from notes in the Excel file for the control group.\n",
        "    \"\"\"\n",
        "   # Load the control and test datasets\n",
        "    control = pd.read_csv(\"/Users/margotiamanova/Desktop/DI-Bootcamp/Week7/Day5/ExerciseXP/control_group.csv\", sep=';')\n",
        "    test = pd.read_csv(\"/Users/margotiamanova/Desktop/DI-Bootcamp/Week7/Day5/ExerciseXP/test_group.csv\", sep=';')\n",
        "\n",
        "    # Check the size of the control dataframe before dropping rows\n",
        "    print(f\"Control dataframe size: {control.shape}\")\n",
        "\n",
        "    # Drop rows 30 and 31 only if they exist\n",
        "    if len(control) > 30:\n",
        "        control.drop(control.index[[30, 31]], inplace=True)\n",
        "    else:\n",
        "        print(\"Rows 30 and 31 do not exist in the control dataframe.\")\n",
        "\n",
        "    return control, test\n",
        "\n",
        "def get_catvar(df) :\n",
        "    \"\"\"\n",
        "    Identifies and extracts categorical variables from a DataFrame.\n",
        "    - Returns the original DataFrame, a DataFrame of only categorical variables, and the names of the categorical columns.\n",
        "    \"\"\"\n",
        "    cat_col = [col for col in df.columns if ( (df[col].dtype == 'object') | (df[col].dtype == 'bool'))]\n",
        "    kat_df = pd.DataFrame(df[cat_col], index = df[cat_col].index)\n",
        "    return df, kat_df, cat_col\n",
        "\n",
        "def get_numvar(cat_col,df):\n",
        "    \"\"\"\n",
        "    Identifies and extracts numerical variables from a DataFrame, excluding those specified as categorical.\n",
        "    - Returns the original DataFrame, a DataFrame of only numerical variables, and the names of the numerical columns.\n",
        "    \"\"\"\n",
        "    num_col = [c for c in df.columns if c not in cat_col]\n",
        "    num_df = pd.DataFrame(df[num_col], index = df[num_col].index)\n",
        "    return df, num_df, num_col\n",
        "\n",
        "def fill_NaNValue(num_control) :\n",
        "    \"\"\"\n",
        "    Implements K-Nearest Neighbors Imputation to fill in missing values in numerical columns of the control group.\n",
        "    - Returns a DataFrame with missing values filled.\n",
        "    \"\"\"\n",
        "    cols = num_control.columns\n",
        "    imputer = KNNImputer(n_neighbors=8)\n",
        "    num_control = imputer.fit_transform(num_control)\n",
        "    num_control=pd.DataFrame(num_control,columns=cols)\n",
        "    return num_control\n",
        "\n",
        "def convert_datatype(control):\n",
        "    \"\"\"\n",
        "      Converts specified columns in the control group DataFrame to integer data types.\n",
        "    - This is important for ensuring data consistency and correctness in calculations.\n",
        "    \"\"\"\n",
        "    control = control.astype({'# of Impressions' : 'int64',\n",
        "                        'Reach': 'int64',\n",
        "                        '# of Website Clicks' : 'int64',\n",
        "                        '# of Searches': 'int64',\n",
        "                        '# of View Content': 'int64',\n",
        "                        '# of Add to Cart': 'int64',\n",
        "                        '# of Purchase' : 'int64'})\n",
        "    return control\n",
        "\n",
        "def outliers(control, test):\n",
        "    \"\"\"\n",
        "    Detects and handles outliers in the test group data using Local Outlier Factor (LOF).\n",
        "    - Prints scores of the detected outliers and modifies extreme outlier values based on a specified threshold.\n",
        "    \"\"\"\n",
        "    clf= LocalOutlierFactor(n_neighbors = 20, contamination = 0.1)\n",
        "    clf.fit_predict(test.iloc[:,2:])[0:10]\n",
        "\n",
        "    test_scores=clf.negative_outlier_factor_\n",
        "    print(\"Test Score: \" , np.sort(test_scores)[0:20])\n",
        "    sns.boxplot(test_scores);\n",
        "\n",
        "    threshold=np.sort(test_scores)[4]\n",
        "    print(\"Threshold score: \", threshold)\n",
        "\n",
        "    test.loc[test_scores < -1.50].index\n",
        "    test.loc[test_scores == threshold]\n",
        "\n",
        "    test.iloc[0,2:]=[2742.245945,79574,57168,3086,1263,1098,226,277]\n",
        "    sns.boxplot(x=\"variable\", y=\"value\", data=pd.melt(test.iloc[:,3:5]));\n",
        "    sns.boxplot(x=\"variable\", y=\"value\", data=pd.melt(test.iloc[:,5:6]));\n",
        "    sns.boxplot(x=\"variable\", y=\"value\", data=pd.melt(test.iloc[:,6:]));\n",
        "\n",
        "\n",
        "def feature_engineering(control, test):\n",
        "    \"\"\"\n",
        "    Creates new features for both control and test groups to aid in analysis:\n",
        "    - Website Click Through Rate: The percentage of clicks per number of impressions.\n",
        "    - Number of Action: Sum of various engagement metrics like impressions, clicks, etc.\n",
        "    - Cost per Action: The spend divided by the number of actions.\n",
        "    - Conversion Rate: The number of actions divided by the number of clicks, expressed as a percentage.\n",
        "    \"\"\"\n",
        "    control[\"Website Click Through Rate\"] = control[\"# of Website Clicks\"] / control[\"# of Impressions\"] * 100\n",
        "    test[\"Website Click Through Rate\"] = test[\"# of Website Clicks\"] / test[\"# of Impressions\"] * 100\n",
        "\n",
        "    control[\"Number of Action\"] = control[\"# of Impressions\"] + control[\"# of Website Clicks\"] + control[\"# of Searches\"] + control[\"# of View Content\"] + control[\"# of Add to Cart\"] + control[\"# of Purchase\"]\n",
        "    test[\"Number of Action\"] = test[\"# of Impressions\"] + test[\"# of Website Clicks\"] + test[\"# of Searches\"] + test[\"# of View Content\"] + test[\"# of Add to Cart\"] + test[\"# of Purchase\"]\n",
        "\n",
        "    control[\"Cost per Action\"] = control[\"Spend [USD]\"] / control[\"Number of Action\"]\n",
        "    test[\"Cost per Action\"] = test[\"Spend [USD]\"] / test[\"Number of Action\"]\n",
        "\n",
        "    control[\"Conversion Rate\"] = control[\"Number of Action\"] / control[\"# of Website Clicks\"] * 100\n",
        "    test[\"Conversion Rate\"] = test[\"Number of Action\"] / test[\"# of Website Clicks\"] * 100\n",
        "\n",
        "    return control, test\n",
        "\n",
        "def data_prepare_for_visualization(control,test):\n",
        "    \"\"\"\n",
        "    Prepares control and test group data for visualization by extracting specific metrics and labeling them for group comparison.\n",
        "    - Returns a consolidated DataFrame of both groups for visualization purposes.\n",
        "    \"\"\"\n",
        "    control_nop = pd.DataFrame(control[\"# of Purchase\"])\n",
        "    test_nop = pd.DataFrame(test[\"# of Purchase\"])\n",
        "\n",
        "    control_wctr= pd.DataFrame(control[\"Website Click Through Rate\"])\n",
        "    test_wctr= pd.DataFrame(test[\"Website Click Through Rate\"])\n",
        "\n",
        "    control_cpa= pd.DataFrame(control[\"Cost per Action\"])\n",
        "    test_cpa= pd.DataFrame(test[\"Cost per Action\"])\n",
        "\n",
        "    control_cr= pd.DataFrame(control[\"Conversion Rate\"])\n",
        "    test_cr= pd.DataFrame(test[\"Conversion Rate\"])\n",
        "\n",
        "    Group_A = pd.concat([control_nop, control_wctr, control_cpa, control_cr], axis = 1)\n",
        "    Group_A[\"Group\"] = \"A (MaximumBidding)\"\n",
        "\n",
        "    Group_B = pd.concat([test_nop, test_wctr, test_cpa, test_cr], axis = 1)\n",
        "    Group_B[\"Group\"] = \"B (AverageBidding)\"\n",
        "\n",
        "    #Tum veri\n",
        "    AB = pd.concat([Group_A, Group_B])\n",
        "    AB\n",
        "    return AB, control_nop, test_nop\n",
        "\n",
        "def data_prepare_for_hypothesis_testing(control_nop, test_nop):\n",
        "    \"\"\"\n",
        "    Prepares control and test group data for hypothesis testing by combining \"# of Purchase\" data into a single DataFrame.\n",
        "    - The resulting DataFrame is structured for direct comparison between groups.\n",
        "    \"\"\"\n",
        "    controlB = pd.concat([control_nop, test_nop], axis = 1)\n",
        "    controlB.columns = [\"A\",\"B\"]\n",
        "    return controlB\n",
        "\n",
        "def num_boxplot(fig, axarr, dimension, cols, hue):\n",
        "    \"\"\"\n",
        "    A helper function for plotting boxplots of numerical data, categorized by the experiment group.\n",
        "    - It iterates over specified dimensions and columns to generate boxplots for visual analysis.\n",
        "    \"\"\"\n",
        "    for i in dimension :\n",
        "        for j in dimension :\n",
        "            for c in cols :\n",
        "                sns.boxplot(y=c, x = hue, hue = hue, data = AB, ax=axarr[i][j])\n",
        "                cols.remove(c)\n",
        "                break\n",
        "\n",
        "def show_boxplot(nrows, ncols, boyut, cols, figsize):\n",
        "    \"\"\"\n",
        "    Generates boxplots for the specified columns and groups, utilizing `num_boxplot`.\n",
        "    - Allows specification of the number of rows and columns in the figure, and figure size.\n",
        "    \"\"\"\n",
        "    fig, axarr = plt.subplots(nrows, ncols, figsize=figsize)\n",
        "    num_boxplot(fig, axarr, boyut, cols, \"Group\")\n",
        "\n",
        "\n",
        "def checkReject(p_value, alpha = 0.05):\n",
        "    \"\"\"\n",
        "    Checks whether the p-value from hypothesis testing is significant enough to reject the null hypothesis, given an alpha level (default 0.05).\n",
        "    - Prints the outcome of the hypothesis test in the context of rejecting or not rejecting the null hypothesis.\n",
        "    \"\"\"\n",
        "    if p_value < alpha :\n",
        "        print(f'{p_value} < alpha(0.05) so >>> H0 REJECTED')\n",
        "\n",
        "    elif p_value > alpha :\n",
        "        print(f'{p_value} > alpha(0.05) so >>> H0 CAN\\'T BE REJECTED')"
      ]
    },
    {
      "cell_type": "markdown",
      "metadata": {
        "id": "eTVHnvKUDKz8"
      },
      "source": [
        "## 3. Data Preparation"
      ]
    },
    {
      "cell_type": "code",
      "execution_count": 46,
      "metadata": {
        "id": "gi6ROl-bpgDK"
      },
      "outputs": [],
      "source": [
        "# TODO : Import the dataset available here : https://www.kaggle.com/code/dillonmyrick/a-b-test-hypothesis-testing-for-e-commerce/input"
      ]
    },
    {
      "cell_type": "code",
      "execution_count": 47,
      "metadata": {
        "id": "FKB1Gtm5DKz8",
        "trusted": true
      },
      "outputs": [
        {
          "name": "stdout",
          "output_type": "stream",
          "text": [
            "Control dataframe size: (30, 10)\n",
            "Rows 30 and 31 do not exist in the control dataframe.\n"
          ]
        }
      ],
      "source": [
        "control, test = read_data()"
      ]
    },
    {
      "cell_type": "code",
      "execution_count": 48,
      "metadata": {
        "id": "A7ip7bmEDKz9",
        "trusted": true
      },
      "outputs": [
        {
          "name": "stdout",
          "output_type": "stream",
          "text": [
            "       Campaign Name        Date  Spend [USD]  # of Impressions     Reach  \\\n",
            "0   Control Campaign   1.08.2019         2280           82702.0   56930.0   \n",
            "1   Control Campaign   2.08.2019         1757          121040.0  102513.0   \n",
            "2   Control Campaign   3.08.2019         2343          131711.0  110862.0   \n",
            "3   Control Campaign   4.08.2019         1940           72878.0   61235.0   \n",
            "4   Control Campaign   5.08.2019         1835               NaN       NaN   \n",
            "5   Control Campaign   6.08.2019         3083          109076.0   87998.0   \n",
            "6   Control Campaign   7.08.2019         2544          142123.0  127852.0   \n",
            "7   Control Campaign   8.08.2019         1900           90939.0   65217.0   \n",
            "8   Control Campaign   9.08.2019         2813          121332.0   94896.0   \n",
            "9   Control Campaign  10.08.2019         2149          117624.0   91257.0   \n",
            "10  Control Campaign  11.08.2019         2490          115247.0   95843.0   \n",
            "11  Control Campaign  12.08.2019         2319          116639.0  100189.0   \n",
            "12  Control Campaign  13.08.2019         2697           82847.0   68214.0   \n",
            "13  Control Campaign  14.08.2019         1875          145248.0  118632.0   \n",
            "14  Control Campaign  15.08.2019         2774          132845.0  102479.0   \n",
            "15  Control Campaign  16.08.2019         2024           71274.0   42859.0   \n",
            "16  Control Campaign  17.08.2019         2177          119612.0  106518.0   \n",
            "17  Control Campaign  18.08.2019         1876          108452.0   96518.0   \n",
            "18  Control Campaign  19.08.2019         2596          107890.0   81268.0   \n",
            "19  Control Campaign  20.08.2019         2675          113430.0   78625.0   \n",
            "20  Control Campaign  21.08.2019         1803           74654.0   59873.0   \n",
            "21  Control Campaign  22.08.2019         2939          105705.0   86218.0   \n",
            "22  Control Campaign  23.08.2019         2496          129880.0  109413.0   \n",
            "23  Control Campaign  24.08.2019         1892           72515.0   51987.0   \n",
            "24  Control Campaign  25.08.2019         1962          117006.0  100398.0   \n",
            "25  Control Campaign  26.08.2019         2233          124897.0   98432.0   \n",
            "26  Control Campaign  27.08.2019         2061          104678.0   91579.0   \n",
            "27  Control Campaign  28.08.2019         2421          141654.0  125874.0   \n",
            "28  Control Campaign  29.08.2019         2375           92029.0   74192.0   \n",
            "29  Control Campaign  30.08.2019         2324          111306.0   88632.0   \n",
            "\n",
            "    # of Website Clicks  # of Searches  # of View Content  # of Add to Cart  \\\n",
            "0                7016.0         2290.0             2159.0            1819.0   \n",
            "1                8110.0         2033.0             1841.0            1219.0   \n",
            "2                6508.0         1737.0             1549.0            1134.0   \n",
            "3                3065.0         1042.0              982.0            1183.0   \n",
            "4                   NaN            NaN                NaN               NaN   \n",
            "5                4028.0         1709.0             1249.0             784.0   \n",
            "6                2640.0         1388.0             1106.0            1166.0   \n",
            "7                7260.0         3047.0             2746.0             930.0   \n",
            "8                6198.0         2487.0             2179.0             645.0   \n",
            "9                2277.0         2475.0             1984.0            1629.0   \n",
            "10               8137.0         2941.0             2486.0            1887.0   \n",
            "11               2993.0         1397.0             1147.0            1439.0   \n",
            "12               6554.0         2390.0             1975.0            1794.0   \n",
            "13               4521.0         1209.0             1149.0            1339.0   \n",
            "14               4896.0         1179.0             1005.0            1641.0   \n",
            "15               5224.0         2427.0             2158.0            1613.0   \n",
            "16               6628.0         1756.0             1642.0             878.0   \n",
            "17               7253.0         2447.0             2115.0            1695.0   \n",
            "18               3706.0         2483.0             2098.0             908.0   \n",
            "19               2578.0         1001.0              848.0            1709.0   \n",
            "20               5691.0         2711.0             2496.0            1460.0   \n",
            "21               6843.0         3102.0             2988.0             819.0   \n",
            "22               4410.0         2896.0             2496.0            1913.0   \n",
            "23               4085.0         1274.0             1149.0            1146.0   \n",
            "24               4234.0         2423.0             2096.0             883.0   \n",
            "25               5435.0         2847.0             2421.0            1448.0   \n",
            "26               4941.0         3549.0             3249.0             980.0   \n",
            "27               6287.0         1672.0             1589.0            1711.0   \n",
            "28               8127.0         4891.0             4219.0            1486.0   \n",
            "29               4658.0         1615.0             1249.0             442.0   \n",
            "\n",
            "    # of Purchase  \n",
            "0           618.0  \n",
            "1           511.0  \n",
            "2           372.0  \n",
            "3           340.0  \n",
            "4             NaN  \n",
            "5           764.0  \n",
            "6           499.0  \n",
            "7           462.0  \n",
            "8           501.0  \n",
            "9           734.0  \n",
            "10          475.0  \n",
            "11          794.0  \n",
            "12          766.0  \n",
            "13          788.0  \n",
            "14          366.0  \n",
            "15          438.0  \n",
            "16          222.0  \n",
            "17          243.0  \n",
            "18          542.0  \n",
            "19          299.0  \n",
            "20          800.0  \n",
            "21          387.0  \n",
            "22          766.0  \n",
            "23          585.0  \n",
            "24          386.0  \n",
            "25          251.0  \n",
            "26          605.0  \n",
            "27          643.0  \n",
            "28          334.0  \n",
            "29          670.0  \n"
          ]
        },
        {
          "data": {
            "text/plain": [
              "(30, 10)"
            ]
          },
          "execution_count": 48,
          "metadata": {},
          "output_type": "execute_result"
        }
      ],
      "source": [
        "#TODO : print what is control\n",
        "print(control)\n",
        "control.shape"
      ]
    },
    {
      "cell_type": "code",
      "execution_count": 49,
      "metadata": {
        "id": "i5g2eQGeDKz9",
        "trusted": true
      },
      "outputs": [
        {
          "name": "stdout",
          "output_type": "stream",
          "text": [
            "    Campaign Name        Date  Spend [USD]  # of Impressions   Reach  \\\n",
            "0   Test Campaign   1.08.2019         3008             39550   35820   \n",
            "1   Test Campaign   2.08.2019         2542            100719   91236   \n",
            "2   Test Campaign   3.08.2019         2365             70263   45198   \n",
            "3   Test Campaign   4.08.2019         2710             78451   25937   \n",
            "4   Test Campaign   5.08.2019         2297            114295   95138   \n",
            "5   Test Campaign   6.08.2019         2458             42684   31489   \n",
            "6   Test Campaign   7.08.2019         2838             53986   42148   \n",
            "7   Test Campaign   8.08.2019         2916             33669   20149   \n",
            "8   Test Campaign   9.08.2019         2652             45511   31598   \n",
            "9   Test Campaign  10.08.2019         2790             95054   79632   \n",
            "10  Test Campaign  11.08.2019         2420             83633   71286   \n",
            "11  Test Campaign  12.08.2019         2831            124591   10598   \n",
            "12  Test Campaign  13.08.2019         1972             65827   49531   \n",
            "13  Test Campaign  14.08.2019         2537             56304   25982   \n",
            "14  Test Campaign  15.08.2019         2516             94338   76219   \n",
            "15  Test Campaign  16.08.2019         3076            106584   81389   \n",
            "16  Test Campaign  17.08.2019         1968             95843   54389   \n",
            "17  Test Campaign  18.08.2019         1979             53632   43241   \n",
            "18  Test Campaign  19.08.2019         2626             22521   10698   \n",
            "19  Test Campaign  20.08.2019         2712             39470   31893   \n",
            "20  Test Campaign  21.08.2019         3112            133771  109834   \n",
            "21  Test Campaign  22.08.2019         2899             34752   27932   \n",
            "22  Test Campaign  23.08.2019         2407             60286   49329   \n",
            "23  Test Campaign  24.08.2019         2078             36650   30489   \n",
            "24  Test Campaign  25.08.2019         2928            120576  105978   \n",
            "25  Test Campaign  26.08.2019         2311             80841   61589   \n",
            "26  Test Campaign  27.08.2019         2915            111469   92159   \n",
            "27  Test Campaign  28.08.2019         2247             54627   41267   \n",
            "28  Test Campaign  29.08.2019         2805             67444   43219   \n",
            "29  Test Campaign  30.08.2019         1977            120203   89380   \n",
            "\n",
            "    # of Website Clicks  # of Searches  # of View Content  # of Add to Cart  \\\n",
            "0                  3038           1946               1069               894   \n",
            "1                  4657           2359               1548               879   \n",
            "2                  7885           2572               2367              1268   \n",
            "3                  4216           2216               1437               566   \n",
            "4                  5863           2106                858               956   \n",
            "5                  7488           1854               1073               882   \n",
            "6                  4221           2733               2182              1301   \n",
            "7                  7184           2867               2194              1240   \n",
            "8                  8259           2899               2761              1200   \n",
            "9                  8125           2312               1804               424   \n",
            "10                 3750           2893               2617              1075   \n",
            "11                 8264           2081               1992              1382   \n",
            "12                 7568           2213               2058              1391   \n",
            "13                 3993           1979               1059               779   \n",
            "14                 4993           2537               1609              1090   \n",
            "15                 6800           2661               2594              1059   \n",
            "16                 7910           1995               1576               383   \n",
            "17                 6909           2824               2522               461   \n",
            "18                 7617           2924               2801               788   \n",
            "19                 6050           2061               1894              1047   \n",
            "20                 5471           1995               1868               278   \n",
            "21                 4431           1983               1131               367   \n",
            "22                 5077           2592               2004               632   \n",
            "23                 7156           2687               2427               327   \n",
            "24                 3596           2937               2551              1228   \n",
            "25                 3820           2037               1046               346   \n",
            "26                 6435           2976               2552               992   \n",
            "27                 8144           2432               1281              1009   \n",
            "28                 7651           1920               1240              1168   \n",
            "29                 4399           2978               1625              1034   \n",
            "\n",
            "    # of Purchase  \n",
            "0             255  \n",
            "1             677  \n",
            "2             578  \n",
            "3             340  \n",
            "4             768  \n",
            "5             488  \n",
            "6             890  \n",
            "7             431  \n",
            "8             845  \n",
            "9             275  \n",
            "10            668  \n",
            "11            709  \n",
            "12            812  \n",
            "13            340  \n",
            "14            398  \n",
            "15            487  \n",
            "16            238  \n",
            "17            257  \n",
            "18            512  \n",
            "19            730  \n",
            "20            245  \n",
            "21            276  \n",
            "22            473  \n",
            "23            269  \n",
            "24            651  \n",
            "25            284  \n",
            "26            771  \n",
            "27            721  \n",
            "28            677  \n",
            "29            572  \n"
          ]
        },
        {
          "data": {
            "text/plain": [
              "(30, 10)"
            ]
          },
          "execution_count": 49,
          "metadata": {},
          "output_type": "execute_result"
        }
      ],
      "source": [
        "#TODO : print what is test\n",
        "print(test)\n",
        "test.shape"
      ]
    },
    {
      "cell_type": "code",
      "execution_count": 50,
      "metadata": {
        "id": "VSQKSys2DKz-",
        "trusted": true
      },
      "outputs": [
        {
          "name": "stdout",
          "output_type": "stream",
          "text": [
            "Campaign Name          0\n",
            "Date                   0\n",
            "Spend [USD]            0\n",
            "# of Impressions       1\n",
            "Reach                  1\n",
            "# of Website Clicks    1\n",
            "# of Searches          1\n",
            "# of View Content      1\n",
            "# of Add to Cart       1\n",
            "# of Purchase          1\n",
            "dtype: int64\n"
          ]
        }
      ],
      "source": [
        "#TODO : check for null values in control\n",
        "print(control.isnull().sum())"
      ]
    },
    {
      "cell_type": "code",
      "execution_count": 51,
      "metadata": {},
      "outputs": [
        {
          "name": "stdout",
          "output_type": "stream",
          "text": [
            "Campaign Name           object\n",
            "Date                    object\n",
            "Spend [USD]              int64\n",
            "# of Impressions       float64\n",
            "Reach                  float64\n",
            "# of Website Clicks    float64\n",
            "# of Searches          float64\n",
            "# of View Content      float64\n",
            "# of Add to Cart       float64\n",
            "# of Purchase          float64\n",
            "dtype: object\n"
          ]
        }
      ],
      "source": [
        "# data types for control\n",
        "print(control.dtypes)"
      ]
    },
    {
      "cell_type": "code",
      "execution_count": 52,
      "metadata": {
        "id": "XUBSKm7dDKz_",
        "trusted": true
      },
      "outputs": [
        {
          "name": "stdout",
          "output_type": "stream",
          "text": [
            "Categorical Columns: ['Campaign Name', 'Date']\n",
            "Numerical Columns: ['Spend [USD]', '# of Impressions', 'Reach', '# of Website Clicks', '# of Searches', '# of View Content', '# of Add to Cart', '# of Purchase']\n",
            "\n",
            "Categorical DataFrame (kat_control):\n",
            "      Campaign Name       Date\n",
            "0  Control Campaign  1.08.2019\n",
            "1  Control Campaign  2.08.2019\n",
            "2  Control Campaign  3.08.2019\n",
            "3  Control Campaign  4.08.2019\n",
            "4  Control Campaign  5.08.2019\n",
            "\n",
            "Numerical DataFrame (num_control):\n",
            "   Spend [USD]  # of Impressions     Reach  # of Website Clicks  \\\n",
            "0         2280           82702.0   56930.0               7016.0   \n",
            "1         1757          121040.0  102513.0               8110.0   \n",
            "2         2343          131711.0  110862.0               6508.0   \n",
            "3         1940           72878.0   61235.0               3065.0   \n",
            "4         1835               NaN       NaN                  NaN   \n",
            "\n",
            "   # of Searches  # of View Content  # of Add to Cart  # of Purchase  \n",
            "0         2290.0             2159.0            1819.0          618.0  \n",
            "1         2033.0             1841.0            1219.0          511.0  \n",
            "2         1737.0             1549.0            1134.0          372.0  \n",
            "3         1042.0              982.0            1183.0          340.0  \n",
            "4            NaN                NaN               NaN            NaN  \n"
          ]
        }
      ],
      "source": [
        "#TODO : segment the control DataFrame into two separate DataFrames based on data type: one for categorical variables (kat_control) and one for numerical variables (num_control).\n",
        "#TODO :produces lists of column names for both categories for further use or reference.\n",
        "\n",
        "# Segment the control DataFrame into categorical and numerical DataFrames\n",
        "kat_control = control.select_dtypes(include=['object', 'category'])  # Categorical variables\n",
        "num_control = control.select_dtypes(include=['number'])  # Numerical variables\n",
        "\n",
        "# Produce lists of column names for both categories\n",
        "kat_columns = kat_control.columns.tolist()\n",
        "num_columns = num_control.columns.tolist()\n",
        "\n",
        "# Display the results\n",
        "print(\"Categorical Columns:\", kat_columns)\n",
        "print(\"Numerical Columns:\", num_columns)\n",
        "\n",
        "# Optional: Display the first few rows of each segmented DataFrame\n",
        "print(\"\\nCategorical DataFrame (kat_control):\")\n",
        "print(kat_control.head())\n",
        "\n",
        "print(\"\\nNumerical DataFrame (num_control):\")\n",
        "print(num_control.head())"
      ]
    },
    {
      "cell_type": "code",
      "execution_count": 53,
      "metadata": {
        "id": "0JmqqTWJDKz_",
        "trusted": true
      },
      "outputs": [
        {
          "name": "stdout",
          "output_type": "stream",
          "text": [
            "Campaign Name          0\n",
            "Date                   0\n",
            "Spend [USD]            0\n",
            "# of Impressions       0\n",
            "Reach                  0\n",
            "# of Website Clicks    0\n",
            "# of Searches          0\n",
            "# of View Content      0\n",
            "# of Add to Cart       0\n",
            "# of Purchase          0\n",
            "dtype: int64\n"
          ]
        }
      ],
      "source": [
        "# TODO : Fill the control dataframe values NaN value with KNNImputer.\n",
        "\n",
        "# Select only numerical columns for imputation\n",
        "numerical_cols = control.select_dtypes(include=['number']).columns\n",
        "# Apply KNN Imputer\n",
        "imputer = KNNImputer(n_neighbors=8)  # You can adjust the number of neighbors\n",
        "control[numerical_cols] = imputer.fit_transform(control[numerical_cols])\n",
        "\n",
        "# Check if NaN values are filled\n",
        "print(control.isnull().sum())  # Should print 0 for all numerical columns"
      ]
    },
    {
      "cell_type": "code",
      "execution_count": 54,
      "metadata": {
        "id": "fvBuwD66DK0B",
        "trusted": true
      },
      "outputs": [
        {
          "name": "stdout",
          "output_type": "stream",
          "text": [
            "Spend [USD]            0\n",
            "# of Impressions       0\n",
            "Reach                  0\n",
            "# of Website Clicks    0\n",
            "# of Searches          0\n",
            "# of View Content      0\n",
            "# of Add to Cart       0\n",
            "# of Purchase          0\n",
            "Campaign Name          0\n",
            "Date                   0\n",
            "dtype: int64\n"
          ]
        }
      ],
      "source": [
        "# TODO : Combine categorical and numerical variables with the concept.\n",
        "\n",
        "# Apply KNNImputer on numeric variables\n",
        "imputer = KNNImputer(n_neighbors=8)\n",
        "num_control_imputed = pd.DataFrame(imputer.fit_transform(num_control), columns=num_control.columns)\n",
        "#  Recombine DataFrames\n",
        "control_imputed = pd.concat([num_control_imputed, kat_control], axis=1)\n",
        "\n",
        "# NaN Verification\n",
        "print(control_imputed.isnull().sum())"
      ]
    },
    {
      "cell_type": "code",
      "execution_count": 55,
      "metadata": {
        "id": "upfhU8BZDK0C",
        "trusted": true
      },
      "outputs": [
        {
          "name": "stdout",
          "output_type": "stream",
          "text": [
            "(30, 10)\n",
            "(30, 10)\n"
          ]
        }
      ],
      "source": [
        "# Let's do a data type conversion.\n",
        "\n",
        "control = convert_datatype(control)\n",
        "\n",
        "print(control.shape)\n",
        "print(test.shape)"
      ]
    },
    {
      "cell_type": "code",
      "execution_count": 56,
      "metadata": {
        "id": "FsNo0ySmDK0C",
        "trusted": true
      },
      "outputs": [
        {
          "name": "stdout",
          "output_type": "stream",
          "text": [
            "<class 'pandas.core.frame.DataFrame'>\n",
            "RangeIndex: 30 entries, 0 to 29\n",
            "Data columns (total 10 columns):\n",
            " #   Column               Non-Null Count  Dtype  \n",
            "---  ------               --------------  -----  \n",
            " 0   Campaign Name        30 non-null     object \n",
            " 1   Date                 30 non-null     object \n",
            " 2   Spend [USD]          30 non-null     float64\n",
            " 3   # of Impressions     30 non-null     int64  \n",
            " 4   Reach                30 non-null     int64  \n",
            " 5   # of Website Clicks  30 non-null     int64  \n",
            " 6   # of Searches        30 non-null     int64  \n",
            " 7   # of View Content    30 non-null     int64  \n",
            " 8   # of Add to Cart     30 non-null     int64  \n",
            " 9   # of Purchase        30 non-null     int64  \n",
            "dtypes: float64(1), int64(7), object(2)\n",
            "memory usage: 2.5+ KB\n",
            "None\n",
            "<class 'pandas.core.frame.DataFrame'>\n",
            "RangeIndex: 30 entries, 0 to 29\n",
            "Data columns (total 10 columns):\n",
            " #   Column               Non-Null Count  Dtype \n",
            "---  ------               --------------  ----- \n",
            " 0   Campaign Name        30 non-null     object\n",
            " 1   Date                 30 non-null     object\n",
            " 2   Spend [USD]          30 non-null     int64 \n",
            " 3   # of Impressions     30 non-null     int64 \n",
            " 4   Reach                30 non-null     int64 \n",
            " 5   # of Website Clicks  30 non-null     int64 \n",
            " 6   # of Searches        30 non-null     int64 \n",
            " 7   # of View Content    30 non-null     int64 \n",
            " 8   # of Add to Cart     30 non-null     int64 \n",
            " 9   # of Purchase        30 non-null     int64 \n",
            "dtypes: int64(8), object(2)\n",
            "memory usage: 2.5+ KB\n",
            "None\n"
          ]
        }
      ],
      "source": [
        "# Check your dataframes\n",
        "\n",
        "print(control.info())\n",
        "print(test.info())"
      ]
    },
    {
      "cell_type": "markdown",
      "metadata": {
        "id": "3fgAFAElDK0C"
      },
      "source": [
        "## 4. Preparing Data for Hypothesis Testing (A/B Test)\n",
        "\n"
      ]
    },
    {
      "cell_type": "code",
      "execution_count": 57,
      "metadata": {
        "id": "dGIMTMSVDK0C",
        "trusted": true
      },
      "outputs": [
        {
          "name": "stdout",
          "output_type": "stream",
          "text": [
            "(       Campaign Name        Date  Spend [USD]  # of Impressions   Reach  \\\n",
            "0   Control Campaign   1.08.2019       2280.0             82702   56930   \n",
            "1   Control Campaign   2.08.2019       1757.0            121040  102513   \n",
            "2   Control Campaign   3.08.2019       2343.0            131711  110862   \n",
            "3   Control Campaign   4.08.2019       1940.0             72878   61235   \n",
            "4   Control Campaign   5.08.2019       1835.0            100341   82046   \n",
            "5   Control Campaign   6.08.2019       3083.0            109076   87998   \n",
            "6   Control Campaign   7.08.2019       2544.0            142123  127852   \n",
            "7   Control Campaign   8.08.2019       1900.0             90939   65217   \n",
            "8   Control Campaign   9.08.2019       2813.0            121332   94896   \n",
            "9   Control Campaign  10.08.2019       2149.0            117624   91257   \n",
            "10  Control Campaign  11.08.2019       2490.0            115247   95843   \n",
            "11  Control Campaign  12.08.2019       2319.0            116639  100189   \n",
            "12  Control Campaign  13.08.2019       2697.0             82847   68214   \n",
            "13  Control Campaign  14.08.2019       1875.0            145248  118632   \n",
            "14  Control Campaign  15.08.2019       2774.0            132845  102479   \n",
            "15  Control Campaign  16.08.2019       2024.0             71274   42859   \n",
            "16  Control Campaign  17.08.2019       2177.0            119612  106518   \n",
            "17  Control Campaign  18.08.2019       1876.0            108452   96518   \n",
            "18  Control Campaign  19.08.2019       2596.0            107890   81268   \n",
            "19  Control Campaign  20.08.2019       2675.0            113430   78625   \n",
            "20  Control Campaign  21.08.2019       1803.0             74654   59873   \n",
            "21  Control Campaign  22.08.2019       2939.0            105705   86218   \n",
            "22  Control Campaign  23.08.2019       2496.0            129880  109413   \n",
            "23  Control Campaign  24.08.2019       1892.0             72515   51987   \n",
            "24  Control Campaign  25.08.2019       1962.0            117006  100398   \n",
            "25  Control Campaign  26.08.2019       2233.0            124897   98432   \n",
            "26  Control Campaign  27.08.2019       2061.0            104678   91579   \n",
            "27  Control Campaign  28.08.2019       2421.0            141654  125874   \n",
            "28  Control Campaign  29.08.2019       2375.0             92029   74192   \n",
            "29  Control Campaign  30.08.2019       2324.0            111306   88632   \n",
            "\n",
            "    # of Website Clicks  # of Searches  # of View Content  # of Add to Cart  \\\n",
            "0                  7016           2290               2159              1819   \n",
            "1                  8110           2033               1841              1219   \n",
            "2                  6508           1737               1549              1134   \n",
            "3                  3065           1042                982              1183   \n",
            "4                  5527           2023               1821              1231   \n",
            "5                  4028           1709               1249               784   \n",
            "6                  2640           1388               1106              1166   \n",
            "7                  7260           3047               2746               930   \n",
            "8                  6198           2487               2179               645   \n",
            "9                  2277           2475               1984              1629   \n",
            "10                 8137           2941               2486              1887   \n",
            "11                 2993           1397               1147              1439   \n",
            "12                 6554           2390               1975              1794   \n",
            "13                 4521           1209               1149              1339   \n",
            "14                 4896           1179               1005              1641   \n",
            "15                 5224           2427               2158              1613   \n",
            "16                 6628           1756               1642               878   \n",
            "17                 7253           2447               2115              1695   \n",
            "18                 3706           2483               2098               908   \n",
            "19                 2578           1001                848              1709   \n",
            "20                 5691           2711               2496              1460   \n",
            "21                 6843           3102               2988               819   \n",
            "22                 4410           2896               2496              1913   \n",
            "23                 4085           1274               1149              1146   \n",
            "24                 4234           2423               2096               883   \n",
            "25                 5435           2847               2421              1448   \n",
            "26                 4941           3549               3249               980   \n",
            "27                 6287           1672               1589              1711   \n",
            "28                 8127           4891               4219              1486   \n",
            "29                 4658           1615               1249               442   \n",
            "\n",
            "    # of Purchase  Website Click Through Rate  Number of Action  \\\n",
            "0             618                    8.483471             96604   \n",
            "1             511                    6.700264            134754   \n",
            "2             372                    4.941121            143011   \n",
            "3             340                    4.205659             79490   \n",
            "4             514                    5.508217            111457   \n",
            "5             764                    3.692838            117610   \n",
            "6             499                    1.857546            148922   \n",
            "7             462                    7.983373            105384   \n",
            "8             501                    5.108298            133342   \n",
            "9             734                    1.935829            126723   \n",
            "10            475                    7.060487            131173   \n",
            "11            794                    2.566037            124409   \n",
            "12            766                    7.910968             96326   \n",
            "13            788                    3.112607            154254   \n",
            "14            366                    3.685498            141932   \n",
            "15            438                    7.329461             83134   \n",
            "16            222                    5.541250            130738   \n",
            "17            243                    6.687751            122205   \n",
            "18            542                    3.434980            117627   \n",
            "19            299                    2.272767            119865   \n",
            "20            800                    7.623168             87812   \n",
            "21            387                    6.473677            119844   \n",
            "22            766                    3.395442            142361   \n",
            "23            585                    5.633317             80754   \n",
            "24            386                    3.618618            127028   \n",
            "25            251                    4.351586            137299   \n",
            "26            605                    4.720190            118002   \n",
            "27            643                    4.438279            153556   \n",
            "28            334                    8.830912            111086   \n",
            "29            670                    4.184860            119940   \n",
            "\n",
            "    Cost per Action  Conversion Rate  \n",
            "0          0.023602      1376.909920  \n",
            "1          0.013039      1661.578298  \n",
            "2          0.016383      2197.464659  \n",
            "3          0.024406      2593.474715  \n",
            "4          0.016464      2016.591279  \n",
            "5          0.026214      2919.811321  \n",
            "6          0.017083      5640.984848  \n",
            "7          0.018029      1451.570248  \n",
            "8          0.021096      2151.371410  \n",
            "9          0.016958      5565.349144  \n",
            "10         0.018983      1612.056040  \n",
            "11         0.018640      4156.665553  \n",
            "12         0.027999      1469.728410  \n",
            "13         0.012155      3411.944260  \n",
            "14         0.019545      2898.937908  \n",
            "15         0.024346      1591.385911  \n",
            "16         0.016652      1972.510561  \n",
            "17         0.015351      1684.889011  \n",
            "18         0.022070      3173.961144  \n",
            "19         0.022317      4649.534523  \n",
            "20         0.020533      1542.997716  \n",
            "21         0.024524      1751.337133  \n",
            "22         0.017533      3228.140590  \n",
            "23         0.023429      1976.842105  \n",
            "24         0.015445      3000.188947  \n",
            "25         0.016264      2526.200552  \n",
            "26         0.017466      2388.221008  \n",
            "27         0.015766      2442.436774  \n",
            "28         0.021380      1366.875846  \n",
            "29         0.019376      2574.924860  ,     Campaign Name        Date  Spend [USD]  # of Impressions   Reach  \\\n",
            "0   Test Campaign   1.08.2019         3008             39550   35820   \n",
            "1   Test Campaign   2.08.2019         2542            100719   91236   \n",
            "2   Test Campaign   3.08.2019         2365             70263   45198   \n",
            "3   Test Campaign   4.08.2019         2710             78451   25937   \n",
            "4   Test Campaign   5.08.2019         2297            114295   95138   \n",
            "5   Test Campaign   6.08.2019         2458             42684   31489   \n",
            "6   Test Campaign   7.08.2019         2838             53986   42148   \n",
            "7   Test Campaign   8.08.2019         2916             33669   20149   \n",
            "8   Test Campaign   9.08.2019         2652             45511   31598   \n",
            "9   Test Campaign  10.08.2019         2790             95054   79632   \n",
            "10  Test Campaign  11.08.2019         2420             83633   71286   \n",
            "11  Test Campaign  12.08.2019         2831            124591   10598   \n",
            "12  Test Campaign  13.08.2019         1972             65827   49531   \n",
            "13  Test Campaign  14.08.2019         2537             56304   25982   \n",
            "14  Test Campaign  15.08.2019         2516             94338   76219   \n",
            "15  Test Campaign  16.08.2019         3076            106584   81389   \n",
            "16  Test Campaign  17.08.2019         1968             95843   54389   \n",
            "17  Test Campaign  18.08.2019         1979             53632   43241   \n",
            "18  Test Campaign  19.08.2019         2626             22521   10698   \n",
            "19  Test Campaign  20.08.2019         2712             39470   31893   \n",
            "20  Test Campaign  21.08.2019         3112            133771  109834   \n",
            "21  Test Campaign  22.08.2019         2899             34752   27932   \n",
            "22  Test Campaign  23.08.2019         2407             60286   49329   \n",
            "23  Test Campaign  24.08.2019         2078             36650   30489   \n",
            "24  Test Campaign  25.08.2019         2928            120576  105978   \n",
            "25  Test Campaign  26.08.2019         2311             80841   61589   \n",
            "26  Test Campaign  27.08.2019         2915            111469   92159   \n",
            "27  Test Campaign  28.08.2019         2247             54627   41267   \n",
            "28  Test Campaign  29.08.2019         2805             67444   43219   \n",
            "29  Test Campaign  30.08.2019         1977            120203   89380   \n",
            "\n",
            "    # of Website Clicks  # of Searches  # of View Content  # of Add to Cart  \\\n",
            "0                  3038           1946               1069               894   \n",
            "1                  4657           2359               1548               879   \n",
            "2                  7885           2572               2367              1268   \n",
            "3                  4216           2216               1437               566   \n",
            "4                  5863           2106                858               956   \n",
            "5                  7488           1854               1073               882   \n",
            "6                  4221           2733               2182              1301   \n",
            "7                  7184           2867               2194              1240   \n",
            "8                  8259           2899               2761              1200   \n",
            "9                  8125           2312               1804               424   \n",
            "10                 3750           2893               2617              1075   \n",
            "11                 8264           2081               1992              1382   \n",
            "12                 7568           2213               2058              1391   \n",
            "13                 3993           1979               1059               779   \n",
            "14                 4993           2537               1609              1090   \n",
            "15                 6800           2661               2594              1059   \n",
            "16                 7910           1995               1576               383   \n",
            "17                 6909           2824               2522               461   \n",
            "18                 7617           2924               2801               788   \n",
            "19                 6050           2061               1894              1047   \n",
            "20                 5471           1995               1868               278   \n",
            "21                 4431           1983               1131               367   \n",
            "22                 5077           2592               2004               632   \n",
            "23                 7156           2687               2427               327   \n",
            "24                 3596           2937               2551              1228   \n",
            "25                 3820           2037               1046               346   \n",
            "26                 6435           2976               2552               992   \n",
            "27                 8144           2432               1281              1009   \n",
            "28                 7651           1920               1240              1168   \n",
            "29                 4399           2978               1625              1034   \n",
            "\n",
            "    # of Purchase  Website Click Through Rate  Number of Action  \\\n",
            "0             255                    7.681416             46752   \n",
            "1             677                    4.623755            110839   \n",
            "2             578                   11.222123             84933   \n",
            "3             340                    5.374055             87226   \n",
            "4             768                    5.129708            124846   \n",
            "5             488                   17.542873             54469   \n",
            "6             890                    7.818694             65313   \n",
            "7             431                   21.337135             47585   \n",
            "8             845                   18.147261             61475   \n",
            "9             275                    8.547773            107994   \n",
            "10            668                    4.483876             94636   \n",
            "11            709                    6.632903            139019   \n",
            "12            812                   11.496802             79869   \n",
            "13            340                    7.091858             64454   \n",
            "14            398                    5.292671            104965   \n",
            "15            487                    6.379944            120185   \n",
            "16            238                    8.253081            107945   \n",
            "17            257                   12.882234             66605   \n",
            "18            512                   33.821766             37163   \n",
            "19            730                   15.328097             51252   \n",
            "20            245                    4.089825            143628   \n",
            "21            276                   12.750345             42940   \n",
            "22            473                    8.421524             71064   \n",
            "23            269                   19.525239             49516   \n",
            "24            651                    2.982351            131539   \n",
            "25            284                    4.725325             88374   \n",
            "26            771                    5.772905            125195   \n",
            "27            721                   14.908379             68214   \n",
            "28            677                   11.344226             80100   \n",
            "29            572                    3.659642            130811   \n",
            "\n",
            "    Cost per Action  Conversion Rate  \n",
            "0          0.064339      1538.907176  \n",
            "1          0.022934      2380.051535  \n",
            "2          0.027845      1077.146481  \n",
            "3          0.031069      2068.927894  \n",
            "4          0.018399      2129.387685  \n",
            "5          0.045127       727.417201  \n",
            "6          0.043452      1547.334755  \n",
            "7          0.061280       662.374722  \n",
            "8          0.043139       744.339508  \n",
            "9          0.025835      1329.156923  \n",
            "10         0.025572      2523.626667  \n",
            "11         0.020364      1682.224105  \n",
            "12         0.024690      1055.351480  \n",
            "13         0.039361      1614.174806  \n",
            "14         0.023970      2102.243140  \n",
            "15         0.025594      1767.426471  \n",
            "16         0.018232      1364.664981  \n",
            "17         0.029712       964.032421  \n",
            "18         0.070662       487.895497  \n",
            "19         0.052915       847.140496  \n",
            "20         0.021667      2625.260464  \n",
            "21         0.067513       969.081471  \n",
            "22         0.033871      1399.724247  \n",
            "23         0.041966       691.950811  \n",
            "24         0.022260      3657.925473  \n",
            "25         0.026150      2313.455497  \n",
            "26         0.023284      1945.532246  \n",
            "27         0.032940       837.598232  \n",
            "28         0.035019      1046.921971  \n",
            "29         0.015113      2973.653103  )\n",
            "(    # of Purchase  Website Click Through Rate  Cost per Action  \\\n",
            "0             618                    8.483471         0.023602   \n",
            "1             511                    6.700264         0.013039   \n",
            "2             372                    4.941121         0.016383   \n",
            "3             340                    4.205659         0.024406   \n",
            "4             514                    5.508217         0.016464   \n",
            "5             764                    3.692838         0.026214   \n",
            "6             499                    1.857546         0.017083   \n",
            "7             462                    7.983373         0.018029   \n",
            "8             501                    5.108298         0.021096   \n",
            "9             734                    1.935829         0.016958   \n",
            "10            475                    7.060487         0.018983   \n",
            "11            794                    2.566037         0.018640   \n",
            "12            766                    7.910968         0.027999   \n",
            "13            788                    3.112607         0.012155   \n",
            "14            366                    3.685498         0.019545   \n",
            "15            438                    7.329461         0.024346   \n",
            "16            222                    5.541250         0.016652   \n",
            "17            243                    6.687751         0.015351   \n",
            "18            542                    3.434980         0.022070   \n",
            "19            299                    2.272767         0.022317   \n",
            "20            800                    7.623168         0.020533   \n",
            "21            387                    6.473677         0.024524   \n",
            "22            766                    3.395442         0.017533   \n",
            "23            585                    5.633317         0.023429   \n",
            "24            386                    3.618618         0.015445   \n",
            "25            251                    4.351586         0.016264   \n",
            "26            605                    4.720190         0.017466   \n",
            "27            643                    4.438279         0.015766   \n",
            "28            334                    8.830912         0.021380   \n",
            "29            670                    4.184860         0.019376   \n",
            "0             255                    7.681416         0.064339   \n",
            "1             677                    4.623755         0.022934   \n",
            "2             578                   11.222123         0.027845   \n",
            "3             340                    5.374055         0.031069   \n",
            "4             768                    5.129708         0.018399   \n",
            "5             488                   17.542873         0.045127   \n",
            "6             890                    7.818694         0.043452   \n",
            "7             431                   21.337135         0.061280   \n",
            "8             845                   18.147261         0.043139   \n",
            "9             275                    8.547773         0.025835   \n",
            "10            668                    4.483876         0.025572   \n",
            "11            709                    6.632903         0.020364   \n",
            "12            812                   11.496802         0.024690   \n",
            "13            340                    7.091858         0.039361   \n",
            "14            398                    5.292671         0.023970   \n",
            "15            487                    6.379944         0.025594   \n",
            "16            238                    8.253081         0.018232   \n",
            "17            257                   12.882234         0.029712   \n",
            "18            512                   33.821766         0.070662   \n",
            "19            730                   15.328097         0.052915   \n",
            "20            245                    4.089825         0.021667   \n",
            "21            276                   12.750345         0.067513   \n",
            "22            473                    8.421524         0.033871   \n",
            "23            269                   19.525239         0.041966   \n",
            "24            651                    2.982351         0.022260   \n",
            "25            284                    4.725325         0.026150   \n",
            "26            771                    5.772905         0.023284   \n",
            "27            721                   14.908379         0.032940   \n",
            "28            677                   11.344226         0.035019   \n",
            "29            572                    3.659642         0.015113   \n",
            "\n",
            "    Conversion Rate               Group  \n",
            "0       1376.909920  A (MaximumBidding)  \n",
            "1       1661.578298  A (MaximumBidding)  \n",
            "2       2197.464659  A (MaximumBidding)  \n",
            "3       2593.474715  A (MaximumBidding)  \n",
            "4       2016.591279  A (MaximumBidding)  \n",
            "5       2919.811321  A (MaximumBidding)  \n",
            "6       5640.984848  A (MaximumBidding)  \n",
            "7       1451.570248  A (MaximumBidding)  \n",
            "8       2151.371410  A (MaximumBidding)  \n",
            "9       5565.349144  A (MaximumBidding)  \n",
            "10      1612.056040  A (MaximumBidding)  \n",
            "11      4156.665553  A (MaximumBidding)  \n",
            "12      1469.728410  A (MaximumBidding)  \n",
            "13      3411.944260  A (MaximumBidding)  \n",
            "14      2898.937908  A (MaximumBidding)  \n",
            "15      1591.385911  A (MaximumBidding)  \n",
            "16      1972.510561  A (MaximumBidding)  \n",
            "17      1684.889011  A (MaximumBidding)  \n",
            "18      3173.961144  A (MaximumBidding)  \n",
            "19      4649.534523  A (MaximumBidding)  \n",
            "20      1542.997716  A (MaximumBidding)  \n",
            "21      1751.337133  A (MaximumBidding)  \n",
            "22      3228.140590  A (MaximumBidding)  \n",
            "23      1976.842105  A (MaximumBidding)  \n",
            "24      3000.188947  A (MaximumBidding)  \n",
            "25      2526.200552  A (MaximumBidding)  \n",
            "26      2388.221008  A (MaximumBidding)  \n",
            "27      2442.436774  A (MaximumBidding)  \n",
            "28      1366.875846  A (MaximumBidding)  \n",
            "29      2574.924860  A (MaximumBidding)  \n",
            "0       1538.907176  B (AverageBidding)  \n",
            "1       2380.051535  B (AverageBidding)  \n",
            "2       1077.146481  B (AverageBidding)  \n",
            "3       2068.927894  B (AverageBidding)  \n",
            "4       2129.387685  B (AverageBidding)  \n",
            "5        727.417201  B (AverageBidding)  \n",
            "6       1547.334755  B (AverageBidding)  \n",
            "7        662.374722  B (AverageBidding)  \n",
            "8        744.339508  B (AverageBidding)  \n",
            "9       1329.156923  B (AverageBidding)  \n",
            "10      2523.626667  B (AverageBidding)  \n",
            "11      1682.224105  B (AverageBidding)  \n",
            "12      1055.351480  B (AverageBidding)  \n",
            "13      1614.174806  B (AverageBidding)  \n",
            "14      2102.243140  B (AverageBidding)  \n",
            "15      1767.426471  B (AverageBidding)  \n",
            "16      1364.664981  B (AverageBidding)  \n",
            "17       964.032421  B (AverageBidding)  \n",
            "18       487.895497  B (AverageBidding)  \n",
            "19       847.140496  B (AverageBidding)  \n",
            "20      2625.260464  B (AverageBidding)  \n",
            "21       969.081471  B (AverageBidding)  \n",
            "22      1399.724247  B (AverageBidding)  \n",
            "23       691.950811  B (AverageBidding)  \n",
            "24      3657.925473  B (AverageBidding)  \n",
            "25      2313.455497  B (AverageBidding)  \n",
            "26      1945.532246  B (AverageBidding)  \n",
            "27       837.598232  B (AverageBidding)  \n",
            "28      1046.921971  B (AverageBidding)  \n",
            "29      2973.653103  B (AverageBidding)  ,     # of Purchase\n",
            "0             618\n",
            "1             511\n",
            "2             372\n",
            "3             340\n",
            "4             514\n",
            "5             764\n",
            "6             499\n",
            "7             462\n",
            "8             501\n",
            "9             734\n",
            "10            475\n",
            "11            794\n",
            "12            766\n",
            "13            788\n",
            "14            366\n",
            "15            438\n",
            "16            222\n",
            "17            243\n",
            "18            542\n",
            "19            299\n",
            "20            800\n",
            "21            387\n",
            "22            766\n",
            "23            585\n",
            "24            386\n",
            "25            251\n",
            "26            605\n",
            "27            643\n",
            "28            334\n",
            "29            670,     # of Purchase\n",
            "0             255\n",
            "1             677\n",
            "2             578\n",
            "3             340\n",
            "4             768\n",
            "5             488\n",
            "6             890\n",
            "7             431\n",
            "8             845\n",
            "9             275\n",
            "10            668\n",
            "11            709\n",
            "12            812\n",
            "13            340\n",
            "14            398\n",
            "15            487\n",
            "16            238\n",
            "17            257\n",
            "18            512\n",
            "19            730\n",
            "20            245\n",
            "21            276\n",
            "22            473\n",
            "23            269\n",
            "24            651\n",
            "25            284\n",
            "26            771\n",
            "27            721\n",
            "28            677\n",
            "29            572)\n"
          ]
        }
      ],
      "source": [
        "#TODO : Apply the feature engineering on control and test, what does the function do exactly ?\n",
        "\n",
        "#TODO : Prepare and generate features for visualization with the help of a function\n",
        "\n",
        "print(feature_engineering(control, test))\n",
        "\n",
        "\n",
        "print(data_prepare_for_visualization(control,test))\n",
        "\n",
        "AB, control_nop, test_nop = data_prepare_for_visualization(control,test)"
      ]
    },
    {
      "cell_type": "markdown",
      "metadata": {
        "id": "zWhSa2gMDK0D"
      },
      "source": [
        "Let's look at the numbers A and B."
      ]
    },
    {
      "cell_type": "code",
      "execution_count": 58,
      "metadata": {
        "id": "kqButFScDK0D",
        "trusted": true
      },
      "outputs": [
        {
          "data": {
            "text/plain": [
              "Group\n",
              "A (MaximumBidding)    30\n",
              "B (AverageBidding)    30\n",
              "Name: count, dtype: int64"
            ]
          },
          "execution_count": 58,
          "metadata": {},
          "output_type": "execute_result"
        }
      ],
      "source": [
        "AB[\"Group\"].value_counts()"
      ]
    },
    {
      "cell_type": "markdown",
      "metadata": {
        "id": "LcQoKNZfDK0D"
      },
      "source": [
        "### 4.1. Website Click Through Rate (CTR)\n",
        "Review :\n",
        "- It is a rate that shows how often the users who saw the ad CLICK the ad.\n",
        "- Number of Ad Clicks / Number of Ad Displays\n",
        "- Example: 5 clicks, CTR at 100 impressions = 5%\n",
        "\n",
        "- ##### Use visualizations to compare test and control group metrics, such as Website Click Through Rate, Cost per Action, and Conversion Rates in addition to Purchase numbers."
      ]
    },
    {
      "cell_type": "code",
      "execution_count": 59,
      "metadata": {
        "id": "sWYF0FWdDK0D",
        "trusted": true
      },
      "outputs": [
        {
          "data": {
            "image/png": "[encoded data removed]",
            "text/plain": [
              "<Figure size 1800x900 with 4 Axes>"
            ]
          },
          "metadata": {},
          "output_type": "display_data"
        }
      ],
      "source": [
        "cols = [\"Website Click Through Rate\",\"Cost per Action\",\"Conversion Rate\",\"# of Purchase\"]\n",
        "show_boxplot(2,2,[0,1],cols,(18,9))"
      ]
    },
    {
      "cell_type": "code",
      "execution_count": 60,
      "metadata": {
        "id": "J2o5A1f1DK0D",
        "trusted": true
      },
      "outputs": [
        {
          "data": {
            "text/html": [
              "<div>\n",
              "<style scoped>\n",
              "    .dataframe tbody tr th:only-of-type {\n",
              "        vertical-align: middle;\n",
              "    }\n",
              "\n",
              "    .dataframe tbody tr th {\n",
              "        vertical-align: top;\n",
              "    }\n",
              "\n",
              "    .dataframe thead th {\n",
              "        text-align: right;\n",
              "    }\n",
              "</style>\n",
              "<table border=\"1\" class=\"dataframe\">\n",
              "  <thead>\n",
              "    <tr style=\"text-align: right;\">\n",
              "      <th></th>\n",
              "      <th># of Purchase</th>\n",
              "      <th>Website Click Through Rate</th>\n",
              "      <th>Cost per Action</th>\n",
              "      <th>Conversion Rate</th>\n",
              "      <th>Group</th>\n",
              "    </tr>\n",
              "  </thead>\n",
              "  <tbody>\n",
              "    <tr>\n",
              "      <th>0</th>\n",
              "      <td>618</td>\n",
              "      <td>8.483471</td>\n",
              "      <td>0.023602</td>\n",
              "      <td>1376.909920</td>\n",
              "      <td>A (MaximumBidding)</td>\n",
              "    </tr>\n",
              "    <tr>\n",
              "      <th>1</th>\n",
              "      <td>511</td>\n",
              "      <td>6.700264</td>\n",
              "      <td>0.013039</td>\n",
              "      <td>1661.578298</td>\n",
              "      <td>A (MaximumBidding)</td>\n",
              "    </tr>\n",
              "    <tr>\n",
              "      <th>2</th>\n",
              "      <td>372</td>\n",
              "      <td>4.941121</td>\n",
              "      <td>0.016383</td>\n",
              "      <td>2197.464659</td>\n",
              "      <td>A (MaximumBidding)</td>\n",
              "    </tr>\n",
              "  </tbody>\n",
              "</table>\n",
              "</div>"
            ],
            "text/plain": [
              "   # of Purchase  Website Click Through Rate  Cost per Action  \\\n",
              "0            618                    8.483471         0.023602   \n",
              "1            511                    6.700264         0.013039   \n",
              "2            372                    4.941121         0.016383   \n",
              "\n",
              "   Conversion Rate               Group  \n",
              "0      1376.909920  A (MaximumBidding)  \n",
              "1      1661.578298  A (MaximumBidding)  \n",
              "2      2197.464659  A (MaximumBidding)  "
            ]
          },
          "execution_count": 60,
          "metadata": {},
          "output_type": "execute_result"
        }
      ],
      "source": [
        "#TODO : create your dataframe for AB test and print the first 3 rows of it.\n",
        "\n",
        "\n",
        "AB.head(3)\n",
        "\n"
      ]
    },
    {
      "cell_type": "markdown",
      "metadata": {
        "id": "yoYPauAlDK0E"
      },
      "source": [
        "## 5. Two Independent Sample T-Test\n",
        "### 5.1. Assumption Check\n",
        "#### 5.1.1. Normality Assumption (shapiro test)\n",
        "\n",
        " * **H0**: Normal distribution assumption is provided.\n",
        " * **H1**: ... not provided."
      ]
    },
    {
      "cell_type": "code",
      "execution_count": 61,
      "metadata": {
        "id": "4xMzj7PtDK0E",
        "trusted": true
      },
      "outputs": [
        {
          "name": "stdout",
          "output_type": "stream",
          "text": [
            "0.10821626663232112 > alpha(0.05) so >>> H0 CAN'T BE REJECTED\n",
            "0.32907455487330894 > alpha(0.05) so >>> H0 CAN'T BE REJECTED\n",
            "0.5539041432256376 > alpha(0.05) so >>> H0 CAN'T BE REJECTED\n",
            "0.0006150598807929507 < alpha(0.05) so >>> H0 REJECTED\n",
            "{'# of Purchase': {'Shapiro-Wilk Statistic': np.float64(0.9427996417799834), 'p-value': np.float64(0.108)}, 'Website Click Through Rate': {'Shapiro-Wilk Statistic': np.float64(0.9610314602178175), 'p-value': np.float64(0.329)}, 'Cost per Action': {'Shapiro-Wilk Statistic': np.float64(0.9705345565353987), 'p-value': np.float64(0.554)}, 'Conversion Rate': {'Shapiro-Wilk Statistic': np.float64(0.8498329788497665), 'p-value': np.float64(0.001)}}\n"
          ]
        }
      ],
      "source": [
        "#TODO : Aply the normality assumption of the dataframe for A\n",
        "\n",
        "\n",
        "# Filter data for group \"A\" (MaximumBidding)\n",
        "group_A = AB[AB[\"Group\"] == \"A (MaximumBidding)\"]\n",
        "\n",
        "# List of numeric columns to test for normality\n",
        "numeric_columns = [\"# of Purchase\", \"Website Click Through Rate\", \"Cost per Action\", \"Conversion Rate\"]\n",
        "\n",
        "# Dictionary for storing normality test results\n",
        "\n",
        "normality_results = {}\n",
        "\n",
        "# Apply the Shapiro-Wilk normality test to each numeric column\n",
        "for col in numeric_columns:\n",
        "    stat, p_value = shapiro(group_A[col])\n",
        "    normality_results[col] = {\"Shapiro-Wilk Statistic\": stat, \"p-value\":round(p_value,3)}\n",
        "    checkReject(p_value)\n",
        "# Displaying results\n",
        "print(normality_results)\n",
        "\n"
      ]
    },
    {
      "cell_type": "code",
      "execution_count": 62,
      "metadata": {
        "id": "xGiKQEHrDK0E",
        "trusted": true
      },
      "outputs": [
        {
          "name": "stdout",
          "output_type": "stream",
          "text": [
            "0.10821626663232112 > alpha(0.05) so >>> H0 CAN'T BE REJECTED\n",
            "0.32907455487330894 > alpha(0.05) so >>> H0 CAN'T BE REJECTED\n",
            "0.5539041432256376 > alpha(0.05) so >>> H0 CAN'T BE REJECTED\n",
            "0.0006150598807929507 < alpha(0.05) so >>> H0 REJECTED\n",
            "{'# of Purchase': {'Shapiro-Wilk Statistic': np.float64(0.9427996417799834), 'p-value': np.float64(0.108)}, 'Website Click Through Rate': {'Shapiro-Wilk Statistic': np.float64(0.9610314602178175), 'p-value': np.float64(0.329)}, 'Cost per Action': {'Shapiro-Wilk Statistic': np.float64(0.9705345565353987), 'p-value': np.float64(0.554)}, 'Conversion Rate': {'Shapiro-Wilk Statistic': np.float64(0.8498329788497665), 'p-value': np.float64(0.001)}}\n"
          ]
        }
      ],
      "source": [
        "#TODO : compute p_value for normality on group A from the df_AB dataframe and round it to three decimal places.\n",
        "#TODO : pass it to a function checkReject to determine if the null hypothesis of normality should be rejected.\n",
        "# Filter data for group \"A\" (MaximumBidding)\n",
        "group_A = AB[AB[\"Group\"] == \"A (MaximumBidding)\"]\n",
        "\n",
        "# List of numeric columns to test for normality\n",
        "numeric_columns = [\"# of Purchase\", \"Website Click Through Rate\", \"Cost per Action\", \"Conversion Rate\"]\n",
        "\n",
        "# Dictionary for storing normality test results\n",
        "\n",
        "normality_results = {}\n",
        "\n",
        "# Apply the Shapiro-Wilk normality test to each numeric column\n",
        "for col in numeric_columns:\n",
        "    stat, p_value = shapiro(group_A[col])\n",
        "    normality_results[col] = {\"Shapiro-Wilk Statistic\": stat, \"p-value\":round(p_value,3)}\n",
        "    checkReject(p_value)\n",
        "# Displaying results\n",
        "print(normality_results)\n",
        "\n"
      ]
    },
    {
      "cell_type": "markdown",
      "metadata": {},
      "source": [
        "For most of the numerical variables in Group B, the null hypothesis of normality is rejected because the p-value is less than 0.05. However, the last variable, 'Conversion Rate,' does not lead to the rejection of the null hypothesis. As a result, the majority of numerical variables in Group B are not normally distributed"
      ]
    },
    {
      "cell_type": "markdown",
      "metadata": {
        "id": "87fl16JsiHQE"
      },
      "source": [
        "Does the HO hypothesis get rejected ? why ?"
      ]
    },
    {
      "cell_type": "code",
      "execution_count": 63,
      "metadata": {
        "id": "JTIwYUqvDK0E",
        "trusted": true
      },
      "outputs": [
        {
          "name": "stdout",
          "output_type": "stream",
          "text": [
            "0.024077671296647205 < alpha(0.05) so >>> H0 REJECTED\n",
            "0.00040253128934615795 < alpha(0.05) so >>> H0 REJECTED\n",
            "0.0021231323087315015 < alpha(0.05) so >>> H0 REJECTED\n",
            "0.10114981949466778 > alpha(0.05) so >>> H0 CAN'T BE REJECTED\n",
            "{'# of Purchase': {'Shapiro-Wilk Statistic': np.float64(0.9181893816994648), 'p-value': np.float64(0.024)}, 'Website Click Through Rate': {'Shapiro-Wilk Statistic': np.float64(0.8409182166025057), 'p-value': np.float64(0.0)}, 'Cost per Action': {'Shapiro-Wilk Statistic': np.float64(0.8745912549918493), 'p-value': np.float64(0.002)}, 'Conversion Rate': {'Shapiro-Wilk Statistic': np.float64(0.9417117328567002), 'p-value': np.float64(0.101)}}\n"
          ]
        }
      ],
      "source": [
        "#TODO : Aply the normality assumption of the dataframe for B\n",
        "# Filter data for group \"B\" (AverageBidding)\n",
        "group_B = AB[AB[\"Group\"] == \"B (AverageBidding)\"]\n",
        "\n",
        "# List of numeric columns to test for normality\n",
        "numeric_columns = [\"# of Purchase\", \"Website Click Through Rate\", \"Cost per Action\", \"Conversion Rate\"]\n",
        "\n",
        "# Dictionary for storing normality test results\n",
        "normality_results = {}\n",
        "\n",
        "# Apply the Shapiro-Wilk normality test to each numeric column\n",
        "for col in numeric_columns:\n",
        "    stat, p_value = shapiro(group_B[col])\n",
        "    normality_results[col] = {\"Shapiro-Wilk Statistic\": stat, \"p-value\":round(p_value,3)}\n",
        "    checkReject(p_value)\n",
        "# Displaying results\n",
        "print(normality_results)"
      ]
    },
    {
      "cell_type": "code",
      "execution_count": 64,
      "metadata": {
        "id": "ZA0hl-TSDK0F",
        "trusted": true
      },
      "outputs": [
        {
          "name": "stdout",
          "output_type": "stream",
          "text": [
            "Columns in AB dataframe: Index(['# of Purchase', 'Website Click Through Rate', 'Cost per Action',\n",
            "       'Conversion Rate', 'Group'],\n",
            "      dtype='object')\n",
            "KeyError: 'Value'. Please check the column names in the AB dataframe.\n"
          ]
        }
      ],
      "source": [
        "#TODO : compute p_value for normality on group B from the df_AB dataframe and round it to three decimal places.\n",
        "#TODO : pass it to a function checkReject to determine if the null hypothesis of normality should be rejected.\n",
        "\n",
        "\n",
        "from scipy.stats import shapiro\n",
        "\n",
        "# Function to check if the null hypothesis should be rejected\n",
        "def checkReject(p_value, alpha=0.05):\n",
        "    \"\"\"\n",
        "    Determines if the null hypothesis of normality should be rejected.\n",
        "    \n",
        "    Parameters:\n",
        "    - p_value: The p-value from the normality test.\n",
        "    - alpha: The significance level (default is 0.05).\n",
        "    \n",
        "    Returns:\n",
        "    - str: \"Reject Null Hypothesis\" or \"Fail to Reject Null Hypothesis\".\n",
        "    \"\"\"\n",
        "    if p_value < alpha:\n",
        "        return \"Reject Null Hypothesis\"\n",
        "    else:\n",
        "        return \"Fail to Reject Null Hypothesis\"\n",
        "\n",
        "# Debugging: Print column names to verify structure\n",
        "print(\"Columns in AB dataframe:\", AB.columns)\n",
        "\n",
        "# TODO: Compute p-value for normality on group B\n",
        "try:\n",
        "    group_B = AB[AB['Group'] == 'B']['Value']  # Replace 'Value' with the correct column name if needed\n",
        "    stat, p_value = shapiro(group_B)  # Perform Shapiro-Wilk test for normality\n",
        "    p_value_rounded = round(p_value, 3)  # Round p-value to three decimal places\n",
        "\n",
        "    # Pass the p-value to the checkReject function\n",
        "    result = checkReject(p_value_rounded)\n",
        "\n",
        "    # Display the results\n",
        "    print(f\"Shapiro-Wilk Test Statistic: {stat}\")\n",
        "    print(f\"P-Value (rounded): {p_value_rounded}\")\n",
        "    print(f\"Result: {result}\")\n",
        "except KeyError as e:\n",
        "    print(f\"KeyError: {e}. Please check the column names in the AB dataframe.\")"
      ]
    },
    {
      "cell_type": "markdown",
      "metadata": {
        "id": "vsUYfCduDK0F"
      },
      "source": [
        "Does the HO hypothesis get rejected ? why ?"
      ]
    },
    {
      "cell_type": "markdown",
      "metadata": {
        "id": "oCfcl_20DK0F"
      },
      "source": [
        "### 5.1.2. Variance Homogeneity Assumption\n",
        " * **H0** : Variances are homogeneous.\n",
        " * **H1** : Variances are not homogeneous.\n",
        "\n",
        "We want to assess if A and B have equal variances, which is a common assumption for various statistical tests :"
      ]
    },
    {
      "cell_type": "code",
      "execution_count": 65,
      "metadata": {
        "id": "s6bpC7E_DK0F",
        "trusted": true
      },
      "outputs": [
        {
          "name": "stdout",
          "output_type": "stream",
          "text": [
            "\n",
            "Results of Levene's test (equality of variances) :\n",
            "                            Levene Statistic p-value  \\\n",
            "# of Purchase                      1.689928   0.199   \n",
            "Website Click Through Rate        10.267404   0.002   \n",
            "Cost per Action                   15.628275     0.0   \n",
            "Conversion Rate                    1.655583   0.203   \n",
            "\n",
            "                           H0 Rejected (Variances Différentes)  \n",
            "# of Purchase                                            False  \n",
            "Website Click Through Rate                                True  \n",
            "Cost per Action                                           True  \n",
            "Conversion Rate                                          False  \n"
          ]
        }
      ],
      "source": [
        "#TODO : Performs the Levene test for equality of variances on two groups, A and B, from the df_AB dataframe\n",
        "levene_results = {}\n",
        "# Retrieve groups A and B\n",
        "group_A = AB[AB[\"Group\"] == \"A (MaximumBidding)\"]\n",
        "group_B = AB[AB[\"Group\"] == \"B (AverageBidding)\"]\n",
        "\n",
        "\n",
        "for col in AB.columns:\n",
        "    if col == \"Group\":  # Ignore the 'Group' column\n",
        "        continue\n",
        "\n",
        "# Levene's test for equality of variances\n",
        "    stat_levene, p_value_levene = stats.levene(group_A[col], group_B[col])\n",
        "    levene_results[col] = {\n",
        "        \"Levene Statistic\": stat_levene,\n",
        "        \"p-value\": round(p_value_levene, 3),\n",
        "        \"H0 Rejected (Variances Différentes)\": p_value_levene < 0.05\n",
        "    }\n",
        "    checkReject(p_value_levene)\n",
        "df_levene = pd.DataFrame(levene_results).T\n",
        "\n",
        "# Displaying results\n",
        "\n",
        "print(\"\\nResults of Levene's test (equality of variances) :\\n\", df_levene)"
      ]
    },
    {
      "cell_type": "code",
      "execution_count": 66,
      "metadata": {
        "id": "Ev9jAkruDK0F",
        "trusted": true
      },
      "outputs": [],
      "source": [
        "#TODO : compute the p_value of the df_AB dataframe and round it to three decimal places.\n",
        "#TODO : pass it to a function checkReject to determine if the null hypothesis of normality should be rejected."
      ]
    },
    {
      "cell_type": "markdown",
      "metadata": {},
      "source": [
        "The variances of the two groups are homogeneous for two variables: 'Cost per Action' and 'Website Click Through Rate.' However, for the other numerical variables, the variances between the two groups are not homogeneous.\n",
        "\n"
      ]
    },
    {
      "cell_type": "markdown",
      "metadata": {
        "id": "jvKow9iTDK0F"
      },
      "source": [
        "\n",
        "Conclude about the variances, are they homogeneous ?"
      ]
    },
    {
      "cell_type": "markdown",
      "metadata": {
        "id": "fs4VQn0sDK0G"
      },
      "source": [
        "### 5.1.3. Nonparametric Independent Two-Sample T-Test\n",
        "\n",
        "- Since the normality of the distribution of the data set in which Average Bidding (Test Group) was measured was rejected, the NonParametric Independent Two-Sample T Test was applied for the Hypothesis Test.\n",
        "\n",
        "**Hypothesis:**\n",
        "\n",
        " * **H0** : When it comes to Maximum Bidding and Average Bidding, there is no statistically significant difference between the purchasing amounts of the two groups. ($\\mu_1 = \\mu_2$)\n",
        "\n",
        " * **H1** : ... there is a difference ($\\mu_1 \\neq \\mu_2$)"
      ]
    },
    {
      "cell_type": "code",
      "execution_count": null,
      "metadata": {
        "id": "b0SwcIuwDK0G",
        "trusted": true
      },
      "outputs": [],
      "source": [
        "# Average Biddingin (Test Group)\n",
        "stats.mannwhitneyu(df_AB[\"A\"], df_AB[\"B\"])"
      ]
    },
    {
      "cell_type": "code",
      "execution_count": null,
      "metadata": {
        "id": "t_QXVREQDK0G",
        "trusted": true
      },
      "outputs": [
        {
          "name": "stdout",
          "output_type": "stream",
          "text": [
            "Mann-Whitney U test on 'Purchasing' p-value: 0.947\n"
          ]
        },
        {
          "data": {
            "text/plain": [
              "'Fail to Reject Null Hypothesis'"
            ]
          },
          "execution_count": 42,
          "metadata": {},
          "output_type": "execute_result"
        }
      ],
      "source": [
        "#TODO : compute the p_value of the df_AB dataframe and round it to three decimal places.\n",
        "#TODO : pass it to a function checkReject to determine if the null hypothesis of normality should be rejected.\n",
        "# Filter groups A and B for the variable \"# of Purchase\"\n",
        "group_A = AB[AB[\"Group\"] == \"A (MaximumBidding)\"][\"# of Purchase\"]\n",
        "group_B = AB[AB[\"Group\"] == \"B (AverageBidding)\"][\"# of Purchase\"]\n",
        "\n",
        "# Perform the Mann-Whitney U test on the \"# of Purchase\" variable\n",
        "stat, p_value = stats.mannwhitneyu(group_A, group_B, alternative='two-sided')\n",
        "\n",
        "# Round the p-value to three decimal places\n",
        "rounded_p_value = round(p_value, 3)\n",
        "\n",
        "# Displaying results\n",
        "print(f\"Mann-Whitney U test on 'Purchasing' p-value: {rounded_p_value}\")\n",
        "\n",
        "# Check if H0 should be rejected\n",
        "checkReject(rounded_p_value)"
      ]
    },
    {
      "cell_type": "markdown",
      "metadata": {
        "id": "FlZXI66ODK0G"
      },
      "source": [
        "Should the H0 hypothesis be rejected ? Why ? What can you conclude ?"
      ]
    },
    {
      "cell_type": "markdown",
      "metadata": {},
      "source": [
        "the p-value is greater than or equal to 0.05:\n",
        "\n",
        "The null hypothesis (H₀) cannot be rejected.\n",
        "This means there is no statistically significant difference between the two groups."
      ]
    },
    {
      "cell_type": "markdown",
      "metadata": {
        "id": "G5x0g1X1DK0G"
      },
      "source": [
        "## 6. Conclusion and Evaluation\n",
        "\n",
        "\n",
        "##### You should answer the following questions :\n",
        "\n",
        "\n",
        "**1. How would you define the hypothesis of this A/B test ?**\n",
        "H₀ (Null Hypothesis): There is no statistically significant difference in performance between the control group and the test group.\n",
        "H₁ (Alternative Hypothesis): There is a statistically significant difference in performance between the control group and the test group.\n",
        "\n",
        "   \n",
        "**2. Can we conclude statistically significant results?**\n",
        "If the p-value is less than 0.05, the null hypothesis (H₀) is rejected, indicating that the difference is statistically significant.\n",
        "If the p-value is greater than 0.05, the null hypothesis (H₀) cannot be rejected, meaning there is insufficient evidence to conclude a significant difference.\n",
        "  \n",
        "\n",
        "\n",
        "**3. Which statistical test did you use, and why?**\n",
        "   If the data follow a normal distribution, the Student's t-test (a parametric test) should be used.\n",
        "If the data do not follow a normal distribution, the Mann-Whitney U test (a non-parametric test) is more appropriate.\n",
        "\n",
        "The Shapiro-Wilk test can be applied to assess the normality of the data before selecting the appropriate statistical test.\n",
        "\n",
        "Generate\n",
        "    \n",
        "**4. Based on your answer to Question 2, what would be your recommendation to client?**\n",
        "Since there is no evidence of a significant difference in purchasing behavior between the two groups, it is recommended to maintain the current strategy (control group) rather than implementing the changes tested in the experiment. The new strategy does not appear to provide any measurable improvement in purchasing behavior.\n",
        "   "
      ]
    }
  ],
  "metadata": {
    "colab": {
      "provenance": []
    },
    "kaggle": {
      "accelerator": "none",
      "dataSources": [
        {
          "datasetId": 971923,
          "sourceId": 1643659,
          "sourceType": "datasetVersion"
        }
      ],
      "dockerImageVersionId": 30028,
      "isGpuEnabled": false,
      "isInternetEnabled": false,
      "language": "python",
      "sourceType": "notebook"
    },
    "kernelspec": {
      "display_name": ".venv",
      "language": "python",
      "name": "python3"
    },
    "language_info": {
      "codemirror_mode": {
        "name": "ipython",
        "version": 3
      },
      "file_extension": ".py",
      "mimetype": "text/x-python",
      "name": "python",
      "nbconvert_exporter": "python",
      "pygments_lexer": "ipython3",
      "version": "3.12.2"
    }
  },
  "nbformat": 4,
  "nbformat_minor": 0
}
