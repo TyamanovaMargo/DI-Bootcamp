{
 "cells": [
  {
   "cell_type": "markdown",
   "metadata": {},
   "source": [
    "# Calculate the Required Sample Size"
   ]
  },
  {
   "cell_type": "code",
   "execution_count": null,
   "metadata": {},
   "outputs": [],
   "source": [
    "'''\n",
    "Imagine the current checkout process has a conversion rate of 5%, and the bakery’s team is confident the new process will boost this to 7%.\n",
    "Use Python to calculate the required sample size per group (current vs. new checkout process) with an effect size of 0.2, a significance level of 0.05, and a desired power of 0.8.\n",
    "'''\n"
   ]
  },
  {
   "cell_type": "code",
   "execution_count": null,
   "metadata": {},
   "outputs": [
    {
     "name": "stdout",
     "output_type": "stream",
     "text": [
      "Calculated effect size: -0.08\n",
      "Required sample size per group: 2198\n"
     ]
    }
   ],
   "source": [
    "import statsmodels.api as sm\n",
    "from statsmodels.stats.power import NormalIndPower\n",
    "from statsmodels.stats.proportion import proportion_effectsize\n",
    "\n",
    "\n",
    "# A/B test Parameters\n",
    "alpha = 0.05  # Significance level\n",
    "power = 0.8  # Desired power\n",
    "p1 = 0.05  # Current conversion rate (5%)\n",
    "p2 = 0.07  # Expected conversion rate with the new method (7%)\n",
    "\n",
    "# Calculating the effect size\n",
    "effects_size = proportion_effectsize(p1, p2)\n",
    "print(f\"Calculated effect size: {effects_size:.2f}\")\n",
    "\n",
    "#  power analysis object\n",
    "power_analysis = NormalIndPower()\n",
    "\n",
    "sample_size_per_group = power_analysis.solve_power(effect_size=effects_size, alpha=alpha, power=power, alternative='two-sided')\n",
    "\n",
    "print(f\"Required sample size per group: {round(sample_size_per_group)}\")"
   ]
  },
  {
   "cell_type": "code",
   "execution_count": 2,
   "metadata": {},
   "outputs": [
    {
     "name": "stdout",
     "output_type": "stream",
     "text": [
      "Required sample size per group: 392\n"
     ]
    }
   ],
   "source": [
    "# Parameters\n",
    "effect_size = 0.2  # Expected effect size (Cohen's d)\n",
    "\n",
    "power_analysis = NormalIndPower()\n",
    "\n",
    "sample_size_per_group = power_analysis.solve_power(effect_size=effect_size, alpha=alpha, power=power, alternative='two-sided')\n",
    "\n",
    "print(f\"Required sample size per group: {round(sample_size_per_group)}\")"
   ]
  },
  {
   "cell_type": "code",
   "execution_count": 3,
   "metadata": {},
   "outputs": [
    {
     "name": "stdout",
     "output_type": "stream",
     "text": [
      "Effect Size: 0.1, Sample Size per Group: 1570\n",
      "Effect Size: 0.2, Sample Size per Group: 392\n",
      "Effect Size: 0.3, Sample Size per Group: 174\n",
      "Effect Size: 0.4, Sample Size per Group: 98\n"
     ]
    }
   ],
   "source": [
    "\n",
    "effect_sizes = [0.1, 0.2, 0.3, 0.4]  # Different effect sizes to evaluate\n",
    "\n",
    "# Calculate sample sizes for different effect sizes\n",
    "sample_sizes = [round(power_analysis.solve_power(effect_size=es, alpha=alpha, power=power, alternative='two-sided')) for es in effect_sizes]\n",
    "\n",
    "# Display the results\n",
    "for i in range(len(effect_sizes)):\n",
    "    print(f\"Effect Size: {effect_sizes[i]}, Sample Size per Group: {sample_sizes[i]}\")"
   ]
  },
  {
   "cell_type": "markdown",
   "metadata": {},
   "source": [
    "**Explain how the sample size requirements change as the effect size changes. Why does this happen?**\n",
    "When the difference between the groups is small, you need more people to help find that difference because it's harder to see. But if the difference is big, you don't need as many people to notice it because it's easier to see. Having more people in the test helps make sure the differences stand out more clearly."
   ]
  },
  {
   "cell_type": "markdown",
   "metadata": {},
   "source": [
    "Imagine you’re explaining this to the bakery’s team in a fun, easy-to-understand way. Why is it so important to balance effect size and sample size when planning an A/B test? Help them understand how this ensures they’re not wasting time or resources and how it helps them confidently make decisions that could increase their sweet sales."
   ]
  },
  {
   "cell_type": "markdown",
   "metadata": {},
   "source": [
    "I’m testing two new cupcake flavors: X andY. If X is really yummy and way better, it’s easy to tell — that’s a **big effect**. But if the two cupcakes are only a little different, that’s a **small effect** and harder to notice.\n",
    "\n",
    "**Sample size** is how many people try the cupcakes. If I get lots of people to taste them, I can easily see which one is better, even if the difference is small. But if only a few people try them, I might miss the real difference.\n",
    "\n",
    "So, if the cupcakes are very different, I don’t need too many testers. But if they’re only a little different, I need more testers to be sure.\n",
    "\n",
    "Balancing both helps me make a **smart decision** without wasting time or cupcakes, and ensures I choose the best flavor to increase sales! "
   ]
  }
 ],
 "metadata": {
  "kernelspec": {
   "display_name": ".venv",
   "language": "python",
   "name": "python3"
  },
  "language_info": {
   "codemirror_mode": {
    "name": "ipython",
    "version": 3
   },
   "file_extension": ".py",
   "mimetype": "text/x-python",
   "name": "python",
   "nbconvert_exporter": "python",
   "pygments_lexer": "ipython3",
   "version": "3.12.2"
  }
 },
 "nbformat": 4,
 "nbformat_minor": 2
}
