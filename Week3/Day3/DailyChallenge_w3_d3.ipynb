{
  "nbformat": 4,
  "nbformat_minor": 0,
  "metadata": {
    "colab": {
      "provenance": [],
      "authorship_tag": "ABX9TyOvnL6JSEpL/F26TbmGt/kP",
      "include_colab_link": true
    },
    "kernelspec": {
      "name": "python3",
      "display_name": "Python 3"
    },
    "language_info": {
      "name": "python"
    }
  },
  "cells": [
    {
      "cell_type": "markdown",
      "metadata": {
        "id": "view-in-github",
        "colab_type": "text"
      },
      "source": [
        "<a href=\"https://colab.research.google.com/github/TyamanovaMargo/DI-Bootcamp/blob/main/DailyChallenge_w3_d3.ipynb\" target=\"_parent\"><img src=\"https://colab.research.google.com/assets/colab-badge.svg\" alt=\"Open In Colab\"/></a>"
      ]
    },
    {
      "cell_type": "code",
      "execution_count": 1,
      "metadata": {
        "colab": {
          "base_uri": "https://localhost:8080/",
          "height": 75
        },
        "id": "DHI-HZmdLe3r",
        "outputId": "e2e3c2cb-5f3c-4f94-c689-60d75932442b"
      },
      "outputs": [
        {
          "output_type": "display_data",
          "data": {
            "text/plain": [
              "<IPython.core.display.HTML object>"
            ],
            "text/html": [
              "\n",
              "     <input type=\"file\" id=\"files-8c061545-e60e-4860-90fc-c141458304e0\" name=\"files[]\" multiple disabled\n",
              "        style=\"border:none\" />\n",
              "     <output id=\"result-8c061545-e60e-4860-90fc-c141458304e0\">\n",
              "      Upload widget is only available when the cell has been executed in the\n",
              "      current browser session. Please rerun this cell to enable.\n",
              "      </output>\n",
              "      <script>// Copyright 2017 Google LLC\n",
              "//\n",
              "// Licensed under the Apache License, Version 2.0 (the \"License\");\n",
              "// you may not use this file except in compliance with the License.\n",
              "// You may obtain a copy of the License at\n",
              "//\n",
              "//      http://www.apache.org/licenses/LICENSE-2.0\n",
              "//\n",
              "// Unless required by applicable law or agreed to in writing, software\n",
              "// distributed under the License is distributed on an \"AS IS\" BASIS,\n",
              "// WITHOUT WARRANTIES OR CONDITIONS OF ANY KIND, either express or implied.\n",
              "// See the License for the specific language governing permissions and\n",
              "// limitations under the License.\n",
              "\n",
              "/**\n",
              " * @fileoverview Helpers for google.colab Python module.\n",
              " */\n",
              "(function(scope) {\n",
              "function span(text, styleAttributes = {}) {\n",
              "  const element = document.createElement('span');\n",
              "  element.textContent = text;\n",
              "  for (const key of Object.keys(styleAttributes)) {\n",
              "    element.style[key] = styleAttributes[key];\n",
              "  }\n",
              "  return element;\n",
              "}\n",
              "\n",
              "// Max number of bytes which will be uploaded at a time.\n",
              "const MAX_PAYLOAD_SIZE = 100 * 1024;\n",
              "\n",
              "function _uploadFiles(inputId, outputId) {\n",
              "  const steps = uploadFilesStep(inputId, outputId);\n",
              "  const outputElement = document.getElementById(outputId);\n",
              "  // Cache steps on the outputElement to make it available for the next call\n",
              "  // to uploadFilesContinue from Python.\n",
              "  outputElement.steps = steps;\n",
              "\n",
              "  return _uploadFilesContinue(outputId);\n",
              "}\n",
              "\n",
              "// This is roughly an async generator (not supported in the browser yet),\n",
              "// where there are multiple asynchronous steps and the Python side is going\n",
              "// to poll for completion of each step.\n",
              "// This uses a Promise to block the python side on completion of each step,\n",
              "// then passes the result of the previous step as the input to the next step.\n",
              "function _uploadFilesContinue(outputId) {\n",
              "  const outputElement = document.getElementById(outputId);\n",
              "  const steps = outputElement.steps;\n",
              "\n",
              "  const next = steps.next(outputElement.lastPromiseValue);\n",
              "  return Promise.resolve(next.value.promise).then((value) => {\n",
              "    // Cache the last promise value to make it available to the next\n",
              "    // step of the generator.\n",
              "    outputElement.lastPromiseValue = value;\n",
              "    return next.value.response;\n",
              "  });\n",
              "}\n",
              "\n",
              "/**\n",
              " * Generator function which is called between each async step of the upload\n",
              " * process.\n",
              " * @param {string} inputId Element ID of the input file picker element.\n",
              " * @param {string} outputId Element ID of the output display.\n",
              " * @return {!Iterable<!Object>} Iterable of next steps.\n",
              " */\n",
              "function* uploadFilesStep(inputId, outputId) {\n",
              "  const inputElement = document.getElementById(inputId);\n",
              "  inputElement.disabled = false;\n",
              "\n",
              "  const outputElement = document.getElementById(outputId);\n",
              "  outputElement.innerHTML = '';\n",
              "\n",
              "  const pickedPromise = new Promise((resolve) => {\n",
              "    inputElement.addEventListener('change', (e) => {\n",
              "      resolve(e.target.files);\n",
              "    });\n",
              "  });\n",
              "\n",
              "  const cancel = document.createElement('button');\n",
              "  inputElement.parentElement.appendChild(cancel);\n",
              "  cancel.textContent = 'Cancel upload';\n",
              "  const cancelPromise = new Promise((resolve) => {\n",
              "    cancel.onclick = () => {\n",
              "      resolve(null);\n",
              "    };\n",
              "  });\n",
              "\n",
              "  // Wait for the user to pick the files.\n",
              "  const files = yield {\n",
              "    promise: Promise.race([pickedPromise, cancelPromise]),\n",
              "    response: {\n",
              "      action: 'starting',\n",
              "    }\n",
              "  };\n",
              "\n",
              "  cancel.remove();\n",
              "\n",
              "  // Disable the input element since further picks are not allowed.\n",
              "  inputElement.disabled = true;\n",
              "\n",
              "  if (!files) {\n",
              "    return {\n",
              "      response: {\n",
              "        action: 'complete',\n",
              "      }\n",
              "    };\n",
              "  }\n",
              "\n",
              "  for (const file of files) {\n",
              "    const li = document.createElement('li');\n",
              "    li.append(span(file.name, {fontWeight: 'bold'}));\n",
              "    li.append(span(\n",
              "        `(${file.type || 'n/a'}) - ${file.size} bytes, ` +\n",
              "        `last modified: ${\n",
              "            file.lastModifiedDate ? file.lastModifiedDate.toLocaleDateString() :\n",
              "                                    'n/a'} - `));\n",
              "    const percent = span('0% done');\n",
              "    li.appendChild(percent);\n",
              "\n",
              "    outputElement.appendChild(li);\n",
              "\n",
              "    const fileDataPromise = new Promise((resolve) => {\n",
              "      const reader = new FileReader();\n",
              "      reader.onload = (e) => {\n",
              "        resolve(e.target.result);\n",
              "      };\n",
              "      reader.readAsArrayBuffer(file);\n",
              "    });\n",
              "    // Wait for the data to be ready.\n",
              "    let fileData = yield {\n",
              "      promise: fileDataPromise,\n",
              "      response: {\n",
              "        action: 'continue',\n",
              "      }\n",
              "    };\n",
              "\n",
              "    // Use a chunked sending to avoid message size limits. See b/62115660.\n",
              "    let position = 0;\n",
              "    do {\n",
              "      const length = Math.min(fileData.byteLength - position, MAX_PAYLOAD_SIZE);\n",
              "      const chunk = new Uint8Array(fileData, position, length);\n",
              "      position += length;\n",
              "\n",
              "      const base64 = btoa(String.fromCharCode.apply(null, chunk));\n",
              "      yield {\n",
              "        response: {\n",
              "          action: 'append',\n",
              "          file: file.name,\n",
              "          data: base64,\n",
              "        },\n",
              "      };\n",
              "\n",
              "      let percentDone = fileData.byteLength === 0 ?\n",
              "          100 :\n",
              "          Math.round((position / fileData.byteLength) * 100);\n",
              "      percent.textContent = `${percentDone}% done`;\n",
              "\n",
              "    } while (position < fileData.byteLength);\n",
              "  }\n",
              "\n",
              "  // All done.\n",
              "  yield {\n",
              "    response: {\n",
              "      action: 'complete',\n",
              "    }\n",
              "  };\n",
              "}\n",
              "\n",
              "scope.google = scope.google || {};\n",
              "scope.google.colab = scope.google.colab || {};\n",
              "scope.google.colab._files = {\n",
              "  _uploadFiles,\n",
              "  _uploadFilesContinue,\n",
              "};\n",
              "})(self);\n",
              "</script> "
            ]
          },
          "metadata": {}
        },
        {
          "output_type": "stream",
          "name": "stdout",
          "text": [
            "Saving datascience_salaries.csv to datascience_salaries.csv\n"
          ]
        }
      ],
      "source": [
        "from google.colab import files\n",
        "\n",
        "uploaded = files.upload()"
      ]
    },
    {
      "cell_type": "code",
      "source": [
        "import pandas as pd\n",
        "\n",
        "salary_dataset = pd.read_csv(\"datascience_salaries.csv\")\n",
        "print(salary_dataset.head())\n",
        "print(salary_dataset.columns)"
      ],
      "metadata": {
        "colab": {
          "base_uri": "https://localhost:8080/"
        },
        "id": "CzBGqM90MuDv",
        "outputId": "b12cc54c-cd47-45e0-929c-027b43ea1363"
      },
      "execution_count": 4,
      "outputs": [
        {
          "output_type": "stream",
          "name": "stdout",
          "text": [
            "   Unnamed: 0       job_title   job_type experience_level       location  \\\n",
            "0           0  Data scientist  Full Time           Senior  New York City   \n",
            "1           2  Data scientist  Full Time           Senior         Boston   \n",
            "2           3  Data scientist  Full Time           Senior         London   \n",
            "3           4  Data scientist  Full Time           Senior         Boston   \n",
            "4           5  Data scientist  Full Time           Senior  New York City   \n",
            "\n",
            "  salary_currency  salary  \n",
            "0             USD  149000  \n",
            "1             USD  120000  \n",
            "2             USD   68000  \n",
            "3             USD  120000  \n",
            "4             USD  149000  \n",
            "Index(['Unnamed: 0', 'job_title', 'job_type', 'experience_level', 'location',\n",
            "       'salary_currency', 'salary'],\n",
            "      dtype='object')\n"
          ]
        }
      ]
    },
    {
      "cell_type": "markdown",
      "source": [
        "Normalize the ‘salary’"
      ],
      "metadata": {
        "id": "oISi6dr6O0SS"
      }
    },
    {
      "cell_type": "code",
      "source": [
        "from sklearn.preprocessing import MinMaxScaler\n",
        "\n",
        "scl = MinMaxScaler()\n",
        "\n",
        "salary_dataset[\"salary\"] = scl.fit_transform(salary_dataset[[\"salary\"]])\n",
        "print(salary_dataset.head())\n"
      ],
      "metadata": {
        "colab": {
          "base_uri": "https://localhost:8080/"
        },
        "id": "gdGhgc59NiKu",
        "outputId": "35d487b8-a02c-4454-e570-10ea03f3749a"
      },
      "execution_count": 6,
      "outputs": [
        {
          "output_type": "stream",
          "name": "stdout",
          "text": [
            "   Unnamed: 0       job_title   job_type experience_level       location  \\\n",
            "0           0  Data scientist  Full Time           Senior  New York City   \n",
            "1           2  Data scientist  Full Time           Senior         Boston   \n",
            "2           3  Data scientist  Full Time           Senior         London   \n",
            "3           4  Data scientist  Full Time           Senior         Boston   \n",
            "4           5  Data scientist  Full Time           Senior  New York City   \n",
            "\n",
            "  salary_currency    salary  \n",
            "0             USD  0.601010  \n",
            "1             USD  0.454545  \n",
            "2             USD  0.191919  \n",
            "3             USD  0.454545  \n",
            "4             USD  0.601010  \n"
          ]
        }
      ]
    },
    {
      "cell_type": "markdown",
      "source": [
        "Implement dimensionality reduction like Principal Component Analysis (PCA) or t-SNE to reduce the number of features (columns) in the dataset."
      ],
      "metadata": {
        "id": "zrcf8IAvO387"
      }
    },
    {
      "cell_type": "code",
      "source": [
        "import pandas as pd\n",
        "from sklearn.preprocessing import OneHotEncoder, MinMaxScaler\n",
        "from sklearn.decomposition import PCA"
      ],
      "metadata": {
        "id": "DMQumi4XP7AZ"
      },
      "execution_count": 9,
      "outputs": []
    },
    {
      "cell_type": "code",
      "source": [
        "salary_dataset.drop(['Unnamed: 0', 'job_type'], axis=1, inplace=True)"
      ],
      "metadata": {
        "id": "o1wuERzuTEPh"
      },
      "execution_count": 20,
      "outputs": []
    },
    {
      "cell_type": "code",
      "source": [
        "categorical_columns = ['job_title', 'experience_level', 'location', 'salary_currency']\n",
        "salary_dataseta_en = pd.get_dummies(salary_dataset, columns=categorical_columns, drop_first=True)\n"
      ],
      "metadata": {
        "id": "AV1J6eNSRB92"
      },
      "execution_count": 21,
      "outputs": []
    },
    {
      "cell_type": "code",
      "source": [
        "scaler = MinMaxScaler()\n",
        "salary_dataseta_en['normal_salary'] = scaler.fit_transform(salary_dataseta_en[['salary']])"
      ],
      "metadata": {
        "id": "_5bS0iLLRgg1"
      },
      "execution_count": 22,
      "outputs": []
    },
    {
      "cell_type": "code",
      "source": [
        "pca = PCA(n_components=2)\n",
        "salary_dataseta_pca = pca.fit_transform(salary_dataseta_en.drop(['salary', 'normal_salary'], axis=1))\n",
        "salary_dataseta_en['PCA_1'] = salary_dataseta_pca[:, 0]\n",
        "salary_dataseta_en['PCA_2'] = salary_dataseta_pca[:, 1]\n",
        "\n",
        "# Print the modified DataFrame\n",
        "print(salary_dataseta_en.head())"
      ],
      "metadata": {
        "colab": {
          "base_uri": "https://localhost:8080/"
        },
        "id": "4aVjOUTUO8fg",
        "outputId": "d386d63a-901a-4813-dba5-b30b28310ee1"
      },
      "execution_count": 23,
      "outputs": [
        {
          "output_type": "stream",
          "name": "stdout",
          "text": [
            "     salary  job_title_Data analyst  job_title_Data scientist  \\\n",
            "0  0.601010                   False                      True   \n",
            "1  0.454545                   False                      True   \n",
            "2  0.191919                   False                      True   \n",
            "3  0.454545                   False                      True   \n",
            "4  0.601010                   False                      True   \n",
            "\n",
            "   job_title_ML Ops  job_title_Machine learning  experience_level_Executive  \\\n",
            "0             False                       False                       False   \n",
            "1             False                       False                       False   \n",
            "2             False                       False                       False   \n",
            "3             False                       False                       False   \n",
            "4             False                       False                       False   \n",
            "\n",
            "   experience_level_Mid  experience_level_Senior  location_Aberdeen  \\\n",
            "0                 False                     True              False   \n",
            "1                 False                     True              False   \n",
            "2                 False                     True              False   \n",
            "3                 False                     True              False   \n",
            "4                 False                     True              False   \n",
            "\n",
            "   location_Abu Dhabi  ...  location_Wrocław  location_Zurich  \\\n",
            "0               False  ...             False            False   \n",
            "1               False  ...             False            False   \n",
            "2               False  ...             False            False   \n",
            "3               False  ...             False            False   \n",
            "4               False  ...             False            False   \n",
            "\n",
            "   location_tel aviv  location_České Budějovice  location_İstanbul  \\\n",
            "0              False                      False              False   \n",
            "1              False                      False              False   \n",
            "2              False                      False              False   \n",
            "3              False                      False              False   \n",
            "4              False                      False              False   \n",
            "\n",
            "   salary_currency_GBP  salary_currency_USD  normal_salary     PCA_1     PCA_2  \n",
            "0                False                 True       0.601010  0.610654  0.580916  \n",
            "1                False                 True       0.454545  0.613918  0.590158  \n",
            "2                False                 True       0.191919  0.589755  0.588882  \n",
            "3                False                 True       0.454545  0.613918  0.590158  \n",
            "4                False                 True       0.601010  0.610654  0.580916  \n",
            "\n",
            "[5 rows x 332 columns]\n"
          ]
        }
      ]
    },
    {
      "cell_type": "code",
      "source": [
        "salary_dataseta_en = salary_dataseta_en.replace({False: 0, True: 1})\n"
      ],
      "metadata": {
        "colab": {
          "base_uri": "https://localhost:8080/"
        },
        "id": "SUOMf1E1T3OX",
        "outputId": "1dd7c8a7-61cf-4309-93c6-f0129eec9ac6"
      },
      "execution_count": 24,
      "outputs": [
        {
          "output_type": "stream",
          "name": "stderr",
          "text": [
            "<ipython-input-24-8b2ff006c626>:1: FutureWarning: Downcasting behavior in `replace` is deprecated and will be removed in a future version. To retain the old behavior, explicitly call `result.infer_objects(copy=False)`. To opt-in to the future behavior, set `pd.set_option('future.no_silent_downcasting', True)`\n",
            "  salary_dataseta_en = salary_dataseta_en.replace({False: 0, True: 1})\n"
          ]
        }
      ]
    },
    {
      "cell_type": "code",
      "source": [
        "print(salary_dataseta_en.head())"
      ],
      "metadata": {
        "colab": {
          "base_uri": "https://localhost:8080/"
        },
        "id": "ZE91mB8cT5zP",
        "outputId": "11deabce-fc21-4371-d631-7e07373de6f0"
      },
      "execution_count": 25,
      "outputs": [
        {
          "output_type": "stream",
          "name": "stdout",
          "text": [
            "     salary  job_title_Data analyst  job_title_Data scientist  \\\n",
            "0  0.601010                       0                         1   \n",
            "1  0.454545                       0                         1   \n",
            "2  0.191919                       0                         1   \n",
            "3  0.454545                       0                         1   \n",
            "4  0.601010                       0                         1   \n",
            "\n",
            "   job_title_ML Ops  job_title_Machine learning  experience_level_Executive  \\\n",
            "0                 0                           0                           0   \n",
            "1                 0                           0                           0   \n",
            "2                 0                           0                           0   \n",
            "3                 0                           0                           0   \n",
            "4                 0                           0                           0   \n",
            "\n",
            "   experience_level_Mid  experience_level_Senior  location_Aberdeen  \\\n",
            "0                     0                        1                  0   \n",
            "1                     0                        1                  0   \n",
            "2                     0                        1                  0   \n",
            "3                     0                        1                  0   \n",
            "4                     0                        1                  0   \n",
            "\n",
            "   location_Abu Dhabi  ...  location_Wrocław  location_Zurich  \\\n",
            "0                   0  ...                 0                0   \n",
            "1                   0  ...                 0                0   \n",
            "2                   0  ...                 0                0   \n",
            "3                   0  ...                 0                0   \n",
            "4                   0  ...                 0                0   \n",
            "\n",
            "   location_tel aviv  location_České Budějovice  location_İstanbul  \\\n",
            "0                  0                          0                  0   \n",
            "1                  0                          0                  0   \n",
            "2                  0                          0                  0   \n",
            "3                  0                          0                  0   \n",
            "4                  0                          0                  0   \n",
            "\n",
            "   salary_currency_GBP  salary_currency_USD  normal_salary     PCA_1     PCA_2  \n",
            "0                    0                    1       0.601010  0.610654  0.580916  \n",
            "1                    0                    1       0.454545  0.613918  0.590158  \n",
            "2                    0                    1       0.191919  0.589755  0.588882  \n",
            "3                    0                    1       0.454545  0.613918  0.590158  \n",
            "4                    0                    1       0.601010  0.610654  0.580916  \n",
            "\n",
            "[5 rows x 332 columns]\n"
          ]
        }
      ]
    },
    {
      "cell_type": "code",
      "source": [
        "# print(salary_dataseta_en.dtypes)\n"
      ],
      "metadata": {
        "colab": {
          "base_uri": "https://localhost:8080/"
        },
        "id": "Tur1jDDeSq_b",
        "outputId": "28a6380b-3b86-4c12-d3b6-b51e380ff8b7"
      },
      "execution_count": 17,
      "outputs": [
        {
          "output_type": "stream",
          "name": "stdout",
          "text": [
            "Unnamed: 0                     int64\n",
            "job_type                      object\n",
            "salary                       float64\n",
            "job_title_Data analyst          bool\n",
            "job_title_Data scientist        bool\n",
            "                              ...   \n",
            "location_České Budějovice       bool\n",
            "location_İstanbul               bool\n",
            "salary_currency_GBP             bool\n",
            "salary_currency_USD             bool\n",
            "normal_salary                float64\n",
            "Length: 332, dtype: object\n"
          ]
        }
      ]
    },
    {
      "cell_type": "markdown",
      "source": [
        "Group the dataset by the ‘experience_level’ column and calculate the average and median salary for each experience level (e.g., Junior, Mid-level, Senior)."
      ],
      "metadata": {
        "id": "MrZw-rgKUBRI"
      }
    },
    {
      "cell_type": "code",
      "source": [
        "import pandas as pd\n",
        "\n",
        "salary_dataset = pd.read_csv(\"datascience_salaries.csv\")\n",
        "\n",
        "\n",
        "aggregated_data = salary_dataset.groupby('experience_level')['salary'].agg(['mean', 'median'])\n",
        "\n",
        "\n",
        "print(aggregated_data)"
      ],
      "metadata": {
        "colab": {
          "base_uri": "https://localhost:8080/"
        },
        "id": "awE9GEZ_UJa0",
        "outputId": "18af920b-b5f5-482f-8ef1-b746777323d0"
      },
      "execution_count": 30,
      "outputs": [
        {
          "output_type": "stream",
          "name": "stdout",
          "text": [
            "                          mean   median\n",
            "experience_level                       \n",
            "Entry             36111.111111  30000.0\n",
            "Executive         76076.923077  46000.0\n",
            "Mid               51786.885246  51000.0\n",
            "Senior            75088.033012  68000.0\n"
          ]
        }
      ]
    }
  ]
}