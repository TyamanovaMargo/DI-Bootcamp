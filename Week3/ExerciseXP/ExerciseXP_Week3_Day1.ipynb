{
  "nbformat": 4,
  "nbformat_minor": 0,
  "metadata": {
    "colab": {
      "provenance": [],
      "toc_visible": true,
      "authorship_tag": "ABX9TyNSB8HAQFLWKZFAd+4JuNH7",
      "include_colab_link": true
    },
    "kernelspec": {
      "name": "python3",
      "display_name": "Python 3"
    },
    "language_info": {
      "name": "python"
    }
  },
  "cells": [
    {
      "cell_type": "markdown",
      "metadata": {
        "id": "view-in-github",
        "colab_type": "text"
      },
      "source": [
        "<a href=\"https://colab.research.google.com/github/TyamanovaMargo/DI-Bootcamp/blob/main/ExerciseXP_Week3_Day1.ipynb\" target=\"_parent\"><img src=\"https://colab.research.google.com/assets/colab-badge.svg\" alt=\"Open In Colab\"/></a>"
      ]
    },
    {
      "cell_type": "markdown",
      "source": [
        "#🌟Exercise 1: Introduction to Data Analysis (Easy)\n",
        "##Introduction to Data Analysis (Easy)\n"
      ],
      "metadata": {
        "id": "nXOyumcqd4Ve"
      }
    },
    {
      "cell_type": "markdown",
      "source": [
        "*What is data analysis?*\n",
        "\n",
        "\n",
        "\n",
        "> Data analysts use an iterative method to address problems using data. To find out how well the data answers the initial request, they first establish the business question, then gather raw data sets, clean the data, analyze it using methods like data mining, then interpret the findings. In addition, they offer suggestions and take into account the limitations of their findings. Businesses may better comprehend their data and make wise decisions with the aid of this approach.\n",
        "\n",
        "*Why is data analysis important in modern contexts?*\n",
        "\n",
        "\n",
        "\n",
        "> Data analysis helps people and businesses make better decisions by studying information to find useful patterns and solve problem\n",
        "\n",
        "\n",
        "*List and describe three areas where data analysis is applied today.*\n",
        "\n",
        "\n",
        "\n",
        "> In healthcare, doctors use data to detect diseases early and select the most effective treatments. Computers can scan medical data for symptoms of sickness, and smartwatches assist doctors in monitoring patients. In banking, data helps to keep money safe by detecting odd activity and avoiding fraud. Investors utilize data to predict market developments.\n",
        "\n",
        "\n",
        "\n",
        "\n",
        "\n"
      ],
      "metadata": {
        "id": "Fu34399i8_sh"
      }
    },
    {
      "cell_type": "markdown",
      "source": [
        "#🌟Exercise 2: Dataset Loading and Initial Analysis\n",
        "\n",
        "\n",
        "*for the following dataset : How Much Sleep Do Americans Really Get?, Global Trends in Mental Health Disorder and Credit Card Approvals.\n",
        "Load the dataset into Jupyter or Google Colab.\n",
        "Display the first few rows.\n",
        "Provide a brief dataset description.*\n",
        "\n",
        "\n",
        "\n"
      ],
      "metadata": {
        "id": "YnAFuNROQo8b"
      }
    },
    {
      "cell_type": "code",
      "source": [
        "from google.colab import files\n",
        "files.upload()"
      ],
      "metadata": {
        "colab": {
          "base_uri": "https://localhost:8080/",
          "height": 94
        },
        "id": "URMPv-BFSUee",
        "outputId": "e13bd7f0-3203-4ce9-c01f-dbb9fe08f78d"
      },
      "execution_count": 1,
      "outputs": [
        {
          "output_type": "display_data",
          "data": {
            "text/plain": [
              "<IPython.core.display.HTML object>"
            ],
            "text/html": [
              "\n",
              "     <input type=\"file\" id=\"files-13866689-db3f-4dbf-88c9-be251ea14025\" name=\"files[]\" multiple disabled\n",
              "        style=\"border:none\" />\n",
              "     <output id=\"result-13866689-db3f-4dbf-88c9-be251ea14025\">\n",
              "      Upload widget is only available when the cell has been executed in the\n",
              "      current browser session. Please rerun this cell to enable.\n",
              "      </output>\n",
              "      <script>// Copyright 2017 Google LLC\n",
              "//\n",
              "// Licensed under the Apache License, Version 2.0 (the \"License\");\n",
              "// you may not use this file except in compliance with the License.\n",
              "// You may obtain a copy of the License at\n",
              "//\n",
              "//      http://www.apache.org/licenses/LICENSE-2.0\n",
              "//\n",
              "// Unless required by applicable law or agreed to in writing, software\n",
              "// distributed under the License is distributed on an \"AS IS\" BASIS,\n",
              "// WITHOUT WARRANTIES OR CONDITIONS OF ANY KIND, either express or implied.\n",
              "// See the License for the specific language governing permissions and\n",
              "// limitations under the License.\n",
              "\n",
              "/**\n",
              " * @fileoverview Helpers for google.colab Python module.\n",
              " */\n",
              "(function(scope) {\n",
              "function span(text, styleAttributes = {}) {\n",
              "  const element = document.createElement('span');\n",
              "  element.textContent = text;\n",
              "  for (const key of Object.keys(styleAttributes)) {\n",
              "    element.style[key] = styleAttributes[key];\n",
              "  }\n",
              "  return element;\n",
              "}\n",
              "\n",
              "// Max number of bytes which will be uploaded at a time.\n",
              "const MAX_PAYLOAD_SIZE = 100 * 1024;\n",
              "\n",
              "function _uploadFiles(inputId, outputId) {\n",
              "  const steps = uploadFilesStep(inputId, outputId);\n",
              "  const outputElement = document.getElementById(outputId);\n",
              "  // Cache steps on the outputElement to make it available for the next call\n",
              "  // to uploadFilesContinue from Python.\n",
              "  outputElement.steps = steps;\n",
              "\n",
              "  return _uploadFilesContinue(outputId);\n",
              "}\n",
              "\n",
              "// This is roughly an async generator (not supported in the browser yet),\n",
              "// where there are multiple asynchronous steps and the Python side is going\n",
              "// to poll for completion of each step.\n",
              "// This uses a Promise to block the python side on completion of each step,\n",
              "// then passes the result of the previous step as the input to the next step.\n",
              "function _uploadFilesContinue(outputId) {\n",
              "  const outputElement = document.getElementById(outputId);\n",
              "  const steps = outputElement.steps;\n",
              "\n",
              "  const next = steps.next(outputElement.lastPromiseValue);\n",
              "  return Promise.resolve(next.value.promise).then((value) => {\n",
              "    // Cache the last promise value to make it available to the next\n",
              "    // step of the generator.\n",
              "    outputElement.lastPromiseValue = value;\n",
              "    return next.value.response;\n",
              "  });\n",
              "}\n",
              "\n",
              "/**\n",
              " * Generator function which is called between each async step of the upload\n",
              " * process.\n",
              " * @param {string} inputId Element ID of the input file picker element.\n",
              " * @param {string} outputId Element ID of the output display.\n",
              " * @return {!Iterable<!Object>} Iterable of next steps.\n",
              " */\n",
              "function* uploadFilesStep(inputId, outputId) {\n",
              "  const inputElement = document.getElementById(inputId);\n",
              "  inputElement.disabled = false;\n",
              "\n",
              "  const outputElement = document.getElementById(outputId);\n",
              "  outputElement.innerHTML = '';\n",
              "\n",
              "  const pickedPromise = new Promise((resolve) => {\n",
              "    inputElement.addEventListener('change', (e) => {\n",
              "      resolve(e.target.files);\n",
              "    });\n",
              "  });\n",
              "\n",
              "  const cancel = document.createElement('button');\n",
              "  inputElement.parentElement.appendChild(cancel);\n",
              "  cancel.textContent = 'Cancel upload';\n",
              "  const cancelPromise = new Promise((resolve) => {\n",
              "    cancel.onclick = () => {\n",
              "      resolve(null);\n",
              "    };\n",
              "  });\n",
              "\n",
              "  // Wait for the user to pick the files.\n",
              "  const files = yield {\n",
              "    promise: Promise.race([pickedPromise, cancelPromise]),\n",
              "    response: {\n",
              "      action: 'starting',\n",
              "    }\n",
              "  };\n",
              "\n",
              "  cancel.remove();\n",
              "\n",
              "  // Disable the input element since further picks are not allowed.\n",
              "  inputElement.disabled = true;\n",
              "\n",
              "  if (!files) {\n",
              "    return {\n",
              "      response: {\n",
              "        action: 'complete',\n",
              "      }\n",
              "    };\n",
              "  }\n",
              "\n",
              "  for (const file of files) {\n",
              "    const li = document.createElement('li');\n",
              "    li.append(span(file.name, {fontWeight: 'bold'}));\n",
              "    li.append(span(\n",
              "        `(${file.type || 'n/a'}) - ${file.size} bytes, ` +\n",
              "        `last modified: ${\n",
              "            file.lastModifiedDate ? file.lastModifiedDate.toLocaleDateString() :\n",
              "                                    'n/a'} - `));\n",
              "    const percent = span('0% done');\n",
              "    li.appendChild(percent);\n",
              "\n",
              "    outputElement.appendChild(li);\n",
              "\n",
              "    const fileDataPromise = new Promise((resolve) => {\n",
              "      const reader = new FileReader();\n",
              "      reader.onload = (e) => {\n",
              "        resolve(e.target.result);\n",
              "      };\n",
              "      reader.readAsArrayBuffer(file);\n",
              "    });\n",
              "    // Wait for the data to be ready.\n",
              "    let fileData = yield {\n",
              "      promise: fileDataPromise,\n",
              "      response: {\n",
              "        action: 'continue',\n",
              "      }\n",
              "    };\n",
              "\n",
              "    // Use a chunked sending to avoid message size limits. See b/62115660.\n",
              "    let position = 0;\n",
              "    do {\n",
              "      const length = Math.min(fileData.byteLength - position, MAX_PAYLOAD_SIZE);\n",
              "      const chunk = new Uint8Array(fileData, position, length);\n",
              "      position += length;\n",
              "\n",
              "      const base64 = btoa(String.fromCharCode.apply(null, chunk));\n",
              "      yield {\n",
              "        response: {\n",
              "          action: 'append',\n",
              "          file: file.name,\n",
              "          data: base64,\n",
              "        },\n",
              "      };\n",
              "\n",
              "      let percentDone = fileData.byteLength === 0 ?\n",
              "          100 :\n",
              "          Math.round((position / fileData.byteLength) * 100);\n",
              "      percent.textContent = `${percentDone}% done`;\n",
              "\n",
              "    } while (position < fileData.byteLength);\n",
              "  }\n",
              "\n",
              "  // All done.\n",
              "  yield {\n",
              "    response: {\n",
              "      action: 'complete',\n",
              "    }\n",
              "  };\n",
              "}\n",
              "\n",
              "scope.google = scope.google || {};\n",
              "scope.google.colab = scope.google.colab || {};\n",
              "scope.google.colab._files = {\n",
              "  _uploadFiles,\n",
              "  _uploadFilesContinue,\n",
              "};\n",
              "})(self);\n",
              "</script> "
            ]
          },
          "metadata": {}
        },
        {
          "output_type": "stream",
          "name": "stdout",
          "text": [
            "Saving kaggle.json to kaggle.json\n"
          ]
        },
        {
          "output_type": "execute_result",
          "data": {
            "text/plain": [
              "{'kaggle.json': b'{\"username\":\"margaritatyamanova\",\"key\":\"78ee90976aee5c9d3622234e6005f9df\"}'}"
            ]
          },
          "metadata": {},
          "execution_count": 1
        }
      ]
    },
    {
      "cell_type": "code",
      "source": [
        "!pip install -q kaggle"
      ],
      "metadata": {
        "id": "ORdpZrxJS16G"
      },
      "execution_count": 2,
      "outputs": []
    },
    {
      "cell_type": "code",
      "source": [
        "!mkdir -p ~/.kaggle\n",
        "!cp kaggle.json ~/.kaggle/"
      ],
      "metadata": {
        "id": "tMWqa0pRTFPJ"
      },
      "execution_count": 3,
      "outputs": []
    },
    {
      "cell_type": "code",
      "source": [
        "# This permissions change avoids a warning on Kaggle tool startup.\n",
        "!chmod 600 ~/.kaggle/kaggle.json"
      ],
      "metadata": {
        "id": "LsLYTNbFTHlc"
      },
      "execution_count": 4,
      "outputs": []
    },
    {
      "cell_type": "code",
      "source": [
        "# List available datasets.\n",
        "!kaggle datasets list"
      ],
      "metadata": {
        "colab": {
          "base_uri": "https://localhost:8080/"
        },
        "id": "8Zf5vhwPTMkG",
        "outputId": "d349e93a-d0a7-492d-ba49-00f1e275f55d"
      },
      "execution_count": 5,
      "outputs": [
        {
          "output_type": "stream",
          "name": "stdout",
          "text": [
            "ref                                                   title                                         size  lastUpdated          downloadCount  voteCount  usabilityRating  \n",
            "----------------------------------------------------  -------------------------------------------  -----  -------------------  -------------  ---------  ---------------  \n",
            "asinow/car-price-dataset                              Car Price Dataset                            135KB  2025-01-26 19:53:28          10513        143  1.0              \n",
            "adilshamim8/education-and-career-success              Education & Career Success.                  118KB  2025-02-03 05:24:20           2159         38  1.0              \n",
            "sachinkumar62/datascience-job-data                    data science job data set                    247KB  2025-02-12 14:15:12            614         27  1.0              \n",
            "anandshaw2001/netflix-movies-and-tv-shows             Netflix Movies and TV Shows                    1MB  2025-01-03 10:33:01          19018        476  1.0              \n",
            "samithsachidanandan/most-popular-1000-youtube-videos  Most popular 1000 Youtube videos              42KB  2025-01-27 18:36:29           2762         53  1.0              \n",
            "ruchikakumbhar/zomato-dataset                         Zomato Dataset                                 2KB  2025-01-21 03:59:39           4066         69  1.0              \n",
            "asinow/laptop-price-dataset                           Laptop Price Dataset                         181KB  2025-02-01 04:20:16           2757         58  1.0              \n",
            "umerhaddii/tesla-stock-data-2025                      Tesla Stock Data 2025                         95KB  2025-02-13 11:18:06            313         26  1.0              \n",
            "ruchikakumbhar/calories-burnt-prediction              Calories Burnt Prediction                    236KB  2025-01-20 06:00:34           1316         23  1.0              \n",
            "mzohaibzeeshan/thyroid-cancer-risk-dataset            Thyroid Cancer Risk Dataset                    4MB  2025-02-09 14:55:47            819         23  1.0              \n",
            "sgoutami/spotify-streaming-history                    Spotify Streaming History                      6MB  2025-01-25 05:14:49           2044         35  1.0              \n",
            "willianoliveiragibin/type-of-the-diamond              type of the Diamond                          581KB  2025-01-29 22:02:56            977         26  1.0              \n",
            "vivekattri/california-wildfire-damage-2014-feb2025    California Wildfire Damage (2014-(feb)2025)    3KB  2025-02-05 10:05:12           1460         35  0.9411765        \n",
            "andrexibiza/grocery-sales-dataset                     Grocery Sales Database                       223MB  2025-01-31 19:04:00           2552         52  1.0              \n",
            "kushagraddata/covid-pandemic-varients                 Covid_Pandemic_Varients                       21KB  2025-02-07 11:42:16            455         29  1.0              \n",
            "hopesb/hr-analytics-dataset                           HR Analytics Dataset                         418KB  2025-01-18 23:07:46           1542         36  1.0              \n",
            "oktayrdeki/traffic-accidents                          Traffic Accidents                              5MB  2025-01-20 10:33:44           4405         79  1.0              \n",
            "hubertsidorowicz/football-players-stats-2024-2025     Football Players Stats (2024-2025)             1MB  2025-02-10 12:36:00            892         21  1.0              \n",
            "dansbecker/melbourne-housing-snapshot                 Melbourne Housing Snapshot                   451KB  2018-06-05 12:52:24         171166       1573  0.7058824        \n",
            "hosammhmdali/supermarket-sales                        Supermarket Sales                             36KB  2025-02-06 11:42:07           1553         27  0.7058824        \n"
          ]
        }
      ]
    },
    {
      "cell_type": "markdown",
      "source": [
        "## dataset 1"
      ],
      "metadata": {
        "id": "RTyZ_aRMUTte"
      }
    },
    {
      "cell_type": "code",
      "source": [
        "!kaggle datasets list -s \"How Much Sleep Do Americans Really Get?\""
      ],
      "metadata": {
        "colab": {
          "base_uri": "https://localhost:8080/"
        },
        "id": "C_6z-45CTnLT",
        "outputId": "09c677af-643e-466d-9f3a-85ac77f2af4d"
      },
      "execution_count": 7,
      "outputs": [
        {
          "output_type": "stream",
          "name": "stdout",
          "text": [
            "ref                                                   title                                    size  lastUpdated          downloadCount  voteCount  usabilityRating  \n",
            "----------------------------------------------------  ---------------------------------------  ----  -------------------  -------------  ---------  ---------------  \n",
            "thedevastator/how-much-sleep-do-americans-really-get  How Much Sleep Do Americans Really Get?   8KB  2022-11-25 09:13:12           2037         46  1.0              \n"
          ]
        }
      ]
    },
    {
      "cell_type": "code",
      "source": [
        "!kaggle datasets download -d thedevastator/how-much-sleep-do-americans-really-get\n"
      ],
      "metadata": {
        "colab": {
          "base_uri": "https://localhost:8080/"
        },
        "id": "vlJjGrpCUCJ5",
        "outputId": "822ab0dd-0cff-47ef-a1df-e0c9f502a186"
      },
      "execution_count": 8,
      "outputs": [
        {
          "output_type": "stream",
          "name": "stdout",
          "text": [
            "Dataset URL: https://www.kaggle.com/datasets/thedevastator/how-much-sleep-do-americans-really-get\n",
            "License(s): copyright-authors\n",
            "Downloading how-much-sleep-do-americans-really-get.zip to /content\n",
            "  0% 0.00/7.62k [00:00<?, ?B/s]\n",
            "100% 7.62k/7.62k [00:00<00:00, 16.4MB/s]\n"
          ]
        }
      ]
    },
    {
      "cell_type": "code",
      "source": [
        "!unzip how-much-sleep-do-americans-really-get.zip\n"
      ],
      "metadata": {
        "colab": {
          "base_uri": "https://localhost:8080/"
        },
        "id": "arVURcJtUK_G",
        "outputId": "46c7d4a4-4ad9-4a7b-8548-f1617b0c42d3"
      },
      "execution_count": 9,
      "outputs": [
        {
          "output_type": "stream",
          "name": "stdout",
          "text": [
            "Archive:  how-much-sleep-do-americans-really-get.zip\n",
            "  inflating: Time Americans Spend Sleeping.csv  \n"
          ]
        }
      ]
    },
    {
      "cell_type": "markdown",
      "source": [
        "##dataset 2"
      ],
      "metadata": {
        "id": "kco6M4S1UZEH"
      }
    },
    {
      "cell_type": "code",
      "source": [
        "!kaggle datasets list -s \"Global Trends in Mental Health Disorder\""
      ],
      "metadata": {
        "colab": {
          "base_uri": "https://localhost:8080/"
        },
        "id": "mscKAQeLUgxQ",
        "outputId": "0297deec-0ae9-497f-fa36-d4908d8b5a21"
      },
      "execution_count": 10,
      "outputs": [
        {
          "output_type": "stream",
          "name": "stdout",
          "text": [
            "ref                                                             title                                           size  lastUpdated          downloadCount  voteCount  usabilityRating  \n",
            "--------------------------------------------------------------  ---------------------------------------------  -----  -------------------  -------------  ---------  ---------------  \n",
            "thedevastator/uncover-global-trends-in-mental-health-disorder   Global Trends in Mental Health Disorder          1MB  2022-12-14 05:30:38          13062        135  1.0              \n",
            "muhammadfaizan65/mental-health-depression-disorder-data         Mental Health Depression Disorder Data           3MB  2024-07-11 16:23:38           1901         67  0.88235295       \n",
            "kamaumunyori/global-health-data-analysis-1990-2019              Global Health Data Analysis 1990-2019           11MB  2023-06-05 22:12:22           1450         17  0.875            \n",
            "thedevastator/global-mental-health-disorders                    Global Mental Health Disorders                   1MB  2023-01-21 03:14:46           1152         18  0.9411765        \n",
            "thedevastator/global-suicide-mental-health-substance-use-disor  Global Suicide, Mental Health, Substance Use    68KB  2023-01-24 17:11:17           1320         17  0.9411765        \n",
            "thedevastator/gender-mental-disorder-prevalence-2019            Gender Mental Disorder Prevalence                3MB  2023-01-21 10:40:48            307          6  0.9411765        \n",
            "mikekzan/who-alcohol-total-per-capita-consumption-rate          WHO Alcohol total per capita consumption rate  205KB  2022-02-21 18:49:03            553         10  0.9411765        \n"
          ]
        }
      ]
    },
    {
      "cell_type": "code",
      "source": [
        "!kaggle datasets download -d thedevastator/uncover-global-trends-in-mental-health-disorder"
      ],
      "metadata": {
        "colab": {
          "base_uri": "https://localhost:8080/"
        },
        "id": "Oi2qutOyUovD",
        "outputId": "e8714875-df5f-402f-8852-996a1f773f45"
      },
      "execution_count": 11,
      "outputs": [
        {
          "output_type": "stream",
          "name": "stdout",
          "text": [
            "Dataset URL: https://www.kaggle.com/datasets/thedevastator/uncover-global-trends-in-mental-health-disorder\n",
            "License(s): other\n",
            "Downloading uncover-global-trends-in-mental-health-disorder.zip to /content\n",
            "  0% 0.00/1.24M [00:00<?, ?B/s]\n",
            "100% 1.24M/1.24M [00:00<00:00, 76.1MB/s]\n"
          ]
        }
      ]
    },
    {
      "cell_type": "code",
      "source": [
        "!unzip uncover-global-trends-in-mental-health-disorder.zip"
      ],
      "metadata": {
        "colab": {
          "base_uri": "https://localhost:8080/"
        },
        "id": "LCjWczQ9UvoT",
        "outputId": "d7cc4731-ad23-4442-db35-a345def6288f"
      },
      "execution_count": 13,
      "outputs": [
        {
          "output_type": "stream",
          "name": "stdout",
          "text": [
            "Archive:  uncover-global-trends-in-mental-health-disorder.zip\n",
            "  inflating: Mental health Depression disorder Data.csv  \n"
          ]
        }
      ]
    },
    {
      "cell_type": "markdown",
      "source": [
        "## dataset 3"
      ],
      "metadata": {
        "id": "e-ck3jarVDAy"
      }
    },
    {
      "cell_type": "code",
      "source": [
        "!kaggle datasets list -s \"Credit Card Approvals\""
      ],
      "metadata": {
        "colab": {
          "base_uri": "https://localhost:8080/"
        },
        "id": "gxguisxbVEhG",
        "outputId": "a01ea751-6299-4850-e4a9-875b8eaeb2fa"
      },
      "execution_count": 14,
      "outputs": [
        {
          "output_type": "stream",
          "name": "stdout",
          "text": [
            "ref                                                      title                                     size  lastUpdated          downloadCount  voteCount  usabilityRating  \n",
            "-------------------------------------------------------  ----------------------------------------  ----  -------------------  -------------  ---------  ---------------  \n",
            "samuelcortinhas/credit-card-approval-clean-data          Credit Card Approvals (Clean Data)        19KB  2022-04-25 15:52:35           9166         97  1.0              \n",
            "devzohaib/predicting-credit-card-approvals               Predicting Credit Card Approvals          10KB  2022-11-09 05:52:16           1143         27  1.0              \n",
            "muzammilrizvi1/credit-card-apprivals                     Credit card approvals                      9KB  2023-08-28 09:02:32           1630         38  0.875            \n",
            "zahrazolghadr/bank-loan                                  Bank Loan                                 12KB  2023-12-24 16:31:18            610         16  0.625            \n",
            "kamganganthony/predicting-credit-card-approvals          Predicting Credit Card Approvals          19KB  2022-04-22 10:48:09             51          2  0.4375           \n",
            "venessagreen/predicting-credit-card-approval             Predicting Credit Card Approval           18KB  2023-02-28 19:15:42            166          2  1.0              \n",
            "bakrmahmoud/credit-cards-approvals                       credit cards approvals                     9KB  2021-09-08 12:49:54             61          2  0.5              \n",
            "towhidultonmoy/predicting-credit-card-approvals-dataset  Predicting Credit Card Approvals Dataset   9KB  2022-03-21 11:42:28             40          3  0.1875           \n",
            "evertonsilva1985/credit-card-approvals-clean-data        Credit Card Approvals (Clean Data)        28KB  2023-10-13 02:12:16             41          1  0.5294118        \n",
            "zahrazolghadr/bank-loan-cleaned-ver1                     Bank Loan - Cleaned Ver1                  11KB  2024-01-08 16:59:29            178          8  0.5882353        \n",
            "abdelazizsami/predicting-credit-card-approvals           Predicting Credit Card Approvals           8KB  2024-09-27 18:45:01              5          0  0.3125           \n"
          ]
        }
      ]
    },
    {
      "cell_type": "code",
      "source": [
        "!kaggle datasets download -d samuelcortinhas/credit-card-approval-clean-data"
      ],
      "metadata": {
        "colab": {
          "base_uri": "https://localhost:8080/"
        },
        "id": "EhH3HfmGVLVh",
        "outputId": "86cbaf09-d574-4dec-92e9-eb6d5726e423"
      },
      "execution_count": 15,
      "outputs": [
        {
          "output_type": "stream",
          "name": "stdout",
          "text": [
            "Dataset URL: https://www.kaggle.com/datasets/samuelcortinhas/credit-card-approval-clean-data\n",
            "License(s): CC0-1.0\n",
            "Downloading credit-card-approval-clean-data.zip to /content\n",
            "  0% 0.00/19.0k [00:00<?, ?B/s]\n",
            "100% 19.0k/19.0k [00:00<00:00, 37.1MB/s]\n"
          ]
        }
      ]
    },
    {
      "cell_type": "code",
      "source": [
        "!unzip credit-card-approval-clean-data.zip"
      ],
      "metadata": {
        "colab": {
          "base_uri": "https://localhost:8080/"
        },
        "id": "9X4erHm6VcSV",
        "outputId": "1f88983b-05ed-4138-ca65-38bd7dde25a3"
      },
      "execution_count": 16,
      "outputs": [
        {
          "output_type": "stream",
          "name": "stdout",
          "text": [
            "Archive:  credit-card-approval-clean-data.zip\n",
            "  inflating: clean_dataset.csv       \n",
            "  inflating: crx.csv                 \n"
          ]
        }
      ]
    },
    {
      "cell_type": "markdown",
      "source": [
        "###Display the first few rows and Provide a brief dataset description."
      ],
      "metadata": {
        "id": "8gHW0fglWccd"
      }
    },
    {
      "cell_type": "markdown",
      "source": [
        "#### dataset 1"
      ],
      "metadata": {
        "id": "-GbEbZL7bpWl"
      }
    },
    {
      "cell_type": "code",
      "source": [
        "import pandas as pd\n",
        "train_data = pd.read_csv('Mental health Depression disorder Data.csv')"
      ],
      "metadata": {
        "colab": {
          "base_uri": "https://localhost:8080/"
        },
        "id": "s49yb0MEWFgx",
        "outputId": "a5003422-b3d0-493a-c876-e08e5f7d094a"
      },
      "execution_count": 29,
      "outputs": [
        {
          "output_type": "stream",
          "name": "stderr",
          "text": [
            "<ipython-input-29-ae2c48b8e7c5>:2: DtypeWarning: Columns (5,6) have mixed types. Specify dtype option on import or set low_memory=False.\n",
            "  train_data = pd.read_csv('Mental health Depression disorder Data.csv')\n"
          ]
        }
      ]
    },
    {
      "cell_type": "code",
      "source": [
        "print(train_data.head()) # # Displays the first 5 rows by default"
      ],
      "metadata": {
        "colab": {
          "base_uri": "https://localhost:8080/"
        },
        "id": "Jx1V1W9JWYJk",
        "outputId": "4c54f81d-653c-497c-c2de-4e8dc44919f8"
      },
      "execution_count": 30,
      "outputs": [
        {
          "output_type": "stream",
          "name": "stdout",
          "text": [
            "   index       Entity Code  Year Schizophrenia (%) Bipolar disorder (%)  \\\n",
            "0      0  Afghanistan  AFG  1990           0.16056             0.697779   \n",
            "1      1  Afghanistan  AFG  1991          0.160312             0.697961   \n",
            "2      2  Afghanistan  AFG  1992          0.160135             0.698107   \n",
            "3      3  Afghanistan  AFG  1993          0.160037             0.698257   \n",
            "4      4  Afghanistan  AFG  1994          0.160022             0.698469   \n",
            "\n",
            "  Eating disorders (%)  Anxiety disorders (%)  Drug use disorders (%)  \\\n",
            "0             0.101855               4.828830                1.677082   \n",
            "1             0.099313               4.829740                1.684746   \n",
            "2             0.096692               4.831108                1.694334   \n",
            "3             0.094336               4.830864                1.705320   \n",
            "4             0.092439               4.829423                1.716069   \n",
            "\n",
            "   Depression (%)  Alcohol use disorders (%)  \n",
            "0        4.071831                   0.672404  \n",
            "1        4.079531                   0.671768  \n",
            "2        4.088358                   0.670644  \n",
            "3        4.096190                   0.669738  \n",
            "4        4.099582                   0.669260  \n"
          ]
        }
      ]
    },
    {
      "cell_type": "code",
      "source": [
        "train_data.info()"
      ],
      "metadata": {
        "colab": {
          "base_uri": "https://localhost:8080/"
        },
        "id": "uJq_ex04Y0sD",
        "outputId": "dec358fb-1180-433a-9e34-0d6bdd604bd9"
      },
      "execution_count": 31,
      "outputs": [
        {
          "output_type": "stream",
          "name": "stdout",
          "text": [
            "<class 'pandas.core.frame.DataFrame'>\n",
            "RangeIndex: 108553 entries, 0 to 108552\n",
            "Data columns (total 11 columns):\n",
            " #   Column                     Non-Null Count   Dtype  \n",
            "---  ------                     --------------   -----  \n",
            " 0   index                      108553 non-null  int64  \n",
            " 1   Entity                     108553 non-null  object \n",
            " 2   Code                       103141 non-null  object \n",
            " 3   Year                       108553 non-null  object \n",
            " 4   Schizophrenia (%)          25875 non-null   object \n",
            " 5   Bipolar disorder (%)       19406 non-null   object \n",
            " 6   Eating disorders (%)       100236 non-null  object \n",
            " 7   Anxiety disorders (%)      6468 non-null    float64\n",
            " 8   Drug use disorders (%)     6468 non-null    float64\n",
            " 9   Depression (%)             6468 non-null    float64\n",
            " 10  Alcohol use disorders (%)  6468 non-null    float64\n",
            "dtypes: float64(4), int64(1), object(6)\n",
            "memory usage: 9.1+ MB\n"
          ]
        }
      ]
    },
    {
      "cell_type": "code",
      "source": [
        "print(train_data.describe())"
      ],
      "metadata": {
        "colab": {
          "base_uri": "https://localhost:8080/"
        },
        "id": "Nm3o0y1xZQGR",
        "outputId": "99dd730d-3d0e-4453-f327-3507af9b5aa1"
      },
      "execution_count": 32,
      "outputs": [
        {
          "output_type": "stream",
          "name": "stdout",
          "text": [
            "               index  Anxiety disorders (%)  Drug use disorders (%)  \\\n",
            "count  108553.000000            6468.000000             6468.000000   \n",
            "mean    54276.000000               3.989921                0.862278   \n",
            "std     31336.696223               1.167526                0.460679   \n",
            "min         0.000000               2.023393                0.383650   \n",
            "25%     27138.000000               3.188824                0.535064   \n",
            "50%     54276.000000               3.554373                0.726430   \n",
            "75%     81414.000000               4.682163                0.940157   \n",
            "max    108552.000000               8.967330                3.452476   \n",
            "\n",
            "       Depression (%)  Alcohol use disorders (%)  \n",
            "count     6468.000000                6468.000000  \n",
            "mean         3.497654                   1.585821  \n",
            "std          0.655859                   0.860283  \n",
            "min          2.139903                   0.446940  \n",
            "25%          3.005529                   0.993685  \n",
            "50%          3.499606                   1.479936  \n",
            "75%          3.912381                   1.867834  \n",
            "max          6.602754                   5.474668  \n"
          ]
        }
      ]
    },
    {
      "cell_type": "code",
      "source": [
        "print(train_data.isnull().sum())"
      ],
      "metadata": {
        "colab": {
          "base_uri": "https://localhost:8080/"
        },
        "id": "5FPCc2KHZeZ3",
        "outputId": "ef36da41-7895-43a9-cb27-ed0fc4423785"
      },
      "execution_count": 33,
      "outputs": [
        {
          "output_type": "stream",
          "name": "stdout",
          "text": [
            "index                             0\n",
            "Entity                            0\n",
            "Code                           5412\n",
            "Year                              0\n",
            "Schizophrenia (%)             82678\n",
            "Bipolar disorder (%)          89147\n",
            "Eating disorders (%)           8317\n",
            "Anxiety disorders (%)        102085\n",
            "Drug use disorders (%)       102085\n",
            "Depression (%)               102085\n",
            "Alcohol use disorders (%)    102085\n",
            "dtype: int64\n"
          ]
        }
      ]
    },
    {
      "cell_type": "code",
      "source": [
        "print(train_data.columns)"
      ],
      "metadata": {
        "colab": {
          "base_uri": "https://localhost:8080/"
        },
        "id": "EM77-hf4ZhpA",
        "outputId": "e436a173-3fe5-4561-d86e-818e6319ebf8"
      },
      "execution_count": 34,
      "outputs": [
        {
          "output_type": "stream",
          "name": "stdout",
          "text": [
            "Index(['index', 'Entity', 'Code', 'Year', 'Schizophrenia (%)',\n",
            "       'Bipolar disorder (%)', 'Eating disorders (%)', 'Anxiety disorders (%)',\n",
            "       'Drug use disorders (%)', 'Depression (%)',\n",
            "       'Alcohol use disorders (%)'],\n",
            "      dtype='object')\n"
          ]
        }
      ]
    },
    {
      "cell_type": "markdown",
      "source": [
        "#### dataset 2"
      ],
      "metadata": {
        "id": "NfrUXsdiWi72"
      }
    },
    {
      "cell_type": "code",
      "source": [
        "import pandas as pd\n",
        "train_data2 = pd.read_csv('/content/Time Americans Spend Sleeping.csv')"
      ],
      "metadata": {
        "id": "nlum-LmWWk95"
      },
      "execution_count": 36,
      "outputs": []
    },
    {
      "cell_type": "code",
      "source": [
        "print(train_data2.head()) # # Displays the first 5 rows by default"
      ],
      "metadata": {
        "colab": {
          "base_uri": "https://localhost:8080/"
        },
        "id": "fa8OTuCOWpOk",
        "outputId": "8d747005-a252-4307-8ef9-75f997e82fe9"
      },
      "execution_count": 37,
      "outputs": [
        {
          "output_type": "stream",
          "name": "stdout",
          "text": [
            "   index  Year  Period  Avg hrs per day sleeping  Standard Error Type of Days  \\\n",
            "0      0  2003  Annual                      8.57           0.018     All days   \n",
            "1      1  2004  Annual                      8.55           0.026     All days   \n",
            "2      2  2005  Annual                      8.62           0.023     All days   \n",
            "3      3  2006  Annual                      8.63           0.024     All days   \n",
            "4      4  2007  Annual                      8.57           0.024     All days   \n",
            "\n",
            "           Age Group  Activity   Sex  \n",
            "0  15 years and over  Sleeping  Both  \n",
            "1  15 years and over  Sleeping  Both  \n",
            "2  15 years and over  Sleeping  Both  \n",
            "3  15 years and over  Sleeping  Both  \n",
            "4  15 years and over  Sleeping  Both  \n"
          ]
        }
      ]
    },
    {
      "cell_type": "code",
      "source": [
        "train_data2.info()"
      ],
      "metadata": {
        "colab": {
          "base_uri": "https://localhost:8080/"
        },
        "id": "qDruenM-Z1y8",
        "outputId": "68fbd0f8-1dca-4bad-f0b1-108f89cf41ec"
      },
      "execution_count": 38,
      "outputs": [
        {
          "output_type": "stream",
          "name": "stdout",
          "text": [
            "<class 'pandas.core.frame.DataFrame'>\n",
            "RangeIndex: 945 entries, 0 to 944\n",
            "Data columns (total 9 columns):\n",
            " #   Column                    Non-Null Count  Dtype  \n",
            "---  ------                    --------------  -----  \n",
            " 0   index                     945 non-null    int64  \n",
            " 1   Year                      945 non-null    int64  \n",
            " 2   Period                    945 non-null    object \n",
            " 3   Avg hrs per day sleeping  945 non-null    float64\n",
            " 4   Standard Error            945 non-null    float64\n",
            " 5   Type of Days              945 non-null    object \n",
            " 6   Age Group                 945 non-null    object \n",
            " 7   Activity                  945 non-null    object \n",
            " 8   Sex                       945 non-null    object \n",
            "dtypes: float64(2), int64(2), object(5)\n",
            "memory usage: 66.6+ KB\n"
          ]
        }
      ]
    },
    {
      "cell_type": "code",
      "source": [
        "print(train_data2.describe())"
      ],
      "metadata": {
        "colab": {
          "base_uri": "https://localhost:8080/"
        },
        "id": "H8ZaVADwZ3sd",
        "outputId": "e201fa5e-d1ac-4e79-f6c1-6a9aab10dba6"
      },
      "execution_count": 39,
      "outputs": [
        {
          "output_type": "stream",
          "name": "stdout",
          "text": [
            "            index         Year  Avg hrs per day sleeping  Standard Error\n",
            "count  945.000000   945.000000                945.000000      945.000000\n",
            "mean   472.000000  2010.000000                  8.806868        0.086958\n",
            "std    272.942302     4.322782                  0.545001        0.034631\n",
            "min      0.000000  2003.000000                  7.720000        0.018000\n",
            "25%    236.000000  2006.000000                  8.360000        0.063000\n",
            "50%    472.000000  2010.000000                  8.810000        0.084000\n",
            "75%    708.000000  2014.000000                  9.190000        0.106000\n",
            "max    944.000000  2017.000000                 10.650000        0.228000\n"
          ]
        }
      ]
    },
    {
      "cell_type": "code",
      "source": [
        "print(train_data2.isnull().sum())"
      ],
      "metadata": {
        "colab": {
          "base_uri": "https://localhost:8080/"
        },
        "id": "_vKc3ZShZ9AL",
        "outputId": "878f689b-ec25-48b6-9c40-b2796e5c7c1d"
      },
      "execution_count": 40,
      "outputs": [
        {
          "output_type": "stream",
          "name": "stdout",
          "text": [
            "index                       0\n",
            "Year                        0\n",
            "Period                      0\n",
            "Avg hrs per day sleeping    0\n",
            "Standard Error              0\n",
            "Type of Days                0\n",
            "Age Group                   0\n",
            "Activity                    0\n",
            "Sex                         0\n",
            "dtype: int64\n"
          ]
        }
      ]
    },
    {
      "cell_type": "code",
      "source": [
        "print(train_data.columns)"
      ],
      "metadata": {
        "colab": {
          "base_uri": "https://localhost:8080/"
        },
        "id": "-RE84wxmaDTd",
        "outputId": "7df09372-5bdc-40d1-ed2b-da117c590d3b"
      },
      "execution_count": 41,
      "outputs": [
        {
          "output_type": "stream",
          "name": "stdout",
          "text": [
            "Index(['index', 'Entity', 'Code', 'Year', 'Schizophrenia (%)',\n",
            "       'Bipolar disorder (%)', 'Eating disorders (%)', 'Anxiety disorders (%)',\n",
            "       'Drug use disorders (%)', 'Depression (%)',\n",
            "       'Alcohol use disorders (%)'],\n",
            "      dtype='object')\n"
          ]
        }
      ]
    },
    {
      "cell_type": "markdown",
      "source": [
        "#### dataset 3\n"
      ],
      "metadata": {
        "id": "5D_KzlLAWxNX"
      }
    },
    {
      "cell_type": "code",
      "source": [
        "import pandas as pd\n",
        "clean_data = pd.read_csv('/content/clean_dataset.csv')"
      ],
      "metadata": {
        "id": "8B4DAU0sWzop"
      },
      "execution_count": 25,
      "outputs": []
    },
    {
      "cell_type": "code",
      "source": [
        "print(clean_data.head()) # # Displays the first 5 rows by default"
      ],
      "metadata": {
        "colab": {
          "base_uri": "https://localhost:8080/"
        },
        "id": "KcqQwGxPXF8M",
        "outputId": "8b6b2bb6-3f8c-41f1-f06b-fc2129f02eb5"
      },
      "execution_count": 24,
      "outputs": [
        {
          "output_type": "stream",
          "name": "stdout",
          "text": [
            "   Gender    Age   Debt  Married  BankCustomer     Industry Ethnicity  \\\n",
            "0       1  30.83  0.000        1             1  Industrials     White   \n",
            "1       0  58.67  4.460        1             1    Materials     Black   \n",
            "2       0  24.50  0.500        1             1    Materials     Black   \n",
            "3       1  27.83  1.540        1             1  Industrials     White   \n",
            "4       1  20.17  5.625        1             1  Industrials     White   \n",
            "\n",
            "   YearsEmployed  PriorDefault  Employed  CreditScore  DriversLicense  \\\n",
            "0           1.25             1         1            1               0   \n",
            "1           3.04             1         1            6               0   \n",
            "2           1.50             1         0            0               0   \n",
            "3           3.75             1         1            5               1   \n",
            "4           1.71             1         0            0               0   \n",
            "\n",
            "        Citizen  ZipCode  Income  Approved  \n",
            "0       ByBirth      202       0         1  \n",
            "1       ByBirth       43     560         1  \n",
            "2       ByBirth      280     824         1  \n",
            "3       ByBirth      100       3         1  \n",
            "4  ByOtherMeans      120       0         1  \n"
          ]
        }
      ]
    },
    {
      "cell_type": "code",
      "source": [
        "clean_data.info()"
      ],
      "metadata": {
        "colab": {
          "base_uri": "https://localhost:8080/"
        },
        "id": "YUCYbbYMaQ6t",
        "outputId": "0a4a858d-8e89-4fbc-b322-db0ab3e2e33f"
      },
      "execution_count": 47,
      "outputs": [
        {
          "output_type": "stream",
          "name": "stdout",
          "text": [
            "<class 'pandas.core.frame.DataFrame'>\n",
            "RangeIndex: 690 entries, 0 to 689\n",
            "Data columns (total 16 columns):\n",
            " #   Column          Non-Null Count  Dtype  \n",
            "---  ------          --------------  -----  \n",
            " 0   Gender          690 non-null    int64  \n",
            " 1   Age             690 non-null    float64\n",
            " 2   Debt            690 non-null    float64\n",
            " 3   Married         690 non-null    int64  \n",
            " 4   BankCustomer    690 non-null    int64  \n",
            " 5   Industry        690 non-null    object \n",
            " 6   Ethnicity       690 non-null    object \n",
            " 7   YearsEmployed   690 non-null    float64\n",
            " 8   PriorDefault    690 non-null    int64  \n",
            " 9   Employed        690 non-null    int64  \n",
            " 10  CreditScore     690 non-null    int64  \n",
            " 11  DriversLicense  690 non-null    int64  \n",
            " 12  Citizen         690 non-null    object \n",
            " 13  ZipCode         690 non-null    int64  \n",
            " 14  Income          690 non-null    int64  \n",
            " 15  Approved        690 non-null    int64  \n",
            "dtypes: float64(3), int64(10), object(3)\n",
            "memory usage: 86.4+ KB\n"
          ]
        }
      ]
    },
    {
      "cell_type": "code",
      "source": [
        "print(clean_data.describe())"
      ],
      "metadata": {
        "colab": {
          "base_uri": "https://localhost:8080/"
        },
        "id": "pcNUh0LwaWKr",
        "outputId": "7f9a70a2-c175-4324-a6ae-15d28f972f1d"
      },
      "execution_count": 43,
      "outputs": [
        {
          "output_type": "stream",
          "name": "stdout",
          "text": [
            "           Gender         Age        Debt     Married  BankCustomer  \\\n",
            "count  690.000000  690.000000  690.000000  690.000000    690.000000   \n",
            "mean     0.695652   31.514116    4.758725    0.760870      0.763768   \n",
            "std      0.460464   11.860245    4.978163    0.426862      0.425074   \n",
            "min      0.000000   13.750000    0.000000    0.000000      0.000000   \n",
            "25%      0.000000   22.670000    1.000000    1.000000      1.000000   \n",
            "50%      1.000000   28.460000    2.750000    1.000000      1.000000   \n",
            "75%      1.000000   37.707500    7.207500    1.000000      1.000000   \n",
            "max      1.000000   80.250000   28.000000    1.000000      1.000000   \n",
            "\n",
            "       YearsEmployed  PriorDefault    Employed  CreditScore  DriversLicense  \\\n",
            "count     690.000000    690.000000  690.000000    690.00000      690.000000   \n",
            "mean        2.223406      0.523188    0.427536      2.40000        0.457971   \n",
            "std         3.346513      0.499824    0.495080      4.86294        0.498592   \n",
            "min         0.000000      0.000000    0.000000      0.00000        0.000000   \n",
            "25%         0.165000      0.000000    0.000000      0.00000        0.000000   \n",
            "50%         1.000000      1.000000    0.000000      0.00000        0.000000   \n",
            "75%         2.625000      1.000000    1.000000      3.00000        1.000000   \n",
            "max        28.500000      1.000000    1.000000     67.00000        1.000000   \n",
            "\n",
            "           ZipCode         Income    Approved  \n",
            "count   690.000000     690.000000  690.000000  \n",
            "mean    180.547826    1017.385507    0.444928  \n",
            "std     173.970323    5210.102598    0.497318  \n",
            "min       0.000000       0.000000    0.000000  \n",
            "25%      60.000000       0.000000    0.000000  \n",
            "50%     160.000000       5.000000    0.000000  \n",
            "75%     272.000000     395.500000    1.000000  \n",
            "max    2000.000000  100000.000000    1.000000  \n"
          ]
        }
      ]
    },
    {
      "cell_type": "code",
      "source": [
        "print(clean_data.isnull().sum())"
      ],
      "metadata": {
        "colab": {
          "base_uri": "https://localhost:8080/"
        },
        "id": "CrqUMuDfagJv",
        "outputId": "4e9cb7dd-ba19-44e7-ec8f-f20738f7b1cd"
      },
      "execution_count": 44,
      "outputs": [
        {
          "output_type": "stream",
          "name": "stdout",
          "text": [
            "Gender            0\n",
            "Age               0\n",
            "Debt              0\n",
            "Married           0\n",
            "BankCustomer      0\n",
            "Industry          0\n",
            "Ethnicity         0\n",
            "YearsEmployed     0\n",
            "PriorDefault      0\n",
            "Employed          0\n",
            "CreditScore       0\n",
            "DriversLicense    0\n",
            "Citizen           0\n",
            "ZipCode           0\n",
            "Income            0\n",
            "Approved          0\n",
            "dtype: int64\n"
          ]
        }
      ]
    },
    {
      "cell_type": "code",
      "source": [
        "print(clean_data.columns)"
      ],
      "metadata": {
        "colab": {
          "base_uri": "https://localhost:8080/"
        },
        "id": "iGJpG2HHaqaL",
        "outputId": "28500e29-5042-46e0-956b-b16789dbdbe4"
      },
      "execution_count": 45,
      "outputs": [
        {
          "output_type": "stream",
          "name": "stdout",
          "text": [
            "Index(['Gender', 'Age', 'Debt', 'Married', 'BankCustomer', 'Industry',\n",
            "       'Ethnicity', 'YearsEmployed', 'PriorDefault', 'Employed', 'CreditScore',\n",
            "       'DriversLicense', 'Citizen', 'ZipCode', 'Income', 'Approved'],\n",
            "      dtype='object')\n"
          ]
        }
      ]
    },
    {
      "cell_type": "code",
      "source": [
        "import pandas as pd\n",
        "crx = pd.read_csv('/content/crx.csv')"
      ],
      "metadata": {
        "id": "-qKplX_pXL5o"
      },
      "execution_count": 26,
      "outputs": []
    },
    {
      "cell_type": "code",
      "source": [
        "print(crx.head()) #Displays the first 5 rows by default"
      ],
      "metadata": {
        "colab": {
          "base_uri": "https://localhost:8080/"
        },
        "id": "gagorWpCXSae",
        "outputId": "8ecf225e-0da0-4f96-8c5b-4f8c38570270"
      },
      "execution_count": 27,
      "outputs": [
        {
          "output_type": "stream",
          "name": "stdout",
          "text": [
            "   b  30.83      0  u  g  w  v  1.25  t t.1  01  f g.1  00202  0.1  +\n",
            "0  a  58.67  4.460  u  g  q  h  3.04  t   t   6  f   g  00043  560  +\n",
            "1  a  24.50  0.500  u  g  q  h  1.50  t   f   0  f   g  00280  824  +\n",
            "2  b  27.83  1.540  u  g  w  v  3.75  t   t   5  t   g  00100    3  +\n",
            "3  b  20.17  5.625  u  g  w  v  1.71  t   f   0  f   s  00120    0  +\n",
            "4  b  32.08  4.000  u  g  m  v  2.50  t   f   0  t   g  00360    0  +\n"
          ]
        }
      ]
    },
    {
      "cell_type": "code",
      "source": [
        "print(crx.describe())"
      ],
      "metadata": {
        "colab": {
          "base_uri": "https://localhost:8080/"
        },
        "id": "IBJRucW0YD39",
        "outputId": "5aa4afd6-35cb-45ec-a4b8-f6e4a10f8822"
      },
      "execution_count": 46,
      "outputs": [
        {
          "output_type": "stream",
          "name": "stdout",
          "text": [
            "                0        1.25          01            0.1\n",
            "count  689.000000  689.000000  689.000000     689.000000\n",
            "mean     4.765631    2.224819    2.402032    1018.862119\n",
            "std      4.978470    3.348739    4.866180    5213.743149\n",
            "min      0.000000    0.000000    0.000000       0.000000\n",
            "25%      1.000000    0.165000    0.000000       0.000000\n",
            "50%      2.750000    1.000000    0.000000       5.000000\n",
            "75%      7.250000    2.625000    3.000000     396.000000\n",
            "max     28.000000   28.500000   67.000000  100000.000000\n"
          ]
        }
      ]
    },
    {
      "cell_type": "code",
      "source": [
        "crx.info()"
      ],
      "metadata": {
        "colab": {
          "base_uri": "https://localhost:8080/"
        },
        "id": "RvCqJCjPa8Ee",
        "outputId": "87f4697d-afbe-4653-d33d-fa5ec0d45bf5"
      },
      "execution_count": 48,
      "outputs": [
        {
          "output_type": "stream",
          "name": "stdout",
          "text": [
            "<class 'pandas.core.frame.DataFrame'>\n",
            "RangeIndex: 689 entries, 0 to 688\n",
            "Data columns (total 16 columns):\n",
            " #   Column  Non-Null Count  Dtype  \n",
            "---  ------  --------------  -----  \n",
            " 0   b       689 non-null    object \n",
            " 1   30.83   689 non-null    object \n",
            " 2   0       689 non-null    float64\n",
            " 3   u       689 non-null    object \n",
            " 4   g       689 non-null    object \n",
            " 5   w       689 non-null    object \n",
            " 6   v       689 non-null    object \n",
            " 7   1.25    689 non-null    float64\n",
            " 8   t       689 non-null    object \n",
            " 9   t.1     689 non-null    object \n",
            " 10  01      689 non-null    int64  \n",
            " 11  f       689 non-null    object \n",
            " 12  g.1     689 non-null    object \n",
            " 13  00202   689 non-null    object \n",
            " 14  0.1     689 non-null    int64  \n",
            " 15  +       689 non-null    object \n",
            "dtypes: float64(2), int64(2), object(12)\n",
            "memory usage: 86.3+ KB\n"
          ]
        }
      ]
    },
    {
      "cell_type": "code",
      "source": [
        "print(crx.isnull().sum())"
      ],
      "metadata": {
        "colab": {
          "base_uri": "https://localhost:8080/"
        },
        "id": "-xGmNlUibAMH",
        "outputId": "8d214241-d74c-4ab1-9b32-0bdf6a14b3ff"
      },
      "execution_count": 49,
      "outputs": [
        {
          "output_type": "stream",
          "name": "stdout",
          "text": [
            "b        0\n",
            "30.83    0\n",
            "0        0\n",
            "u        0\n",
            "g        0\n",
            "w        0\n",
            "v        0\n",
            "1.25     0\n",
            "t        0\n",
            "t.1      0\n",
            "01       0\n",
            "f        0\n",
            "g.1      0\n",
            "00202    0\n",
            "0.1      0\n",
            "+        0\n",
            "dtype: int64\n"
          ]
        }
      ]
    },
    {
      "cell_type": "code",
      "source": [
        "print(crx.columns)"
      ],
      "metadata": {
        "colab": {
          "base_uri": "https://localhost:8080/"
        },
        "id": "Qcww78_hbUvg",
        "outputId": "a1eae31c-7c60-42a1-e192-3a8928b7d26a"
      },
      "execution_count": 51,
      "outputs": [
        {
          "output_type": "stream",
          "name": "stdout",
          "text": [
            "Index(['b', '30.83', '0', 'u', 'g', 'w', 'v', '1.25', 't', 't.1', '01', 'f',\n",
            "       'g.1', '00202', '0.1', '+'],\n",
            "      dtype='object')\n"
          ]
        }
      ]
    },
    {
      "cell_type": "markdown",
      "source": [
        "#🌟Exercise 3: Identifying Data Types"
      ],
      "metadata": {
        "id": "KAfeTRQTb8UF"
      }
    },
    {
      "cell_type": "markdown",
      "source": [
        "## dataset 1"
      ],
      "metadata": {
        "id": "9VN0e5Njh-uQ"
      }
    },
    {
      "cell_type": "code",
      "source": [
        "\n",
        "quantitative_columns = train_data.select_dtypes(include=['int64', 'float64']).columns.tolist()\n",
        "\n",
        "\n",
        "qualitative_columns = train_data.select_dtypes(include=['object']).columns.tolist()\n",
        "\n",
        "print(\"Quantitative Columns:\", quantitative_columns)\n",
        "print(\"Qualitative Columns:\", qualitative_columns)\n",
        "\n"
      ],
      "metadata": {
        "colab": {
          "base_uri": "https://localhost:8080/"
        },
        "id": "Za10Vj1zb-nk",
        "outputId": "5ed564ac-0438-463c-bf03-40a0d1de517c"
      },
      "execution_count": 70,
      "outputs": [
        {
          "output_type": "stream",
          "name": "stdout",
          "text": [
            "Quantitative Columns: ['index', 'Anxiety disorders (%)', 'Drug use disorders (%)', 'Depression (%)', 'Alcohol use disorders (%)']\n",
            "Qualitative Columns: ['Entity', 'Code', 'Year', 'Schizophrenia (%)', 'Bipolar disorder (%)', 'Eating disorders (%)']\n"
          ]
        }
      ]
    },
    {
      "cell_type": "markdown",
      "source": [
        "## dataset 2"
      ],
      "metadata": {
        "id": "wlp5dGTykEnv"
      }
    },
    {
      "cell_type": "code",
      "source": [
        "\n",
        "quantitative_columns = train_data2.select_dtypes(include=['int64', 'float64']).columns.tolist()\n",
        "\n",
        "\n",
        "qualitative_columns = train_data2.select_dtypes(include=['object']).columns.tolist()\n",
        "\n",
        "print(\"Quantitative Columns:\", quantitative_columns)\n",
        "print(\"Qualitative Columns:\", qualitative_columns)"
      ],
      "metadata": {
        "colab": {
          "base_uri": "https://localhost:8080/"
        },
        "id": "ZhPbzfhdjjTn",
        "outputId": "ba1446e8-e1aa-4b4d-d1d4-ca48d759d2c7"
      },
      "execution_count": 69,
      "outputs": [
        {
          "output_type": "stream",
          "name": "stdout",
          "text": [
            "Quantitative Columns: ['index', 'Year', 'Avg hrs per day sleeping', 'Standard Error']\n",
            "Qualitative Columns: ['Period', 'Type of Days', 'Age Group', 'Activity', 'Sex']\n"
          ]
        }
      ]
    },
    {
      "cell_type": "markdown",
      "source": [
        "##dataset 3"
      ],
      "metadata": {
        "id": "zC6Ou1AnkLoP"
      }
    },
    {
      "cell_type": "code",
      "source": [
        "\n",
        "quantitative_columns = clean_data.select_dtypes(include=['int64', 'float64']).columns.tolist()\n",
        "\n",
        "\n",
        "qualitative_columns = clean_data.select_dtypes(include=['object']).columns.tolist()\n",
        "\n",
        "print(\"Quantitative Columns:\", quantitative_columns)\n",
        "print(\"Qualitative Columns:\", qualitative_columns)"
      ],
      "metadata": {
        "colab": {
          "base_uri": "https://localhost:8080/"
        },
        "id": "MzZhpd79jsOO",
        "outputId": "ba78f8db-84a2-48e8-b07f-f0060416150b"
      },
      "execution_count": 71,
      "outputs": [
        {
          "output_type": "stream",
          "name": "stdout",
          "text": [
            "Quantitative Columns: ['Gender', 'Age', 'Debt', 'Married', 'BankCustomer', 'YearsEmployed', 'PriorDefault', 'Employed', 'CreditScore', 'DriversLicense', 'ZipCode', 'Income', 'Approved']\n",
            "Qualitative Columns: ['Industry', 'Ethnicity', 'Citizen']\n"
          ]
        }
      ]
    },
    {
      "cell_type": "code",
      "source": [
        "quantitative_columns = crx.select_dtypes(include=['int64', 'float64']).columns.tolist()\n",
        "\n",
        "\n",
        "qualitative_columns = crx.select_dtypes(include=['object']).columns.tolist()\n",
        "\n",
        "print(\"Quantitative Columns:\", quantitative_columns)\n",
        "print(\"Qualitative Columns:\", qualitative_columns)"
      ],
      "metadata": {
        "colab": {
          "base_uri": "https://localhost:8080/"
        },
        "id": "OGUo2JZJkPEJ",
        "outputId": "fb7321ea-579e-4e13-8394-5b6dd42a8a39"
      },
      "execution_count": 72,
      "outputs": [
        {
          "output_type": "stream",
          "name": "stdout",
          "text": [
            "Quantitative Columns: ['0', '1.25', '01', '0.1']\n",
            "Qualitative Columns: ['b', '30.83', 'u', 'g', 'w', 'v', 't', 't.1', 'f', 'g.1', '00202', '+']\n"
          ]
        }
      ]
    },
    {
      "cell_type": "markdown",
      "source": [
        "#🌟Exercise 4: Exploring Data Types"
      ],
      "metadata": {
        "id": "6Swxd5E4kwvb"
      }
    },
    {
      "cell_type": "code",
      "source": [
        "!kaggle datasets list -s \"Iris dataset\""
      ],
      "metadata": {
        "colab": {
          "base_uri": "https://localhost:8080/"
        },
        "id": "aB2_aqJClDNX",
        "outputId": "bbe1f681-e21f-4c03-aa8f-9a83e2970f62"
      },
      "execution_count": 74,
      "outputs": [
        {
          "output_type": "stream",
          "name": "stdout",
          "text": [
            "ref                                                        title                                              size  lastUpdated          downloadCount  voteCount  usabilityRating  \n",
            "---------------------------------------------------------  ------------------------------------------------  -----  -------------------  -------------  ---------  ---------------  \n",
            "himanshunakrani/iris-dataset                               Iris dataset                                      1006B  2022-07-20 18:50:06          43764        199  1.0              \n",
            "arshid/iris-flower-dataset                                 Iris Flower Dataset                               1010B  2018-03-22 15:18:06         194304        944  0.8235294        \n",
            "vikrishnan/iris-dataset                                    Iris Dataset                                       999B  2017-08-03 16:00:44          45909        149  0.7647059        \n",
            "vijayaadithyanvg/iris-dataset                              IRIS DATASET                                      1023B  2023-01-14 07:44:53           2152         34  1.0              \n",
            "jillanisofttech/iris-dataset-uci                           Iris dataset uci                                    1KB  2021-11-06 15:11:47           2835         40  1.0              \n",
            "rtatman/iris-dataset-json-version                          Iris Dataset (JSON Version)                         1KB  2018-04-06 20:21:31          26369         97  0.75             \n",
            "parulpandey/palmer-archipelago-antarctica-penguin-data     Palmer Archipelago (Antarctica) penguin data       11KB  2020-06-09 10:14:54          88499        626  0.9705882        \n",
            "taweilo/iris-dataset-elarged-with-smote                    IRIS dataset - Classification                       9KB  2025-01-09 03:40:24            885         27  1.0              \n",
            "sakshisatre/iris-dataset                                   Iris Dataset                                        1KB  2024-03-30 15:42:43            862         42  1.0              \n",
            "uciml/iris                                                 Iris Species                                        4KB  2016-09-27 07:38:05         650795       4103  0.7941176        \n",
            "samybaladram/iris-dataset-extended                         🌺 Iris Dataset Extended                           107KB  2023-10-27 12:28:22           2214         41  1.0              \n",
            "ashkhagan/palmer-penguins-datasetalternative-iris-dataset  Palmer Penguins Dataset-Alternative Iris Dataset    3KB  2020-06-30 06:30:43           4503         25  0.8235294        \n",
            "soylevbeytullah/flowers-dataset-iris                       Flowers Dataset (Iris)                              1KB  2024-06-12 08:03:21            435         30  0.9411765        \n",
            "naureenmohammad/mmu-iris-dataset                           MMU iris dataset                                   30MB  2020-07-25 18:38:33           4215         54  0.625            \n",
            "chuckyin/iris-datasets                                     Iris datasets                                       1KB  2017-03-10 09:35:43           4093         26  0.7352941        \n",
            "zeeshanyounas001/iris-flower-dataset                       Iris Flower Dataset                                 1KB  2024-04-16 19:11:18            840         60  0.7647059        \n",
            "shantanuss/iris-flower-dataset                             IRIS flower dataset                                 1KB  2020-01-18 19:43:18           1100         10  0.9411765        \n",
            "mohdshahnawazaadil/iris-dataset                            IRIS dataset                                        1KB  2024-04-02 00:12:47            104         10  1.0              \n",
            "yash9439/iris-dataset                                      Iris Dataset                                      1012B  2024-02-13 12:05:24             24         89  0.3125           \n",
            "hemachandiranmurugan/iris-dataset                          Iris Dataset                                      1006B  2024-02-16 06:08:47            407          8  0.8235294        \n"
          ]
        }
      ]
    },
    {
      "cell_type": "code",
      "source": [
        "!kaggle datasets download -d himanshunakrani/iris-dataset\n"
      ],
      "metadata": {
        "colab": {
          "base_uri": "https://localhost:8080/"
        },
        "id": "LTwVs6aik7hu",
        "outputId": "9bb8e8cb-1ed9-4ad1-aabd-ae616774084a"
      },
      "execution_count": 75,
      "outputs": [
        {
          "output_type": "stream",
          "name": "stdout",
          "text": [
            "Dataset URL: https://www.kaggle.com/datasets/himanshunakrani/iris-dataset\n",
            "License(s): CC0-1.0\n",
            "Downloading iris-dataset.zip to /content\n",
            "  0% 0.00/0.98k [00:00<?, ?B/s]\n",
            "100% 0.98k/0.98k [00:00<00:00, 1.99MB/s]\n"
          ]
        }
      ]
    },
    {
      "cell_type": "code",
      "source": [
        "!unzip iris-dataset.zip"
      ],
      "metadata": {
        "colab": {
          "base_uri": "https://localhost:8080/"
        },
        "id": "wrBmkfnXlY-D",
        "outputId": "0511dc35-9a3f-4c93-ceee-b8ab03507674"
      },
      "execution_count": 77,
      "outputs": [
        {
          "output_type": "stream",
          "name": "stdout",
          "text": [
            "Archive:  iris-dataset.zip\n",
            "  inflating: iris.csv                \n"
          ]
        }
      ]
    },
    {
      "cell_type": "code",
      "source": [
        "iris_dataset = pd.read_csv('/content/iris.csv')"
      ],
      "metadata": {
        "id": "CSNSsxEnl7Mk"
      },
      "execution_count": 89,
      "outputs": []
    },
    {
      "cell_type": "code",
      "source": [
        "quantitative_columns = iris_dataset.select_dtypes(include=['int64', 'float64']).columns.tolist()\n",
        "\n",
        "\n",
        "qualitative_columns = iris_dataset.select_dtypes(include=['object']).columns.tolist()\n",
        "\n",
        "print(\"Quantitative Columns:\", quantitative_columns)\n",
        "print(\"Qualitative Columns:\", qualitative_columns)"
      ],
      "metadata": {
        "colab": {
          "base_uri": "https://localhost:8080/"
        },
        "id": "m-GPbMqMlx7A",
        "outputId": "90b780d3-319b-40ee-f9a7-9d796161e8b8"
      },
      "execution_count": 80,
      "outputs": [
        {
          "output_type": "stream",
          "name": "stdout",
          "text": [
            "Quantitative Columns: ['sepal_length', 'sepal_width', 'petal_length', 'petal_width']\n",
            "Qualitative Columns: ['species']\n"
          ]
        }
      ]
    },
    {
      "cell_type": "markdown",
      "source": [
        "\n",
        "\n",
        "\n",
        "\n",
        "```\n",
        "Quantitative Columns: ['sepal_length', 'sepal_width', 'petal_length', 'petal_width']\n",
        "Qualitative Columns: ['species']\n",
        "```\n",
        "\n",
        "\n",
        "\n",
        "> Qualitative Data: Non-numerical data that can be observed but not measured. Examples include descriptions, opinions, and text data.\n",
        "\n",
        "\n",
        "> Quantitative Data: Numerical data that can be measured and quantified. Examples include sales numbers, temperatures, and age.\n",
        "\n",
        "\n",
        "\n",
        "\n"
      ],
      "metadata": {
        "id": "qR7RuCo7mH1d"
      }
    },
    {
      "cell_type": "markdown",
      "source": [
        "#🌟Exercise 5: Basic Data Analysis with Google Colab"
      ],
      "metadata": {
        "id": "_hUv9M6JmxGK"
      }
    },
    {
      "cell_type": "code",
      "source": [
        "train_data = pd.read_csv('Mental health Depression disorder Data.csv')"
      ],
      "metadata": {
        "colab": {
          "base_uri": "https://localhost:8080/"
        },
        "id": "6nkwTOTJzKwl",
        "outputId": "7de30a2c-26cb-4506-fcb7-773d99d63625"
      },
      "execution_count": 96,
      "outputs": [
        {
          "output_type": "stream",
          "name": "stderr",
          "text": [
            "<ipython-input-96-a96bc395b521>:1: DtypeWarning: Columns (5,6) have mixed types. Specify dtype option on import or set low_memory=False.\n",
            "  train_data = pd.read_csv('Mental health Depression disorder Data.csv')\n"
          ]
        }
      ]
    },
    {
      "cell_type": "code",
      "source": [
        "print(train_data.select_dtypes(include=['int64', 'float64']).columns.tolist())\n"
      ],
      "metadata": {
        "colab": {
          "base_uri": "https://localhost:8080/"
        },
        "id": "E1GWMZGuxHIm",
        "outputId": "10d23631-d456-4ae1-f9e1-172b8c31b554"
      },
      "execution_count": 97,
      "outputs": [
        {
          "output_type": "stream",
          "name": "stdout",
          "text": [
            "['index', 'Anxiety disorders (%)', 'Drug use disorders (%)', 'Depression (%)', 'Alcohol use disorders (%)']\n"
          ]
        }
      ]
    },
    {
      "cell_type": "code",
      "source": [
        "column = 'Anxiety disorders (%)'\n",
        "\n",
        "mean_value = train_data[column].mean()    # The mean is the sum of all values in a column divided by the total number of values.\n",
        "median_value = train_data[column].median() # The median is the middle value when data is sorted in ascending order\n",
        "mode_value = train_data[column].mode()[0] # The mode is the most frequently occurring value in the dataset.\n",
        "\n",
        "\n",
        "print(f\"Mean: {mean_value}\")\n",
        "print(f\"Median: {median_value}\")\n",
        "print(f\"Mode: {mode_value}\")"
      ],
      "metadata": {
        "colab": {
          "base_uri": "https://localhost:8080/"
        },
        "id": "pmeP5kqdxTSO",
        "outputId": "d17d6705-d358-4c35-da14-5f4aab2b4166"
      },
      "execution_count": 98,
      "outputs": [
        {
          "output_type": "stream",
          "name": "stdout",
          "text": [
            "Mean: 3.989921290661719\n",
            "Median: 3.554373\n",
            "Mode: 2.879284\n"
          ]
        }
      ]
    },
    {
      "cell_type": "code",
      "source": [
        "import matplotlib.pyplot as plt\n",
        "\n",
        "\n",
        "plt.plot(train_data['Year'], train_data['Depression (%)'], marker='o', linestyle='-')\n",
        "\n",
        "plt.xlabel(\"Year\")\n",
        "plt.ylabel(\"Depression (%)\")\n",
        "plt.title(\"Depression Percentage Over Years\")\n",
        "plt.grid(True)\n",
        "plt.show()\n",
        "\n",
        "\n"
      ],
      "metadata": {
        "colab": {
          "base_uri": "https://localhost:8080/",
          "height": 472
        },
        "id": "2WaYBnyX0MW1",
        "outputId": "22781b95-25f4-4aec-d47f-fb1bd4a2e61e"
      },
      "execution_count": 106,
      "outputs": [
        {
          "output_type": "display_data",
          "data": {
            "text/plain": [
              "<Figure size 640x480 with 1 Axes>"
            ],
            "image/png": "[encoded data removed]"
          },
          "metadata": {}
        }
      ]
    },
    {
      "cell_type": "markdown",
      "source": [
        "# ***The chart is overloaded — there are too many lines due to the large amount of data***"
      ],
      "metadata": {
        "id": "po_1PXId0_hi"
      }
    },
    {
      "cell_type": "code",
      "source": [
        "\n",
        "import seaborn as sns\n",
        "\n",
        "\n",
        "sample_data = train_data.groupby(\"Year\")[\"Depression (%)\"].mean().reset_index()\n",
        "\n",
        "plt.figure(figsize=(10, 5))\n",
        "sns.lineplot(data=sample_data, x=\"Year\", y=\"Depression (%)\", marker=\"o\")\n",
        "\n",
        "plt.xlabel(\"Year\")\n",
        "plt.ylabel(\"Average Depression (%)\")\n",
        "plt.title(\"Average Depression Percentage Over Years\")\n",
        "plt.xticks(rotation=45)\n",
        "plt.grid(True)\n",
        "\n",
        "plt.show()\n",
        "#Seaborn is a Python data visualization library based on matplotlib. It provides a high-level interface for drawing attractive and informative statistical graphics"
      ],
      "metadata": {
        "colab": {
          "base_uri": "https://localhost:8080/",
          "height": 531
        },
        "id": "oF0BaMKU1Wwp",
        "outputId": "7cdca395-c399-4586-a97b-c7b4bd0ee38a"
      },
      "execution_count": 107,
      "outputs": [
        {
          "output_type": "display_data",
          "data": {
            "text/plain": [
              "<Figure size 1000x500 with 1 Axes>"
            ],
            "image/png": "[encoded data removed]"
          },
          "metadata": {}
        }
      ]
    },
    {
      "cell_type": "markdown",
      "source": [
        "#🌟Exercise 6: Basic Observation Skills in Data Analysis"
      ],
      "metadata": {
        "id": "zOmQILlt1rYj"
      }
    },
    {
      "cell_type": "markdown",
      "source": [
        "\n",
        "***From prev Exercise***\n",
        "\n",
        "\n",
        "\n",
        "> For trend analysis, the \"Year\" column is critical since it allows us to trace changes in depression percentages over time.\n",
        "\n",
        "\n",
        "> For group comparison, \"Entity\" (country or area) can be used to compare depression rates in different regions. Furthermore, columns such as \"Depression (%),\" \"Anxiety disorders (%),\" and \"Drug use disorders (%)\" might be combined to investigate relationships between mental health diseases in various populations.\n",
        "\n"
      ],
      "metadata": {
        "id": "8IGrnRBr1rBc"
      }
    }
  ]
}