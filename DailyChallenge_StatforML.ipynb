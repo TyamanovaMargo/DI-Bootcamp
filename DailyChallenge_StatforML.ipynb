{
  "metadata": {
    "kernelspec": {
      "display_name": "Python 3",
      "language": "python",
      "name": "python3"
    },
    "language_info": {
      "codemirror_mode": {
        "name": "ipython",
        "version": 3
      },
      "file_extension": ".py",
      "mimetype": "text/x-python",
      "name": "python",
      "nbconvert_exporter": "python",
      "pygments_lexer": "ipython3",
      "version": "3.7.3"
    },
    "kaggle": {
      "accelerator": "none",
      "dataSources": [
        {
          "sourceId": 123030,
          "sourceType": "datasetVersion",
          "datasetId": 63324
        }
      ],
      "dockerImageVersionId": 29661,
      "isInternetEnabled": false,
      "language": "python",
      "sourceType": "notebook",
      "isGpuEnabled": false
    },
    "colab": {
      "provenance": [],
      "include_colab_link": true
    }
  },
  "nbformat_minor": 0,
  "nbformat": 4,
  "cells": [
    {
      "cell_type": "markdown",
      "metadata": {
        "id": "view-in-github",
        "colab_type": "text"
      },
      "source": [
        "<a href=\"https://colab.research.google.com/github/TyamanovaMargo/DI-Bootcamp/blob/main/DailyChallenge_StatforML.ipynb\" target=\"_parent\"><img src=\"https://colab.research.google.com/assets/colab-badge.svg\" alt=\"Open In Colab\"/></a>"
      ]
    },
    {
      "cell_type": "markdown",
      "source": [
        "# Daily Challenge - Statistics for Machine Learning"
      ],
      "metadata": {
        "id": "UuXrSPsxYdaT"
      }
    },
    {
      "cell_type": "markdown",
      "source": [
        "# Applying Inferential Statistics"
      ],
      "metadata": {
        "id": "1rBLsOjtYXeL"
      }
    },
    {
      "cell_type": "markdown",
      "source": [
        "### Here are the hypotheses to test:\n",
        "1. Age of people who left the bank and who did not are similar. Alternative: Not similar.\n",
        "2. Credit score of people who left the bank and who did not are similar. Alternative: Not similar.\n",
        "3. Balance of people who left the bank and who did not are similar. Alternative: Not similar.\n",
        "4. Estimated Salary of people who left the bank and who did not are similar. Alternative: Not similar.\n",
        "\n",
        "#### The most appropriate test to analyse data here is Frequentist test."
      ],
      "metadata": {
        "id": "m159_b-KYXeM"
      }
    },
    {
      "cell_type": "code",
      "source": [
        "import pandas as pd\n",
        "import numpy as np\n",
        "import matplotlib.pyplot as plt\n",
        "import matplotlib\n",
        "import scipy.stats\n",
        "from scipy.stats import t\n",
        "from scipy.special import stdtr\n",
        "from numpy.random import seed\n",
        "import seaborn as sns\n",
        "\n",
        "%matplotlib inline\n",
        "from matplotlib import rcParams\n",
        "sns.set_style(\"whitegrid\")\n",
        "sns.set_context(\"poster\")"
      ],
      "metadata": {
        "trusted": true,
        "id": "6VbCpgYIYXeN"
      },
      "outputs": [],
      "execution_count": null
    },
    {
      "cell_type": "code",
      "source": [
        "matplotlib.rcParams['figure.figsize'] = (8.0, 5.0)"
      ],
      "metadata": {
        "trusted": true,
        "id": "ilycJrKhYXeP"
      },
      "outputs": [],
      "execution_count": null
    },
    {
      "cell_type": "code",
      "source": [
        "## TODO : load the csv file from this link : https://www.kaggle.com/code/vaibhagarwal/inferential-statistics/input\n",
        "## file_1 ="
      ],
      "metadata": {
        "trusted": true,
        "id": "U_B1ydKSYXeQ"
      },
      "outputs": [],
      "execution_count": null
    },
    {
      "cell_type": "code",
      "source": [
        "## TODO : make into a dataframe called df\n",
        "## df ="
      ],
      "metadata": {
        "trusted": true,
        "id": "-ziBKb3sYXeQ"
      },
      "outputs": [],
      "execution_count": null
    },
    {
      "cell_type": "code",
      "source": [
        "## TODO : output the first 5 lines\n"
      ],
      "metadata": {
        "trusted": true,
        "id": "r64j7oIdYXeQ"
      },
      "outputs": [],
      "execution_count": null
    },
    {
      "cell_type": "code",
      "source": [
        "## TODO : Create two separate DataFrames, `df_0` and `df_1`, to filter customers who have not exited (0) and customers who have exited (1), respectively\n"
      ],
      "metadata": {
        "trusted": true,
        "id": "LfVB9araYXeR"
      },
      "outputs": [],
      "execution_count": null
    },
    {
      "cell_type": "markdown",
      "source": [
        "## Hypothesis 1: Age"
      ],
      "metadata": {
        "id": "_upLIa4MYXeR"
      }
    },
    {
      "cell_type": "code",
      "source": [
        "## TODO: Plot the age distribution for customers who stayed with the bank and those who left using seaborn, with different colors for each group and a legend."
      ],
      "metadata": {
        "trusted": true,
        "id": "lzwyISqTYXeR"
      },
      "outputs": [],
      "execution_count": null
    },
    {
      "cell_type": "code",
      "source": [
        "## TODO: Calculate the mean and standard deviation of the age for customers who stayed with the bank."
      ],
      "metadata": {
        "trusted": true,
        "id": "ZzQ9CD1CYXeT"
      },
      "outputs": [],
      "execution_count": null
    },
    {
      "cell_type": "code",
      "source": [
        "## TODO: Calculate the mean and standard deviation of the age for customers who left the bank."
      ],
      "metadata": {
        "trusted": true,
        "id": "5J6QxZiBYXeT"
      },
      "outputs": [],
      "execution_count": null
    },
    {
      "cell_type": "code",
      "source": [
        "## TODO: Perform a t-test to compare the ages of customers who stayed and left the bank."
      ],
      "metadata": {
        "trusted": true,
        "id": "YXPWBb3LYXeT"
      },
      "outputs": [],
      "execution_count": null
    },
    {
      "cell_type": "markdown",
      "source": [
        "### Using Bootstrapping"
      ],
      "metadata": {
        "id": "6meSu950YXeT"
      }
    },
    {
      "cell_type": "code",
      "source": [
        "## TODO: Write a function to perform bootstrap sampling and calculate the statistic of interest.\n",
        "def bs_choice(data, func, size):\n",
        "    bs_s =\n",
        "    for i in range(size):\n",
        "        bs_abc =\n",
        "        bs_s[i] = func(bs_abc)\n",
        "    return bs_s"
      ],
      "metadata": {
        "trusted": true,
        "id": "x4jkphBfYXeT"
      },
      "outputs": [],
      "execution_count": null
    },
    {
      "cell_type": "code",
      "source": [
        "## TODO: Calculate the difference in means and shift the ages to the overall mean."
      ],
      "metadata": {
        "trusted": true,
        "id": "paeI6s32YXeT"
      },
      "outputs": [],
      "execution_count": null
    },
    {
      "cell_type": "code",
      "source": [
        "## TODO: Perform bootstrap sampling to calculate the standard deviation for both groups and their difference."
      ],
      "metadata": {
        "trusted": true,
        "id": "Ras7qEhMYXeU"
      },
      "outputs": [],
      "execution_count": null
    },
    {
      "cell_type": "code",
      "source": [
        "## TODO: Calculate the p-value by comparing the difference in means to the bootstrap distribution."
      ],
      "metadata": {
        "trusted": true,
        "id": "ZL9eAhm8YXeU"
      },
      "outputs": [],
      "execution_count": null
    },
    {
      "cell_type": "markdown",
      "source": [
        "### Conclusion\n",
        "Do we reject the Null Hypothesis ? Why ?"
      ],
      "metadata": {
        "id": "HLFqmWN6YXeU"
      }
    },
    {
      "cell_type": "markdown",
      "source": [
        "## Hypothesis 2: Credit Score"
      ],
      "metadata": {
        "id": "fvpSWFXBYXeU"
      }
    },
    {
      "cell_type": "code",
      "source": [
        "## TODO: Create histograms for the CreditScore distribution of both groups (Still with bank and Left the bank)."
      ],
      "metadata": {
        "trusted": true,
        "id": "M028Zn_BYXeU"
      },
      "outputs": [],
      "execution_count": null
    },
    {
      "cell_type": "code",
      "source": [
        "## TODO: Perform a t-test to compare the CreditScore between the two groups (Still with bank and Left the bank)."
      ],
      "metadata": {
        "trusted": true,
        "id": "jmW2iMo2YXeU"
      },
      "outputs": [],
      "execution_count": null
    },
    {
      "cell_type": "markdown",
      "source": [
        "### Conclusion\n",
        "Do we reject the Null Hypothesis ? Why ?"
      ],
      "metadata": {
        "id": "OeIyhh2rYXeV"
      }
    },
    {
      "cell_type": "markdown",
      "source": [
        "## Hypothesis 3: Balance"
      ],
      "metadata": {
        "id": "Yce2Lc51YXeV"
      }
    },
    {
      "cell_type": "code",
      "source": [
        "## TODO: Plot the distribution of Balance for both groups (Still with bank and Left the bank)."
      ],
      "metadata": {
        "trusted": true,
        "id": "U0fBMD8wYXeV"
      },
      "outputs": [],
      "execution_count": null
    },
    {
      "cell_type": "code",
      "source": [
        "## TODO: Perform a t-test to compare the Balance between customers who stayed with the bank and those who left."
      ],
      "metadata": {
        "trusted": true,
        "id": "b1uhCLRXYXeV"
      },
      "outputs": [],
      "execution_count": null
    },
    {
      "cell_type": "code",
      "source": [
        "## TODO: Visualize the distribution of Balance for customers who stayed with the bank and those who left, excluding zero balances."
      ],
      "metadata": {
        "trusted": true,
        "id": "n0zpQVhsYXeX"
      },
      "outputs": [],
      "execution_count": null
    },
    {
      "cell_type": "code",
      "source": [
        "## TODO: Perform a t-test to compare the Balance between customers who stayed with the bank and those who left, excluding zero balances."
      ],
      "metadata": {
        "trusted": true,
        "id": "-66PclUZYXeY"
      },
      "outputs": [],
      "execution_count": null
    },
    {
      "cell_type": "markdown",
      "source": [
        "## Conclusion\n",
        "\n",
        "Do we reject the Null Hypothesis ? Why ?"
      ],
      "metadata": {
        "id": "BYXZeBj_YXeY"
      }
    },
    {
      "cell_type": "markdown",
      "source": [
        "## Hypothesis 4: Estimated Salary"
      ],
      "metadata": {
        "id": "HxeZCKKeYXeY"
      }
    },
    {
      "cell_type": "code",
      "source": [
        "## TODO: Plot the distribution of EstimatedSalary for customers who stayed with the bank and those who left."
      ],
      "metadata": {
        "trusted": true,
        "id": "KtgE5IsWYXeY"
      },
      "outputs": [],
      "execution_count": null
    },
    {
      "cell_type": "code",
      "source": [
        "## TODO: Perform a t-test to compare the EstimatedSalary between customers who stayed and those who left."
      ],
      "metadata": {
        "trusted": true,
        "id": "T0m2RNlwYXeY"
      },
      "outputs": [],
      "execution_count": null
    },
    {
      "cell_type": "markdown",
      "source": [
        "### Using Bootstrapping"
      ],
      "metadata": {
        "id": "txzj3ia_YXeY"
      }
    },
    {
      "cell_type": "code",
      "source": [
        "## TODO: Calculate the difference in means and shift the EstimatedSalary for both groups."
      ],
      "metadata": {
        "trusted": true,
        "id": "3wRGyPhqYXeZ"
      },
      "outputs": [],
      "execution_count": null
    },
    {
      "cell_type": "code",
      "source": [
        "## TODO: Calculate the bootstrap sample means for both groups and their difference."
      ],
      "metadata": {
        "trusted": true,
        "id": "9BVafPH0YXeZ"
      },
      "outputs": [],
      "execution_count": null
    },
    {
      "cell_type": "code",
      "source": [
        "## TODO: Calculate the p-value based on the bootstrap distribution of the difference in means."
      ],
      "metadata": {
        "trusted": true,
        "id": "28LZLCTbYXeZ"
      },
      "outputs": [],
      "execution_count": null
    },
    {
      "cell_type": "markdown",
      "source": [
        "### Conclusion\n",
        "Do we reject the Null Hypothesis ? Why ?"
      ],
      "metadata": {
        "id": "xeH2Th5VYXeZ"
      }
    },
    {
      "cell_type": "markdown",
      "source": [
        "## Final Conclusion\n",
        "What will be the most helpful feature in predicting churning?\n"
      ],
      "metadata": {
        "id": "AhuTsEW9YXeZ"
      }
    }
  ]
}