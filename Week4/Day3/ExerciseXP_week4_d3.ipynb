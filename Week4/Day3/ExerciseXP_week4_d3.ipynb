{
  "nbformat": 4,
  "nbformat_minor": 0,
  "metadata": {
    "colab": {
      "provenance": [],
      "authorship_tag": "ABX9TyPXooInOCLSM9ML2pLRcxbH",
      "include_colab_link": true
    },
    "kernelspec": {
      "name": "python3",
      "display_name": "Python 3"
    },
    "language_info": {
      "name": "python"
    }
  },
  "cells": [
    {
      "cell_type": "markdown",
      "metadata": {
        "id": "view-in-github",
        "colab_type": "text"
      },
      "source": [
        "<a href=\"https://colab.research.google.com/github/TyamanovaMargo/DI-Bootcamp/blob/main/ExerciseXP_week4_d3.ipynb\" target=\"_parent\"><img src=\"https://colab.research.google.com/assets/colab-badge.svg\" alt=\"Open In Colab\"/></a>"
      ]
    },
    {
      "cell_type": "markdown",
      "source": [
        "#🌟 Exercise 1: Basic Usage of SciPy"
      ],
      "metadata": {
        "id": "HKvzh8SEVSDY"
      }
    },
    {
      "cell_type": "code",
      "execution_count": null,
      "metadata": {
        "colab": {
          "base_uri": "https://localhost:8080/"
        },
        "id": "G5ogt1m-VC73",
        "outputId": "c0d913f5-fde9-4247-82d8-b8da1d6cffd4"
      },
      "outputs": [
        {
          "output_type": "stream",
          "name": "stdout",
          "text": [
            "1.13.1\n"
          ]
        }
      ],
      "source": [
        "import scipy\n",
        "print(scipy.__version__)\n"
      ]
    },
    {
      "cell_type": "markdown",
      "source": [
        "#🌟 Exercise 2: Descriptive Statistics"
      ],
      "metadata": {
        "id": "KKZ3GBLhVlWa"
      }
    },
    {
      "cell_type": "code",
      "source": [
        "import numpy as np\n",
        "from scipy import stats\n",
        "\n",
        "data = [12, 15, 13, 12, 18, 20, 22, 21]\n",
        "\n",
        "\n",
        "mean_value = np.mean(data)\n",
        "median_value = np.median(data)\n",
        "variance_value = np.var(data, ddof=1)\n",
        "std_deviation_value = np.std(data, ddof=1)\n",
        "\n",
        "print(f\"Mean: {mean_value}\")\n",
        "print(f\"Median: {median_value}\")\n",
        "print(f\"Variance: {variance_value}\")\n",
        "print(f\"Standard Deviation: {std_deviation_value}\")"
      ],
      "metadata": {
        "colab": {
          "base_uri": "https://localhost:8080/"
        },
        "id": "XAIE88KsVk6i",
        "outputId": "eefc9158-e827-42ad-b982-095c71d12637"
      },
      "execution_count": null,
      "outputs": [
        {
          "output_type": "stream",
          "name": "stdout",
          "text": [
            "Mean: 16.625\n",
            "Median: 16.5\n",
            "Variance: 17.125\n",
            "Standard Deviation: 4.138236339311712\n"
          ]
        }
      ]
    },
    {
      "cell_type": "markdown",
      "source": [
        "#🌟 Exercise 3: Understanding Distributions"
      ],
      "metadata": {
        "id": "1kNOQqJGWNFY"
      }
    },
    {
      "cell_type": "code",
      "source": [
        "import numpy as np\n",
        "import matplotlib.pyplot as plt\n",
        "from scipy.stats import norm\n",
        "\n",
        "mu = 50\n",
        "sigma = 10\n",
        "\n",
        "# Example: Gaussian Distribution\n",
        "# mu, sigma-  # mean and standard deviation\n",
        "gaussian_dist = stats.norm(mu, sigma)\n",
        "print(\"PDF at x=0.5:\", gaussian_dist.pdf(0.5))\n",
        "\n",
        "\n",
        "# Plotting Gaussian Distribution\n",
        "x_gaussian = np.linspace(-0.5, 0.5, 100)\n",
        "pdf_gaussian = gaussian_dist.pdf(x_gaussian)\n",
        "plt.figure(figsize=(6, 4))\n",
        "plt.plot(x_gaussian, pdf_gaussian)\n",
        "plt.title('Gaussian Distribution\\n$\\mu=0$, $\\sigma=0.1$')\n",
        "plt.xlabel('x')\n",
        "plt.ylabel('PDF')\n",
        "plt.show()"
      ],
      "metadata": {
        "colab": {
          "base_uri": "https://localhost:8080/",
          "height": 450
        },
        "id": "yQvSbQNJWPvd",
        "outputId": "3d8b4ec1-b052-488e-dc98-0acbc304cfcb"
      },
      "execution_count": null,
      "outputs": [
        {
          "output_type": "stream",
          "name": "stdout",
          "text": [
            "PDF at x=0.5: 1.9066009031228109e-07\n"
          ]
        },
        {
          "output_type": "display_data",
          "data": {
            "text/plain": [
              "<Figure size 600x400 with 1 Axes>"
            ],
            "image/png": "[encoded data removed]"
          },
          "metadata": {}
        }
      ]
    },
    {
      "cell_type": "markdown",
      "source": [
        "#🌟 Exercise 4: T-Test Application"
      ],
      "metadata": {
        "id": "XHiPg6a7Yhqi"
      }
    },
    {
      "cell_type": "code",
      "source": [
        "data1 = np.random.normal(50, 10, 100)\n",
        "data2 = np.random.normal(60, 10, 100)\n",
        "\n",
        "t_statistic, p_value = stats.ttest_ind(data1, data2)\n",
        "print(\"T-statistic:\", t_statistic)\n",
        "print(\"P-value:\", p_value)\n",
        "\n"
      ],
      "metadata": {
        "colab": {
          "base_uri": "https://localhost:8080/"
        },
        "id": "N5TzCXFoYj_b",
        "outputId": "f9900c64-c7b1-463e-9c84-2300161abf39"
      },
      "execution_count": null,
      "outputs": [
        {
          "output_type": "stream",
          "name": "stdout",
          "text": [
            "T-statistic: -6.620699001802082\n",
            "P-value: 3.2831967842071786e-10\n"
          ]
        }
      ]
    },
    {
      "cell_type": "markdown",
      "source": [
        "#🌟 Exercise 5: Linear Regression Analysis"
      ],
      "metadata": {
        "id": "Ge8jIBBBZD3r"
      }
    },
    {
      "cell_type": "markdown",
      "source": [
        "Objective: Apply linear regression to a dataset and interpret the results.\n",
        "\n",
        "Task: Given a dataset of housing prices (house_prices) and their corresponding sizes (house_sizes), use linear regression to predict the price of a house given its size.\n",
        "Dataset:\n",
        "        house_sizes: [50, 70, 80, 100, 120] (in square meters)\n",
        "        house_prices: [150,000, 200,000, 210,000, 250,000, 280,000] (in currency units)\n",
        "Questions:\n",
        "What is the slope and intercept of the regression line?\n",
        "Predict the price of a house that is 90 square meters.\n",
        "Interpret the meaning of the slope in the context of housing prices.\n"
      ],
      "metadata": {
        "id": "SO8HATo-ZLGy"
      }
    },
    {
      "cell_type": "code",
      "source": [
        "import numpy as np\n",
        "from sklearn.linear_model import LinearRegression\n",
        "\n",
        "house_sizes = np.array([50, 70, 80, 100, 120]).reshape(-1, 1)\n",
        "house_prices = np.array([150000, 200000, 210000, 250000, 280000])\n",
        "\n",
        "house_size_new = np.array([90]).reshape(-1, 1)\n",
        "# Train the Linear Regression model\n",
        "reg = LinearRegression().fit(house_sizes, house_prices)\n",
        "\n",
        "#predict prises\n",
        "predicted_prices = reg.predict(house_sizes)\n",
        "predicted_prices_for_sp_size = reg.predict(house_size_new)\n",
        "\n",
        "# Print the results\n",
        "for size, price in zip(house_sizes.flatten(), predicted_prices):\n",
        "    print(f\"Predicted price for a {size} m² house: {price:,.2f}\")\n",
        "\n",
        "print(f\"Predicted price for a {house_size_new[0][0]} m² house: {predicted_prices_for_sp_size[0]:,.2f}\")\n",
        "\n"
      ],
      "metadata": {
        "id": "oqRO8T5iZXTU",
        "colab": {
          "base_uri": "https://localhost:8080/"
        },
        "outputId": "97e4b5fd-bf00-4cfa-9145-6fc3b4d32b73"
      },
      "execution_count": 5,
      "outputs": [
        {
          "output_type": "stream",
          "name": "stdout",
          "text": [
            "Predicted price for a 50 m² house: 155,821.92\n",
            "Predicted price for a 70 m² house: 192,397.26\n",
            "Predicted price for a 80 m² house: 210,684.93\n",
            "Predicted price for a 100 m² house: 247,260.27\n",
            "Predicted price for a 120 m² house: 283,835.62\n",
            "Predicted price for a 90 m² house: 228,972.60\n"
          ]
        }
      ]
    },
    {
      "cell_type": "code",
      "source": [
        "import numpy as np\n",
        "from scipy import stats\n",
        "\n",
        "house_sizes = np.array([50, 70, 80, 100, 120])\n",
        "house_prices = np.array([150000, 200000, 210000, 250000, 280000])\n",
        "\n",
        "# Performing linear regression\n",
        "slope, intercept, r_value, p_value, std_err = stats.linregress(house_sizes, house_prices)\n",
        "\n",
        "# The slope and intercept of the regression line\n",
        "print(\"Slope:\", slope)\n",
        "print(\"Intercept:\", intercept)\n",
        "\n"
      ],
      "metadata": {
        "colab": {
          "base_uri": "https://localhost:8080/"
        },
        "id": "fuOzV9MHrLtl",
        "outputId": "9ead1b75-b9fe-4b20-94b1-0d8a75c77592"
      },
      "execution_count": 9,
      "outputs": [
        {
          "output_type": "stream",
          "name": "stdout",
          "text": [
            "Slope: 1828.7671232876712\n",
            "Intercept: 64383.56164383562\n"
          ]
        }
      ]
    },
    {
      "cell_type": "markdown",
      "source": [
        "Slope (1828): Every additional 1 m² increases the house price by 1828 currency units.\n",
        "Intercept (64383): is the intercept, representing the expected value of Y when all independent variables are zero."
      ],
      "metadata": {
        "id": "EEGfOyPfsmtO"
      }
    },
    {
      "cell_type": "markdown",
      "source": [
        "#🌟 Exercise 6: Understanding ANOVA"
      ],
      "metadata": {
        "id": "6WqEB-iitSu8"
      }
    },
    {
      "cell_type": "markdown",
      "source": [
        "Questions:\n",
        "Perform an ANOVA test on the given data. What are the F-value and P-value?\n",
        "Based on the P-value, do the fertilizers have significantly different effects on plant growth?\n",
        "Explain what would happen if the P-value were greater than 0.05."
      ],
      "metadata": {
        "id": "SvpHYW9yuCez"
      }
    },
    {
      "cell_type": "code",
      "source": [
        "import numpy as np\n",
        "\n",
        "\n",
        "fertilizer_1 = np.array([5, 6, 7, 6, 5])\n",
        "fertilizer_2 = np.array([7, 8, 7, 9, 8])\n",
        "fertilizer_3 = np.array([4, 5, 4, 3, 4])\n",
        "\n",
        "# Performing one-way ANOVA\n",
        "f_value, p_value = stats.f_oneway(fertilizer_1,fertilizer_2,fertilizer_3)\n",
        "print(\"F-value:\", f_value)\n",
        "print(\"P-value:\", p_value)\n",
        "\n",
        "\n",
        "#If the P-value is greater than 0.05, it means that there is no strong statistical evidence to reject the null hypothesis (H₀\n"
      ],
      "metadata": {
        "colab": {
          "base_uri": "https://localhost:8080/"
        },
        "id": "QEpdo-8FtTqk",
        "outputId": "0b0c000f-a933-4c94-87b3-b225f2544cad"
      },
      "execution_count": 10,
      "outputs": [
        {
          "output_type": "stream",
          "name": "stdout",
          "text": [
            "F-value: 28.52631578947368\n",
            "P-value: 2.7542672098048448e-05\n"
          ]
        }
      ]
    },
    {
      "cell_type": "markdown",
      "source": [
        "#🌟 Exercise 7: Probability Distributions (Optional)"
      ],
      "metadata": {
        "id": "ovygKyMVvOSR"
      }
    },
    {
      "cell_type": "code",
      "source": [
        "from scipy.stats import binom\n",
        "\n",
        "# Parameters\n",
        "n = 10  # Number of trials (coin flips)\n",
        "k = 5   # Number of successes (heads)\n",
        "p = 0.5  # Probability of getting heads\n",
        "\n",
        "# Compute probability\n",
        "probability = binom.pmf(k, n, p)\n",
        "\n",
        "print(f\"Probability of getting exactly {k} heads in {n} flips: {probability:.4f}\")\n"
      ],
      "metadata": {
        "colab": {
          "base_uri": "https://localhost:8080/"
        },
        "id": "sHTRTdKavPJQ",
        "outputId": "7bb7a11b-d6d0-474a-aec3-78e71c700750"
      },
      "execution_count": 11,
      "outputs": [
        {
          "output_type": "stream",
          "name": "stdout",
          "text": [
            "Probability of getting exactly 5 heads in 10 flips: 0.2461\n"
          ]
        }
      ]
    },
    {
      "cell_type": "markdown",
      "source": [
        "#🌟 Exercise 8: Correlation Coefficients (Optional)"
      ],
      "metadata": {
        "id": "-NOL9iwSvrB_"
      }
    },
    {
      "cell_type": "code",
      "source": [
        "import pandas as pd\n",
        "from scipy.stats import pearsonr, spearmanr\n",
        "\n",
        "# Sample dataset\n",
        "data = pd.DataFrame({\n",
        "    'age': [23, 25, 30, 35, 40],\n",
        "    'income': [35000, 40000, 50000, 60000, 70000]\n",
        "})\n",
        "\n",
        "# Calculate Pearson correlation\n",
        "pearson_corr, _ = pearsonr(data['age'], data['income'])\n",
        "\n",
        "# Calculate Spearman correlation\n",
        "spearman_corr, _ = spearmanr(data['age'], data['income'])\n",
        "\n",
        "# Print results\n",
        "print(f\"Pearson Correlation: {pearson_corr:.4f}\")\n",
        "print(f\"Spearman Correlation: {spearman_corr:.4f}\")\n"
      ],
      "metadata": {
        "colab": {
          "base_uri": "https://localhost:8080/"
        },
        "id": "fStwcC6MvrtH",
        "outputId": "91568f9d-9268-4be9-a37c-0d2e37f6dc36"
      },
      "execution_count": 12,
      "outputs": [
        {
          "output_type": "stream",
          "name": "stdout",
          "text": [
            "Pearson Correlation: 0.9997\n",
            "Spearman Correlation: 1.0000\n"
          ]
        }
      ]
    }
  ]
}