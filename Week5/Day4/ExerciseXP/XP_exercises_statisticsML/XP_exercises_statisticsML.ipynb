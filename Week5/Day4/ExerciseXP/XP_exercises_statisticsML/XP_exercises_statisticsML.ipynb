{
  "metadata": {
    "kernelspec": {
      "language": "python",
      "display_name": "Python 3",
      "name": "python3"
    },
    "language_info": {
      "name": "python",
      "version": "3.10.13",
      "mimetype": "text/x-python",
      "codemirror_mode": {
        "name": "ipython",
        "version": 3
      },
      "pygments_lexer": "ipython3",
      "nbconvert_exporter": "python",
      "file_extension": ".py"
    },
    "kaggle": {
      "accelerator": "none",
      "dataSources": [
        {
          "sourceId": 7407515,
          "sourceType": "datasetVersion",
          "datasetId": 4307703
        },
        {
          "sourceId": 7550375,
          "sourceType": "datasetVersion",
          "datasetId": 4397460
        }
      ],
      "isInternetEnabled": true,
      "language": "python",
      "sourceType": "notebook",
      "isGpuEnabled": false
    },
    "colab": {
      "provenance": [],
      "toc_visible": true,
      "include_colab_link": true
    }
  },
  "nbformat_minor": 0,
  "nbformat": 4,
  "cells": [
    {
      "cell_type": "markdown",
      "metadata": {
        "id": "view-in-github",
        "colab_type": "text"
      },
      "source": [
        "<a href=\"https://colab.research.google.com/github/TyamanovaMargo/DI-Bootcamp/blob/main/xp_exercises_statisticsml.ipynb\" target=\"_parent\"><img src=\"https://colab.research.google.com/assets/colab-badge.svg\" alt=\"Open In Colab\"/></a>"
      ]
    },
    {
      "cell_type": "markdown",
      "source": [
        "# XP Exercises - Inferential statistics with regression\n",
        "\n",
        "As stated in the instructions, please complete the code when you see a \"##TODO\"\n"
      ],
      "metadata": {
        "id": "acO2ef51szmY"
      }
    },
    {
      "cell_type": "code",
      "source": [
        "import pandas as pd\n",
        "import numpy as np\n",
        "from scipy import stats\n",
        "from sklearn.linear_model import LinearRegression\n",
        "from sklearn.metrics import mean_squared_error\n",
        "import matplotlib.pyplot as plt\n",
        "from sklearn.model_selection import train_test_split\n",
        "from scipy.stats import ttest_1samp\n",
        "import statsmodels.api as sm\n",
        "import seaborn as sns\n",
        "from scipy.stats import linregress\n",
        "from sklearn.metrics import r2_score, mean_absolute_error\n",
        "from scipy.stats import ttest_ind\n"
      ],
      "metadata": {
        "_uuid": "8f2839f25d086af736a60e9eeb907d3b93b6e0e5",
        "_cell_guid": "b1076dfc-b9ad-4769-8c92-a6c4dae69d19",
        "execution": {
          "iopub.status.busy": "2024-02-11T12:19:08.570747Z",
          "iopub.execute_input": "2024-02-11T12:19:08.571161Z",
          "iopub.status.idle": "2024-02-11T12:19:11.067171Z",
          "shell.execute_reply.started": "2024-02-11T12:19:08.571127Z",
          "shell.execute_reply": "2024-02-11T12:19:11.06594Z"
        },
        "trusted": true,
        "id": "1o7GXZdfsOeq"
      },
      "outputs": [],
      "execution_count": 3
    },
    {
      "cell_type": "code",
      "source": [
        "## TODO : load the dataset in a dataframe called d1, that you can find here : https://www.kaggle.com/code/youssefelzahar/inferential-statistics/input?select=air+traffic.csv"
      ],
      "metadata": {
        "execution": {
          "iopub.status.busy": "2024-02-11T12:19:11.069357Z",
          "iopub.execute_input": "2024-02-11T12:19:11.070302Z",
          "iopub.status.idle": "2024-02-11T12:19:11.133637Z",
          "shell.execute_reply.started": "2024-02-11T12:19:11.070256Z",
          "shell.execute_reply": "2024-02-11T12:19:11.13217Z"
        },
        "trusted": true,
        "id": "PIC7jYuDsOer"
      },
      "outputs": [],
      "execution_count": null
    },
    {
      "cell_type": "code",
      "source": [
        "df = pd.read_csv('air traffic.csv')\n",
        "\n",
        "df.info()"
      ],
      "metadata": {
        "colab": {
          "base_uri": "https://localhost:8080/"
        },
        "id": "QfqqDf7ldB2I",
        "outputId": "fcbd3ff8-d860-4793-a4fd-f4a01067789c"
      },
      "execution_count": 4,
      "outputs": [
        {
          "output_type": "stream",
          "name": "stdout",
          "text": [
            "<class 'pandas.core.frame.DataFrame'>\n",
            "RangeIndex: 249 entries, 0 to 248\n",
            "Data columns (total 17 columns):\n",
            " #   Column   Non-Null Count  Dtype  \n",
            "---  ------   --------------  -----  \n",
            " 0   Year     249 non-null    int64  \n",
            " 1   Month    249 non-null    int64  \n",
            " 2   Dom_Pax  249 non-null    object \n",
            " 3   Int_Pax  249 non-null    object \n",
            " 4   Pax      249 non-null    object \n",
            " 5   Dom_Flt  249 non-null    object \n",
            " 6   Int_Flt  249 non-null    object \n",
            " 7   Flt      249 non-null    object \n",
            " 8   Dom_RPM  249 non-null    object \n",
            " 9   Int_RPM  249 non-null    object \n",
            " 10  RPM      249 non-null    object \n",
            " 11  Dom_ASM  249 non-null    object \n",
            " 12  Int_ASM  249 non-null    object \n",
            " 13  ASM      249 non-null    object \n",
            " 14  Dom_LF   249 non-null    float64\n",
            " 15  Int_LF   249 non-null    float64\n",
            " 16  LF       249 non-null    float64\n",
            "dtypes: float64(3), int64(2), object(12)\n",
            "memory usage: 33.2+ KB\n"
          ]
        }
      ]
    },
    {
      "cell_type": "code",
      "source": [
        "df.isnull().sum()"
      ],
      "metadata": {
        "colab": {
          "base_uri": "https://localhost:8080/",
          "height": 618
        },
        "id": "pjc5BBONWlT3",
        "outputId": "6be42a17-326c-4031-a00f-30d19eebbc0c"
      },
      "execution_count": 3,
      "outputs": [
        {
          "output_type": "execute_result",
          "data": {
            "text/plain": [
              "Year       0\n",
              "Month      0\n",
              "Dom_Pax    0\n",
              "Int_Pax    0\n",
              "Pax        0\n",
              "Dom_Flt    0\n",
              "Int_Flt    0\n",
              "Flt        0\n",
              "Dom_RPM    0\n",
              "Int_RPM    0\n",
              "RPM        0\n",
              "Dom_ASM    0\n",
              "Int_ASM    0\n",
              "ASM        0\n",
              "Dom_LF     0\n",
              "Int_LF     0\n",
              "LF         0\n",
              "dtype: int64"
            ],
            "text/html": [
              "<div>\n",
              "<style scoped>\n",
              "    .dataframe tbody tr th:only-of-type {\n",
              "        vertical-align: middle;\n",
              "    }\n",
              "\n",
              "    .dataframe tbody tr th {\n",
              "        vertical-align: top;\n",
              "    }\n",
              "\n",
              "    .dataframe thead th {\n",
              "        text-align: right;\n",
              "    }\n",
              "</style>\n",
              "<table border=\"1\" class=\"dataframe\">\n",
              "  <thead>\n",
              "    <tr style=\"text-align: right;\">\n",
              "      <th></th>\n",
              "      <th>0</th>\n",
              "    </tr>\n",
              "  </thead>\n",
              "  <tbody>\n",
              "    <tr>\n",
              "      <th>Year</th>\n",
              "      <td>0</td>\n",
              "    </tr>\n",
              "    <tr>\n",
              "      <th>Month</th>\n",
              "      <td>0</td>\n",
              "    </tr>\n",
              "    <tr>\n",
              "      <th>Dom_Pax</th>\n",
              "      <td>0</td>\n",
              "    </tr>\n",
              "    <tr>\n",
              "      <th>Int_Pax</th>\n",
              "      <td>0</td>\n",
              "    </tr>\n",
              "    <tr>\n",
              "      <th>Pax</th>\n",
              "      <td>0</td>\n",
              "    </tr>\n",
              "    <tr>\n",
              "      <th>Dom_Flt</th>\n",
              "      <td>0</td>\n",
              "    </tr>\n",
              "    <tr>\n",
              "      <th>Int_Flt</th>\n",
              "      <td>0</td>\n",
              "    </tr>\n",
              "    <tr>\n",
              "      <th>Flt</th>\n",
              "      <td>0</td>\n",
              "    </tr>\n",
              "    <tr>\n",
              "      <th>Dom_RPM</th>\n",
              "      <td>0</td>\n",
              "    </tr>\n",
              "    <tr>\n",
              "      <th>Int_RPM</th>\n",
              "      <td>0</td>\n",
              "    </tr>\n",
              "    <tr>\n",
              "      <th>RPM</th>\n",
              "      <td>0</td>\n",
              "    </tr>\n",
              "    <tr>\n",
              "      <th>Dom_ASM</th>\n",
              "      <td>0</td>\n",
              "    </tr>\n",
              "    <tr>\n",
              "      <th>Int_ASM</th>\n",
              "      <td>0</td>\n",
              "    </tr>\n",
              "    <tr>\n",
              "      <th>ASM</th>\n",
              "      <td>0</td>\n",
              "    </tr>\n",
              "    <tr>\n",
              "      <th>Dom_LF</th>\n",
              "      <td>0</td>\n",
              "    </tr>\n",
              "    <tr>\n",
              "      <th>Int_LF</th>\n",
              "      <td>0</td>\n",
              "    </tr>\n",
              "    <tr>\n",
              "      <th>LF</th>\n",
              "      <td>0</td>\n",
              "    </tr>\n",
              "  </tbody>\n",
              "</table>\n",
              "</div><br><label><b>dtype:</b> int64</label>"
            ]
          },
          "metadata": {},
          "execution_count": 3
        }
      ]
    },
    {
      "cell_type": "markdown",
      "source": [
        "# Columns Description\n",
        "\n",
        "* Dom_Pax : Domestic Air Travel Passengers\n",
        "* Int_Pax : International Air Travel Passengers\n",
        "* Pax : Total Air Travel Passengers\n",
        "* Dom_Flt : Number of Flights (Domestic)\n",
        "* Int_Flt : Number of Flights (International)\n",
        "* Flt : Number of Flights (Total)\n",
        "* Dom_RPM : Revenue Passenger-miles (Domestic)\n",
        "* Int_RPM : Revenue Passenger-miles (International)\n"
      ],
      "metadata": {
        "id": "WtBSKjqKsOet"
      }
    },
    {
      "cell_type": "code",
      "source": [
        "## TODO: Check the summary of the DataFrame to see its structure and data types."
      ],
      "metadata": {
        "execution": {
          "iopub.status.busy": "2024-02-11T12:19:11.135438Z",
          "iopub.execute_input": "2024-02-11T12:19:11.135933Z",
          "iopub.status.idle": "2024-02-11T12:19:11.168609Z",
          "shell.execute_reply.started": "2024-02-11T12:19:11.135891Z",
          "shell.execute_reply": "2024-02-11T12:19:11.166996Z"
        },
        "trusted": true,
        "id": "ucdLtOCRsOeu"
      },
      "outputs": [],
      "execution_count": null
    },
    {
      "cell_type": "code",
      "source": [
        "df.describe()"
      ],
      "metadata": {
        "colab": {
          "base_uri": "https://localhost:8080/",
          "height": 301
        },
        "id": "8i5sJFpj3QER",
        "outputId": "532f543c-8f32-4dbe-e0fe-9879fafd10f2"
      },
      "execution_count": 4,
      "outputs": [
        {
          "output_type": "execute_result",
          "data": {
            "text/plain": [
              "              Year       Month      Dom_LF      Int_LF          LF\n",
              "count   249.000000  249.000000  249.000000  249.000000  249.000000\n",
              "mean   2012.879518    6.445783   79.938394   77.304940   79.286305\n",
              "std       6.002817    3.442803    8.860562   10.907145    8.895700\n",
              "min    2003.000000    1.000000   13.090000   23.150000   13.830000\n",
              "25%    2008.000000    3.000000   77.720000   76.430000   76.940000\n",
              "50%    2013.000000    6.000000   82.120000   79.910000   81.580000\n",
              "75%    2018.000000    9.000000   85.240000   82.930000   84.070000\n",
              "max    2023.000000   12.000000   89.960000   89.440000   89.140000"
            ],
            "text/html": [
              "\n",
              "  <div id=\"df-9ef12d60-ca30-4a11-bf6c-84aa0d69ea98\" class=\"colab-df-container\">\n",
              "    <div>\n",
              "<style scoped>\n",
              "    .dataframe tbody tr th:only-of-type {\n",
              "        vertical-align: middle;\n",
              "    }\n",
              "\n",
              "    .dataframe tbody tr th {\n",
              "        vertical-align: top;\n",
              "    }\n",
              "\n",
              "    .dataframe thead th {\n",
              "        text-align: right;\n",
              "    }\n",
              "</style>\n",
              "<table border=\"1\" class=\"dataframe\">\n",
              "  <thead>\n",
              "    <tr style=\"text-align: right;\">\n",
              "      <th></th>\n",
              "      <th>Year</th>\n",
              "      <th>Month</th>\n",
              "      <th>Dom_LF</th>\n",
              "      <th>Int_LF</th>\n",
              "      <th>LF</th>\n",
              "    </tr>\n",
              "  </thead>\n",
              "  <tbody>\n",
              "    <tr>\n",
              "      <th>count</th>\n",
              "      <td>249.000000</td>\n",
              "      <td>249.000000</td>\n",
              "      <td>249.000000</td>\n",
              "      <td>249.000000</td>\n",
              "      <td>249.000000</td>\n",
              "    </tr>\n",
              "    <tr>\n",
              "      <th>mean</th>\n",
              "      <td>2012.879518</td>\n",
              "      <td>6.445783</td>\n",
              "      <td>79.938394</td>\n",
              "      <td>77.304940</td>\n",
              "      <td>79.286305</td>\n",
              "    </tr>\n",
              "    <tr>\n",
              "      <th>std</th>\n",
              "      <td>6.002817</td>\n",
              "      <td>3.442803</td>\n",
              "      <td>8.860562</td>\n",
              "      <td>10.907145</td>\n",
              "      <td>8.895700</td>\n",
              "    </tr>\n",
              "    <tr>\n",
              "      <th>min</th>\n",
              "      <td>2003.000000</td>\n",
              "      <td>1.000000</td>\n",
              "      <td>13.090000</td>\n",
              "      <td>23.150000</td>\n",
              "      <td>13.830000</td>\n",
              "    </tr>\n",
              "    <tr>\n",
              "      <th>25%</th>\n",
              "      <td>2008.000000</td>\n",
              "      <td>3.000000</td>\n",
              "      <td>77.720000</td>\n",
              "      <td>76.430000</td>\n",
              "      <td>76.940000</td>\n",
              "    </tr>\n",
              "    <tr>\n",
              "      <th>50%</th>\n",
              "      <td>2013.000000</td>\n",
              "      <td>6.000000</td>\n",
              "      <td>82.120000</td>\n",
              "      <td>79.910000</td>\n",
              "      <td>81.580000</td>\n",
              "    </tr>\n",
              "    <tr>\n",
              "      <th>75%</th>\n",
              "      <td>2018.000000</td>\n",
              "      <td>9.000000</td>\n",
              "      <td>85.240000</td>\n",
              "      <td>82.930000</td>\n",
              "      <td>84.070000</td>\n",
              "    </tr>\n",
              "    <tr>\n",
              "      <th>max</th>\n",
              "      <td>2023.000000</td>\n",
              "      <td>12.000000</td>\n",
              "      <td>89.960000</td>\n",
              "      <td>89.440000</td>\n",
              "      <td>89.140000</td>\n",
              "    </tr>\n",
              "  </tbody>\n",
              "</table>\n",
              "</div>\n",
              "    <div class=\"colab-df-buttons\">\n",
              "\n",
              "  <div class=\"colab-df-container\">\n",
              "    <button class=\"colab-df-convert\" onclick=\"convertToInteractive('df-9ef12d60-ca30-4a11-bf6c-84aa0d69ea98')\"\n",
              "            title=\"Convert this dataframe to an interactive table.\"\n",
              "            style=\"display:none;\">\n",
              "\n",
              "  <svg xmlns=\"http://www.w3.org/2000/svg\" height=\"24px\" viewBox=\"0 -960 960 960\">\n",
              "    <path d=\"M120-120v-720h720v720H120Zm60-500h600v-160H180v160Zm220 220h160v-160H400v160Zm0 220h160v-160H400v160ZM180-400h160v-160H180v160Zm440 0h160v-160H620v160ZM180-180h160v-160H180v160Zm440 0h160v-160H620v160Z\"/>\n",
              "  </svg>\n",
              "    </button>\n",
              "\n",
              "  <style>\n",
              "    .colab-df-container {\n",
              "      display:flex;\n",
              "      gap: 12px;\n",
              "    }\n",
              "\n",
              "    .colab-df-convert {\n",
              "      background-color: #E8F0FE;\n",
              "      border: none;\n",
              "      border-radius: 50%;\n",
              "      cursor: pointer;\n",
              "      display: none;\n",
              "      fill: #1967D2;\n",
              "      height: 32px;\n",
              "      padding: 0 0 0 0;\n",
              "      width: 32px;\n",
              "    }\n",
              "\n",
              "    .colab-df-convert:hover {\n",
              "      background-color: #E2EBFA;\n",
              "      box-shadow: 0px 1px 2px rgba(60, 64, 67, 0.3), 0px 1px 3px 1px rgba(60, 64, 67, 0.15);\n",
              "      fill: #174EA6;\n",
              "    }\n",
              "\n",
              "    .colab-df-buttons div {\n",
              "      margin-bottom: 4px;\n",
              "    }\n",
              "\n",
              "    [theme=dark] .colab-df-convert {\n",
              "      background-color: #3B4455;\n",
              "      fill: #D2E3FC;\n",
              "    }\n",
              "\n",
              "    [theme=dark] .colab-df-convert:hover {\n",
              "      background-color: #434B5C;\n",
              "      box-shadow: 0px 1px 3px 1px rgba(0, 0, 0, 0.15);\n",
              "      filter: drop-shadow(0px 1px 2px rgba(0, 0, 0, 0.3));\n",
              "      fill: #FFFFFF;\n",
              "    }\n",
              "  </style>\n",
              "\n",
              "    <script>\n",
              "      const buttonEl =\n",
              "        document.querySelector('#df-9ef12d60-ca30-4a11-bf6c-84aa0d69ea98 button.colab-df-convert');\n",
              "      buttonEl.style.display =\n",
              "        google.colab.kernel.accessAllowed ? 'block' : 'none';\n",
              "\n",
              "      async function convertToInteractive(key) {\n",
              "        const element = document.querySelector('#df-9ef12d60-ca30-4a11-bf6c-84aa0d69ea98');\n",
              "        const dataTable =\n",
              "          await google.colab.kernel.invokeFunction('convertToInteractive',\n",
              "                                                    [key], {});\n",
              "        if (!dataTable) return;\n",
              "\n",
              "        const docLinkHtml = 'Like what you see? Visit the ' +\n",
              "          '<a target=\"_blank\" href=https://colab.research.google.com/notebooks/data_table.ipynb>data table notebook</a>'\n",
              "          + ' to learn more about interactive tables.';\n",
              "        element.innerHTML = '';\n",
              "        dataTable['output_type'] = 'display_data';\n",
              "        await google.colab.output.renderOutput(dataTable, element);\n",
              "        const docLink = document.createElement('div');\n",
              "        docLink.innerHTML = docLinkHtml;\n",
              "        element.appendChild(docLink);\n",
              "      }\n",
              "    </script>\n",
              "  </div>\n",
              "\n",
              "\n",
              "<div id=\"df-24d11484-a3aa-4432-bd36-bceb3fb3bf24\">\n",
              "  <button class=\"colab-df-quickchart\" onclick=\"quickchart('df-24d11484-a3aa-4432-bd36-bceb3fb3bf24')\"\n",
              "            title=\"Suggest charts\"\n",
              "            style=\"display:none;\">\n",
              "\n",
              "<svg xmlns=\"http://www.w3.org/2000/svg\" height=\"24px\"viewBox=\"0 0 24 24\"\n",
              "     width=\"24px\">\n",
              "    <g>\n",
              "        <path d=\"M19 3H5c-1.1 0-2 .9-2 2v14c0 1.1.9 2 2 2h14c1.1 0 2-.9 2-2V5c0-1.1-.9-2-2-2zM9 17H7v-7h2v7zm4 0h-2V7h2v10zm4 0h-2v-4h2v4z\"/>\n",
              "    </g>\n",
              "</svg>\n",
              "  </button>\n",
              "\n",
              "<style>\n",
              "  .colab-df-quickchart {\n",
              "      --bg-color: #E8F0FE;\n",
              "      --fill-color: #1967D2;\n",
              "      --hover-bg-color: #E2EBFA;\n",
              "      --hover-fill-color: #174EA6;\n",
              "      --disabled-fill-color: #AAA;\n",
              "      --disabled-bg-color: #DDD;\n",
              "  }\n",
              "\n",
              "  [theme=dark] .colab-df-quickchart {\n",
              "      --bg-color: #3B4455;\n",
              "      --fill-color: #D2E3FC;\n",
              "      --hover-bg-color: #434B5C;\n",
              "      --hover-fill-color: #FFFFFF;\n",
              "      --disabled-bg-color: #3B4455;\n",
              "      --disabled-fill-color: #666;\n",
              "  }\n",
              "\n",
              "  .colab-df-quickchart {\n",
              "    background-color: var(--bg-color);\n",
              "    border: none;\n",
              "    border-radius: 50%;\n",
              "    cursor: pointer;\n",
              "    display: none;\n",
              "    fill: var(--fill-color);\n",
              "    height: 32px;\n",
              "    padding: 0;\n",
              "    width: 32px;\n",
              "  }\n",
              "\n",
              "  .colab-df-quickchart:hover {\n",
              "    background-color: var(--hover-bg-color);\n",
              "    box-shadow: 0 1px 2px rgba(60, 64, 67, 0.3), 0 1px 3px 1px rgba(60, 64, 67, 0.15);\n",
              "    fill: var(--button-hover-fill-color);\n",
              "  }\n",
              "\n",
              "  .colab-df-quickchart-complete:disabled,\n",
              "  .colab-df-quickchart-complete:disabled:hover {\n",
              "    background-color: var(--disabled-bg-color);\n",
              "    fill: var(--disabled-fill-color);\n",
              "    box-shadow: none;\n",
              "  }\n",
              "\n",
              "  .colab-df-spinner {\n",
              "    border: 2px solid var(--fill-color);\n",
              "    border-color: transparent;\n",
              "    border-bottom-color: var(--fill-color);\n",
              "    animation:\n",
              "      spin 1s steps(1) infinite;\n",
              "  }\n",
              "\n",
              "  @keyframes spin {\n",
              "    0% {\n",
              "      border-color: transparent;\n",
              "      border-bottom-color: var(--fill-color);\n",
              "      border-left-color: var(--fill-color);\n",
              "    }\n",
              "    20% {\n",
              "      border-color: transparent;\n",
              "      border-left-color: var(--fill-color);\n",
              "      border-top-color: var(--fill-color);\n",
              "    }\n",
              "    30% {\n",
              "      border-color: transparent;\n",
              "      border-left-color: var(--fill-color);\n",
              "      border-top-color: var(--fill-color);\n",
              "      border-right-color: var(--fill-color);\n",
              "    }\n",
              "    40% {\n",
              "      border-color: transparent;\n",
              "      border-right-color: var(--fill-color);\n",
              "      border-top-color: var(--fill-color);\n",
              "    }\n",
              "    60% {\n",
              "      border-color: transparent;\n",
              "      border-right-color: var(--fill-color);\n",
              "    }\n",
              "    80% {\n",
              "      border-color: transparent;\n",
              "      border-right-color: var(--fill-color);\n",
              "      border-bottom-color: var(--fill-color);\n",
              "    }\n",
              "    90% {\n",
              "      border-color: transparent;\n",
              "      border-bottom-color: var(--fill-color);\n",
              "    }\n",
              "  }\n",
              "</style>\n",
              "\n",
              "  <script>\n",
              "    async function quickchart(key) {\n",
              "      const quickchartButtonEl =\n",
              "        document.querySelector('#' + key + ' button');\n",
              "      quickchartButtonEl.disabled = true;  // To prevent multiple clicks.\n",
              "      quickchartButtonEl.classList.add('colab-df-spinner');\n",
              "      try {\n",
              "        const charts = await google.colab.kernel.invokeFunction(\n",
              "            'suggestCharts', [key], {});\n",
              "      } catch (error) {\n",
              "        console.error('Error during call to suggestCharts:', error);\n",
              "      }\n",
              "      quickchartButtonEl.classList.remove('colab-df-spinner');\n",
              "      quickchartButtonEl.classList.add('colab-df-quickchart-complete');\n",
              "    }\n",
              "    (() => {\n",
              "      let quickchartButtonEl =\n",
              "        document.querySelector('#df-24d11484-a3aa-4432-bd36-bceb3fb3bf24 button');\n",
              "      quickchartButtonEl.style.display =\n",
              "        google.colab.kernel.accessAllowed ? 'block' : 'none';\n",
              "    })();\n",
              "  </script>\n",
              "</div>\n",
              "\n",
              "    </div>\n",
              "  </div>\n"
            ],
            "application/vnd.google.colaboratory.intrinsic+json": {
              "type": "dataframe",
              "summary": "{\n  \"name\": \"df\",\n  \"rows\": 8,\n  \"fields\": [\n    {\n      \"column\": \"Year\",\n      \"properties\": {\n        \"dtype\": \"number\",\n        \"std\": 875.2401834889744,\n        \"min\": 6.002817061183462,\n        \"max\": 2023.0,\n        \"num_unique_values\": 8,\n        \"samples\": [\n          2012.879518072289,\n          2013.0,\n          249.0\n        ],\n        \"semantic_type\": \"\",\n        \"description\": \"\"\n      }\n    },\n    {\n      \"column\": \"Month\",\n      \"properties\": {\n        \"dtype\": \"number\",\n        \"std\": 86.04066890413148,\n        \"min\": 1.0,\n        \"max\": 249.0,\n        \"num_unique_values\": 8,\n        \"samples\": [\n          6.445783132530121,\n          6.0,\n          249.0\n        ],\n        \"semantic_type\": \"\",\n        \"description\": \"\"\n      }\n    },\n    {\n      \"column\": \"Dom_LF\",\n      \"properties\": {\n        \"dtype\": \"number\",\n        \"std\": 73.65114679108787,\n        \"min\": 8.860561666968529,\n        \"max\": 249.0,\n        \"num_unique_values\": 8,\n        \"samples\": [\n          79.9383935742972,\n          82.12,\n          249.0\n        ],\n        \"semantic_type\": \"\",\n        \"description\": \"\"\n      }\n    },\n    {\n      \"column\": \"Int_LF\",\n      \"properties\": {\n        \"dtype\": \"number\",\n        \"std\": 72.09463149068738,\n        \"min\": 10.907145302302979,\n        \"max\": 249.0,\n        \"num_unique_values\": 8,\n        \"samples\": [\n          77.30493975903615,\n          79.91,\n          249.0\n        ],\n        \"semantic_type\": \"\",\n        \"description\": \"\"\n      }\n    },\n    {\n      \"column\": \"LF\",\n      \"properties\": {\n        \"dtype\": \"number\",\n        \"std\": 73.56183436890794,\n        \"min\": 8.895700211973383,\n        \"max\": 249.0,\n        \"num_unique_values\": 8,\n        \"samples\": [\n          79.28630522088353,\n          81.58,\n          249.0\n        ],\n        \"semantic_type\": \"\",\n        \"description\": \"\"\n      }\n    }\n  ]\n}"
            }
          },
          "metadata": {},
          "execution_count": 4
        }
      ]
    },
    {
      "cell_type": "code",
      "source": [
        "df.dtypes"
      ],
      "metadata": {
        "colab": {
          "base_uri": "https://localhost:8080/",
          "height": 618
        },
        "id": "F6CnzVh_3UGf",
        "outputId": "3b7db64b-d062-4ba4-dbb1-3c4f1f84790a"
      },
      "execution_count": 5,
      "outputs": [
        {
          "output_type": "execute_result",
          "data": {
            "text/plain": [
              "Year         int64\n",
              "Month        int64\n",
              "Dom_Pax     object\n",
              "Int_Pax     object\n",
              "Pax         object\n",
              "Dom_Flt     object\n",
              "Int_Flt     object\n",
              "Flt         object\n",
              "Dom_RPM     object\n",
              "Int_RPM     object\n",
              "RPM         object\n",
              "Dom_ASM     object\n",
              "Int_ASM     object\n",
              "ASM         object\n",
              "Dom_LF     float64\n",
              "Int_LF     float64\n",
              "LF         float64\n",
              "dtype: object"
            ],
            "text/html": [
              "<div>\n",
              "<style scoped>\n",
              "    .dataframe tbody tr th:only-of-type {\n",
              "        vertical-align: middle;\n",
              "    }\n",
              "\n",
              "    .dataframe tbody tr th {\n",
              "        vertical-align: top;\n",
              "    }\n",
              "\n",
              "    .dataframe thead th {\n",
              "        text-align: right;\n",
              "    }\n",
              "</style>\n",
              "<table border=\"1\" class=\"dataframe\">\n",
              "  <thead>\n",
              "    <tr style=\"text-align: right;\">\n",
              "      <th></th>\n",
              "      <th>0</th>\n",
              "    </tr>\n",
              "  </thead>\n",
              "  <tbody>\n",
              "    <tr>\n",
              "      <th>Year</th>\n",
              "      <td>int64</td>\n",
              "    </tr>\n",
              "    <tr>\n",
              "      <th>Month</th>\n",
              "      <td>int64</td>\n",
              "    </tr>\n",
              "    <tr>\n",
              "      <th>Dom_Pax</th>\n",
              "      <td>object</td>\n",
              "    </tr>\n",
              "    <tr>\n",
              "      <th>Int_Pax</th>\n",
              "      <td>object</td>\n",
              "    </tr>\n",
              "    <tr>\n",
              "      <th>Pax</th>\n",
              "      <td>object</td>\n",
              "    </tr>\n",
              "    <tr>\n",
              "      <th>Dom_Flt</th>\n",
              "      <td>object</td>\n",
              "    </tr>\n",
              "    <tr>\n",
              "      <th>Int_Flt</th>\n",
              "      <td>object</td>\n",
              "    </tr>\n",
              "    <tr>\n",
              "      <th>Flt</th>\n",
              "      <td>object</td>\n",
              "    </tr>\n",
              "    <tr>\n",
              "      <th>Dom_RPM</th>\n",
              "      <td>object</td>\n",
              "    </tr>\n",
              "    <tr>\n",
              "      <th>Int_RPM</th>\n",
              "      <td>object</td>\n",
              "    </tr>\n",
              "    <tr>\n",
              "      <th>RPM</th>\n",
              "      <td>object</td>\n",
              "    </tr>\n",
              "    <tr>\n",
              "      <th>Dom_ASM</th>\n",
              "      <td>object</td>\n",
              "    </tr>\n",
              "    <tr>\n",
              "      <th>Int_ASM</th>\n",
              "      <td>object</td>\n",
              "    </tr>\n",
              "    <tr>\n",
              "      <th>ASM</th>\n",
              "      <td>object</td>\n",
              "    </tr>\n",
              "    <tr>\n",
              "      <th>Dom_LF</th>\n",
              "      <td>float64</td>\n",
              "    </tr>\n",
              "    <tr>\n",
              "      <th>Int_LF</th>\n",
              "      <td>float64</td>\n",
              "    </tr>\n",
              "    <tr>\n",
              "      <th>LF</th>\n",
              "      <td>float64</td>\n",
              "    </tr>\n",
              "  </tbody>\n",
              "</table>\n",
              "</div><br><label><b>dtype:</b> object</label>"
            ]
          },
          "metadata": {},
          "execution_count": 5
        }
      ]
    },
    {
      "cell_type": "code",
      "source": [
        "print(df.dtypes)\n",
        "print(df['Dom_Pax'].head())\n",
        "print(df['Dom_Flt'].head())"
      ],
      "metadata": {
        "colab": {
          "base_uri": "https://localhost:8080/"
        },
        "id": "9ZNX9i5O5aOa",
        "outputId": "ecbbb082-b7bc-4b37-a4cb-454386289207"
      },
      "execution_count": 8,
      "outputs": [
        {
          "output_type": "stream",
          "name": "stdout",
          "text": [
            "Year         int64\n",
            "Month        int64\n",
            "Dom_Pax    float64\n",
            "Int_Pax     object\n",
            "Pax         object\n",
            "Dom_Flt    float64\n",
            "Int_Flt     object\n",
            "Flt         object\n",
            "Dom_RPM     object\n",
            "Int_RPM     object\n",
            "RPM         object\n",
            "Dom_ASM     object\n",
            "Int_ASM     object\n",
            "ASM         object\n",
            "Dom_LF     float64\n",
            "Int_LF     float64\n",
            "LF         float64\n",
            "dtype: object\n",
            "0    43032450.0\n",
            "1    41166780.0\n",
            "2    49992700.0\n",
            "3    47033260.0\n",
            "4    49152352.0\n",
            "Name: Dom_Pax, dtype: float64\n",
            "0    785160.0\n",
            "1    690351.0\n",
            "2    797194.0\n",
            "3    766260.0\n",
            "4    789397.0\n",
            "Name: Dom_Flt, dtype: float64\n"
          ]
        }
      ]
    },
    {
      "cell_type": "code",
      "source": [
        "# Convert 'Dom_Pax' and 'Dom_Flt' to float64\n",
        "df['Dom_Pax'] = df['Dom_Pax'].str.replace(',', '').astype(float)\n",
        "df['Dom_Flt'] = df['Dom_Flt'].str.replace(',', '').astype(float)\n",
        "\n",
        "# Verify conversion\n",
        "print(df[['Dom_Pax', 'Dom_Flt']].dtypes)\n"
      ],
      "metadata": {
        "colab": {
          "base_uri": "https://localhost:8080/"
        },
        "id": "l-ELcNF5usQ9",
        "outputId": "43a431b6-57dd-47a7-e8d0-3ccd4d2c7ed1"
      },
      "execution_count": 34,
      "outputs": [
        {
          "output_type": "stream",
          "name": "stdout",
          "text": [
            "Dom_Pax    float64\n",
            "Dom_Flt    float64\n",
            "dtype: object\n"
          ]
        }
      ]
    },
    {
      "cell_type": "code",
      "source": [
        "# Convert the 'Flt' column to numeric (remove commas and convert to float)\n",
        "# df[\"Flt\"] = df[\"Flt\"].str.replace(',', '').astype(float)\n",
        "df[\"Int_Flt\"] = df[\"Int_Flt\"].str.replace(',', '').astype(float)\n",
        "\n"
      ],
      "metadata": {
        "id": "wfA1CGU6Xq5S"
      },
      "execution_count": 51,
      "outputs": []
    },
    {
      "cell_type": "markdown",
      "source": [
        "# Inferential statistics\n",
        "\n",
        "We will perform the following :\n",
        "\n",
        "1. Linear Regression\n",
        "\n",
        "2. Hypothesis testing\n",
        "\n",
        "\n"
      ],
      "metadata": {
        "id": "V1zS_luKsOew"
      }
    },
    {
      "cell_type": "markdown",
      "source": [
        "# Linear and Multiple Regression\n",
        "\n",
        "The best linear line describe the correlation between two variables.\n",
        "\n",
        "We have two types:\n",
        "\n",
        "1. linear Regression\n",
        "2. Multiple Regression\n",
        "\n",
        "The equation of regression\n",
        "\n",
        "**w=a+(b*x)**\n",
        "\n",
        "**w=predict variable**(The point of intersection of the x axis and the y axis)\n",
        "\n",
        "**a=intercept**(The point of intersection of the regression and the y axis)\n",
        "\n",
        "**b=slope**(The amount of increase in regression relative to the x-axis)"
      ],
      "metadata": {
        "id": "cGig_O97sOex"
      }
    },
    {
      "cell_type": "markdown",
      "source": [
        "# Linear Regression"
      ],
      "metadata": {
        "id": "i-e3WqCDsOex"
      }
    },
    {
      "cell_type": "code",
      "source": [
        "## TODO: Explore the relationship between domestic passengers and domestic flights."
      ],
      "metadata": {
        "execution": {
          "iopub.status.busy": "2024-02-11T12:19:11.17188Z",
          "iopub.execute_input": "2024-02-11T12:19:11.173031Z",
          "iopub.status.idle": "2024-02-11T12:19:11.177974Z",
          "shell.execute_reply.started": "2024-02-11T12:19:11.172993Z",
          "shell.execute_reply": "2024-02-11T12:19:11.17664Z"
        },
        "trusted": true,
        "id": "MPJXQZopsOex"
      },
      "outputs": [],
      "execution_count": null
    },
    {
      "cell_type": "code",
      "source": [
        "print(df.dtypes)  # Убедимся, что теперь float\n",
        "correlation = df[['Dom_Pax', 'Dom_Flt']].corr()\n",
        "print(correlation)\n",
        "\n"
      ],
      "metadata": {
        "colab": {
          "base_uri": "https://localhost:8080/"
        },
        "id": "GxaoRpWf32-T",
        "outputId": "d9f916b4-fef3-4bd9-a1b9-78206de4ed55"
      },
      "execution_count": 9,
      "outputs": [
        {
          "output_type": "stream",
          "name": "stdout",
          "text": [
            "Year         int64\n",
            "Month        int64\n",
            "Dom_Pax    float64\n",
            "Int_Pax     object\n",
            "Pax         object\n",
            "Dom_Flt    float64\n",
            "Int_Flt     object\n",
            "Flt         object\n",
            "Dom_RPM     object\n",
            "Int_RPM     object\n",
            "RPM         object\n",
            "Dom_ASM     object\n",
            "Int_ASM     object\n",
            "ASM         object\n",
            "Dom_LF     float64\n",
            "Int_LF     float64\n",
            "LF         float64\n",
            "dtype: object\n",
            "          Dom_Pax   Dom_Flt\n",
            "Dom_Pax  1.000000  0.536986\n",
            "Dom_Flt  0.536986  1.000000\n"
          ]
        }
      ]
    },
    {
      "cell_type": "markdown",
      "source": [
        "0.537 is a moderate positive correlation.\n",
        "This means that more flights are usually seen among passengers, but the situation is not ideal."
      ],
      "metadata": {
        "id": "Ii8cH6NFLqNY"
      }
    },
    {
      "cell_type": "code",
      "source": [
        "plt.figure(figsize=(8, 6))\n",
        "sns.scatterplot(x=df['Dom_Flt'], y=df['Dom_Pax'])\n",
        "plt.xlabel('Domestic Flights')\n",
        "plt.ylabel('Domestic Passengers')\n",
        "plt.title('Relationship between Domestic Flights and Passengers')\n",
        "plt.show()\n"
      ],
      "metadata": {
        "colab": {
          "base_uri": "https://localhost:8080/",
          "height": 564
        },
        "id": "SH21AZBLLrVg",
        "outputId": "355c48ee-d305-4f75-9ade-31918a5c7d37"
      },
      "execution_count": 10,
      "outputs": [
        {
          "output_type": "display_data",
          "data": {
            "text/plain": [
              "<Figure size 800x600 with 1 Axes>"
            ],
            "image/png": "[encoded data removed]"
          },
          "metadata": {}
        }
      ]
    },
    {
      "cell_type": "markdown",
      "source": [
        "The scatter plot shows a positive relationship between the number of flights and the number of passengers. It is obvious that as the number of flights increases, the number of passengers also increases."
      ],
      "metadata": {
        "id": "dvyuiT07MHQv"
      }
    },
    {
      "cell_type": "code",
      "source": [
        "## TODO: Perform a linear regression between domestic passengers and domestic flights, and create a prediction model."
      ],
      "metadata": {
        "execution": {
          "iopub.status.busy": "2024-02-11T12:19:11.179609Z",
          "iopub.execute_input": "2024-02-11T12:19:11.17993Z",
          "iopub.status.idle": "2024-02-11T12:19:11.193428Z",
          "shell.execute_reply.started": "2024-02-11T12:19:11.179906Z",
          "shell.execute_reply": "2024-02-11T12:19:11.192133Z"
        },
        "trusted": true,
        "id": "MHl-QKKvsOey"
      },
      "outputs": [],
      "execution_count": null
    },
    {
      "cell_type": "code",
      "source": [
        "# Define the independent variables (features) and dependent variable (target)\n",
        "X = df[['Dom_Pax']]\n",
        "y = df['Dom_Flt']\n",
        "\n",
        "# Convert categorical variables to dummy variables\n",
        "X = pd.get_dummies(X, drop_first=True)\n",
        "\n",
        "# Add a constant to the model (for the intercept)\n",
        "X = sm.add_constant(X)\n",
        "\n",
        "# Fit the linear regression model\n",
        "model = sm.OLS(y, X).fit()\n",
        "\n",
        "# Print the summary of the model\n",
        "print(model.summary())"
      ],
      "metadata": {
        "colab": {
          "base_uri": "https://localhost:8080/"
        },
        "id": "pOZfJSEX6kV0",
        "outputId": "61a123e0-8324-438e-8003-cd3c1642cb63"
      },
      "execution_count": 11,
      "outputs": [
        {
          "output_type": "stream",
          "name": "stdout",
          "text": [
            "                            OLS Regression Results                            \n",
            "==============================================================================\n",
            "Dep. Variable:                Dom_Flt   R-squared:                       0.288\n",
            "Model:                            OLS   Adj. R-squared:                  0.285\n",
            "Method:                 Least Squares   F-statistic:                     100.1\n",
            "Date:                Fri, 14 Mar 2025   Prob (F-statistic):           5.32e-20\n",
            "Time:                        12:58:09   Log-Likelihood:                -3194.2\n",
            "No. Observations:                 249   AIC:                             6392.\n",
            "Df Residuals:                     247   BIC:                             6399.\n",
            "Df Model:                           1                                         \n",
            "Covariance Type:            nonrobust                                         \n",
            "==============================================================================\n",
            "                 coef    std err          t      P>|t|      [0.025      0.975]\n",
            "------------------------------------------------------------------------------\n",
            "const       4.028e+05   3.09e+04     13.025      0.000    3.42e+05    4.64e+05\n",
            "Dom_Pax        0.0055      0.001     10.004      0.000       0.004       0.007\n",
            "==============================================================================\n",
            "Omnibus:                       37.531   Durbin-Watson:                   0.098\n",
            "Prob(Omnibus):                  0.000   Jarque-Bera (JB):                9.635\n",
            "Skew:                          -0.002   Prob(JB):                      0.00809\n",
            "Kurtosis:                       2.036   Cond. No.                     3.03e+08\n",
            "==============================================================================\n",
            "\n",
            "Notes:\n",
            "[1] Standard Errors assume that the covariance matrix of the errors is correctly specified.\n",
            "[2] The condition number is large, 3.03e+08. This might indicate that there are\n",
            "strong multicollinearity or other numerical problems.\n"
          ]
        }
      ]
    },
    {
      "cell_type": "code",
      "source": [
        "## TODO: Plot the scatter plot of domestic passengers versus domestic flights, and overlay the linear regression line."
      ],
      "metadata": {
        "execution": {
          "iopub.status.busy": "2024-02-11T12:19:11.195074Z",
          "iopub.execute_input": "2024-02-11T12:19:11.195404Z",
          "iopub.status.idle": "2024-02-11T12:19:11.527583Z",
          "shell.execute_reply.started": "2024-02-11T12:19:11.195377Z",
          "shell.execute_reply": "2024-02-11T12:19:11.526132Z"
        },
        "trusted": true,
        "id": "XglOhHOZsOey"
      },
      "outputs": [],
      "execution_count": null
    },
    {
      "cell_type": "code",
      "source": [
        "plt.figure(figsize=(8, 6))\n",
        "sns.regplot(x=df['Dom_Flt'], y=df['Dom_Pax'], scatter_kws={'alpha': 0.5}, line_kws={'color': 'red'})\n",
        "plt.xlabel('Domestic Flights')\n",
        "plt.ylabel('Domestic Passengers')\n",
        "plt.title('Relationship between Domestic Flights and Passengers with Regression Line')\n",
        "plt.show()"
      ],
      "metadata": {
        "colab": {
          "base_uri": "https://localhost:8080/",
          "height": 579
        },
        "id": "XGQyHXXdMQAi",
        "outputId": "2cde9548-369a-4cde-89f1-bead9bb3f909"
      },
      "execution_count": 12,
      "outputs": [
        {
          "output_type": "display_data",
          "data": {
            "text/plain": [
              "<Figure size 800x600 with 1 Axes>"
            ],
            "image/png": "[encoded data removed]"
          },
          "metadata": {}
        }
      ]
    },
    {
      "cell_type": "markdown",
      "source": [
        "In general, the more domestic flights, the more passengers.\n",
        "However, the relationship is not perfect: there are variations due to seasonality, route, economic factors and other variables.\n",
        "The correlation coefficient (~0.54) shows a moderate relationship. If it were closer to 1, the trend would be clearer."
      ],
      "metadata": {
        "id": "CCHN5x0oMhwr"
      }
    },
    {
      "cell_type": "code",
      "source": [
        "## TODO: Print the slope, intercept, p-value, standard error, and the predicted value for 100 domestic passengers."
      ],
      "metadata": {
        "execution": {
          "iopub.status.busy": "2024-02-11T12:19:11.529378Z",
          "iopub.execute_input": "2024-02-11T12:19:11.529797Z",
          "iopub.status.idle": "2024-02-11T12:19:11.537141Z",
          "shell.execute_reply.started": "2024-02-11T12:19:11.529761Z",
          "shell.execute_reply": "2024-02-11T12:19:11.535543Z"
        },
        "trusted": true,
        "id": "GfbLfjEMsOe0"
      },
      "outputs": [],
      "execution_count": null
    },
    {
      "cell_type": "code",
      "source": [
        "X = df['Dom_Flt']\n",
        "y = df['Dom_Pax']\n",
        "\n",
        "# linear regression\n",
        "slope, intercept, r_value, p_value, std_err = stats.linregress(X, y)\n",
        "\n",
        "# predict for 100\n",
        "predicted_value = slope * 100 + intercept\n",
        "\n",
        "# print result\n",
        "print(f\"Slope: {slope}\")\n",
        "print(f\"Intercept: {intercept}\")\n",
        "print(f\"P-value: {p_value}\")\n",
        "print(f\"Standard Error: {std_err}\")\n",
        "print(f\"Predicted value for 100 domestic flights: {predicted_value}\")\n"
      ],
      "metadata": {
        "colab": {
          "base_uri": "https://localhost:8080/"
        },
        "id": "Hg6ncam1Ms8X",
        "outputId": "88ee6af9-711b-4470-cf60-c74bec30ab11"
      },
      "execution_count": 13,
      "outputs": [
        {
          "output_type": "stream",
          "name": "stdout",
          "text": [
            "Slope: 52.369680671515425\n",
            "Intercept: 18197400.870412588\n",
            "P-value: 5.3156895585332156e-20\n",
            "Standard Error: 5.234799222558312\n",
            "Predicted value for 100 domestic flights: 18202637.83847974\n"
          ]
        }
      ]
    },
    {
      "cell_type": "markdown",
      "source": [
        "a strong positive correlation between the number of flights and passengers,"
      ],
      "metadata": {
        "id": "XShTifWSNBP3"
      }
    },
    {
      "cell_type": "markdown",
      "source": [
        "Slope: Shows how much the number of passengers changes when the number of flights increases by 1.\n",
        "Intercept: The value of passengers when the number of flights is zero (theoretically).\n",
        "R2R2: How well the model explains the data (the closer to 1, the better).\n",
        "P-value: Must be < 0.05 for the regression to be considered statistically significant.\n",
        "Standard Error: An estimate of the accuracy of the slope coefficient."
      ],
      "metadata": {
        "id": "tOasLntmSBmU"
      }
    },
    {
      "cell_type": "markdown",
      "source": [
        "# The coefficient of correlation\n",
        "\n",
        "The relationship between the values on the x-axis and the y-axis determines whether linear regression can be used for prediction. If there is no relationship, linear regression is not suitable for making predictions.\n",
        "\n",
        "The correlation coefficient (r) ranges from -1 to 1. A value of 0 indicates no relationship, while values close to 1 or -1 signify a strong positive or negative relationship, respectively, with a perfect correlation at either end."
      ],
      "metadata": {
        "id": "agS6RvfXsOe1"
      }
    },
    {
      "cell_type": "code",
      "source": [
        "## TODO: Print the slope, intercept, p-value, standard error, and the predicted value for 100 domestic passengers."
      ],
      "metadata": {
        "execution": {
          "iopub.status.busy": "2024-02-11T12:19:11.539637Z",
          "iopub.execute_input": "2024-02-11T12:19:11.540129Z",
          "iopub.status.idle": "2024-02-11T12:19:11.548836Z",
          "shell.execute_reply.started": "2024-02-11T12:19:11.540092Z",
          "shell.execute_reply": "2024-02-11T12:19:11.547233Z"
        },
        "trusted": true,
        "id": "ZaaDcifLsOe1"
      },
      "outputs": [],
      "execution_count": null
    },
    {
      "cell_type": "markdown",
      "source": [
        "# Linear Regression\n"
      ],
      "metadata": {
        "id": "kKMLumK_sOe2"
      }
    },
    {
      "cell_type": "code",
      "source": [
        "## TODO: Calculate linear regression parameters\n",
        "slope, intercept, r, p, std_err = linregress(X,y)\n",
        "r2 =  r ** 2\n",
        "## TODO:  Define the function for the linear model\n",
        "\n",
        "\n",
        "## TODO:  Apply the model to the 'Month' data\n",
        "\n",
        "\n",
        "## TODO:  Plot the scatter plot and the regression line\n",
        "\n",
        "# Results\n",
        "print(\"slope =\", slope)\n",
        "print(\"intercept =\", intercept)\n",
        "print(\"r² =\", r2)\n",
        "print(\"p =\", p)\n",
        "print(\"std_err =\", std_err)\n"
      ],
      "metadata": {
        "execution": {
          "iopub.status.busy": "2024-02-11T12:19:11.551289Z",
          "iopub.execute_input": "2024-02-11T12:19:11.551884Z",
          "iopub.status.idle": "2024-02-11T12:19:11.846511Z",
          "shell.execute_reply.started": "2024-02-11T12:19:11.551839Z",
          "shell.execute_reply": "2024-02-11T12:19:11.845125Z"
        },
        "trusted": true,
        "id": "e8nyRUpvsOe2",
        "colab": {
          "base_uri": "https://localhost:8080/"
        },
        "outputId": "05d3e8b5-6c0c-44c3-83b0-f548f6dec923"
      },
      "outputs": [
        {
          "output_type": "stream",
          "name": "stdout",
          "text": [
            "slope = 52.369680671515425\n",
            "intercept = 18197400.870412588\n",
            "r² = 0.2883544120989239\n",
            "p = 5.3156895585332156e-20\n",
            "std_err = 5.234799222558312\n"
          ]
        }
      ],
      "execution_count": 14
    },
    {
      "cell_type": "code",
      "source": [
        "## TODO: Print r2"
      ],
      "metadata": {
        "execution": {
          "iopub.status.busy": "2024-02-11T12:19:11.851036Z",
          "iopub.execute_input": "2024-02-11T12:19:11.851473Z",
          "iopub.status.idle": "2024-02-11T12:19:11.86181Z",
          "shell.execute_reply.started": "2024-02-11T12:19:11.851442Z",
          "shell.execute_reply": "2024-02-11T12:19:11.859935Z"
        },
        "trusted": true,
        "id": "MGokjMyisOe2"
      },
      "outputs": [],
      "execution_count": null
    },
    {
      "cell_type": "code",
      "source": [
        "print(\"r² =\", r2)"
      ],
      "metadata": {
        "colab": {
          "base_uri": "https://localhost:8080/"
        },
        "id": "vFVRP-FGS2at",
        "outputId": "5ebc58f3-c69a-4754-896e-cd56df7c6069"
      },
      "execution_count": 15,
      "outputs": [
        {
          "output_type": "stream",
          "name": "stdout",
          "text": [
            "r² = 0.2883544120989239\n"
          ]
        }
      ]
    },
    {
      "cell_type": "markdown",
      "source": [
        "r² close to 1 → the model explains the data well. r² close to 0 → the model explains the data poorly.\n",
        "\n",
        "This is a relatively low value, indicating a weak relationship between the variables."
      ],
      "metadata": {
        "id": "tIOaSFbCTLlq"
      }
    },
    {
      "cell_type": "markdown",
      "source": [
        "**Now Let's using ScikitLearn (Linear regression) to predict the value of y by using values of x**\n"
      ],
      "metadata": {
        "id": "ZZV3f74hsOe2"
      }
    },
    {
      "cell_type": "code",
      "source": [
        "## TODO: Prepare the data X and è for regression by reshaping the features using .reshape(-1,1)"
      ],
      "metadata": {
        "execution": {
          "iopub.status.busy": "2024-02-11T12:19:11.863469Z",
          "iopub.execute_input": "2024-02-11T12:19:11.864522Z",
          "iopub.status.idle": "2024-02-11T12:19:11.874405Z",
          "shell.execute_reply.started": "2024-02-11T12:19:11.864463Z",
          "shell.execute_reply": "2024-02-11T12:19:11.872619Z"
        },
        "trusted": true,
        "id": "EN-5bJJYsOe3"
      },
      "outputs": [],
      "execution_count": null
    },
    {
      "cell_type": "code",
      "source": [
        "X = df['Dom_Flt'].values  # convert to mass NumPy\n",
        "\n",
        "X = X.reshape(-1, 1)\n",
        "\n",
        "y = df['Dom_Pax'].values\n",
        "\n",
        "print(X.shape)"
      ],
      "metadata": {
        "colab": {
          "base_uri": "https://localhost:8080/"
        },
        "id": "mL7JiN-JTi6Z",
        "outputId": "77b8ccd3-bb95-4d39-fd66-9e392c7f0f90"
      },
      "execution_count": 16,
      "outputs": [
        {
          "output_type": "stream",
          "name": "stdout",
          "text": [
            "(249, 1)\n"
          ]
        }
      ]
    },
    {
      "cell_type": "code",
      "source": [
        "## TODO: Split the data into training and validation sets."
      ],
      "metadata": {
        "execution": {
          "iopub.status.busy": "2024-02-11T12:19:11.879171Z",
          "iopub.execute_input": "2024-02-11T12:19:11.879599Z",
          "iopub.status.idle": "2024-02-11T12:19:11.889612Z",
          "shell.execute_reply.started": "2024-02-11T12:19:11.87956Z",
          "shell.execute_reply": "2024-02-11T12:19:11.887964Z"
        },
        "trusted": true,
        "id": "gXouW9OqsOe3"
      },
      "outputs": [],
      "execution_count": null
    },
    {
      "cell_type": "code",
      "source": [
        "  X_train, X_test, y_train, y_test = train_test_split(X, y, test_size=0.2, random_state=42)\n",
        "  print(X_train.shape)\n",
        "  print(X_test.shape)"
      ],
      "metadata": {
        "colab": {
          "base_uri": "https://localhost:8080/"
        },
        "id": "FreoU4jAUK5_",
        "outputId": "b2362380-655c-4c66-d808-7eeb347298ec"
      },
      "execution_count": 17,
      "outputs": [
        {
          "output_type": "stream",
          "name": "stdout",
          "text": [
            "(199, 1)\n",
            "(50, 1)\n"
          ]
        }
      ]
    },
    {
      "cell_type": "code",
      "source": [
        "## TODO: Fit the linear regression model, make a prediction, and evaluate the model."
      ],
      "metadata": {
        "execution": {
          "iopub.status.busy": "2024-02-11T12:19:11.89134Z",
          "iopub.execute_input": "2024-02-11T12:19:11.892389Z",
          "iopub.status.idle": "2024-02-11T12:19:11.91911Z",
          "shell.execute_reply.started": "2024-02-11T12:19:11.892347Z",
          "shell.execute_reply": "2024-02-11T12:19:11.917782Z"
        },
        "trusted": true,
        "id": "4rzTb0XHsOe3"
      },
      "outputs": [],
      "execution_count": null
    },
    {
      "cell_type": "code",
      "source": [
        "# fit\n",
        "model = LinearRegression()\n",
        "model.fit(X, y)\n",
        "\n",
        "#  make a prediction\n",
        "y_pred = model.predict(X)\n",
        "\n",
        "# evaluate\n",
        "r2 = r2_score(y, y_pred)\n",
        "\n",
        "\n",
        "print(f\"Slope: {slope}\")\n",
        "print(f\"Intercept: {intercept}\")\n",
        "print(f\"R²: {r2}\")\n"
      ],
      "metadata": {
        "colab": {
          "base_uri": "https://localhost:8080/"
        },
        "id": "iPOY6YREVUD-",
        "outputId": "175acd65-fd05-4a25-aa4f-aa965af10c3f"
      },
      "execution_count": 18,
      "outputs": [
        {
          "output_type": "stream",
          "name": "stdout",
          "text": [
            "Slope: 52.369680671515425\n",
            "Intercept: 18197400.870412588\n",
            "R²: 0.28835441209892376\n"
          ]
        }
      ]
    },
    {
      "cell_type": "code",
      "source": [
        "## TODO: Print the prediction for the given input."
      ],
      "metadata": {
        "execution": {
          "iopub.status.busy": "2024-02-11T12:19:11.920731Z",
          "iopub.execute_input": "2024-02-11T12:19:11.921927Z",
          "iopub.status.idle": "2024-02-11T12:19:11.92904Z",
          "shell.execute_reply.started": "2024-02-11T12:19:11.921859Z",
          "shell.execute_reply": "2024-02-11T12:19:11.927422Z"
        },
        "trusted": true,
        "id": "6Oh6AgdtsOe3"
      },
      "outputs": [],
      "execution_count": null
    },
    {
      "cell_type": "markdown",
      "source": [
        "The Mean Squared Error (MSE) measures how well a regression line fits a set of data points by calculating the average of the squared differences between the observed values and the predicted values.\n",
        "\n",
        "The formula for MSE is:\n",
        "\n",
        "MSE=(1/n)*sum(yi-yhati)^2\n",
        "\n",
        "yi=observed values\n",
        "\n",
        "yhat=predict value\n",
        "\n",
        "MSE quantifies the error between the observed and predicted values, with smaller values indicating better model accuracy."
      ],
      "metadata": {
        "id": "8X7ELSctsOe3"
      }
    },
    {
      "cell_type": "code",
      "source": [
        "## TODO: Calculate the mean squared error (MSE) for the training set."
      ],
      "metadata": {
        "execution": {
          "iopub.status.busy": "2024-02-11T12:19:11.931245Z",
          "iopub.execute_input": "2024-02-11T12:19:11.931853Z",
          "iopub.status.idle": "2024-02-11T12:19:11.945145Z",
          "shell.execute_reply.started": "2024-02-11T12:19:11.931805Z",
          "shell.execute_reply": "2024-02-11T12:19:11.943842Z"
        },
        "trusted": true,
        "id": "YfoDKWxvsOe4"
      },
      "outputs": [],
      "execution_count": null
    },
    {
      "cell_type": "code",
      "source": [
        "mae = mean_absolute_error(y, y_pred)\n",
        "mse = mean_squared_error(y, y_pred)\n",
        "\n",
        "print(f\"MAE: {mae}\")\n",
        "print(f\"MSE: {mse}\")"
      ],
      "metadata": {
        "colab": {
          "base_uri": "https://localhost:8080/"
        },
        "id": "095VHYiFWApt",
        "outputId": "bd4776f4-2bcb-49c3-a49a-27f01502abd9"
      },
      "execution_count": 19,
      "outputs": [
        {
          "output_type": "stream",
          "name": "stdout",
          "text": [
            "MAE: 7206706.552851688\n",
            "MSE: 77261480521383.78\n"
          ]
        }
      ]
    },
    {
      "cell_type": "markdown",
      "source": [
        "MSE = 77,261,480,521,383 → The mean square error is very large, indicating significant outliers or large variance in the data."
      ],
      "metadata": {
        "id": "5hpcoZllWr_X"
      }
    },
    {
      "cell_type": "markdown",
      "source": [
        "What do you think ?"
      ],
      "metadata": {
        "id": "DCqzyYMS2Jcx"
      }
    },
    {
      "cell_type": "markdown",
      "source": [
        "# Multiple Regression\n",
        "\n",
        "Multiple regression is a statistical technique used to model the relationship between one dependent variable and two or more independent variables. This allows us to understand how multiple predictors influence a single outcome.\n",
        "\n",
        "The general formula for multiple regression is:\n",
        "\n",
        "y=β0+β1x1+β2x2+⋯+βpxp+ϵ\n",
        "\n",
        "\n",
        "Where:\n",
        "\n",
        "* y is the dependent (or response) variable,\n",
        "* x1​,x2​,…,xp​ are the independent (predictor) variables,\n",
        "* β0​ is the intercept,\n",
        "* pβ1​,β2​,…,βp​ are the regression coefficients for each independent variable,\n",
        "* ϵ is the error term.\n",
        "\n",
        "the goal is to estimate the coefficients (β) that minimize the error between the predicted and actual values of the dependent variable."
      ],
      "metadata": {
        "id": "XNF30qBCsOe4"
      }
    },
    {
      "cell_type": "code",
      "source": [
        "## TODO: Reshape the features mx and target variables my ."
      ],
      "metadata": {
        "execution": {
          "iopub.status.busy": "2024-02-11T12:19:11.946661Z",
          "iopub.execute_input": "2024-02-11T12:19:11.947092Z",
          "iopub.status.idle": "2024-02-11T12:19:11.959265Z",
          "shell.execute_reply.started": "2024-02-11T12:19:11.947052Z",
          "shell.execute_reply": "2024-02-11T12:19:11.957558Z"
        },
        "trusted": true,
        "id": "YPpQhqUTsOe4"
      },
      "outputs": [],
      "execution_count": null
    },
    {
      "cell_type": "code",
      "source": [
        "\n",
        "mx = df[[\"Int_Flt\", \"Dom_Flt\"]].values # features\n",
        "my = df[\"Year\"].values      # target variable\n",
        "\n",
        "# convert in matrix numpy\n",
        "mx = np.array(mx)\n",
        "my = np.array(my)\n",
        "\n",
        "\n",
        "\n",
        "mx = np.array(mx)\n",
        "my = np.array(my).reshape(-1, 1)\n",
        "\n",
        "print(mx.shape, my.shape)"
      ],
      "metadata": {
        "colab": {
          "base_uri": "https://localhost:8080/"
        },
        "id": "AIXxah6Gbv3-",
        "outputId": "669ec2fe-8a75-4348-deb0-1af9f771510f"
      },
      "execution_count": 55,
      "outputs": [
        {
          "output_type": "stream",
          "name": "stdout",
          "text": [
            "(249, 2) (249, 1)\n"
          ]
        }
      ]
    },
    {
      "cell_type": "code",
      "source": [
        "## TODO: Split the features and target variables into training and validation sets."
      ],
      "metadata": {
        "execution": {
          "iopub.status.busy": "2024-02-11T12:19:11.961299Z",
          "iopub.execute_input": "2024-02-11T12:19:11.961845Z",
          "iopub.status.idle": "2024-02-11T12:19:11.971129Z",
          "shell.execute_reply.started": "2024-02-11T12:19:11.961805Z",
          "shell.execute_reply": "2024-02-11T12:19:11.969469Z"
        },
        "trusted": true,
        "id": "208upkZKsOe4"
      },
      "outputs": [],
      "execution_count": null
    },
    {
      "cell_type": "code",
      "source": [
        "X_train, X_test, y_train, y_test = train_test_split(mx, my, test_size=0.2, random_state=42)\n",
        "X_train.shape, X_test.shape"
      ],
      "metadata": {
        "colab": {
          "base_uri": "https://localhost:8080/"
        },
        "id": "Ue--Wre7c7Mk",
        "outputId": "902e1419-de02-4388-9c1d-d9c019d93782"
      },
      "execution_count": 56,
      "outputs": [
        {
          "output_type": "execute_result",
          "data": {
            "text/plain": [
              "((199, 2), (50, 2))"
            ]
          },
          "metadata": {},
          "execution_count": 56
        }
      ]
    },
    {
      "cell_type": "code",
      "source": [
        "## TODO: Fit the multiple regression model and calculate the R^2 score on the training data using .score"
      ],
      "metadata": {
        "execution": {
          "iopub.status.busy": "2024-02-11T12:19:11.973186Z",
          "iopub.execute_input": "2024-02-11T12:19:11.973899Z",
          "iopub.status.idle": "2024-02-11T12:19:12.004777Z",
          "shell.execute_reply.started": "2024-02-11T12:19:11.973861Z",
          "shell.execute_reply": "2024-02-11T12:19:12.00355Z"
        },
        "trusted": true,
        "id": "gwDFWCERsOe5"
      },
      "outputs": [],
      "execution_count": null
    },
    {
      "cell_type": "code",
      "source": [
        "#train model\n",
        "model = LinearRegression()\n",
        "model.fit(X_train, y_train)\n",
        "\n",
        "# calculate R^2\n",
        "r2_train = model.score(X_train, y_train)\n",
        "print(f\"R^2 on training data: {r2_train:.4f}\")"
      ],
      "metadata": {
        "colab": {
          "base_uri": "https://localhost:8080/"
        },
        "id": "YQrFTeOvdHYu",
        "outputId": "57f7b627-18f8-42f7-f253-8820dd201932"
      },
      "execution_count": 57,
      "outputs": [
        {
          "output_type": "stream",
          "name": "stdout",
          "text": [
            "R^2 on training data: 0.7187\n"
          ]
        }
      ]
    },
    {
      "cell_type": "code",
      "source": [
        "## TODO: Print the target values"
      ],
      "metadata": {
        "execution": {
          "iopub.status.busy": "2024-02-11T12:19:12.006162Z",
          "iopub.execute_input": "2024-02-11T12:19:12.007416Z",
          "iopub.status.idle": "2024-02-11T12:19:12.02783Z",
          "shell.execute_reply.started": "2024-02-11T12:19:12.007358Z",
          "shell.execute_reply": "2024-02-11T12:19:12.026799Z"
        },
        "trusted": true,
        "id": "D2yijDq9sOe5"
      },
      "outputs": [],
      "execution_count": null
    },
    {
      "cell_type": "code",
      "source": [
        "print(my[:10])\n"
      ],
      "metadata": {
        "colab": {
          "base_uri": "https://localhost:8080/"
        },
        "id": "xYogRKTpeRhB",
        "outputId": "59a6a65e-06ff-48fd-c28e-5bc6171db944"
      },
      "execution_count": 59,
      "outputs": [
        {
          "output_type": "stream",
          "name": "stdout",
          "text": [
            "[[2003]\n",
            " [2003]\n",
            " [2003]\n",
            " [2003]\n",
            " [2003]\n",
            " [2003]\n",
            " [2003]\n",
            " [2003]\n",
            " [2003]\n",
            " [2003]]\n"
          ]
        }
      ]
    },
    {
      "cell_type": "code",
      "source": [
        "## TODO: Make a prediction using the multiple regression model."
      ],
      "metadata": {
        "execution": {
          "iopub.status.busy": "2024-02-11T12:19:12.029489Z",
          "iopub.execute_input": "2024-02-11T12:19:12.030227Z",
          "iopub.status.idle": "2024-02-11T12:19:12.041422Z",
          "shell.execute_reply.started": "2024-02-11T12:19:12.03019Z",
          "shell.execute_reply": "2024-02-11T12:19:12.040248Z"
        },
        "trusted": true,
        "id": "vilXnaQqsOe6"
      },
      "outputs": [],
      "execution_count": null
    },
    {
      "cell_type": "code",
      "source": [
        "# make predictions\n",
        "predictions = model.predict(mx)\n",
        "\n",
        "\n",
        "print(predictions[:10])\n"
      ],
      "metadata": {
        "colab": {
          "base_uri": "https://localhost:8080/"
        },
        "id": "Rm_LEGuleaOH",
        "outputId": "857e3b18-6acf-4115-d0b6-eeabd60a13ec"
      },
      "execution_count": 60,
      "outputs": [
        {
          "output_type": "stream",
          "name": "stdout",
          "text": [
            "[[2005.5488583 ]\n",
            " [2009.69257896]\n",
            " [2005.15974729]\n",
            " [2005.94972629]\n",
            " [2004.53813212]\n",
            " [2004.86990319]\n",
            " [2004.17851358]\n",
            " [2004.481953  ]\n",
            " [2004.64434957]\n",
            " [2002.36956943]]\n"
          ]
        }
      ]
    },
    {
      "cell_type": "markdown",
      "source": [
        "# Hypothesis testing\n",
        "\n",
        "Hypothesis testing is a systematic procedure used to evaluate whether the results of a research study support a particular theory or assumption about a population. It helps determine if there is enough evidence to reject or fail to reject a hypothesis based on sample data.\n",
        "\n",
        "**we have two types**\n",
        "\n",
        "1. The null hypothesis H0, represents the idea that there is no effect, relationship, or difference in the population. It serves as the baseline assumption that any observed effect in the data is due to chance.\n",
        "\n",
        "Example: \"There is no significant difference in test scores between two groups.\"\n",
        "\n",
        "2. The alternative hypothesis Ha suggests that there is an effect, relationship, or difference in the population. It is what researchers typically aim to support with their data.\n",
        "\n",
        "Example: \"There is a significant difference in test scores between two groups.\"\n",
        "\n",
        "In hypothesis testing, we aim to gather enough evidence from the sample to either reject the null hypothesis (H0H0​) in favor of the alternative hypothesis (HaHa​), or fail to reject the null hypothesis, indicating that there isn't sufficient evidence for the alternative hypothesis.\n"
      ],
      "metadata": {
        "id": "pPa88sHxsOe6"
      }
    },
    {
      "cell_type": "markdown",
      "source": [
        "# Null hypothesis\n",
        "\n",
        "The null hypothesis (H0H0​) is a statement that there is no significant difference or effect in the population. It assumes that any observed differences in the sample are due to random chance.\n",
        "\n",
        "In hypothesis testing, the decision to reject or fail to reject the null hypothesis is based on the p-value.\n",
        "\n",
        "If :\n",
        "* p ≤ 0.05: Reject H0H0​ (evidence supports HaHa​).\n",
        "* p > 0.05: Fail to reject H0H0​ (no evidence to support HaHa​)."
      ],
      "metadata": {
        "id": "NuHJZvc1sOe6"
      }
    },
    {
      "cell_type": "markdown",
      "source": [
        "# Alternative hypothesis Ha\n",
        "\n",
        "The alternative hypothesis (HaHa​) is a statement in statistical hypothesis testing that suggests there is a significant difference, effect, or relationship in the population, contrary to the null hypothesis (H0H0​).\n",
        "\n",
        "In other words, HaHa​ proposes that the observed data is not due to random chance, and there is some true effect or difference in the population that can be detected.\n",
        "\n",
        "For example:\n",
        "\n",
        "- Null Hypothesis (H0​): There is no significant difference in test scores between two groups.\n",
        "- Alternative Hypothesis (Ha​): There is a significant difference in test scores between the two groups.\n",
        "\n",
        "The goal of hypothesis testing is to gather enough evidence to reject the null hypothesis in favor of the alternative hypothesis, suggesting that the observed effect or difference is statistically significant."
      ],
      "metadata": {
        "id": "CUpLjYQmsOe6"
      }
    },
    {
      "cell_type": "code",
      "source": [
        "## (Optional) TODO: Perform hypothesis testing for two variables of your choice"
      ],
      "metadata": {
        "id": "pzLCOvOg9XJC"
      },
      "execution_count": null,
      "outputs": []
    },
    {
      "cell_type": "code",
      "source": [
        "# Convert all object columns to numeric by removing commas\n",
        "for col in df.columns:\n",
        "    df[col] = df[col].astype(str).str.replace(',', '').astype(float)\n",
        "\n",
        "# Extract the two variables\n",
        "dom_flt = df['Dom_Flt']\n",
        "int_flt = df['Int_Flt']\n",
        "\n",
        "# Perform an independent t-test\n",
        "t_stat, p_value = ttest_ind(dom_flt, int_flt, equal_var=False)\n",
        "\n",
        "# Print results\n",
        "print(f\"T-statistic: {t_stat:.4f}\")\n",
        "print(f\"P-value: {p_value:.4e}\")  # Scientific notation for small p-values\n"
      ],
      "metadata": {
        "colab": {
          "base_uri": "https://localhost:8080/"
        },
        "id": "cxJMKIYUv0Hi",
        "outputId": "31e9d73a-41e3-4020-dd0b-49e53496db86"
      },
      "execution_count": 30,
      "outputs": [
        {
          "output_type": "stream",
          "name": "stdout",
          "text": [
            "T-statistic: 94.0303\n",
            "P-value: 1.3783e-199\n"
          ]
        }
      ]
    },
    {
      "cell_type": "markdown",
      "source": [
        "# One sample test\n",
        "\n",
        "is used to compare the diffrence between sample and population mean\n",
        "\n",
        "![](data:image/png;base64,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)"
      ],
      "metadata": {
        "id": "vK8pd_oSsOe7"
      }
    },
    {
      "cell_type": "code",
      "source": [
        "## TODO: Calculate the population mean of the \"Year\" column."
      ],
      "metadata": {
        "execution": {
          "iopub.status.busy": "2024-02-11T12:19:12.043135Z",
          "iopub.execute_input": "2024-02-11T12:19:12.043822Z",
          "iopub.status.idle": "2024-02-11T12:19:12.051292Z",
          "shell.execute_reply.started": "2024-02-11T12:19:12.043786Z",
          "shell.execute_reply": "2024-02-11T12:19:12.050123Z"
        },
        "trusted": true,
        "id": "G-U380WesOfC"
      },
      "outputs": [],
      "execution_count": null
    },
    {
      "cell_type": "code",
      "source": [
        "popmean = df[\"Year\"].mean()"
      ],
      "metadata": {
        "id": "4Zn7nt1jQMDa"
      },
      "execution_count": 9,
      "outputs": []
    },
    {
      "cell_type": "code",
      "source": [
        "# let's take sample from data\n",
        "\n",
        "sample=np.random.choice(df[\"Year\"],50)"
      ],
      "metadata": {
        "execution": {
          "iopub.status.busy": "2024-02-11T12:19:12.052612Z",
          "iopub.execute_input": "2024-02-11T12:19:12.053819Z",
          "iopub.status.idle": "2024-02-11T12:19:12.067033Z",
          "shell.execute_reply.started": "2024-02-11T12:19:12.053768Z",
          "shell.execute_reply": "2024-02-11T12:19:12.06484Z"
        },
        "trusted": true,
        "id": "xzEp-UvEsOfD"
      },
      "outputs": [],
      "execution_count": 6
    },
    {
      "cell_type": "code",
      "source": [
        "sample"
      ],
      "metadata": {
        "execution": {
          "iopub.status.busy": "2024-02-11T12:19:12.069013Z",
          "iopub.execute_input": "2024-02-11T12:19:12.069518Z",
          "iopub.status.idle": "2024-02-11T12:19:12.083206Z",
          "shell.execute_reply.started": "2024-02-11T12:19:12.069481Z",
          "shell.execute_reply": "2024-02-11T12:19:12.080932Z"
        },
        "trusted": true,
        "id": "1umacIbhsOfD",
        "colab": {
          "base_uri": "https://localhost:8080/"
        },
        "outputId": "2bcb033a-cdc7-494a-8f71-c9ee61d4446a"
      },
      "outputs": [
        {
          "output_type": "execute_result",
          "data": {
            "text/plain": [
              "array([2011, 2003, 2016, 2017, 2014, 2022, 2007, 2011, 2011, 2005, 2003,\n",
              "       2016, 2003, 2009, 2015, 2006, 2013, 2013, 2012, 2020, 2021, 2019,\n",
              "       2023, 2012, 2005, 2022, 2020, 2015, 2017, 2007, 2009, 2007, 2013,\n",
              "       2007, 2003, 2023, 2018, 2020, 2021, 2021, 2021, 2019, 2008, 2003,\n",
              "       2021, 2017, 2021, 2020, 2019, 2016])"
            ]
          },
          "metadata": {},
          "execution_count": 7
        }
      ],
      "execution_count": 7
    },
    {
      "cell_type": "code",
      "source": [
        "## Perform a one-sample t-test to compare the sample mean with the population mean.\n",
        "ttest,p_value=ttest_1samp(sample,popmean)\n"
      ],
      "metadata": {
        "execution": {
          "iopub.status.busy": "2024-02-11T12:19:12.085093Z",
          "iopub.execute_input": "2024-02-11T12:19:12.086313Z",
          "iopub.status.idle": "2024-02-11T12:19:12.094311Z",
          "shell.execute_reply.started": "2024-02-11T12:19:12.086265Z",
          "shell.execute_reply": "2024-02-11T12:19:12.093008Z"
        },
        "trusted": true,
        "id": "FrkuruIksOfD"
      },
      "outputs": [],
      "execution_count": 10
    },
    {
      "cell_type": "code",
      "source": [
        "ttest"
      ],
      "metadata": {
        "execution": {
          "iopub.status.busy": "2024-02-11T12:19:12.096539Z",
          "iopub.execute_input": "2024-02-11T12:19:12.097824Z",
          "iopub.status.idle": "2024-02-11T12:19:12.109637Z",
          "shell.execute_reply.started": "2024-02-11T12:19:12.097766Z",
          "shell.execute_reply": "2024-02-11T12:19:12.108267Z"
        },
        "trusted": true,
        "id": "P3uigL3YsOfE",
        "colab": {
          "base_uri": "https://localhost:8080/"
        },
        "outputId": "64930c51-675e-4e18-e54f-e1e4ca26104a"
      },
      "outputs": [
        {
          "output_type": "execute_result",
          "data": {
            "text/plain": [
              "1.126513294549434"
            ]
          },
          "metadata": {},
          "execution_count": 11
        }
      ],
      "execution_count": 11
    },
    {
      "cell_type": "code",
      "source": [
        "sample.mean()"
      ],
      "metadata": {
        "execution": {
          "iopub.status.busy": "2024-02-11T12:19:12.111899Z",
          "iopub.execute_input": "2024-02-11T12:19:12.112407Z",
          "iopub.status.idle": "2024-02-11T12:19:12.123949Z",
          "shell.execute_reply.started": "2024-02-11T12:19:12.112359Z",
          "shell.execute_reply": "2024-02-11T12:19:12.122302Z"
        },
        "trusted": true,
        "id": "QPMQooJpsOfE",
        "colab": {
          "base_uri": "https://localhost:8080/"
        },
        "outputId": "ffba2d62-2976-405c-c54d-4351b8cae893"
      },
      "outputs": [
        {
          "output_type": "execute_result",
          "data": {
            "text/plain": [
              "2013.9"
            ]
          },
          "metadata": {},
          "execution_count": 12
        }
      ],
      "execution_count": 12
    },
    {
      "cell_type": "code",
      "source": [
        "## TODO: Perform hypothesis testing based on the p-value."
      ],
      "metadata": {
        "execution": {
          "iopub.status.busy": "2024-02-11T12:19:12.127707Z",
          "iopub.execute_input": "2024-02-11T12:19:12.128222Z",
          "iopub.status.idle": "2024-02-11T12:19:12.135799Z",
          "shell.execute_reply.started": "2024-02-11T12:19:12.128185Z",
          "shell.execute_reply": "2024-02-11T12:19:12.134481Z"
        },
        "trusted": true,
        "id": "cobdzqkRsOfF"
      },
      "outputs": [],
      "execution_count": null
    },
    {
      "cell_type": "code",
      "source": [
        "# Hypothesis testing\n",
        "if p_value < 0.05:\n",
        "    print(f\"P-value ({p_value:.4f}) < {0.05}, rejecting the null hypothesis (H0).\")\n",
        "    print(\"The sample mean is statistically significantly different from the population mean.\")\n",
        "else:\n",
        "    print(f\"P-value ({p_value:.4f}) >= {0.05}, failing to reject the null hypothesis (H0).\")\n",
        "    print(\"There is no statistically significant difference between the sample and population mean.\")\n"
      ],
      "metadata": {
        "colab": {
          "base_uri": "https://localhost:8080/"
        },
        "id": "Ppz2HmlST_KT",
        "outputId": "07bc9396-c82c-4805-e080-9d4b4e5c6926"
      },
      "execution_count": 14,
      "outputs": [
        {
          "output_type": "stream",
          "name": "stdout",
          "text": [
            "P-value (0.2654) >= 0.05, failing to reject the null hypothesis (H0).\n",
            "There is no statistically significant difference between the sample and population mean.\n"
          ]
        }
      ]
    },
    {
      "cell_type": "markdown",
      "source": [
        "# Two sample test\n",
        "\n",
        "it is a statistical test used to compare the means of two independent groups to determine if there is a statistically significant difference between them. It is commonly employed when researchers want to assess whether the mean values of a particular variable differ between two distinct groups.\n",
        "\n",
        "![](data:image/png;base64,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)"
      ],
      "metadata": {
        "id": "COQXicyusOfF"
      }
    },
    {
      "cell_type": "code",
      "source": [
        "## TODO: Randomly select a sample of 50 from the \"Flt\" column."
      ],
      "metadata": {
        "execution": {
          "iopub.status.busy": "2024-02-11T12:19:12.143891Z",
          "iopub.execute_input": "2024-02-11T12:19:12.144424Z",
          "iopub.status.idle": "2024-02-11T12:19:12.155545Z",
          "shell.execute_reply.started": "2024-02-11T12:19:12.144381Z",
          "shell.execute_reply": "2024-02-11T12:19:12.153606Z"
        },
        "trusted": true,
        "id": "sEu1-2j8sOfH"
      },
      "outputs": [],
      "execution_count": null
    },
    {
      "cell_type": "code",
      "source": [
        "sample_a =np.random.choice(df[\"Flt\"],50)"
      ],
      "metadata": {
        "id": "p2DyXj6SUsJp"
      },
      "execution_count": 27,
      "outputs": []
    },
    {
      "cell_type": "code",
      "source": [
        "sample_a"
      ],
      "metadata": {
        "colab": {
          "base_uri": "https://localhost:8080/"
        },
        "id": "4GJq8eQTU0lQ",
        "outputId": "4f00883e-6211-4520-b2f3-e3dceeb41ee5"
      },
      "execution_count": 28,
      "outputs": [
        {
          "output_type": "execute_result",
          "data": {
            "text/plain": [
              "array([789191., 764065., 851326., 672803., 739118., 899701., 655855.,\n",
              "       809770., 459910., 449262., 928415., 713549., 768849., 745517.,\n",
              "       772968., 771996., 858562., 819659., 854246., 737455., 427918.,\n",
              "       914511., 964102., 768040., 862487., 870504., 742649., 856120.,\n",
              "       745390., 459910., 788620., 845530., 541632., 800478., 767348.,\n",
              "       862487., 862927., 716411., 679388., 665686., 784846., 706238.,\n",
              "       875835., 734434., 869349., 723111., 787368., 222280., 682832.,\n",
              "       739255.])"
            ]
          },
          "metadata": {},
          "execution_count": 28
        }
      ]
    },
    {
      "cell_type": "code",
      "source": [
        "## TODO: Randomly select a sample of 50 from the \"Dom_Pax\" column."
      ],
      "metadata": {
        "execution": {
          "iopub.status.busy": "2024-02-11T12:19:12.157234Z",
          "iopub.execute_input": "2024-02-11T12:19:12.157596Z",
          "iopub.status.idle": "2024-02-11T12:19:12.16577Z",
          "shell.execute_reply.started": "2024-02-11T12:19:12.157565Z",
          "shell.execute_reply": "2024-02-11T12:19:12.164387Z"
        },
        "trusted": true,
        "id": "olDjK85usOfH"
      },
      "outputs": [],
      "execution_count": null
    },
    {
      "cell_type": "code",
      "source": [
        "sample_b =np.random.choice(df[\"Dom_Pax\"],50)"
      ],
      "metadata": {
        "id": "Ap_FjfsTU5G8"
      },
      "execution_count": 35,
      "outputs": []
    },
    {
      "cell_type": "code",
      "source": [
        "sample_b"
      ],
      "metadata": {
        "colab": {
          "base_uri": "https://localhost:8080/"
        },
        "id": "KYltUgwOWA62",
        "outputId": "4febf5c1-626c-4c84-a0db-3d06bee1e9bb"
      },
      "execution_count": 36,
      "outputs": [
        {
          "output_type": "execute_result",
          "data": {
            "text/plain": [
              "array([ 2877290., 63979337., 57870281., 57143966., 59142493., 52639838.,\n",
              "       66134540., 60546348., 61757222., 59779045., 72789897., 57206249.,\n",
              "       49075979., 53902837., 60310295., 58303233., 59688267., 66663503.,\n",
              "       59142493., 59261855., 52948582., 64624806., 59688267., 22921780.,\n",
              "       50982170., 48584832., 59142493., 62752121., 53902837., 51111121.,\n",
              "       42440614., 59724061., 49757124., 57403835., 55989104., 61622947.,\n",
              "       53902837., 66643229., 47059495., 51076415., 59142493., 58619844.,\n",
              "       67571574., 51111121., 63518318., 66961805., 45306597., 58646304.,\n",
              "       62396446., 62770180.])"
            ]
          },
          "metadata": {},
          "execution_count": 36
        }
      ]
    },
    {
      "cell_type": "code",
      "source": [
        "## TODO: Perform an independent t-test between `sample_a` and `sample_b` to compare their means."
      ],
      "metadata": {
        "execution": {
          "iopub.status.busy": "2024-02-11T12:19:12.166977Z",
          "iopub.execute_input": "2024-02-11T12:19:12.167363Z",
          "iopub.status.idle": "2024-02-11T12:19:12.178656Z",
          "shell.execute_reply.started": "2024-02-11T12:19:12.167332Z",
          "shell.execute_reply": "2024-02-11T12:19:12.177233Z"
        },
        "trusted": true,
        "id": "z2nI40cDsOfH"
      },
      "outputs": [],
      "execution_count": null
    },
    {
      "cell_type": "code",
      "source": [
        "popmean_a = df[\"Flt\"].mean()\n",
        "print(popmean_a)\n",
        "popmean_p = df[\"Dom_Pax\"].mean()\n",
        "print(popmean_p)"
      ],
      "metadata": {
        "colab": {
          "base_uri": "https://localhost:8080/"
        },
        "id": "YAk0sSXqWaGK",
        "outputId": "8de52d4c-ea29-4f34-9728-3644ecbb836a"
      },
      "execution_count": 38,
      "outputs": [
        {
          "output_type": "stream",
          "name": "stdout",
          "text": [
            "771486.8835341366\n",
            "55209709.91164659\n"
          ]
        }
      ]
    },
    {
      "cell_type": "code",
      "source": [
        "t_stat, p_value = ttest_ind(sample_a, sample_b, equal_var=False)\n",
        "\n",
        "# Print results\n",
        "print(f\"T-statistic: {t_stat:.4f}\")\n",
        "print(f\"P-value: {p_value:.4f}\")"
      ],
      "metadata": {
        "colab": {
          "base_uri": "https://localhost:8080/"
        },
        "id": "2JnHJhfwWXbD",
        "outputId": "3fe1cb6b-722e-4f70-d237-354b4a217e88"
      },
      "execution_count": 41,
      "outputs": [
        {
          "output_type": "stream",
          "name": "stdout",
          "text": [
            "T-statistic: -35.4002\n",
            "P-value: 0.0000\n"
          ]
        }
      ]
    },
    {
      "cell_type": "markdown",
      "source": [
        "We reject the null hypothesis (H₀) and confirm that the sample means of the statistical quantities are observed."
      ],
      "metadata": {
        "id": "5ceda3FvY5_P"
      }
    },
    {
      "cell_type": "code",
      "source": [
        "if p_value <=0.05:\n",
        "    print(\"rejected null hypothesis\",p_value)\n",
        "else:\n",
        "    print(\"accepted null hypothesis\",p_value)"
      ],
      "metadata": {
        "execution": {
          "iopub.status.busy": "2024-02-11T12:19:12.195897Z",
          "iopub.execute_input": "2024-02-11T12:19:12.196987Z",
          "iopub.status.idle": "2024-02-11T12:19:12.205896Z",
          "shell.execute_reply.started": "2024-02-11T12:19:12.196953Z",
          "shell.execute_reply": "2024-02-11T12:19:12.20476Z"
        },
        "trusted": true,
        "id": "TSA0lGmcsOfH",
        "colab": {
          "base_uri": "https://localhost:8080/"
        },
        "outputId": "12158e49-3f6c-4ca0-fd03-71ea78ce33ab"
      },
      "outputs": [
        {
          "output_type": "stream",
          "name": "stdout",
          "text": [
            "rejected null hypothesis 1.4279845915830303e-36\n"
          ]
        }
      ],
      "execution_count": 42
    },
    {
      "cell_type": "markdown",
      "source": [
        "# Type| & Type ||\n",
        "\n",
        "Reject the null hypothesis when it’s actually true (Type I error)\n",
        "\n",
        "Reject the null hypothesis when it’s actually false (Correct)\n",
        "\n",
        "Fail to reject the null hypothesis when it’s actually true (Correct)\n",
        "\n",
        "Fail to reject the null hypothesis when it’s actually false (Type II error)\n",
        "\n",
        "![](https://miro.medium.com/v2/resize:fit:828/format:webp/0*JM4fxEI__jX5f4Oy)"
      ],
      "metadata": {
        "id": "Z8a9Vz2SsOfI"
      }
    }
  ]
}