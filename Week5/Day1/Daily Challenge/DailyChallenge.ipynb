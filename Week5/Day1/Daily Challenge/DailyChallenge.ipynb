{
  "nbformat": 4,
  "nbformat_minor": 0,
  "metadata": {
    "colab": {
      "provenance": [],
      "authorship_tag": "ABX9TyO+kZgfWHmHrg4KG9mjYolP",
      "include_colab_link": true
    },
    "kernelspec": {
      "name": "python3",
      "display_name": "Python 3"
    },
    "language_info": {
      "name": "python"
    }
  },
  "cells": [
    {
      "cell_type": "markdown",
      "metadata": {
        "id": "view-in-github",
        "colab_type": "text"
      },
      "source": [
        "<a href=\"https://colab.research.google.com/github/TyamanovaMargo/DI-Bootcamp/blob/main/DailyChallenge.ipynb\" target=\"_parent\"><img src=\"https://colab.research.google.com/assets/colab-badge.svg\" alt=\"Open In Colab\"/></a>"
      ]
    },
    {
      "cell_type": "markdown",
      "source": [
        "#Write a brief summary explaining the basics of Machine Learning and why it is important for data analysts"
      ],
      "metadata": {
        "id": "x908m7vD_mLS"
      }
    },
    {
      "cell_type": "markdown",
      "source": [
        "Machine Learning (ML) is a type of artificial intelligence that allows systems to learn patterns from data and make predictions or judgments without explicit programming.  It entails algorithms that improve automatically with experience and use statistical techniques to detect links within datasets.\n",
        "\n",
        " Data analysts rely on machine learning (ML) to automate data processing, unearth hidden insights, and generate more accurate forecasts.  It improves decision-making, streamlines corporate operations, and enables sophisticated analytics like customer segmentation, fraud detection, and trend forecasting.  Data analysts can use machine learning to work more effectively and gain deeper insights from difficult data."
      ],
      "metadata": {
        "id": "PgEaG5pw_13B"
      }
    },
    {
      "cell_type": "markdown",
      "source": [
        "#Discuss the applications of Machine Learning across different industries, providing at least three specific examples"
      ],
      "metadata": {
        "id": "aMa-Wrm7_27z"
      }
    },
    {
      "cell_type": "markdown",
      "source": [
        "ML algorithms are used to analyze medical images like X-rays, MRIs, and CT scans to detect diseases such as cancer, fractures, or brain anomalies.\n",
        "\n",
        "ML algorithms are employed by financial institutions to monitor transaction patterns and detect unusual behavior that might indicate fraud.\n",
        "\n",
        " ML is used to analyze a person's financial history and behavior, helping banks make more accurate decisions about lending and issuing credit."
      ],
      "metadata": {
        "id": "FjetcyGeAE24"
      }
    },
    {
      "cell_type": "markdown",
      "source": [
        "#Create a section in your document that clearly differentiates between Supervised, Unsupervised, and Reinforcement Learning."
      ],
      "metadata": {
        "id": "yEq33kOPASEe"
      }
    },
    {
      "cell_type": "markdown",
      "source": [
        "Supervised learning uses a labeled training dataset to understand the relationships between inputs and output data. Data scientists manually create training datasets containing input data along with the corresponding labels. Supervised learning trains the model to apply the correct outputs to new input data in real-world use cases"
      ],
      "metadata": {
        "id": "T1tRUtR5AXfc"
      }
    },
    {
      "cell_type": "markdown",
      "source": [
        "Unsupervised learning is a branch of machine learning that deals with unlabeled data. Unlike supervised learning, where the data is labeled with a specific category or outcome, unsupervised learning algorithms are tasked with finding patterns and relationships within the data without any prior knowledge of the data’s meaning. Unsupervised machine learning algorithms find hidden patterns and data without any human intervention, i.e., we don’t give output to our model. The training model has only input parameter values and discovers the groups or patterns on its own."
      ],
      "metadata": {
        "id": "ZUt7BgTDAosH"
      }
    },
    {
      "cell_type": "markdown",
      "source": [
        "Reinforcement Learning (RL) is a branch of machine learning that focuses on how agents can learn to make decisions through trial and error to maximize cumulative rewards. RL allows machines to learn by interacting with an environment and receiving feedback based on their actions."
      ],
      "metadata": {
        "id": "5g22s0s-A0Th"
      }
    },
    {
      "cell_type": "markdown",
      "source": [
        "#For each type, provide a brief definition and an example scenario where that type of machine learning is typically applied."
      ],
      "metadata": {
        "id": "eXM1rkvBA52D"
      }
    },
    {
      "cell_type": "markdown",
      "source": [
        "**Supervised learning** Predicting whether an email is spam or not. The model is trained on a dataset of emails labeled as \"spam\" or \"not spam,\" and it learns to classify new emails into these categories based on the patterns observed in the training data.\n",
        "\n"
      ],
      "metadata": {
        "id": "WpdiPYsIBD1_"
      }
    },
    {
      "cell_type": "markdown",
      "source": [
        "**Unsupervised learning** Customer segmentation in marketing. A company uses unsupervised learning to group customers into segments based on purchasing behavior, without knowing in advance what types of customers exist. The model identifies clusters of customers with similar buying habits, which can then be targeted with personalized marketing strategies"
      ],
      "metadata": {
        "id": "SVmi1iwiBJn8"
      }
    },
    {
      "cell_type": "markdown",
      "source": [
        "**Reinforcement Learning** raining a robot to play chess. The robot makes moves on the chessboard, receives feedback based on whether the moves lead to a win or loss, and gradually learns the best strategy to win the game by maximizing the rewards it receives from successful moves."
      ],
      "metadata": {
        "id": "mS1NjyoNBPio"
      }
    },
    {
      "cell_type": "markdown",
      "source": [
        "#Describe the process of developing a machine learning model. Focus on three main stages: Feature Selection, Model Selection, and Model Evaluation."
      ],
      "metadata": {
        "id": "A3CLZMGbBVNn"
      }
    },
    {
      "cell_type": "markdown",
      "source": [
        "**Feature Selection** is the process of identifying the most relevant features (variables) from the dataset that will be used to train the model. This stage involves data preprocessing to clean and prepare the data, followed by methods like correlation analysis and dimensionality reduction (e.g., Principal Component Analysis) to eliminate irrelevant or redundant features. The goal is to improve model performance and reduce complexity by focusing on the most significant features. For instance, in predicting house prices, relevant features might include square footage and number of bedrooms, while irrelevant features like the house color can be discarded.\n",
        "\n",
        "**Model Selection** is the stage where the most suitable machine learning algorithm is chosen based on the problem type and data characteristics. The decision depends on whether the task is classification or regression. Common models include linear regression for continuous outcomes, decision trees or random forests for both classification and regression, and neural networks for complex datasets like images. Hyperparameter tuning, using methods such as grid search, is also performed to optimize the model's performance. For example, a logistic regression model might be used for binary classification tasks like predicting whether an email is spam.\n",
        "\n",
        "**Evaluation** assesses the model's performance on unseen data to ensure it generalizes well and doesn’t overfit or underfit the training data. This stage typically involves splitting the data into training and testing sets, often with cross-validation to evaluate the model’s performance on different subsets of the data. The evaluation uses metrics appropriate for the task, such as accuracy, precision, recall, and F1 score for classification, or mean squared error and R-squared for regression. After training a decision tree to predict customer churn, these metrics help determine how well the model predicts new customer behavior."
      ],
      "metadata": {
        "id": "OTu7saRqBc1I"
      }
    }
  ]
}