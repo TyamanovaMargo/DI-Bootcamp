{
  "nbformat": 4,
  "nbformat_minor": 0,
  "metadata": {
    "colab": {
      "provenance": [],
      "authorship_tag": "ABX9TyMVlMRj+XwSPipB0iBWBMTi",
      "include_colab_link": true
    },
    "kernelspec": {
      "name": "python3",
      "display_name": "Python 3"
    },
    "language_info": {
      "name": "python"
    }
  },
  "cells": [
    {
      "cell_type": "markdown",
      "metadata": {
        "id": "view-in-github",
        "colab_type": "text"
      },
      "source": [
        "<a href=\"https://colab.research.google.com/github/TyamanovaMargo/DI-Bootcamp/blob/main/exerciseXP.ipynb\" target=\"_parent\"><img src=\"https://colab.research.google.com/assets/colab-badge.svg\" alt=\"Open In Colab\"/></a>"
      ]
    },
    {
      "cell_type": "markdown",
      "source": [
        "#🌟 Exercise 1 : Defining the Problem and Data Collection for Loan Default Prediction"
      ],
      "metadata": {
        "id": "ezreJEF1cajY"
      }
    },
    {
      "cell_type": "markdown",
      "source": [
        "##Write a clear problem statement for predicting loan defaults."
      ],
      "metadata": {
        "id": "c8DVSQvkSGWY"
      }
    },
    {
      "cell_type": "markdown",
      "source": [
        "**The goal of this research** is to create a machine learning model that can accurately forecast if a loan application is likely to default using historical and real-time financial data.  Institutions can use pertinent data to make educated judgments, reduce possible losses, and enhance loan approval processes.\n",
        "\n"
      ],
      "metadata": {
        "id": "rdDPXEsYR_ZH"
      }
    },
    {
      "cell_type": "markdown",
      "source": [
        "##Identify and list the types of data you would need for this project"
      ],
      "metadata": {
        "id": "V06waWJ4SCo_"
      }
    },
    {
      "cell_type": "markdown",
      "source": [
        "Financial History,Loan Information,Repayment Behavior,Economic Conditions (Inflation, Unemployment Rates),Credit Bureau Risk Indicators, about person(Age,\n",
        "Gender,Marital Status,Number of dependents)"
      ],
      "metadata": {
        "id": "ouEpa1eoSK06"
      }
    },
    {
      "cell_type": "markdown",
      "source": [
        "##Discuss the sources where you can collect this data"
      ],
      "metadata": {
        "id": "3Kx-CmJlSpcu"
      }
    },
    {
      "cell_type": "markdown",
      "source": [
        "Customer transaction history,Credit reports from agencies such as Experian, Equifax, or TransUnion,Comprehensive borrower credit scores,Publicly available financial and employment statistics,global financial institutions' datasets"
      ],
      "metadata": {
        "id": "HbjXS6z3St_Q"
      }
    },
    {
      "cell_type": "markdown",
      "source": [
        "#🌟 Exercise 2 : Feature Selection and Model Choice for Loan Default Prediction"
      ],
      "metadata": {
        "id": "ygMNKhH3TE7I"
      }
    },
    {
      "cell_type": "code",
      "source": [
        "import pandas as pd\n",
        "df = pd.read_csv(\"/content/train_u6lujuX_CVtuZ9i (1).csv\")\n",
        "# print(df.head())  # Display first few rows\n",
        "df.columns"
      ],
      "metadata": {
        "colab": {
          "base_uri": "https://localhost:8080/"
        },
        "id": "jJTZrKAXcBkn",
        "outputId": "d1d6d515-1e51-4663-c316-90c9d8b7a061"
      },
      "execution_count": 4,
      "outputs": [
        {
          "output_type": "execute_result",
          "data": {
            "text/plain": [
              "Index(['Loan_ID', 'Gender', 'Married', 'Dependents', 'Education',\n",
              "       'Self_Employed', 'ApplicantIncome', 'CoapplicantIncome', 'LoanAmount',\n",
              "       'Loan_Amount_Term', 'Credit_History', 'Property_Area', 'Loan_Status'],\n",
              "      dtype='object')"
            ]
          },
          "metadata": {},
          "execution_count": 4
        }
      ]
    },
    {
      "cell_type": "code",
      "source": [
        "df.shape\n"
      ],
      "metadata": {
        "colab": {
          "base_uri": "https://localhost:8080/"
        },
        "id": "w6P4mW4NhV8B",
        "outputId": "19233f61-b2c4-4a31-d9b1-6c71d97567c0"
      },
      "execution_count": 5,
      "outputs": [
        {
          "output_type": "execute_result",
          "data": {
            "text/plain": [
              "(614, 13)"
            ]
          },
          "metadata": {},
          "execution_count": 5
        }
      ]
    },
    {
      "cell_type": "markdown",
      "source": [
        "## Identify which features might be most relevant for predicting loan defaults."
      ],
      "metadata": {
        "id": "o9Lg91DscMqs"
      }
    },
    {
      "cell_type": "markdown",
      "source": [
        "* Marriage can affect financial stability and repayment capacity\n",
        "* Self-employed individuals may have fluctuating incomes, impacting their ability to repay.\n",
        "* A higher loan amount relative to income might indicate a higher risk of default\n",
        "*  Graduates might have better job prospects and financial stability.\n",
        "* Higher income applicants are generally less likely to default."
      ],
      "metadata": {
        "id": "vyqPq0mvcJpR"
      }
    },
    {
      "cell_type": "markdown",
      "source": [
        "#🌟 Exercise 3 : Training, Evaluating, and Optimizing the Model"
      ],
      "metadata": {
        "id": "1Tb4wL_Ig2Cv"
      }
    },
    {
      "cell_type": "markdown",
      "source": [
        "##Which model(s) would you pick for a Loan Prediction ?"
      ],
      "metadata": {
        "id": "-8mja7uXg4fN"
      }
    },
    {
      "cell_type": "markdown",
      "source": [
        "Logistic Regression  or Random Fores - for predicting loan defaults (a binary classification problem: \"Y\" or \"N\"), the following models would be suitable"
      ],
      "metadata": {
        "id": "YnFk0AXag65R"
      }
    },
    {
      "cell_type": "markdown",
      "source": [
        "1. Data preprocessing :\n",
        "Handle missing values, encode categorical variables,split the dataset into train (80%) and test (20%) sets.\n",
        "\n",
        "2. Model training :\n",
        "Train selected models on the training set.\n",
        "\n",
        "3. Evaluation metrics:\n",
        "Since the dataset is imbalanced (loan approvals are usually more frequent than rejections), standard metrics include:\n",
        "Accuracy,\n",
        "Precision,\n",
        "Recall,\n",
        "F1-Score – Balances Precision and Recall.\n"
      ],
      "metadata": {
        "id": "dP6hGzUzhwJJ"
      }
    },
    {
      "cell_type": "markdown",
      "source": [
        "#🌟 Exercise 4 : Designing Machine Learning Solutions for Specific Problems"
      ],
      "metadata": {
        "id": "s_DbGfaLim9F"
      }
    },
    {
      "cell_type": "markdown",
      "source": [
        "\n",
        "Predicting Stock Prices : predict future prices ---**Regression Model**\n",
        "\n",
        "\n",
        "Organizing a Library of Books : group books into genres or categories based on similarities. ---- **Clustering Model**\n",
        "\n",
        "\n",
        "\n",
        "Program a robot to navigate and find the shortest path in a maze.--**Reinforcement Learning**\n"
      ],
      "metadata": {
        "id": "yoVyNCHSjMXb"
      }
    },
    {
      "cell_type": "markdown",
      "source": [
        "#🌟 Exercise 5: Designing an Evaluation Strategy for Different ML Models"
      ],
      "metadata": {
        "id": "o5SwJeDtlbaW"
      }
    },
    {
      "cell_type": "markdown",
      "source": [
        "##Supervised Learning Model: Random Forest"
      ],
      "metadata": {
        "id": "eiq76WVrmH1A"
      }
    },
    {
      "cell_type": "markdown",
      "source": [
        "* Divide data into 80% training, 20% testing.\n",
        "* Use K-Fold Cross-Validation (e.g., k=5) for reliable performance estimation.\n",
        "* Evaluation metrics : accuracy,precision, recall, f1 score"
      ],
      "metadata": {
        "id": "mmorpA3ZmQwf"
      }
    },
    {
      "cell_type": "markdown",
      "source": [
        "Challenge :Handling class imbalance, feature importance interpretation."
      ],
      "metadata": {
        "id": "vBc7ovpsmndp"
      }
    },
    {
      "cell_type": "markdown",
      "source": [
        "##Unsupervised Learning Model: K-Means Clustering"
      ],
      "metadata": {
        "id": "4keIKREam1Jo"
      }
    },
    {
      "cell_type": "markdown",
      "source": [
        "* Determines optimal clusters by plotting inertia (within-cluster sum of squares).\n",
        "* how well samples fit into their clusters (ranges from -1 to 1).\n",
        "* Measures inter-cluster separation and intra-cluster compactness"
      ],
      "metadata": {
        "id": "BdIZWkvvm4Ek"
      }
    },
    {
      "cell_type": "markdown",
      "source": [
        "Challenge : equires defining the number of clusters K in advance,\n",
        "Sensitive to outliers.\n",
        "assumes clusters are spherical, which may not always be true."
      ],
      "metadata": {
        "id": "L2URFyr4nFRt"
      }
    },
    {
      "cell_type": "markdown",
      "source": [
        "##Reinforcement Learning"
      ],
      "metadata": {
        "id": "ePFsx3gpnZms"
      }
    },
    {
      "cell_type": "markdown",
      "source": [
        "* Measures long-term reward maximization over multiple episodes.\n",
        "* Observes when Q-values stabilize\n",
        "* Ensuring sufficient exploration (ε-greedy strategy)."
      ],
      "metadata": {
        "id": "d5TBqXz2ncHa"
      }
    }
  ]
}