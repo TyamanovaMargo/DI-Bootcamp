{
  "nbformat": 4,
  "nbformat_minor": 0,
  "metadata": {
    "colab": {
      "provenance": [],
      "authorship_tag": "ABX9TyPdhh3qYEP2MBdWSXuFz1Kj",
      "include_colab_link": true
    },
    "kernelspec": {
      "name": "python3",
      "display_name": "Python 3"
    },
    "language_info": {
      "name": "python"
    }
  },
  "cells": [
    {
      "cell_type": "markdown",
      "metadata": {
        "id": "view-in-github",
        "colab_type": "text"
      },
      "source": [
        "<a href=\"https://colab.research.google.com/github/TyamanovaMargo/DI-Bootcamp/blob/main/ExerciseXP_week4_d2.ipynb\" target=\"_parent\"><img src=\"https://colab.research.google.com/assets/colab-badge.svg\" alt=\"Open In Colab\"/></a>"
      ]
    },
    {
      "cell_type": "code",
      "source": [
        "import numpy as np\n",
        "import pandas as pd\n",
        "import matplotlib.pyplot as plt\n",
        "import seaborn as sns"
      ],
      "metadata": {
        "id": "XKc3T1vJqlHd"
      },
      "execution_count": 3,
      "outputs": []
    },
    {
      "cell_type": "markdown",
      "source": [
        "#🌟 Exercise 1 : Matrix Operations"
      ],
      "metadata": {
        "id": "WGvVFv8UpTee"
      }
    },
    {
      "cell_type": "code",
      "execution_count": null,
      "metadata": {
        "id": "OaQIjPalo9tQ"
      },
      "outputs": [],
      "source": [
        "# det(A)= [ab,  = ad - bc\n",
        "#          cd]"
      ]
    },
    {
      "cell_type": "code",
      "source": [
        "# array_3d = np.eye(3)\n",
        "\n",
        "array_3d = np.random.randint(0, 10, (3, 3)) # random.randint(low, high=None, size=None, dtype=int)\n",
        "array_3d\n",
        "\n"
      ],
      "metadata": {
        "colab": {
          "base_uri": "https://localhost:8080/"
        },
        "id": "PWi70k2eqidK",
        "outputId": "005a907c-e594-4d2d-edd8-be49e615e8be"
      },
      "execution_count": 6,
      "outputs": [
        {
          "output_type": "execute_result",
          "data": {
            "text/plain": [
              "array([[1, 7, 2],\n",
              "       [2, 7, 5],\n",
              "       [5, 4, 4]])"
            ]
          },
          "metadata": {},
          "execution_count": 6
        }
      ]
    },
    {
      "cell_type": "markdown",
      "source": [
        "##Calculate the determinant"
      ],
      "metadata": {
        "id": "Hy7Q7MtRsIVc"
      }
    },
    {
      "cell_type": "code",
      "source": [
        "determinant = np.linalg.det(array_3d)  # Compute the determinant of an array.\n",
        "print(\"Determinant:\", determinant)"
      ],
      "metadata": {
        "colab": {
          "base_uri": "https://localhost:8080/"
        },
        "id": "ZrkY5lVXsG39",
        "outputId": "b395ac25-12a6-47cc-fd59-9609f0123f3a"
      },
      "execution_count": 21,
      "outputs": [
        {
          "output_type": "stream",
          "name": "stdout",
          "text": [
            "Determinant: 72.99999999999999\n"
          ]
        }
      ]
    },
    {
      "cell_type": "markdown",
      "source": [
        "## Find the inverse of the matrix."
      ],
      "metadata": {
        "id": "s9Q_N6ZLst1s"
      }
    },
    {
      "cell_type": "markdown",
      "source": [
        ", где  – определитель матрицы ,  – транспонированная матрица"
      ],
      "metadata": {
        "id": "haOQvpcbtgnL"
      }
    },
    {
      "cell_type": "code",
      "source": [
        "# if det == 0 it means inverse matrix doesnt exist\n",
        "\n",
        "if determinant != 0:\n",
        "  inverse_array_3d = np.linalg.inv(array_3d)\n",
        "\n",
        "# inverse_array_3d\n",
        "\n",
        "check_reverse = np.dot(array_3d, inverse_array_3d)\n",
        "check_reverse\n"
      ],
      "metadata": {
        "colab": {
          "base_uri": "https://localhost:8080/"
        },
        "id": "mzxMTbsrswec",
        "outputId": "99a58f49-cf7b-4250-d9e9-ac8053683b56"
      },
      "execution_count": 20,
      "outputs": [
        {
          "output_type": "execute_result",
          "data": {
            "text/plain": [
              "array([[ 1.00000000e+00,  0.00000000e+00,  0.00000000e+00],\n",
              "       [-1.11022302e-16,  1.00000000e+00, -2.77555756e-17],\n",
              "       [ 0.00000000e+00,  0.00000000e+00,  1.00000000e+00]])"
            ]
          },
          "metadata": {},
          "execution_count": 20
        }
      ]
    },
    {
      "cell_type": "markdown",
      "source": [
        "#🌟 Exercise 2 : Statistical Analysis"
      ],
      "metadata": {
        "id": "uzNUVGvRw9gP"
      }
    },
    {
      "cell_type": "markdown",
      "source": [],
      "metadata": {
        "id": "QcgHoqxBxIHq"
      }
    },
    {
      "cell_type": "markdown",
      "source": [
        "##In this exercise, you’ll calculate statistical measures for a dataset:\n",
        "\n",
        "Mean: The average value of a dataset.\n",
        "Median: The middle value in a dataset when it is arranged in ascending or descending order.\n",
        "Standard Deviation: A measure of the amount of variation or dispersion in a set of values.\n",
        "\n",
        "Using NumPy, generate an array of 50 random numbers and compute:\n",
        "\n",
        "The mean and median.\n",
        "The standard deviation.\n"
      ],
      "metadata": {
        "id": "K2LD4Mu0w-zd"
      }
    },
    {
      "cell_type": "code",
      "source": [
        "ran_array = np.random.randint(0, 100, 50) #random.randint(low, high=None, size=None, dtype=int)\n",
        "print(ran_array)\n",
        "\n",
        "#  the count of elements\n",
        "count = len(ran_array)\n",
        "count\n"
      ],
      "metadata": {
        "colab": {
          "base_uri": "https://localhost:8080/"
        },
        "id": "JOdv0Q_BxIyA",
        "outputId": "4085480e-4c91-4438-8df4-1c0d659cf5fc"
      },
      "execution_count": 26,
      "outputs": [
        {
          "output_type": "stream",
          "name": "stdout",
          "text": [
            "[91 23 31 53 59 67 80  4 96 30 24 27 38 90 21 51 54 63  4 81 39 44 71 24\n",
            "  1 80 64 61 22 12  7  9 50 30 60 12 55 79 81 64 16 64 82 72 58 73 82 59\n",
            " 34 36]\n"
          ]
        },
        {
          "output_type": "execute_result",
          "data": {
            "text/plain": [
              "50"
            ]
          },
          "metadata": {},
          "execution_count": 26
        }
      ]
    },
    {
      "cell_type": "code",
      "source": [
        "median_of_ran_array = np.median(ran_array)\n",
        "print(\"Median of the array:\", median_of_ran_array)"
      ],
      "metadata": {
        "colab": {
          "base_uri": "https://localhost:8080/"
        },
        "id": "hZ8RrVVWy1Ll",
        "outputId": "539c4df3-2271-4e3f-bf17-36df13d61410"
      },
      "execution_count": 27,
      "outputs": [
        {
          "output_type": "stream",
          "name": "stdout",
          "text": [
            "Median of the array: 53.5\n"
          ]
        }
      ]
    },
    {
      "cell_type": "code",
      "source": [
        "average_of_ran_array = np.mean(ran_array)\n",
        "print(\"Average of the array:\", average_of_ran_array)"
      ],
      "metadata": {
        "colab": {
          "base_uri": "https://localhost:8080/"
        },
        "id": "HOAG7uaIzJ-e",
        "outputId": "ed65f924-b285-4acf-f3da-c6954eca26a8"
      },
      "execution_count": 28,
      "outputs": [
        {
          "output_type": "stream",
          "name": "stdout",
          "text": [
            "Average of the array: 48.56\n"
          ]
        }
      ]
    },
    {
      "cell_type": "code",
      "source": [
        "standart_deviation_of_ran_array = np.std(ran_array)\n",
        "print(\"Standart deviation of the array:\", standart_deviation_of_ran_array)"
      ],
      "metadata": {
        "colab": {
          "base_uri": "https://localhost:8080/"
        },
        "id": "IWchOVJozPFk",
        "outputId": "dbc418cb-0474-4c51-ba00-740be3f7f94d"
      },
      "execution_count": 29,
      "outputs": [
        {
          "output_type": "stream",
          "name": "stdout",
          "text": [
            "Standart deviation of the array: 26.554969403107965\n"
          ]
        }
      ]
    },
    {
      "cell_type": "markdown",
      "source": [
        "#🌟 Exercise 3 : Date Manipulation"
      ],
      "metadata": {
        "id": "Iwi0DWWOzVTo"
      }
    },
    {
      "cell_type": "markdown",
      "source": [
        "##Create a NumPy array of dates for the month of January 2023. Convert these dates to another format (e.g., YYYY/MM/DD)."
      ],
      "metadata": {
        "id": "ZMXsyQWgzZHx"
      }
    },
    {
      "cell_type": "code",
      "source": [
        "import numpy as np\n",
        "\n",
        "\n",
        "\n",
        "\n",
        "dates = np.arange('2023-01-01', '2023-02-01', dtype='datetime64[D]')\n",
        "\n",
        "'''\n",
        "datetime64[Y]\t\t2023\n",
        "datetime64[M]\t\t2023-01\n",
        "datetime64[D]\t2023-01-01\n",
        "datetime64[h]\t2023-01-01T12\n",
        "datetime64[m]\t\t2023-01-01T12:30\n",
        "datetime64[s]\n",
        "'''\n",
        "# Converting dates to a different format\n",
        "formatted_dates = np.array([np.datetime_as_string(date, unit='D').replace('-', '/') for date in dates])\n",
        "\n",
        "\n",
        "print(\"Formatted Dates:\\n\", formatted_dates)\n",
        "\n",
        "\n",
        "\n"
      ],
      "metadata": {
        "colab": {
          "base_uri": "https://localhost:8080/"
        },
        "id": "kfhxqWxizg9a",
        "outputId": "bec6e569-55f4-41b5-db40-d8fd338c09c4"
      },
      "execution_count": 39,
      "outputs": [
        {
          "output_type": "stream",
          "name": "stdout",
          "text": [
            "Formatted Dates:\n",
            " ['2023/01/01' '2023/01/02' '2023/01/03' '2023/01/04' '2023/01/05'\n",
            " '2023/01/06' '2023/01/07' '2023/01/08' '2023/01/09' '2023/01/10'\n",
            " '2023/01/11' '2023/01/12' '2023/01/13' '2023/01/14' '2023/01/15'\n",
            " '2023/01/16' '2023/01/17' '2023/01/18' '2023/01/19' '2023/01/20'\n",
            " '2023/01/21' '2023/01/22' '2023/01/23' '2023/01/24' '2023/01/25'\n",
            " '2023/01/26' '2023/01/27' '2023/01/28' '2023/01/29' '2023/01/30'\n",
            " '2023/01/31']\n"
          ]
        }
      ]
    },
    {
      "cell_type": "markdown",
      "source": [
        "#🌟 Exercise 4 : Data Manipulation with NumPy and Pandas"
      ],
      "metadata": {
        "id": "TF1tsAOV2whJ"
      }
    },
    {
      "cell_type": "markdown",
      "source": [
        "\n",
        "\n",
        "Create a DataFrame with random numbers and perform:\n",
        "\n",
        "Conditional selection of data.\n",
        "Aggregation functions like sum and average.\n"
      ],
      "metadata": {
        "id": "VvOboOZH22Te"
      }
    },
    {
      "cell_type": "code",
      "source": [
        "import pandas as pd\n",
        "import numpy as np\n",
        "\n",
        "\n",
        "data = pd.DataFrame(np.random.rand(100, 4), columns=['A', 'B', 'C', 'D'])\n",
        "print(data)\n",
        "\n",
        "result_pandas = data[(data['B'] > 0.9)  & (data['C'] < 0.3)  & (data['A'] > 0.1)].mean()\n",
        "\n",
        "# print(result_pandas)\n",
        "\n",
        "\n",
        "# filtered_df = df[df > 50]\n",
        "# total_sum = df.sum().sum()\n",
        "# column_mean = df.mean()\n",
        "\n",
        "average_responses = np.mean(data, axis=0)\n",
        "print(f\"average {average_responses}\")\n",
        "\n",
        "total_responses = np.sum(data, axis=0)\n",
        "print (f\"total {total_responses}\")"
      ],
      "metadata": {
        "colab": {
          "base_uri": "https://localhost:8080/"
        },
        "id": "wANryKOY29Tp",
        "outputId": "1275f800-6212-42ce-f416-0cfdcbe30252"
      },
      "execution_count": 57,
      "outputs": [
        {
          "output_type": "stream",
          "name": "stdout",
          "text": [
            "           A         B         C         D\n",
            "0   0.499017  0.594350  0.976347  0.139813\n",
            "1   0.882725  0.364225  0.256579  0.549904\n",
            "2   0.008780  0.775644  0.195130  0.076200\n",
            "3   0.747202  0.049080  0.288262  0.559325\n",
            "4   0.285151  0.742316  0.357404  0.338325\n",
            "..       ...       ...       ...       ...\n",
            "95  0.092168  0.125795  0.469407  0.588783\n",
            "96  0.716524  0.142708  0.275295  0.136332\n",
            "97  0.035703  0.028343  0.619176  0.547359\n",
            "98  0.330925  0.202668  0.086448  0.394902\n",
            "99  0.578608  0.443214  0.965117  0.260224\n",
            "\n",
            "[100 rows x 4 columns]\n",
            "average A    0.503266\n",
            "B    0.472761\n",
            "C    0.454912\n",
            "D    0.450601\n",
            "dtype: float64\n",
            "total A    50.326551\n",
            "B    47.276052\n",
            "C    45.491184\n",
            "D    45.060125\n",
            "dtype: float64\n"
          ]
        }
      ]
    },
    {
      "cell_type": "markdown",
      "source": [
        "#🌟 Exercise 5 : Image Representation"
      ],
      "metadata": {
        "id": "pVGTTjWk6l3T"
      }
    },
    {
      "cell_type": "code",
      "source": [
        "import numpy as np\n",
        "from matplotlib import pyplot as plt\n",
        "\n",
        "random_image = np.random.random([5, 5]) # create arr size 200 x 200\n",
        "\n",
        "plt.imshow(random_image, cmap='pink') # imshow() draw pict based on arr,shades of pink\n"
      ],
      "metadata": {
        "colab": {
          "base_uri": "https://localhost:8080/",
          "height": 430
        },
        "id": "KsnR6irw7BVr",
        "outputId": "24403059-10e4-4ed6-bdec-33360af60c59"
      },
      "execution_count": 67,
      "outputs": [
        {
          "output_type": "display_data",
          "data": {
            "text/plain": [
              "<Figure size 640x480 with 1 Axes>"
            ],
            "image/png": "[encoded data removed]"
          },
          "metadata": {}
        }
      ]
    },
    {
      "cell_type": "markdown",
      "source": [
        "#🌟 Exercise 6 : Basic Hypothesis Testing"
      ],
      "metadata": {
        "id": "NcXl4zGe77Em"
      }
    },
    {
      "cell_type": "markdown",
      "source": [
        "**How to Conduct Hypothesis Testing:**\n",
        "\n",
        "Define Null and Alternative Hypotheses.\n",
        "\n",
        "Choose a significance level (alpha, typically 0.05).\n",
        "\n",
        "Calculate the test statistic and p-value from the sample data.\n",
        "\n",
        "Compare the p-value with the alpha level to accept or reject the Null Hypothesis.\n"
      ],
      "metadata": {
        "id": "L5rae-Br9hSR"
      }
    },
    {
      "cell_type": "code",
      "source": [
        "import numpy as np\n",
        "from scipy import stats\n",
        "\n",
        "# Productivity scores of employees before the training program\n",
        "productivity_before = np.random.normal(loc=50, scale=10, size=1000)\n",
        "\n",
        "# Productivity scores of the same employees after the training program\n",
        "productivity_after = productivity_before + np.random.normal(loc=5, scale=3, size=1000)\n",
        "\n",
        "# print(productivity_before)\n",
        "# print(productivity_after)\n",
        "\n",
        "# # Performing a one-sample t-test\n",
        "t_statistic, p_value = stats.ttest_rel(productivity_before, productivity_after)\n",
        "\n",
        "\n",
        "# # Interpreting the result\n",
        "alpha = 0.05  # Significance level\n",
        "if p_value < alpha:\n",
        "    print(\"Reject the null hypothesis\")\n",
        "else:\n",
        "    print(\"Fail to reject the null hypothesis\")\n",
        "\n",
        "# H: After the training program productivity scores of employees is increase\n",
        "# and test it using basic statistical functions in NumPy."
      ],
      "metadata": {
        "colab": {
          "base_uri": "https://localhost:8080/"
        },
        "id": "NL1qH1gM9ETT",
        "outputId": "36bf6e90-ab3a-4b65-8d7b-167ab45e6633"
      },
      "execution_count": 72,
      "outputs": [
        {
          "output_type": "stream",
          "name": "stdout",
          "text": [
            "Reject the null hypothesis\n"
          ]
        }
      ]
    },
    {
      "cell_type": "markdown",
      "source": [
        "#🌟 Exercise 7 : Complex Array Comparison"
      ],
      "metadata": {
        "id": "Q1qTKQMIAfgt"
      }
    },
    {
      "cell_type": "code",
      "source": [
        "array1 = np.array(np.random.randint(0, 10, 10))\n",
        "array2 = np.array(np.random.randint(0, 10, 10))\n",
        "\n",
        "# print(array1)\n",
        "# print(array2)"
      ],
      "metadata": {
        "colab": {
          "base_uri": "https://localhost:8080/"
        },
        "id": "bwbk4ZTQAgdH",
        "outputId": "f25d3d17-5c20-46ce-adc1-d99466c3d669"
      },
      "execution_count": 73,
      "outputs": [
        {
          "output_type": "stream",
          "name": "stdout",
          "text": [
            "[6 2 5 7 4 6 0 3 7 4]\n",
            "[6 6 8 7 7 2 9 3 7 3]\n"
          ]
        }
      ]
    },
    {
      "cell_type": "code",
      "source": [
        "print(\"Array a: \", array1)\n",
        "print(\"Array b: \", array2)\n",
        "\n",
        "print(\"a > b\")\n",
        "print(np.greater(array1, array2))\n",
        "\n",
        "print(\"a >= b\")\n",
        "print(np.greater_equal(array1, array2))\n",
        "\n",
        "print(\"a < b\")\n",
        "print(np.less(array1, array2))\n",
        "\n",
        "print(\"a <= b\")\n",
        "print(np.less_equal(array1, array2))\n"
      ],
      "metadata": {
        "colab": {
          "base_uri": "https://localhost:8080/"
        },
        "id": "bnjCksDkBeKN",
        "outputId": "0e62751d-d704-4919-d3ac-6137b33645ce"
      },
      "execution_count": 75,
      "outputs": [
        {
          "output_type": "stream",
          "name": "stdout",
          "text": [
            "Array a:  [6 2 5 7 4 6 0 3 7 4]\n",
            "Array b:  [6 6 8 7 7 2 9 3 7 3]\n",
            "a > b\n",
            "[False False False False False  True False False False  True]\n",
            "a >= b\n",
            "[ True False False  True False  True False  True  True  True]\n",
            "a < b\n",
            "[False  True  True False  True False  True False False False]\n",
            "a <= b\n",
            "[ True  True  True  True  True False  True  True  True False]\n"
          ]
        }
      ]
    },
    {
      "cell_type": "markdown",
      "source": [
        "#🌟 Exercise 8 : Time Series Data Manipulation"
      ],
      "metadata": {
        "id": "EV8ZwQGKB6qT"
      }
    },
    {
      "cell_type": "markdown",
      "source": [
        "Generate time series data for the year 2023. Demonstrate slicing for the following intervals:\n",
        "\n",
        "**January to March**\n",
        "\n",
        "**April to June**\n",
        "\n",
        "**July to September**\n",
        "\n",
        "**October to December**\n",
        "\n",
        "Generate a time series data for a specific period and demonstrate how to slice this data for different intervals."
      ],
      "metadata": {
        "id": "fnrWkSVLB75M"
      }
    },
    {
      "cell_type": "code",
      "source": [
        "# Creating date ranges\n",
        "# dates = np.arange('2023-01', '2023-03', dtype='datetime64[D]')\n",
        "# print(\"January -  March 2023 Dates:\\n\", dates)\n",
        "\n",
        "# dates = np.arange('2023-04', '2023-06', dtype='datetime64[D]')\n",
        "# print(\"April -  June 2023 Dates:\\n\", dates)\n",
        "\n",
        "# dates = np.arange('2023-07', '2023-09', dtype='datetime64[D]')\n",
        "# print(\"July -  September 2023 Dates:\\n\", dates)\n",
        "\n",
        "# dates = np.arange('2023-10', '2023-12', dtype='datetime64[D]')\n",
        "# print(\"October -  December 2023 Dates:\\n\", dates)\n",
        "\n",
        "\n",
        "\n",
        "\n",
        "\n",
        "dates = np.arange('2023-01-01', '2024-01-01', dtype='datetime64[D]')\n",
        "print(\"Full year 2023 Dates:\\n\", dates)\n",
        "\n",
        "\n",
        "jan_march = dates[:90]\n",
        "print(f\"January -  March 2023 : {jan_march}\")\n",
        "\n",
        "april_june = dates[90:181]\n",
        "print(f\"April -  June 2023 : {april_june}\")\n",
        "\n",
        "july_september = dates[181:273]\n",
        "print(f\"July -  September 2023 : {july_september}\")\n",
        "\n",
        "oktober_december = dates[273:]\n",
        "print(f\"October -  December 2023 : {oktober_december}\")"
      ],
      "metadata": {
        "colab": {
          "base_uri": "https://localhost:8080/"
        },
        "id": "h4dwsL-sCDyq",
        "outputId": "4007ba4e-3774-4084-da6b-4a7146d385ee"
      },
      "execution_count": 80,
      "outputs": [
        {
          "output_type": "stream",
          "name": "stdout",
          "text": [
            "Full year 2023 Dates:\n",
            " ['2023-01-01' '2023-01-02' '2023-01-03' '2023-01-04' '2023-01-05'\n",
            " '2023-01-06' '2023-01-07' '2023-01-08' '2023-01-09' '2023-01-10'\n",
            " '2023-01-11' '2023-01-12' '2023-01-13' '2023-01-14' '2023-01-15'\n",
            " '2023-01-16' '2023-01-17' '2023-01-18' '2023-01-19' '2023-01-20'\n",
            " '2023-01-21' '2023-01-22' '2023-01-23' '2023-01-24' '2023-01-25'\n",
            " '2023-01-26' '2023-01-27' '2023-01-28' '2023-01-29' '2023-01-30'\n",
            " '2023-01-31' '2023-02-01' '2023-02-02' '2023-02-03' '2023-02-04'\n",
            " '2023-02-05' '2023-02-06' '2023-02-07' '2023-02-08' '2023-02-09'\n",
            " '2023-02-10' '2023-02-11' '2023-02-12' '2023-02-13' '2023-02-14'\n",
            " '2023-02-15' '2023-02-16' '2023-02-17' '2023-02-18' '2023-02-19'\n",
            " '2023-02-20' '2023-02-21' '2023-02-22' '2023-02-23' '2023-02-24'\n",
            " '2023-02-25' '2023-02-26' '2023-02-27' '2023-02-28' '2023-03-01'\n",
            " '2023-03-02' '2023-03-03' '2023-03-04' '2023-03-05' '2023-03-06'\n",
            " '2023-03-07' '2023-03-08' '2023-03-09' '2023-03-10' '2023-03-11'\n",
            " '2023-03-12' '2023-03-13' '2023-03-14' '2023-03-15' '2023-03-16'\n",
            " '2023-03-17' '2023-03-18' '2023-03-19' '2023-03-20' '2023-03-21'\n",
            " '2023-03-22' '2023-03-23' '2023-03-24' '2023-03-25' '2023-03-26'\n",
            " '2023-03-27' '2023-03-28' '2023-03-29' '2023-03-30' '2023-03-31'\n",
            " '2023-04-01' '2023-04-02' '2023-04-03' '2023-04-04' '2023-04-05'\n",
            " '2023-04-06' '2023-04-07' '2023-04-08' '2023-04-09' '2023-04-10'\n",
            " '2023-04-11' '2023-04-12' '2023-04-13' '2023-04-14' '2023-04-15'\n",
            " '2023-04-16' '2023-04-17' '2023-04-18' '2023-04-19' '2023-04-20'\n",
            " '2023-04-21' '2023-04-22' '2023-04-23' '2023-04-24' '2023-04-25'\n",
            " '2023-04-26' '2023-04-27' '2023-04-28' '2023-04-29' '2023-04-30'\n",
            " '2023-05-01' '2023-05-02' '2023-05-03' '2023-05-04' '2023-05-05'\n",
            " '2023-05-06' '2023-05-07' '2023-05-08' '2023-05-09' '2023-05-10'\n",
            " '2023-05-11' '2023-05-12' '2023-05-13' '2023-05-14' '2023-05-15'\n",
            " '2023-05-16' '2023-05-17' '2023-05-18' '2023-05-19' '2023-05-20'\n",
            " '2023-05-21' '2023-05-22' '2023-05-23' '2023-05-24' '2023-05-25'\n",
            " '2023-05-26' '2023-05-27' '2023-05-28' '2023-05-29' '2023-05-30'\n",
            " '2023-05-31' '2023-06-01' '2023-06-02' '2023-06-03' '2023-06-04'\n",
            " '2023-06-05' '2023-06-06' '2023-06-07' '2023-06-08' '2023-06-09'\n",
            " '2023-06-10' '2023-06-11' '2023-06-12' '2023-06-13' '2023-06-14'\n",
            " '2023-06-15' '2023-06-16' '2023-06-17' '2023-06-18' '2023-06-19'\n",
            " '2023-06-20' '2023-06-21' '2023-06-22' '2023-06-23' '2023-06-24'\n",
            " '2023-06-25' '2023-06-26' '2023-06-27' '2023-06-28' '2023-06-29'\n",
            " '2023-06-30' '2023-07-01' '2023-07-02' '2023-07-03' '2023-07-04'\n",
            " '2023-07-05' '2023-07-06' '2023-07-07' '2023-07-08' '2023-07-09'\n",
            " '2023-07-10' '2023-07-11' '2023-07-12' '2023-07-13' '2023-07-14'\n",
            " '2023-07-15' '2023-07-16' '2023-07-17' '2023-07-18' '2023-07-19'\n",
            " '2023-07-20' '2023-07-21' '2023-07-22' '2023-07-23' '2023-07-24'\n",
            " '2023-07-25' '2023-07-26' '2023-07-27' '2023-07-28' '2023-07-29'\n",
            " '2023-07-30' '2023-07-31' '2023-08-01' '2023-08-02' '2023-08-03'\n",
            " '2023-08-04' '2023-08-05' '2023-08-06' '2023-08-07' '2023-08-08'\n",
            " '2023-08-09' '2023-08-10' '2023-08-11' '2023-08-12' '2023-08-13'\n",
            " '2023-08-14' '2023-08-15' '2023-08-16' '2023-08-17' '2023-08-18'\n",
            " '2023-08-19' '2023-08-20' '2023-08-21' '2023-08-22' '2023-08-23'\n",
            " '2023-08-24' '2023-08-25' '2023-08-26' '2023-08-27' '2023-08-28'\n",
            " '2023-08-29' '2023-08-30' '2023-08-31' '2023-09-01' '2023-09-02'\n",
            " '2023-09-03' '2023-09-04' '2023-09-05' '2023-09-06' '2023-09-07'\n",
            " '2023-09-08' '2023-09-09' '2023-09-10' '2023-09-11' '2023-09-12'\n",
            " '2023-09-13' '2023-09-14' '2023-09-15' '2023-09-16' '2023-09-17'\n",
            " '2023-09-18' '2023-09-19' '2023-09-20' '2023-09-21' '2023-09-22'\n",
            " '2023-09-23' '2023-09-24' '2023-09-25' '2023-09-26' '2023-09-27'\n",
            " '2023-09-28' '2023-09-29' '2023-09-30' '2023-10-01' '2023-10-02'\n",
            " '2023-10-03' '2023-10-04' '2023-10-05' '2023-10-06' '2023-10-07'\n",
            " '2023-10-08' '2023-10-09' '2023-10-10' '2023-10-11' '2023-10-12'\n",
            " '2023-10-13' '2023-10-14' '2023-10-15' '2023-10-16' '2023-10-17'\n",
            " '2023-10-18' '2023-10-19' '2023-10-20' '2023-10-21' '2023-10-22'\n",
            " '2023-10-23' '2023-10-24' '2023-10-25' '2023-10-26' '2023-10-27'\n",
            " '2023-10-28' '2023-10-29' '2023-10-30' '2023-10-31' '2023-11-01'\n",
            " '2023-11-02' '2023-11-03' '2023-11-04' '2023-11-05' '2023-11-06'\n",
            " '2023-11-07' '2023-11-08' '2023-11-09' '2023-11-10' '2023-11-11'\n",
            " '2023-11-12' '2023-11-13' '2023-11-14' '2023-11-15' '2023-11-16'\n",
            " '2023-11-17' '2023-11-18' '2023-11-19' '2023-11-20' '2023-11-21'\n",
            " '2023-11-22' '2023-11-23' '2023-11-24' '2023-11-25' '2023-11-26'\n",
            " '2023-11-27' '2023-11-28' '2023-11-29' '2023-11-30' '2023-12-01'\n",
            " '2023-12-02' '2023-12-03' '2023-12-04' '2023-12-05' '2023-12-06'\n",
            " '2023-12-07' '2023-12-08' '2023-12-09' '2023-12-10' '2023-12-11'\n",
            " '2023-12-12' '2023-12-13' '2023-12-14' '2023-12-15' '2023-12-16'\n",
            " '2023-12-17' '2023-12-18' '2023-12-19' '2023-12-20' '2023-12-21'\n",
            " '2023-12-22' '2023-12-23' '2023-12-24' '2023-12-25' '2023-12-26'\n",
            " '2023-12-27' '2023-12-28' '2023-12-29' '2023-12-30' '2023-12-31']\n",
            "January -  March 2023 : ['2023-01-01' '2023-01-02' '2023-01-03' '2023-01-04' '2023-01-05'\n",
            " '2023-01-06' '2023-01-07' '2023-01-08' '2023-01-09' '2023-01-10'\n",
            " '2023-01-11' '2023-01-12' '2023-01-13' '2023-01-14' '2023-01-15'\n",
            " '2023-01-16' '2023-01-17' '2023-01-18' '2023-01-19' '2023-01-20'\n",
            " '2023-01-21' '2023-01-22' '2023-01-23' '2023-01-24' '2023-01-25'\n",
            " '2023-01-26' '2023-01-27' '2023-01-28' '2023-01-29' '2023-01-30'\n",
            " '2023-01-31' '2023-02-01' '2023-02-02' '2023-02-03' '2023-02-04'\n",
            " '2023-02-05' '2023-02-06' '2023-02-07' '2023-02-08' '2023-02-09'\n",
            " '2023-02-10' '2023-02-11' '2023-02-12' '2023-02-13' '2023-02-14'\n",
            " '2023-02-15' '2023-02-16' '2023-02-17' '2023-02-18' '2023-02-19'\n",
            " '2023-02-20' '2023-02-21' '2023-02-22' '2023-02-23' '2023-02-24'\n",
            " '2023-02-25' '2023-02-26' '2023-02-27' '2023-02-28' '2023-03-01'\n",
            " '2023-03-02' '2023-03-03' '2023-03-04' '2023-03-05' '2023-03-06'\n",
            " '2023-03-07' '2023-03-08' '2023-03-09' '2023-03-10' '2023-03-11'\n",
            " '2023-03-12' '2023-03-13' '2023-03-14' '2023-03-15' '2023-03-16'\n",
            " '2023-03-17' '2023-03-18' '2023-03-19' '2023-03-20' '2023-03-21'\n",
            " '2023-03-22' '2023-03-23' '2023-03-24' '2023-03-25' '2023-03-26'\n",
            " '2023-03-27' '2023-03-28' '2023-03-29' '2023-03-30' '2023-03-31']\n",
            "April -  June 2023 : ['2023-04-01' '2023-04-02' '2023-04-03' '2023-04-04' '2023-04-05'\n",
            " '2023-04-06' '2023-04-07' '2023-04-08' '2023-04-09' '2023-04-10'\n",
            " '2023-04-11' '2023-04-12' '2023-04-13' '2023-04-14' '2023-04-15'\n",
            " '2023-04-16' '2023-04-17' '2023-04-18' '2023-04-19' '2023-04-20'\n",
            " '2023-04-21' '2023-04-22' '2023-04-23' '2023-04-24' '2023-04-25'\n",
            " '2023-04-26' '2023-04-27' '2023-04-28' '2023-04-29' '2023-04-30'\n",
            " '2023-05-01' '2023-05-02' '2023-05-03' '2023-05-04' '2023-05-05'\n",
            " '2023-05-06' '2023-05-07' '2023-05-08' '2023-05-09' '2023-05-10'\n",
            " '2023-05-11' '2023-05-12' '2023-05-13' '2023-05-14' '2023-05-15'\n",
            " '2023-05-16' '2023-05-17' '2023-05-18' '2023-05-19' '2023-05-20'\n",
            " '2023-05-21' '2023-05-22' '2023-05-23' '2023-05-24' '2023-05-25'\n",
            " '2023-05-26' '2023-05-27' '2023-05-28' '2023-05-29' '2023-05-30'\n",
            " '2023-05-31' '2023-06-01' '2023-06-02' '2023-06-03' '2023-06-04'\n",
            " '2023-06-05' '2023-06-06' '2023-06-07' '2023-06-08' '2023-06-09'\n",
            " '2023-06-10' '2023-06-11' '2023-06-12' '2023-06-13' '2023-06-14'\n",
            " '2023-06-15' '2023-06-16' '2023-06-17' '2023-06-18' '2023-06-19'\n",
            " '2023-06-20' '2023-06-21' '2023-06-22' '2023-06-23' '2023-06-24'\n",
            " '2023-06-25' '2023-06-26' '2023-06-27' '2023-06-28' '2023-06-29'\n",
            " '2023-06-30']\n",
            "July -  September 2023 : ['2023-07-01' '2023-07-02' '2023-07-03' '2023-07-04' '2023-07-05'\n",
            " '2023-07-06' '2023-07-07' '2023-07-08' '2023-07-09' '2023-07-10'\n",
            " '2023-07-11' '2023-07-12' '2023-07-13' '2023-07-14' '2023-07-15'\n",
            " '2023-07-16' '2023-07-17' '2023-07-18' '2023-07-19' '2023-07-20'\n",
            " '2023-07-21' '2023-07-22' '2023-07-23' '2023-07-24' '2023-07-25'\n",
            " '2023-07-26' '2023-07-27' '2023-07-28' '2023-07-29' '2023-07-30'\n",
            " '2023-07-31' '2023-08-01' '2023-08-02' '2023-08-03' '2023-08-04'\n",
            " '2023-08-05' '2023-08-06' '2023-08-07' '2023-08-08' '2023-08-09'\n",
            " '2023-08-10' '2023-08-11' '2023-08-12' '2023-08-13' '2023-08-14'\n",
            " '2023-08-15' '2023-08-16' '2023-08-17' '2023-08-18' '2023-08-19'\n",
            " '2023-08-20' '2023-08-21' '2023-08-22' '2023-08-23' '2023-08-24'\n",
            " '2023-08-25' '2023-08-26' '2023-08-27' '2023-08-28' '2023-08-29'\n",
            " '2023-08-30' '2023-08-31' '2023-09-01' '2023-09-02' '2023-09-03'\n",
            " '2023-09-04' '2023-09-05' '2023-09-06' '2023-09-07' '2023-09-08'\n",
            " '2023-09-09' '2023-09-10' '2023-09-11' '2023-09-12' '2023-09-13'\n",
            " '2023-09-14' '2023-09-15' '2023-09-16' '2023-09-17' '2023-09-18'\n",
            " '2023-09-19' '2023-09-20' '2023-09-21' '2023-09-22' '2023-09-23'\n",
            " '2023-09-24' '2023-09-25' '2023-09-26' '2023-09-27' '2023-09-28'\n",
            " '2023-09-29' '2023-09-30']\n",
            "October -  December 2023 : ['2023-10-01' '2023-10-02' '2023-10-03' '2023-10-04' '2023-10-05'\n",
            " '2023-10-06' '2023-10-07' '2023-10-08' '2023-10-09' '2023-10-10'\n",
            " '2023-10-11' '2023-10-12' '2023-10-13' '2023-10-14' '2023-10-15'\n",
            " '2023-10-16' '2023-10-17' '2023-10-18' '2023-10-19' '2023-10-20'\n",
            " '2023-10-21' '2023-10-22' '2023-10-23' '2023-10-24' '2023-10-25'\n",
            " '2023-10-26' '2023-10-27' '2023-10-28' '2023-10-29' '2023-10-30'\n",
            " '2023-10-31' '2023-11-01' '2023-11-02' '2023-11-03' '2023-11-04'\n",
            " '2023-11-05' '2023-11-06' '2023-11-07' '2023-11-08' '2023-11-09'\n",
            " '2023-11-10' '2023-11-11' '2023-11-12' '2023-11-13' '2023-11-14'\n",
            " '2023-11-15' '2023-11-16' '2023-11-17' '2023-11-18' '2023-11-19'\n",
            " '2023-11-20' '2023-11-21' '2023-11-22' '2023-11-23' '2023-11-24'\n",
            " '2023-11-25' '2023-11-26' '2023-11-27' '2023-11-28' '2023-11-29'\n",
            " '2023-11-30' '2023-12-01' '2023-12-02' '2023-12-03' '2023-12-04'\n",
            " '2023-12-05' '2023-12-06' '2023-12-07' '2023-12-08' '2023-12-09'\n",
            " '2023-12-10' '2023-12-11' '2023-12-12' '2023-12-13' '2023-12-14'\n",
            " '2023-12-15' '2023-12-16' '2023-12-17' '2023-12-18' '2023-12-19'\n",
            " '2023-12-20' '2023-12-21' '2023-12-22' '2023-12-23' '2023-12-24'\n",
            " '2023-12-25' '2023-12-26' '2023-12-27' '2023-12-28' '2023-12-29'\n",
            " '2023-12-30' '2023-12-31']\n"
          ]
        }
      ]
    },
    {
      "cell_type": "markdown",
      "source": [
        "#🌟 Exercise 9 : Data Conversion"
      ],
      "metadata": {
        "id": "R8ys4U3NEWA3"
      }
    },
    {
      "cell_type": "markdown",
      "source": [
        "Demonstrate how to convert a NumPy array to a Pandas DataFrame and vice versa."
      ],
      "metadata": {
        "id": "40qz5lM_EaE4"
      }
    },
    {
      "cell_type": "code",
      "source": [
        "array = np.random.randint(0, 5,(3,3)) # Create a 2D Numpy Array\n",
        "print(array)\n",
        "\n",
        "\n",
        "# convert in  DataFrame\n",
        "df = pd.DataFrame(array, columns=['A', 'B', 'C'])\n",
        "print(df)\n",
        "\n"
      ],
      "metadata": {
        "colab": {
          "base_uri": "https://localhost:8080/"
        },
        "id": "XoO0CuEDEShS",
        "outputId": "79371599-334e-467f-ce50-1b6570b92c91"
      },
      "execution_count": 88,
      "outputs": [
        {
          "output_type": "stream",
          "name": "stdout",
          "text": [
            "[[0 0 4]\n",
            " [1 0 4]\n",
            " [2 3 3]]\n",
            "   A  B  C\n",
            "0  0  0  4\n",
            "1  1  0  4\n",
            "2  2  3  3\n"
          ]
        }
      ]
    },
    {
      "cell_type": "code",
      "source": [
        "#   vice versa in NumPy array\n",
        "back_to_array = df.to_numpy()\n",
        "print(\"\\nConverted back to NumPy Array:\\n\", back_to_array)\n"
      ],
      "metadata": {
        "colab": {
          "base_uri": "https://localhost:8080/"
        },
        "id": "lmnBjSWlFydI",
        "outputId": "a0386b3b-4ee7-40b7-84cd-90e8f93101c3"
      },
      "execution_count": 89,
      "outputs": [
        {
          "output_type": "stream",
          "name": "stdout",
          "text": [
            "\n",
            "Converted back to NumPy Array:\n",
            " [[0 0 4]\n",
            " [1 0 4]\n",
            " [2 3 3]]\n"
          ]
        }
      ]
    },
    {
      "cell_type": "markdown",
      "source": [
        "#🌟 Exercise 10 : Basic Visualization"
      ],
      "metadata": {
        "id": "uTBeq6c2Gd9g"
      }
    },
    {
      "cell_type": "code",
      "source": [
        "import numpy as np\n",
        "import matplotlib.pyplot as plt\n",
        "\n",
        "\n",
        "x = np.arange(30, 80)\n",
        "print(x)\n",
        "y = np.random.randint(10, 50, size=50)\n",
        "print(y)\n",
        "\n",
        "# Create a line plot\n",
        "plt.plot(x, y, marker='o', linestyle='-', color='pink', label='my data')\n",
        "\n",
        "# Add labels and title\n",
        "plt.xlabel(\"X\")\n",
        "plt.ylabel(\"Y\")\n",
        "plt.title(\"line graph of random numbers\")\n",
        "\n",
        "\n",
        "\n",
        "\n",
        "\n",
        "plt.show()\n"
      ],
      "metadata": {
        "colab": {
          "base_uri": "https://localhost:8080/",
          "height": 583
        },
        "id": "hBBsjDRIGfE-",
        "outputId": "06bbfc93-0fa8-4d67-a2be-4febe4d3b226"
      },
      "execution_count": 99,
      "outputs": [
        {
          "output_type": "stream",
          "name": "stdout",
          "text": [
            "[30 31 32 33 34 35 36 37 38 39 40 41 42 43 44 45 46 47 48 49 50 51 52 53\n",
            " 54 55 56 57 58 59 60 61 62 63 64 65 66 67 68 69 70 71 72 73 74 75 76 77\n",
            " 78 79]\n",
            "[23 40 28 11 40 16 43 40 11 47 42 45 11 12 12 45 38 28 27 12 38 13 18 28\n",
            " 19 18 47 49 38 40 38 34 28 23 31 32 35 41 33 36 30 33 48 27 11 34 46 25\n",
            " 27 34]\n"
          ]
        },
        {
          "output_type": "display_data",
          "data": {
            "text/plain": [
              "<Figure size 640x480 with 1 Axes>"
            ],
            "image/png": "[encoded data removed]"
          },
          "metadata": {}
        }
      ]
    }
  ]
}