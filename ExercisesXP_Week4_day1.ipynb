{
  "nbformat": 4,
  "nbformat_minor": 0,
  "metadata": {
    "colab": {
      "provenance": [],
      "toc_visible": true,
      "authorship_tag": "ABX9TyP73O3y1/jsp2RWA3auuwVu",
      "include_colab_link": true
    },
    "kernelspec": {
      "name": "python3",
      "display_name": "Python 3"
    },
    "language_info": {
      "name": "python"
    }
  },
  "cells": [
    {
      "cell_type": "markdown",
      "metadata": {
        "id": "view-in-github",
        "colab_type": "text"
      },
      "source": [
        "<a href=\"https://colab.research.google.com/github/TyamanovaMargo/DI-Bootcamp/blob/main/ExercisesXP_Week4_day1.ipynb\" target=\"_parent\"><img src=\"https://colab.research.google.com/assets/colab-badge.svg\" alt=\"Open In Colab\"/></a>"
      ]
    },
    {
      "cell_type": "markdown",
      "source": [
        "#🌟 Exercise 1 : Array Creation and\n",
        "\n",
        "<p>Create a 1D NumPy array containing numbers from 0 to 9</p>\n",
        "\n"
      ],
      "metadata": {
        "id": "bDo5WNInx8Fs"
      }
    },
    {
      "cell_type": "code",
      "execution_count": 2,
      "metadata": {
        "colab": {
          "base_uri": "https://localhost:8080/"
        },
        "id": "yVBVCV0ExiU-",
        "outputId": "7b18f27c-1962-4ef0-94b2-062f9367e3e6"
      },
      "outputs": [
        {
          "output_type": "stream",
          "name": "stdout",
          "text": [
            "[0 1 2 3 4 5 6 7 8 9]\n"
          ]
        }
      ],
      "source": [
        "import numpy as np\n",
        "\n",
        "# Creating a 1D array\n",
        "array = np.arange(0, 10)  # Array of numbers from 0 to 9\n",
        "\n",
        "print(array)"
      ]
    },
    {
      "cell_type": "markdown",
      "source": [
        "#🌟 Exercise 2 : Type Conversion and Array Operations\n",
        "\n",
        "Convert a list [3.14, 2.17, 0, 1, 2] into a NumPy array and convert its data type to integer."
      ],
      "metadata": {
        "id": "_5jJrVZZy4c8"
      }
    },
    {
      "cell_type": "code",
      "source": [
        "array_1d = np.array([3.14, 2.17, 0, 1, 2])\n",
        "print(array_1d)\n",
        "\n",
        "arr = np.array(array_1d, dtype=int)\n",
        "\n",
        "print(arr)\n",
        "print(arr.dtype)"
      ],
      "metadata": {
        "colab": {
          "base_uri": "https://localhost:8080/"
        },
        "id": "VSqfk2I9y-pY",
        "outputId": "e37205fb-5943-4654-e873-20963dccacf2"
      },
      "execution_count": 6,
      "outputs": [
        {
          "output_type": "stream",
          "name": "stdout",
          "text": [
            "[3.14 2.17 0.   1.   2.  ]\n",
            "[3 2 0 1 2]\n",
            "int64\n"
          ]
        }
      ]
    },
    {
      "cell_type": "markdown",
      "source": [
        "#🌟 Exercise 3 : Working with Multi-Dimensional Arrays\n",
        "Create a 3x3 NumPy array with values ranging from 1 to 9."
      ],
      "metadata": {
        "id": "7rgnEHxk0Hqj"
      }
    },
    {
      "cell_type": "code",
      "source": [
        "# array_3d = np.array([[[1, 2], [3, 4]], [[5, 6], [7, 8, 9]]])\n",
        "import numpy as np\n",
        "\n",
        "array_3d = np.arange(1, 10).reshape(3, 3, 1)\n",
        "\n",
        "\n",
        "print(array_3d)"
      ],
      "metadata": {
        "colab": {
          "base_uri": "https://localhost:8080/"
        },
        "id": "28rsFhK_0ZjY",
        "outputId": "85d5d5d8-94e6-4728-81f1-4ac5e2b02c0a"
      },
      "execution_count": 10,
      "outputs": [
        {
          "output_type": "stream",
          "name": "stdout",
          "text": [
            "[[[1]\n",
            "  [2]\n",
            "  [3]]\n",
            "\n",
            " [[4]\n",
            "  [5]\n",
            "  [6]]\n",
            "\n",
            " [[7]\n",
            "  [8]\n",
            "  [9]]]\n"
          ]
        }
      ]
    },
    {
      "cell_type": "markdown",
      "source": [
        "#🌟 Exercise 4 : Creating Multi-Dimensional Array with Random Numbers\n",
        "\n",
        "Create a 2D NumPy array of shape (4, 5) filled with random numbers."
      ],
      "metadata": {
        "id": "q6pGkEh61SNy"
      }
    },
    {
      "cell_type": "code",
      "source": [
        "import numpy as np\n",
        "\n",
        "array_2d = np.random.rand(4,5)\n",
        "around_array2d = np.around(array_2d, 2) # just 2 symbols after dot\n",
        "print(around_array2d)\n",
        "\n",
        "\n"
      ],
      "metadata": {
        "colab": {
          "base_uri": "https://localhost:8080/"
        },
        "id": "n3K3lI6M1R72",
        "outputId": "2a1e14df-6255-47a8-f0c5-22b2e0a644e1"
      },
      "execution_count": 14,
      "outputs": [
        {
          "output_type": "stream",
          "name": "stdout",
          "text": [
            "[[0.34 0.55 0.8  0.63 0.94]\n",
            " [0.63 0.49 0.6  0.39 0.63]\n",
            " [0.81 0.14 0.09 0.97 0.08]\n",
            " [0.78 0.21 0.26 0.08 0.93]]\n"
          ]
        }
      ]
    },
    {
      "cell_type": "markdown",
      "source": [
        "#🌟 Exercise 5 : Indexing Arrays\n",
        "Select the second row from a given 2D NumPy array."
      ],
      "metadata": {
        "id": "30DsfxDy1zb2"
      }
    },
    {
      "cell_type": "code",
      "source": [
        "import numpy as np\n",
        "\n",
        "array = np.array([[21, 22, 23, 22, 22],\n",
        "                  [20, 21, 22, 23, 24],\n",
        "                  [21, 22, 23, 22, 22]])\n",
        "\n",
        "second_row = array[1]\n",
        "print( second_row)\n",
        "\n"
      ],
      "metadata": {
        "colab": {
          "base_uri": "https://localhost:8080/"
        },
        "id": "2aIz11cP20uE",
        "outputId": "89b4c26e-0739-46f2-d4a2-8412af7469f6"
      },
      "execution_count": 17,
      "outputs": [
        {
          "output_type": "stream",
          "name": "stdout",
          "text": [
            "[20 21 22 23 24]\n"
          ]
        }
      ]
    },
    {
      "cell_type": "markdown",
      "source": [
        "#🌟 Exercise 6 : Reversing elements\n",
        "Reverse the order of elements in a given 1D NumPy array (first element becomes last)."
      ],
      "metadata": {
        "id": "5dkKH8i-34Lh"
      }
    },
    {
      "cell_type": "code",
      "source": [
        "array_1d = np.array([0, 8, 7, 6, 5, 4, 3, 2, 1, 9])\n",
        "\n",
        "# reversed_arr_1d = np.flip(array_1d) # using func flip\n",
        "reversed_arr_1d = array_1d[::-1]  # or slising\n",
        "\n",
        "print(reversed_arr_1d)\n",
        "\n",
        "\n",
        "\n"
      ],
      "metadata": {
        "colab": {
          "base_uri": "https://localhost:8080/"
        },
        "id": "UXFxLlUk36zo",
        "outputId": "dc438f10-4f75-44b1-bd27-bd9a8fcc8aeb"
      },
      "execution_count": 20,
      "outputs": [
        {
          "output_type": "stream",
          "name": "stdout",
          "text": [
            "[9 1 2 3 4 5 6 7 8 0]\n"
          ]
        }
      ]
    },
    {
      "cell_type": "markdown",
      "source": [
        "#🌟 Exercise 7 : Identity Matrix"
      ],
      "metadata": {
        "id": "UXZ1DCYy4y2F"
      }
    },
    {
      "cell_type": "code",
      "source": [
        "import numpy as np\n",
        "\n",
        "identity_matrix = np.eye(4)\n",
        "print(identity_matrix)\n",
        "\n",
        "\n",
        "\n",
        "\n",
        "\n"
      ],
      "metadata": {
        "colab": {
          "base_uri": "https://localhost:8080/"
        },
        "id": "0ciBwMz65JCH",
        "outputId": "07573c52-5588-42b6-e279-671112bd79e2"
      },
      "execution_count": 25,
      "outputs": [
        {
          "output_type": "stream",
          "name": "stdout",
          "text": [
            "[[1. 0. 0. 0.]\n",
            " [0. 1. 0. 0.]\n",
            " [0. 0. 1. 0.]\n",
            " [0. 0. 0. 1.]]\n"
          ]
        }
      ]
    },
    {
      "cell_type": "markdown",
      "source": [
        "#🌟 Exercise 8 : Simple Aggregate Funcs"
      ],
      "metadata": {
        "id": "dopIctIG56NY"
      }
    },
    {
      "cell_type": "code",
      "source": [
        "import numpy as np\n",
        "\n",
        "array_1d = np.array([1, 2, 3, 4, 5, 6, 7, 8, 9])\n",
        "\n",
        "sum_of_arr = np.sum(array_1d)\n",
        "avg_of_arr = np.mean(array_1d)\n",
        "\n",
        "print(sum_of_arr, avg_of_arr)\n"
      ],
      "metadata": {
        "colab": {
          "base_uri": "https://localhost:8080/"
        },
        "id": "ijHYDiAv58rE",
        "outputId": "8bdbade9-0c35-4bc7-b6e5-bbb5b17d15ef"
      },
      "execution_count": 27,
      "outputs": [
        {
          "output_type": "stream",
          "name": "stdout",
          "text": [
            "45 5.0\n"
          ]
        }
      ]
    },
    {
      "cell_type": "markdown",
      "source": [
        "#🌟 Exercise 9 : Create Array and Change its Structure\n",
        "\n",
        "Create a NumPy array with elements from 1 to 20; then reshape it into a 4x5 matrix."
      ],
      "metadata": {
        "id": "9yAxjglB6aJy"
      }
    },
    {
      "cell_type": "code",
      "source": [
        "array = np.arange(1,21)\n",
        "print(array)\n",
        "\n",
        "reshaped_arr = array.reshape(4,5)\n",
        "print(reshaped_arr)"
      ],
      "metadata": {
        "colab": {
          "base_uri": "https://localhost:8080/"
        },
        "id": "UuiVDXLB6f_f",
        "outputId": "65046577-14a2-403f-ba64-b5e754bea298"
      },
      "execution_count": 32,
      "outputs": [
        {
          "output_type": "stream",
          "name": "stdout",
          "text": [
            "[ 1  2  3  4  5  6  7  8  9 10 11 12 13 14 15 16 17 18 19 20]\n",
            "[[ 1  2  3  4  5]\n",
            " [ 6  7  8  9 10]\n",
            " [11 12 13 14 15]\n",
            " [16 17 18 19 20]]\n"
          ]
        }
      ]
    },
    {
      "cell_type": "markdown",
      "source": [
        "#🌟 Exercise 10 : Conditional Selection of Values"
      ],
      "metadata": {
        "id": "Hk14tI-x7L7-"
      }
    },
    {
      "cell_type": "code",
      "source": [
        "array = np.arange(1,11)\n",
        "odd_extract_array =  array[array % 2 != 0]\n",
        "\n",
        "print(odd_extract_array)"
      ],
      "metadata": {
        "colab": {
          "base_uri": "https://localhost:8080/"
        },
        "id": "lLOE6R5C7Lct",
        "outputId": "af194189-46ef-4bd9-c840-55f7291f2306"
      },
      "execution_count": 34,
      "outputs": [
        {
          "output_type": "stream",
          "name": "stdout",
          "text": [
            "[1 3 5 7 9]\n"
          ]
        }
      ]
    }
  ]
}