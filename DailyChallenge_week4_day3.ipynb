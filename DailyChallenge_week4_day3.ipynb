{
  "nbformat": 4,
  "nbformat_minor": 0,
  "metadata": {
    "colab": {
      "provenance": [],
      "authorship_tag": "ABX9TyOIYBIN54mzb175lI7JFzqH",
      "include_colab_link": true
    },
    "kernelspec": {
      "name": "python3",
      "display_name": "Python 3"
    },
    "language_info": {
      "name": "python"
    }
  },
  "cells": [
    {
      "cell_type": "markdown",
      "metadata": {
        "id": "view-in-github",
        "colab_type": "text"
      },
      "source": [
        "<a href=\"https://colab.research.google.com/github/TyamanovaMargo/DI-Bootcamp/blob/main/DailyChallenge_week4_day3.ipynb\" target=\"_parent\"><img src=\"https://colab.research.google.com/assets/colab-badge.svg\" alt=\"Open In Colab\"/></a>"
      ]
    },
    {
      "cell_type": "code",
      "source": [
        "import pandas as pd\n",
        "import numpy as np\n",
        "import matplotlib.pyplot as plt\n",
        "import seaborn as sns"
      ],
      "metadata": {
        "id": "6Qj44wpm6UJx"
      },
      "execution_count": 29,
      "outputs": []
    },
    {
      "cell_type": "markdown",
      "source": [
        "# Data Import and Cleaning"
      ],
      "metadata": {
        "id": "kgBGiOqC6H07"
      }
    },
    {
      "cell_type": "markdown",
      "source": [
        "Work with the “Airplane Crashes and Fatalities upto 2023” dataset, which provides comprehensive details about airplane crashes, including dates, locations, fatalities, and more."
      ],
      "metadata": {
        "id": "R3pkdUYR6Ki6"
      }
    },
    {
      "cell_type": "code",
      "execution_count": 30,
      "metadata": {
        "colab": {
          "base_uri": "https://localhost:8080/"
        },
        "id": "C7S-P_j7x83w",
        "outputId": "0c049d32-719d-4a48-b65a-bfd8961d7dbb"
      },
      "outputs": [
        {
          "output_type": "stream",
          "name": "stdout",
          "text": [
            "        Date   Time                            Location  \\\n",
            "0  9/17/1908  17:18                 Fort Myer, Virginia   \n",
            "1   9/7/1909    NaN             Juvisy-sur-Orge, France   \n",
            "2  7/12/1912   6:30           Atlantic City, New Jersey   \n",
            "3   8/6/1913    NaN  Victoria, British Columbia, Canada   \n",
            "4   9/9/1913  18:30                  Over the North Sea   \n",
            "\n",
            "                 Operator Flight #          Route                 AC Type  \\\n",
            "0    Military - U.S. Army      NaN  Demonstration        Wright Flyer III   \n",
            "1                     NaN      NaN       Air show          Wright Byplane   \n",
            "2    Military - U.S. Navy      NaN    Test flight               Dirigible   \n",
            "3                 Private      NaN            NaN        Curtiss seaplane   \n",
            "4  Military - German Navy      NaN            NaN  Zeppelin L-1 (airship)   \n",
            "\n",
            "  Registration cn/ln  Aboard  Aboard Passangers  Aboard Crew  Fatalities  \\\n",
            "0          NaN     1     2.0                1.0          1.0         1.0   \n",
            "1          SC1   NaN     1.0                0.0          1.0         1.0   \n",
            "2          NaN   NaN     5.0                0.0          5.0         5.0   \n",
            "3          NaN   NaN     1.0                0.0          1.0         1.0   \n",
            "4          NaN   NaN    20.0                NaN          NaN        14.0   \n",
            "\n",
            "   Fatalities Passangers  Fatalities Crew  Ground  \\\n",
            "0                    1.0              0.0     0.0   \n",
            "1                    0.0              0.0     0.0   \n",
            "2                    0.0              5.0     0.0   \n",
            "3                    0.0              1.0     0.0   \n",
            "4                    NaN              NaN     0.0   \n",
            "\n",
            "                                             Summary  \n",
            "0  During a demonstration flight, a U.S. Army fly...  \n",
            "1  Eugene Lefebvre was the first pilot to ever be...  \n",
            "2  First U.S. dirigible Akron exploded just offsh...  \n",
            "3  The first fatal airplane accident in Canada oc...  \n",
            "4  The airship flew into a thunderstorm and encou...  \n"
          ]
        }
      ],
      "source": [
        "import pandas as pd\n",
        "\n",
        "# Load the dataset\n",
        "df = pd.read_csv(\"Airplane_Crashes_and_Fatalities_Since_1908_t0_2023.csv\", encoding=\"ISO-8859-1\")\n",
        "\n",
        "\n",
        "# Display the first few rows\n",
        "print(df.head())\n",
        "\n",
        "\n"
      ]
    },
    {
      "cell_type": "code",
      "source": [
        "# Display missing values count\n",
        "print(df.isna().mean().sort_values(ascending=False))\n"
      ],
      "metadata": {
        "colab": {
          "base_uri": "https://localhost:8080/"
        },
        "id": "FVLvGjbI-N_c",
        "outputId": "fd94a644-dd7b-469b-ea1c-1d1c5ea2d085"
      },
      "execution_count": 55,
      "outputs": [
        {
          "output_type": "stream",
          "name": "stdout",
          "text": [
            "Date                     0.0\n",
            "Time                     0.0\n",
            "Location                 0.0\n",
            "Operator                 0.0\n",
            "Flight #                 0.0\n",
            "Route                    0.0\n",
            "Registration             0.0\n",
            "Aboard                   0.0\n",
            "Aboard Passangers        0.0\n",
            "Aboard Crew              0.0\n",
            "Fatalities               0.0\n",
            "Fatalities Passangers    0.0\n",
            "Fatalities Crew          0.0\n",
            "Ground                   0.0\n",
            "Summary                  0.0\n",
            "dtype: float64\n"
          ]
        }
      ]
    },
    {
      "cell_type": "code",
      "source": [
        "# Fill missing categorical values!\n",
        "df['Fatalities Passangers'] = df['Fatalities Passangers'].fillna('Unknown')\n",
        "df['Fatalities Crew'] = df['Fatalities Crew'].fillna('Unknown')\n",
        "df['Aboard Passangers'] = df['Aboard Passangers'].fillna('Unknown')\n",
        "df['Aboard Crew'] = df['Aboard Crew'].fillna('Unknown')\n",
        "df['Ground'] = df['Ground'].fillna('Unknown')\n",
        "df['Aboard'] = df['Aboard'].fillna('Unknown')\n",
        "df['Location'] = df['Location'].fillna('Unknown')\n",
        "\n",
        "\n",
        "# convert to num\n",
        "df['Fatalities'] = pd.to_numeric(df['Fatalities'], errors='coerce')\n",
        "df['Aboard'] = pd.to_numeric(df['Aboard'], errors='coerce')"
      ],
      "metadata": {
        "id": "r2PMh0P9-bFV"
      },
      "execution_count": 73,
      "outputs": []
    },
    {
      "cell_type": "code",
      "source": [
        "df.dtypes"
      ],
      "metadata": {
        "colab": {
          "base_uri": "https://localhost:8080/",
          "height": 555
        },
        "id": "bv7V34cOLpI-",
        "outputId": "38c5038a-c605-41a6-e119-b3b60d9d5daa"
      },
      "execution_count": 58,
      "outputs": [
        {
          "output_type": "execute_result",
          "data": {
            "text/plain": [
              "Date                     datetime64[ns]\n",
              "Time                             object\n",
              "Location                         object\n",
              "Operator                         object\n",
              "Flight #                         object\n",
              "Route                            object\n",
              "Registration                     object\n",
              "Aboard                           object\n",
              "Aboard Passangers                object\n",
              "Aboard Crew                      object\n",
              "Fatalities                       object\n",
              "Fatalities Passangers            object\n",
              "Fatalities Crew                  object\n",
              "Ground                           object\n",
              "Summary                          object\n",
              "dtype: object"
            ],
            "text/html": [
              "<div>\n",
              "<style scoped>\n",
              "    .dataframe tbody tr th:only-of-type {\n",
              "        vertical-align: middle;\n",
              "    }\n",
              "\n",
              "    .dataframe tbody tr th {\n",
              "        vertical-align: top;\n",
              "    }\n",
              "\n",
              "    .dataframe thead th {\n",
              "        text-align: right;\n",
              "    }\n",
              "</style>\n",
              "<table border=\"1\" class=\"dataframe\">\n",
              "  <thead>\n",
              "    <tr style=\"text-align: right;\">\n",
              "      <th></th>\n",
              "      <th>0</th>\n",
              "    </tr>\n",
              "  </thead>\n",
              "  <tbody>\n",
              "    <tr>\n",
              "      <th>Date</th>\n",
              "      <td>datetime64[ns]</td>\n",
              "    </tr>\n",
              "    <tr>\n",
              "      <th>Time</th>\n",
              "      <td>object</td>\n",
              "    </tr>\n",
              "    <tr>\n",
              "      <th>Location</th>\n",
              "      <td>object</td>\n",
              "    </tr>\n",
              "    <tr>\n",
              "      <th>Operator</th>\n",
              "      <td>object</td>\n",
              "    </tr>\n",
              "    <tr>\n",
              "      <th>Flight #</th>\n",
              "      <td>object</td>\n",
              "    </tr>\n",
              "    <tr>\n",
              "      <th>Route</th>\n",
              "      <td>object</td>\n",
              "    </tr>\n",
              "    <tr>\n",
              "      <th>Registration</th>\n",
              "      <td>object</td>\n",
              "    </tr>\n",
              "    <tr>\n",
              "      <th>Aboard</th>\n",
              "      <td>object</td>\n",
              "    </tr>\n",
              "    <tr>\n",
              "      <th>Aboard Passangers</th>\n",
              "      <td>object</td>\n",
              "    </tr>\n",
              "    <tr>\n",
              "      <th>Aboard Crew</th>\n",
              "      <td>object</td>\n",
              "    </tr>\n",
              "    <tr>\n",
              "      <th>Fatalities</th>\n",
              "      <td>object</td>\n",
              "    </tr>\n",
              "    <tr>\n",
              "      <th>Fatalities Passangers</th>\n",
              "      <td>object</td>\n",
              "    </tr>\n",
              "    <tr>\n",
              "      <th>Fatalities Crew</th>\n",
              "      <td>object</td>\n",
              "    </tr>\n",
              "    <tr>\n",
              "      <th>Ground</th>\n",
              "      <td>object</td>\n",
              "    </tr>\n",
              "    <tr>\n",
              "      <th>Summary</th>\n",
              "      <td>object</td>\n",
              "    </tr>\n",
              "  </tbody>\n",
              "</table>\n",
              "</div><br><label><b>dtype:</b> object</label>"
            ]
          },
          "metadata": {},
          "execution_count": 58
        }
      ]
    },
    {
      "cell_type": "markdown",
      "source": [
        "#Exploratory Data Analysis"
      ],
      "metadata": {
        "id": "6-nNA-kMMr4b"
      }
    },
    {
      "cell_type": "markdown",
      "source": [
        "Use Pandas to explore basic statistics such as the number of crashes, fatalities, and survival rates."
      ],
      "metadata": {
        "id": "8OTUup5gQb_D"
      }
    },
    {
      "cell_type": "code",
      "source": [
        "# total number of crashes\n",
        "total_crashes = df.shape[0] #Number of lines (number of disasters)\n",
        "\n",
        "\n",
        "#total fatality\n",
        "total_fatalities = df['Fatalities'].sum()\n",
        "\n",
        "#amount of people on the bord\n",
        "total_aboard = df['Aboard'].sum()\n",
        "\n",
        "\n",
        "# survival rates\n",
        "survival_rate = (total_aboard - total_fatalities) / total_aboard\n",
        "\n",
        "\n",
        "print(\"Total number of crashes:\", total_crashes)\n",
        "print(\"Total number of fatalities:\", total_fatalities)\n",
        "print(\"Total number of people on board:\", total_aboard)\n",
        "print(\"Survival rate:\", survival_rate) # 28%\n",
        "\n",
        "\n"
      ],
      "metadata": {
        "colab": {
          "base_uri": "https://localhost:8080/"
        },
        "id": "o2Ba_zwIMsvp",
        "outputId": "8c415018-1000-4d63-9ed2-4cbb9c2bfa92"
      },
      "execution_count": 75,
      "outputs": [
        {
          "output_type": "stream",
          "name": "stdout",
          "text": [
            "Total number of crashes: 4998\n",
            "Total number of fatalities: 111644.0\n",
            "Total number of people on board: 155356.0\n",
            "Survival rate: 0.2813666675249105\n"
          ]
        }
      ]
    },
    {
      "cell_type": "markdown",
      "source": [
        "Analyze the frequency of crashes over time to identify any trends."
      ],
      "metadata": {
        "id": "Jb5bBQ0zQc3X"
      }
    },
    {
      "cell_type": "code",
      "source": [
        "import matplotlib.pyplot as plt\n",
        "\n",
        "df['Year'] = df['Date'].dt.year  # extract year from Date\n",
        "freq_crashes_per_year = df['Year'].value_counts().sort_index()\n",
        "\n",
        "print(freq_crashes_per_year)\n",
        "\n",
        "\n",
        "# draw a plot\n",
        "plt.figure(figsize=(12, 6))\n",
        "plt.plot(freq_crashes_per_year.index, freq_crashes_per_year.values, marker='o', linestyle='-')\n",
        "plt.xlabel(\"Year\")\n",
        "plt.ylabel(\"Number of crashes\")\n",
        "plt.title(\"Frequency of airplane crashes \")\n",
        "plt.grid(True)\n",
        "plt.show()"
      ],
      "metadata": {
        "colab": {
          "base_uri": "https://localhost:8080/",
          "height": 800
        },
        "id": "7QHwovwXQetL",
        "outputId": "520e5772-bd37-4c21-be71-00270b798b9d"
      },
      "execution_count": 83,
      "outputs": [
        {
          "output_type": "stream",
          "name": "stdout",
          "text": [
            "Year\n",
            "1908     1\n",
            "1909     1\n",
            "1912     1\n",
            "1913     3\n",
            "1915     2\n",
            "        ..\n",
            "2019    13\n",
            "2020     8\n",
            "2021     9\n",
            "2022     6\n",
            "2023     4\n",
            "Name: count, Length: 113, dtype: int64\n"
          ]
        },
        {
          "output_type": "display_data",
          "data": {
            "text/plain": [
              "<Figure size 1200x600 with 1 Axes>"
            ],
            "image/png": "[encoded data removed]"
          },
          "metadata": {}
        }
      ]
    },
    {
      "cell_type": "markdown",
      "source": [
        "After 2000 we observe the decline in airplane crashes is observed"
      ],
      "metadata": {
        "id": "nAjxglelSI_z"
      }
    },
    {
      "cell_type": "markdown",
      "source": [
        "#Statistical Analysis"
      ],
      "metadata": {
        "id": "jA29kio9SbyK"
      }
    },
    {
      "cell_type": "markdown",
      "source": [
        "Apply SciPy to analyze the distribution of fatalities and survival rates. Calculate key statistics like mean, median, and standard deviation."
      ],
      "metadata": {
        "id": "_ukAwjCsSe-2"
      }
    },
    {
      "cell_type": "code",
      "source": [],
      "metadata": {
        "id": "sdkwdPxJShIZ"
      },
      "execution_count": null,
      "outputs": []
    }
  ]
}