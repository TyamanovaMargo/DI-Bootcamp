{
 "cells": [
  {
   "cell_type": "code",
   "execution_count": 2,
   "id": "6d7653d0",
   "metadata": {},
   "outputs": [],
   "source": [
    "import numpy as np # linear algebra\n",
    "import pandas as pd\n",
    "import sqlite3"
   ]
  },
  {
   "cell_type": "code",
   "execution_count": 4,
   "id": "f618eece",
   "metadata": {},
   "outputs": [
    {
     "name": "stdout",
     "output_type": "stream",
     "text": [
      "📋 Available Tables:\n",
      "['Player', 'Extra_Runs', 'Batsman_Scored', 'Batting_Style', 'Bowling_Style', 'Country', 'Season', 'City', 'Outcome', 'Win_By', 'Wicket_Taken', 'Venue', 'Extra_Type', 'Out_Type', 'Toss_Decision', 'Umpire', 'Team', 'Ball_by_Ball', 'sysdiagrams', 'sqlite_sequence', 'Match', 'Rolee', 'Player_Match']\n",
      "\n",
      "🔍 Table Structures:\n",
      "\n",
      "Table: Player\n",
      "Columns: ['Player_Id', 'Player_Name', 'DOB', 'Batting_hand', 'Bowling_skill', 'Country_Name']\n",
      "\n",
      "Table: Extra_Runs\n",
      "Columns: ['Match_Id', 'Over_Id', 'Ball_Id', 'Extra_Type_Id', 'Extra_Runs', 'Innings_No']\n",
      "\n",
      "Table: Batsman_Scored\n",
      "Columns: ['Match_Id', 'Over_Id', 'Ball_Id', 'Runs_Scored', 'Innings_No']\n",
      "\n",
      "Table: Batting_Style\n",
      "Columns: ['Batting_Id', 'Batting_hand']\n",
      "\n",
      "Table: Bowling_Style\n",
      "Columns: ['Bowling_Id', 'Bowling_skill']\n",
      "\n",
      "Table: Country\n",
      "Columns: ['Country_Id', 'Country_Name']\n",
      "\n",
      "Table: Season\n",
      "Columns: ['Season_Id', 'Man_of_the_Series', 'Orange_Cap', 'Purple_Cap', 'Season_Year']\n",
      "\n",
      "Table: City\n",
      "Columns: ['City_Id', 'City_Name', 'Country_id']\n",
      "\n",
      "Table: Outcome\n",
      "Columns: ['Outcome_Id', 'Outcome_Type']\n",
      "\n",
      "Table: Win_By\n",
      "Columns: ['Win_Id', 'Win_Type']\n",
      "\n",
      "Table: Wicket_Taken\n",
      "Columns: ['Match_Id', 'Over_Id', 'Ball_Id', 'Player_Out', 'Kind_Out', 'Fielders', 'Innings_No']\n",
      "\n",
      "Table: Venue\n",
      "Columns: ['Venue_Id', 'Venue_Name', 'City_Id']\n",
      "\n",
      "Table: Extra_Type\n",
      "Columns: ['Extra_Id', 'Extra_Name']\n",
      "\n",
      "Table: Out_Type\n",
      "Columns: ['Out_Id', 'Out_Name']\n",
      "\n",
      "Table: Toss_Decision\n",
      "Columns: ['Toss_Id', 'Toss_Name']\n",
      "\n",
      "Table: Umpire\n",
      "Columns: ['Umpire_Id', 'Umpire_Name', 'Umpire_Country']\n",
      "\n",
      "Table: Team\n",
      "Columns: ['Team_Id', 'Team_Name']\n",
      "\n",
      "Table: Ball_by_Ball\n",
      "Columns: ['Match_Id', 'Over_Id', 'Ball_Id', 'Innings_No', 'Team_Batting', 'Team_Bowling', 'Striker_Batting_Position', 'Striker', 'Non_Striker', 'Bowler']\n",
      "\n",
      "Table: sysdiagrams\n",
      "Columns: ['name', 'principal_id', 'diagram_id', 'version', 'definition']\n",
      "\n",
      "Table: sqlite_sequence\n",
      "Columns: ['name', 'seq']\n",
      "\n",
      "Table: Match\n",
      "Columns: ['Match_Id', 'Team_1', 'Team_2', 'Match_Date', 'Season_Id', 'Venue_Id', 'Toss_Winner', 'Toss_Decide', 'Win_Type', 'Win_Margin', 'Outcome_type', 'Match_Winner', 'Man_of_the_Match']\n",
      "\n",
      "Table: Rolee\n",
      "Columns: ['Role_Id', 'Role_Desc']\n",
      "\n",
      "Table: Player_Match\n",
      "Columns: ['Match_Id', 'Player_Id', 'Role_Id', 'Team_Id']\n"
     ]
    }
   ],
   "source": [
    "\n",
    "# Step 1: Connect to the IPL database\n",
    "conn = sqlite3.connect(\"/Users/margotiamanova/Desktop/DI-Bootcamp/Week10/Day2/DailyChallenge/database.sqlite 2\")  # Replace with your actual file path\n",
    "\n",
    "# Step 2: Load all table names\n",
    "cursor = conn.cursor()\n",
    "cursor.execute(\"SELECT name FROM sqlite_master WHERE type='table';\")\n",
    "tables = [table[0] for table in cursor.fetchall()]\n",
    "\n",
    "print(\"📋 Available Tables:\")\n",
    "print(tables)\n",
    "\n",
    "# Step 3: Load and print columns for each table\n",
    "print(\"\\n🔍 Table Structures:\")\n",
    "for table in tables:\n",
    "    df = pd.read_sql_query(f\"SELECT * FROM {table} LIMIT 0\", conn)\n",
    "    print(f\"\\nTable: {table}\")\n",
    "    print(\"Columns:\", df.columns.tolist())\n",
    "\n",
    "# Close connection when done\n",
    "# conn.close()\n"
   ]
  },
  {
   "cell_type": "markdown",
   "id": "d503634b",
   "metadata": {},
   "source": [
    "# Query 1: Select All Columns from Player’s Table"
   ]
  },
  {
   "cell_type": "code",
   "execution_count": 8,
   "id": "c2a59be6",
   "metadata": {},
   "outputs": [
    {
     "name": "stdout",
     "output_type": "stream",
     "text": [
      "   Match_Id  Over_Id  Ball_Id  Innings_No  Team_Batting  Team_Bowling  \\\n",
      "0    335987        1        1           1             1             2   \n",
      "1    335987        1        1           2             2             1   \n",
      "2    335987        1        2           1             1             2   \n",
      "3    335987        1        2           2             2             1   \n",
      "4    335987        1        3           1             1             2   \n",
      "\n",
      "   Striker_Batting_Position  Striker  Non_Striker  Bowler  \n",
      "0                         1        1            2      14  \n",
      "1                         1        6            7     106  \n",
      "2                         2        2            1      14  \n",
      "3                         2        7            6     106  \n",
      "4                         2        2            1      14  \n"
     ]
    }
   ],
   "source": [
    "# Execute the query\n",
    "df_player_match = pd.read_sql_query(\"SELECT * FROM Ball_by_Ball;\", conn)\n",
    "\n",
    "# Show the first few rows\n",
    "print(df_player_match.head())"
   ]
  },
  {
   "cell_type": "markdown",
   "id": "3b1ce2ab",
   "metadata": {},
   "source": [
    "# Query 2: Batsman vs Runs"
   ]
  },
  {
   "cell_type": "code",
   "execution_count": null,
   "id": "f2dd4323",
   "metadata": {},
   "outputs": [],
   "source": [
    "df_player_match = pd.read_sql_query(\"SELECT * FROM Player_Match;\", conn)\n",
    "\n",
    "# Show the first few rows\n",
    "print(df_player_match.head())"
   ]
  },
  {
   "cell_type": "code",
   "execution_count": 9,
   "id": "d903525e",
   "metadata": {},
   "outputs": [
    {
     "name": "stdout",
     "output_type": "stream",
     "text": [
      "      Player_Name  Total_Runs\n",
      "0         V Kohli        8158\n",
      "1        SK Raina        7588\n",
      "2       RG Sharma        7263\n",
      "3       G Gambhir        6793\n",
      "4      RV Uthappa        6303\n",
      "5       DA Warner        6235\n",
      "6        CH Gayle        6105\n",
      "7        MS Dhoni        6006\n",
      "8        S Dhawan        5917\n",
      "9  AB de Villiers        5832\n"
     ]
    }
   ],
   "source": [
    "query = \"\"\"\n",
    "SELECT p.Player_Name, SUM(bs.Runs_Scored) AS Total_Runs\n",
    "FROM Batsman_Scored bs\n",
    "JOIN Ball_by_Ball bb \n",
    "  ON bs.Match_Id = bb.Match_Id \n",
    " AND bs.Over_Id = bb.Over_Id \n",
    " AND bs.Ball_Id = bb.Ball_Id\n",
    "JOIN Player p \n",
    "  ON bb.Striker = p.Player_Id\n",
    "GROUP BY p.Player_Name\n",
    "ORDER BY Total_Runs DESC;\n",
    "\n",
    "\"\"\"\n",
    "\n",
    "df_runs = pd.read_sql_query(query, conn)\n",
    "print(df_runs.head(10))  "
   ]
  },
  {
   "cell_type": "markdown",
   "id": "521de449",
   "metadata": {},
   "source": [
    "#  Query 3: Fifties and Hundreds"
   ]
  },
  {
   "cell_type": "code",
   "execution_count": 14,
   "id": "a35affc5",
   "metadata": {},
   "outputs": [
    {
     "name": "stdout",
     "output_type": "stream",
     "text": [
      "      Player_Name  Fifties  Hundreds\n",
      "0         V Kohli       29        32\n",
      "1       DA Warner       21        28\n",
      "2       G Gambhir       32        24\n",
      "3        CH Gayle       19        24\n",
      "4       AM Rahane       18        21\n",
      "5       RG Sharma       36        20\n",
      "6        SK Raina       44        19\n",
      "7  AB de Villiers       29        19\n",
      "8        SE Marsh       15        19\n",
      "9      RV Uthappa       40        15\n"
     ]
    }
   ],
   "source": [
    "query = \"\"\"\n",
    "SELECT \n",
    "    p.Player_Name,\n",
    "    SUM(CASE WHEN innings_runs BETWEEN 50 AND 99 THEN 1 ELSE 0 END) AS Fifties,\n",
    "    SUM(CASE WHEN innings_runs >= 100 THEN 1 ELSE 0 END) AS Hundreds\n",
    "FROM (\n",
    "    SELECT \n",
    "        bb.Striker,\n",
    "        bs.Match_Id,\n",
    "        SUM(bs.Runs_Scored) AS innings_runs\n",
    "    FROM Batsman_Scored bs\n",
    "    JOIN Ball_by_Ball bb \n",
    "      ON bs.Match_Id = bb.Match_Id \n",
    "     AND bs.Over_Id = bb.Over_Id \n",
    "     AND bs.Ball_Id = bb.Ball_Id\n",
    "    GROUP BY bb.Striker, bs.Match_Id\n",
    ") AS player_innings\n",
    "JOIN Player p ON p.Player_Id = player_innings.Striker\n",
    "GROUP BY p.Player_Name\n",
    "ORDER BY Hundreds DESC, Fifties DESC;\n",
    "\n",
    "\n",
    "\"\"\"\n",
    "\n",
    "df_runs = pd.read_sql_query(query, conn)\n",
    "print(df_runs.head(10))  "
   ]
  }
 ],
 "metadata": {
  "kernelspec": {
   "display_name": ".venv",
   "language": "python",
   "name": "python3"
  },
  "language_info": {
   "codemirror_mode": {
    "name": "ipython",
    "version": 3
   },
   "file_extension": ".py",
   "mimetype": "text/x-python",
   "name": "python",
   "nbconvert_exporter": "python",
   "pygments_lexer": "ipython3",
   "version": "3.12.2"
  }
 },
 "nbformat": 4,
 "nbformat_minor": 5
}
