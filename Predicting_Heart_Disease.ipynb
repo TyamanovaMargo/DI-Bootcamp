{
  "nbformat": 4,
  "nbformat_minor": 0,
  "metadata": {
    "colab": {
      "provenance": [],
      "authorship_tag": "ABX9TyPpmCMBHEGPalNI1D71b9yw",
      "include_colab_link": true
    },
    "kernelspec": {
      "name": "python3",
      "display_name": "Python 3"
    },
    "language_info": {
      "name": "python"
    }
  },
  "cells": [
    {
      "cell_type": "markdown",
      "metadata": {
        "id": "view-in-github",
        "colab_type": "text"
      },
      "source": [
        "<a href=\"https://colab.research.google.com/github/TyamanovaMargo/DI-Bootcamp/blob/main/Predicting_Heart_Disease.ipynb\" target=\"_parent\"><img src=\"https://colab.research.google.com/assets/colab-badge.svg\" alt=\"Open In Colab\"/></a>"
      ]
    },
    {
      "cell_type": "markdown",
      "source": [
        " ## Import"
      ],
      "metadata": {
        "id": "jsMfkK2Z5cYZ"
      }
    },
    {
      "cell_type": "code",
      "execution_count": null,
      "metadata": {
        "id": "43LonLze5Gd5"
      },
      "outputs": [],
      "source": [
        "import pandas as pd\n",
        "import numpy as np\n",
        "import matplotlib.pyplot as plt\n",
        "import seaborn as sns\n",
        "import sklearn\n",
        "from sklearn.model_selection import train_test_split\n",
        "from sklearn.ensemble import RandomForestClassifier\n",
        "from sklearn.metrics import accuracy_score\n"
      ]
    },
    {
      "cell_type": "markdown",
      "source": [
        "## Data Preparation"
      ],
      "metadata": {
        "id": "a0RvePpt57Fh"
      }
    },
    {
      "cell_type": "code",
      "source": [
        "# Download the “Heart Disease UCI” dataset.\n",
        "\n",
        "from google.colab import drive\n",
        "drive.mount('/content/drive')\n",
        "\n",
        "\n"
      ],
      "metadata": {
        "colab": {
          "base_uri": "https://localhost:8080/"
        },
        "id": "JbwFVrBf58WN",
        "outputId": "9bb0e3e3-57ac-4039-abcb-5ee787b7b93e"
      },
      "execution_count": null,
      "outputs": [
        {
          "output_type": "stream",
          "name": "stdout",
          "text": [
            "Mounted at /content/drive\n"
          ]
        }
      ]
    },
    {
      "cell_type": "code",
      "source": [
        "df = pd.read_csv('/content/drive/MyDrive/Colab Notebooks/Bootcamp/heart_disease_uci.csv')"
      ],
      "metadata": {
        "id": "ia3qR2hl7Aq3"
      },
      "execution_count": null,
      "outputs": []
    },
    {
      "cell_type": "markdown",
      "source": [
        "**trestbps** stands for Resting Blood Pressure (measured in mm Hg)\n",
        "\n",
        "**cp** stands for Chest Pain Type. It describes the type of chest pain experienced by a patient.\n",
        "\n",
        "The values for cp are typically:\n",
        "1️⃣ 1 — Typical angina (chest pain related to decreased blood supply to the heart)\n",
        "2️⃣ 2 — Atypical angina (chest pain not related to heart disease)\n",
        "3️⃣ 3 — Non-anginal pain (chest pain due to other causes)\n",
        "4️⃣ 4 — Asymptomatic (no chest pain, but heart disease may still be present)"
      ],
      "metadata": {
        "id": "n-So9FKH7xXQ"
      }
    }
  ]
}